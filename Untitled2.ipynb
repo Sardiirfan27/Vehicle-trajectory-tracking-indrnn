{
 "cells": [
  {
   "cell_type": "code",
   "execution_count": 1,
   "metadata": {},
   "outputs": [],
   "source": [
    "import numpy as np"
   ]
  },
  {
   "cell_type": "code",
   "execution_count": 4,
   "metadata": {},
   "outputs": [
    {
     "data": {
      "text/plain": [
       "array([ 0,  1,  2,  3,  4,  5,  6,  7,  8,  9, 10, 11, 12, 13, 14, 15, 16,\n",
       "       17, 18, 19, 20])"
      ]
     },
     "execution_count": 4,
     "metadata": {},
     "output_type": "execute_result"
    }
   ],
   "source": [
    "data = np.arange(21)\n",
    "data"
   ]
  },
  {
   "cell_type": "code",
   "execution_count": 6,
   "metadata": {},
   "outputs": [
    {
     "data": {
      "text/plain": [
       "array([20,  0,  1,  2,  3,  4,  5,  6,  7,  8,  9, 10, 11, 12, 13, 14, 15,\n",
       "       16, 17, 18, 19])"
      ]
     },
     "execution_count": 6,
     "metadata": {},
     "output_type": "execute_result"
    }
   ],
   "source": [
    "np.roll(data,1)"
   ]
  },
  {
   "cell_type": "code",
   "execution_count": 9,
   "metadata": {},
   "outputs": [],
   "source": [
    "PAST= 5\n",
    "FUTURE = 4"
   ]
  },
  {
   "cell_type": "code",
   "execution_count": 19,
   "metadata": {},
   "outputs": [
    {
     "data": {
      "text/plain": [
       "array([[ 0, 20],\n",
       "       [ 1,  0],\n",
       "       [ 2,  1],\n",
       "       [ 3,  2],\n",
       "       [ 4,  3],\n",
       "       [ 5,  4],\n",
       "       [ 6,  5],\n",
       "       [ 7,  6],\n",
       "       [ 8,  7],\n",
       "       [ 9,  8],\n",
       "       [10,  9],\n",
       "       [11, 10],\n",
       "       [12, 11],\n",
       "       [13, 12],\n",
       "       [14, 13],\n",
       "       [15, 14],\n",
       "       [16, 15],\n",
       "       [17, 16],\n",
       "       [18, 17],\n",
       "       [19, 18],\n",
       "       [20, 19]])"
      ]
     },
     "execution_count": 19,
     "metadata": {},
     "output_type": "execute_result"
    }
   ],
   "source": [
    "np.vstack((data,np.roll(data,1))).T"
   ]
  },
  {
   "cell_type": "code",
   "execution_count": 40,
   "metadata": {},
   "outputs": [],
   "source": [
    "length = PAST + FUTURE"
   ]
  },
  {
   "cell_type": "code",
   "execution_count": 44,
   "metadata": {},
   "outputs": [
    {
     "data": {
      "text/plain": [
       "array([[ 0,  1,  2,  3,  4,  5,  6,  7,  8],\n",
       "       [ 1,  2,  3,  4,  5,  6,  7,  8,  9],\n",
       "       [ 2,  3,  4,  5,  6,  7,  8,  9, 10],\n",
       "       [ 3,  4,  5,  6,  7,  8,  9, 10, 11],\n",
       "       [ 4,  5,  6,  7,  8,  9, 10, 11, 12],\n",
       "       [ 5,  6,  7,  8,  9, 10, 11, 12, 13],\n",
       "       [ 6,  7,  8,  9, 10, 11, 12, 13, 14],\n",
       "       [ 7,  8,  9, 10, 11, 12, 13, 14, 15],\n",
       "       [ 8,  9, 10, 11, 12, 13, 14, 15, 16],\n",
       "       [ 9, 10, 11, 12, 13, 14, 15, 16, 17],\n",
       "       [10, 11, 12, 13, 14, 15, 16, 17, 18],\n",
       "       [11, 12, 13, 14, 15, 16, 17, 18, 19],\n",
       "       [12, 13, 14, 15, 16, 17, 18, 19, 20]])"
      ]
     },
     "execution_count": 44,
     "metadata": {},
     "output_type": "execute_result"
    }
   ],
   "source": [
    "seq = data.copy()\n",
    "for i in range(length-1):\n",
    "    seq = np.vstack((seq,np.roll(data,i+1)))\n",
    "seq = np.flip(seq.T,1)\n",
    "seq = seq[length-1:,:]\n",
    "seq"
   ]
  },
  {
   "cell_type": "code",
   "execution_count": 47,
   "metadata": {},
   "outputs": [
    {
     "data": {
      "text/plain": [
       "(array([[ 0,  1,  2,  3,  4],\n",
       "        [ 1,  2,  3,  4,  5],\n",
       "        [ 2,  3,  4,  5,  6],\n",
       "        [ 3,  4,  5,  6,  7],\n",
       "        [ 4,  5,  6,  7,  8],\n",
       "        [ 5,  6,  7,  8,  9],\n",
       "        [ 6,  7,  8,  9, 10],\n",
       "        [ 7,  8,  9, 10, 11],\n",
       "        [ 8,  9, 10, 11, 12],\n",
       "        [ 9, 10, 11, 12, 13],\n",
       "        [10, 11, 12, 13, 14],\n",
       "        [11, 12, 13, 14, 15],\n",
       "        [12, 13, 14, 15, 16]]),\n",
       " array([[ 5,  6,  7,  8],\n",
       "        [ 6,  7,  8,  9],\n",
       "        [ 7,  8,  9, 10],\n",
       "        [ 8,  9, 10, 11],\n",
       "        [ 9, 10, 11, 12],\n",
       "        [10, 11, 12, 13],\n",
       "        [11, 12, 13, 14],\n",
       "        [12, 13, 14, 15],\n",
       "        [13, 14, 15, 16],\n",
       "        [14, 15, 16, 17],\n",
       "        [15, 16, 17, 18],\n",
       "        [16, 17, 18, 19],\n",
       "        [17, 18, 19, 20]]))"
      ]
     },
     "execution_count": 47,
     "metadata": {},
     "output_type": "execute_result"
    }
   ],
   "source": [
    "X = seq[:,:PAST]\n",
    "Y = seq[:,PAST:]\n",
    "X,Y"
   ]
  },
  {
   "cell_type": "code",
   "execution_count": 49,
   "metadata": {},
   "outputs": [
    {
     "data": {
      "text/plain": [
       "array([[ 5,  7],\n",
       "       [ 6,  8],\n",
       "       [ 7,  9],\n",
       "       [ 8, 10],\n",
       "       [ 9, 11],\n",
       "       [10, 12],\n",
       "       [11, 13],\n",
       "       [12, 14],\n",
       "       [13, 15],\n",
       "       [14, 16],\n",
       "       [15, 17],\n",
       "       [16, 18],\n",
       "       [17, 19]])"
      ]
     },
     "execution_count": 49,
     "metadata": {},
     "output_type": "execute_result"
    }
   ],
   "source": [
    "FUTURE_STEP = 2\n",
    "Y[:,::FUTURE_STEP]"
   ]
  },
  {
   "cell_type": "code",
   "execution_count": 184,
   "metadata": {},
   "outputs": [
    {
     "name": "stdout",
     "output_type": "stream",
     "text": [
      "[0 1 2 3 4 5 6 7 8 9]\n"
     ]
    },
    {
     "data": {
      "text/plain": [
       "(array([[0, 1, 2],\n",
       "        [1, 2, 3],\n",
       "        [2, 3, 4],\n",
       "        [3, 4, 5]]),\n",
       " array([[3, 5],\n",
       "        [4, 6],\n",
       "        [5, 7],\n",
       "        [6, 8]]))"
      ]
     },
     "execution_count": 184,
     "metadata": {},
     "output_type": "execute_result"
    }
   ],
   "source": [
    "def single_series2seq(series,past=4,future=1,past_step=1, future_step=1):\n",
    "    # length of sequences \n",
    "    length = past + future\n",
    "    seq = series.copy()\n",
    "    for i in range(length-1):\n",
    "        seq = np.vstack((seq,np.roll(series,i+1)))\n",
    "    seq = np.flip(seq.T,1)\n",
    "    seq = seq[length-1:,:]\n",
    "    X = seq[:,:past:past_step]\n",
    "    Y = seq[:,past::future_step]\n",
    "\n",
    "    return X,Y\n",
    "data = np.arange(10)\n",
    "print(data)\n",
    "single_series2seq(data,past = 3, future = 4,future_step=2)"
   ]
  },
  {
   "cell_type": "code",
   "execution_count": 136,
   "metadata": {},
   "outputs": [
    {
     "data": {
      "text/plain": [
       "(10,)"
      ]
     },
     "execution_count": 136,
     "metadata": {},
     "output_type": "execute_result"
    }
   ],
   "source": [
    "np.arange(20).reshape(2,-1)[0,:].shape"
   ]
  },
  {
   "cell_type": "code",
   "execution_count": 205,
   "metadata": {},
   "outputs": [
    {
     "name": "stdout",
     "output_type": "stream",
     "text": [
      "222 µs ± 4.59 µs per loop (mean ± std. dev. of 7 runs, 1000 loops each)\n"
     ]
    }
   ],
   "source": [
    "%%timeit\n",
    "def multi_series2seq(mulseries,**kwarg):\n",
    "    \n",
    "    n_series = mulseries.shape[1]\n",
    "    seq = mulseries.copy()\n",
    "    \n",
    "    X,Y = single_series2seq(seq[:,0],past = kwarg['past'],future = kwarg['future'],\n",
    "                           future_step = kwarg['future_step'])\n",
    "\n",
    "    for i in range(1,n_series):\n",
    "        newX,newY = single_series2seq(seq[:,i],past = kwarg['past'],future = kwarg['future'],\n",
    "                           future_step = kwarg['future_step'])\n",
    "        X = np.column_stack((X,newX))\n",
    "        Y = np.column_stack((Y,newY))\n",
    "    return X,Y\n",
    "data = np.arange(20).reshape(-1,2)\n",
    "#print(data)\n",
    "multi_series2seq(mulseries = data,past = 3, future = 4,future_step=1);"
   ]
  }
 ],
 "metadata": {
  "kernelspec": {
   "display_name": "Python 3",
   "language": "python",
   "name": "python3"
  },
  "language_info": {
   "codemirror_mode": {
    "name": "ipython",
    "version": 3
   },
   "file_extension": ".py",
   "mimetype": "text/x-python",
   "name": "python",
   "nbconvert_exporter": "python",
   "pygments_lexer": "ipython3",
   "version": "3.8.5"
  }
 },
 "nbformat": 4,
 "nbformat_minor": 4
}
