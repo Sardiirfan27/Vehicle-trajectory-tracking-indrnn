{
 "cells": [
  {
   "cell_type": "markdown",
   "metadata": {
    "colab_type": "text",
    "id": "view-in-github"
   },
   "source": [
    "<a href=\"https://colab.research.google.com/github/duonghung86/Vehicle-trajectory-tracking/blob/master/Codes/VTP_1_10_Models_for_full_dataset.ipynb\" target=\"_parent\"><img src=\"https://colab.research.google.com/assets/colab-badge.svg\" alt=\"Open In Colab\"/></a>"
   ]
  },
  {
   "cell_type": "markdown",
   "metadata": {
    "colab_type": "text",
    "id": "pa49bUnKyRgF"
   },
   "source": [
    "# Developing models for full dataset\n",
    "---"
   ]
  },
  {
   "cell_type": "markdown",
   "metadata": {
    "colab_type": "text",
    "id": "XVhK72Pu1cJL"
   },
   "source": [
    "## Import packages"
   ]
  },
  {
   "cell_type": "code",
   "execution_count": 3,
   "metadata": {
    "ExecuteTime": {
     "end_time": "2020-08-21T20:16:12.937889Z",
     "start_time": "2020-08-21T20:16:03.058187Z"
    },
    "colab": {},
    "colab_type": "code",
    "id": "7rZnJaGTWQw0"
   },
   "outputs": [],
   "source": [
    "# General\n",
    "import numpy as np\n",
    "import time\n",
    "import os\n",
    "\n",
    "# Loading datasets\n",
    "from io import StringIO, BytesIO\n",
    "from zipfile import ZipFile\n",
    "import urllib.request\n",
    "\n",
    "# For data processing\n",
    "import pandas as pd\n",
    "from sklearn.model_selection import train_test_split\n",
    "\n",
    "# Evaluation\n",
    "from sklearn.metrics import mean_squared_error\n",
    "from math import sqrt\n",
    "\n",
    "# For prediction model\n",
    "import tensorflow as tf\n",
    "from tensorflow.keras.models import Sequential\n",
    "from tensorflow.keras.layers import Dense\n",
    "from tensorflow.keras.layers import LSTM\n",
    "physical_devices = tf.config.list_physical_devices('GPU')\n",
    "tf.config.experimental.set_memory_growth(physical_devices[0], enable=True)\n",
    "\n",
    "# Visualization\n",
    "import matplotlib.pyplot as plt\n",
    "plt.rcParams['figure.figsize'] = (8, 6)"
   ]
  },
  {
   "cell_type": "markdown",
   "metadata": {
    "colab_type": "text",
    "id": "TokBlnUhWFw9"
   },
   "source": [
    "## Load dataset"
   ]
  },
  {
   "cell_type": "code",
   "execution_count": 4,
   "metadata": {},
   "outputs": [],
   "source": [
    "def url2pd(link):\n",
    "    with ZipFile(link) as my_zip_file:\n",
    "        for contained_file in my_zip_file.namelist():\n",
    "            fzip=my_zip_file.open(contained_file)\n",
    "            data=fzip.read()\n",
    "    s=str(data,'utf-8')\n",
    "    data = StringIO(s) \n",
    "    print('Done loading a dataset!')\n",
    "    return pd.read_csv(data)"
   ]
  },
  {
   "cell_type": "code",
   "execution_count": 5,
   "metadata": {},
   "outputs": [
    {
     "data": {
      "text/plain": [
       "['0750_0805_us101_smoothed_11_.zip',\n",
       " '0805_0820_us101_smoothed_11_.zip',\n",
       " '0820_0835_us101_smoothed_11_.zip',\n",
       " 'trajectories-0400-0415.zip',\n",
       " 'trajectories-0500-0515.zip',\n",
       " 'trajectories-0515-0530.zip']"
      ]
     },
     "execution_count": 5,
     "metadata": {},
     "output_type": "execute_result"
    }
   ],
   "source": [
    "filenames = os.listdir('./Data')\n",
    "filenames"
   ]
  },
  {
   "cell_type": "code",
   "execution_count": 21,
   "metadata": {},
   "outputs": [],
   "source": [
    "# Set constant values\n",
    "HISTORY_LENGTH = 3\n",
    "FUTURE_LENGTH = 5\n",
    "TIME_STEP = 0.2\n",
    "n_steps = int(HISTORY_LENGTH/0.2)\n",
    "n_future = int(FUTURE_LENGTH/0.2)\n",
    "#n_features = len(df)\n",
    "\n",
    "target_names = ['Local_X','v_Vel']"
   ]
  },
  {
   "cell_type": "code",
   "execution_count": 22,
   "metadata": {},
   "outputs": [
    {
     "data": {
      "text/plain": [
       "(   test(-0.4s)  test(-0.2s)  test(-0.0s)\n",
       " 0          0.0          1.0          2.0\n",
       " 1          1.0          2.0          3.0\n",
       " 2          2.0          3.0          4.0\n",
       " 3          3.0          4.0          5.0\n",
       " 4          4.0          5.0          6.0\n",
       " 5          5.0          6.0          7.0\n",
       " 6          6.0          7.0          8.0\n",
       " 7          7.0          8.0          9.0,\n",
       "    test(1.00s)  test(2.00s)\n",
       " 0          7.0         12.0\n",
       " 1          8.0         13.0\n",
       " 2          9.0         14.0\n",
       " 3         10.0         15.0\n",
       " 4         11.0         16.0\n",
       " 5         12.0         17.0\n",
       " 6         13.0         18.0\n",
       " 7         14.0         19.0)"
      ]
     },
     "execution_count": 22,
     "metadata": {},
     "output_type": "execute_result"
    }
   ],
   "source": [
    "def single_series2seq(pdseries,n_in=3, n_out=10,step_in=1, step_out=5):\n",
    "    seq = pdseries.copy()\n",
    "    agg = pd.DataFrame()\n",
    "    for i in range(n_in, 0, -step_in):\n",
    "        name = '{}(-{:.1f}s)'.format(seq.name, (i-1)*TIME_STEP)\n",
    "        agg[name] = seq.shift(i)\n",
    "    input_len = agg.shape[1]\n",
    "    for i in range(0, n_out,1):\n",
    "        name = '{0}({1:.2f}s)'.format(seq.name, (i+1)*TIME_STEP)\n",
    "        agg[name] = seq.shift(-i)\n",
    "    # put it all together\n",
    "    agg.dropna(inplace=True)\n",
    "    agg.reset_index(drop=True,inplace=True)\n",
    "    \n",
    "    X = agg.iloc[:,:input_len].copy()\n",
    "    Y = agg.iloc[:,input_len:].copy()\n",
    "    Y = Y.iloc[:,step_out-1::step_out]\n",
    "    return X,Y\n",
    "test_series = pd.Series(np.arange(20),name='test')\n",
    "single_series2seq(test_series)"
   ]
  },
  {
   "cell_type": "code",
   "execution_count": 23,
   "metadata": {},
   "outputs": [
    {
     "data": {
      "text/plain": [
       "(   a(-0.4s)  a(-0.2s)  a(-0.0s)  b(-0.4s)  b(-0.2s)  b(-0.0s)\n",
       " 0       0.0       2.0       4.0       1.0       3.0       5.0\n",
       " 1       2.0       4.0       6.0       3.0       5.0       7.0\n",
       " 2       4.0       6.0       8.0       5.0       7.0       9.0\n",
       " 3       6.0       8.0      10.0       7.0       9.0      11.0,\n",
       "    a(0.20s)  a(0.40s)  a(0.60s)  a(0.80s)  b(0.20s)  b(0.40s)  b(0.60s)  \\\n",
       " 0         6       8.0      10.0      12.0         7       9.0      11.0   \n",
       " 1         8      10.0      12.0      14.0         9      11.0      13.0   \n",
       " 2        10      12.0      14.0      16.0        11      13.0      15.0   \n",
       " 3        12      14.0      16.0      18.0        13      15.0      17.0   \n",
       " \n",
       "    b(0.80s)  \n",
       " 0      13.0  \n",
       " 1      15.0  \n",
       " 2      17.0  \n",
       " 3      19.0  )"
      ]
     },
     "execution_count": 23,
     "metadata": {},
     "output_type": "execute_result"
    }
   ],
   "source": [
    "def multiseries2seq(data, **kwarg):\n",
    "    dat = data.copy()\n",
    "    n_series = dat.shape[1]\n",
    "    X, Y = pd.DataFrame(), pd.DataFrame()\n",
    "    for feat in dat.columns:\n",
    "        newX, newY = single_series2seq(dat[feat],\n",
    "                                       n_in = kwarg['n_in'],\n",
    "                                       step_in = kwarg['step_in'],\n",
    "                                       n_out = kwarg['n_out'],\n",
    "                                       step_out = kwarg['step_out'])\n",
    "        X = pd.concat((X,newX),axis = 1)\n",
    "        Y = pd.concat((Y,newY),axis = 1)\n",
    "    return X,Y\n",
    "\n",
    "test_df = pd.DataFrame(np.arange(20).reshape(-1,2),columns=['a','b'])\n",
    "multiseries2seq(test_df,n_in=3, n_out=4,step_in=1, step_out=1)"
   ]
  },
  {
   "cell_type": "code",
   "execution_count": 24,
   "metadata": {},
   "outputs": [
    {
     "name": "stdout",
     "output_type": "stream",
     "text": [
      "Wall time: 0 ns\n"
     ]
    }
   ],
   "source": [
    "%%time\n",
    "def treatment_cars(data,labels=None,**kwarg):\n",
    "    veh_ids = data.Vehicle_ID.unique()\n",
    "    dat_X, dat_y = pd.DataFrame(),pd.DataFrame()\n",
    "\n",
    "    for id in veh_ids:\n",
    "        dat = data[data.Vehicle_ID==id].copy()\n",
    "        X, Y = multiseries2seq(dat[labels],\n",
    "                               n_in = kwarg['n_in'],\n",
    "                               step_in = kwarg['step_in'],\n",
    "                               n_out = kwarg['n_out'],\n",
    "                               step_out = kwarg['step_out']) \n",
    "        dat_X = pd.concat([dat_X,X],ignore_index=True)\n",
    "        dat_y = pd.concat([dat_y,Y],ignore_index=True)\n",
    "    print(dat_X.shape, dat_y.shape)\n",
    "    return dat_X ,dat_y"
   ]
  },
  {
   "cell_type": "code",
   "execution_count": 33,
   "metadata": {
    "ExecuteTime": {
     "end_time": "2020-08-21T20:16:15.100385Z",
     "start_time": "2020-08-21T20:16:12.941842Z"
    },
    "colab": {
     "base_uri": "https://localhost:8080/",
     "height": 69
    },
    "colab_type": "code",
    "id": "R6vKGxODhB-M",
    "outputId": "ef0a7b77-7cb1-4411-ec8a-7b6c2baed9c5"
   },
   "outputs": [
    {
     "name": "stdout",
     "output_type": "stream",
     "text": [
      "0750_0805_us101_smoothed_11_.zip\n",
      "Done loading a dataset!\n",
      "(1048575, 18)\n",
      "After filtering: (524288, 18)\n",
      "The number of vehicles is 1993\n",
      "Converting to sequences ...\n",
      "(446561, 30) (446561, 10)\n",
      "(446561, 30) (446561, 10)\n",
      "Preparing time is 105.07s\n",
      "0805_0820_us101_smoothed_11_.zip\n",
      "Done loading a dataset!\n",
      "(1048575, 18)\n",
      "After filtering: (524288, 18)\n",
      "The number of vehicles is 1533\n",
      "Converting to sequences ...\n",
      "(464501, 30) (464501, 10)\n",
      "(911062, 30) (911062, 10)\n",
      "Preparing time is 85.32s\n",
      "0820_0835_us101_smoothed_11_.zip\n",
      "Done loading a dataset!\n",
      "(1048575, 18)\n",
      "After filtering: (524288, 18)\n",
      "The number of vehicles is 1298\n",
      "Converting to sequences ...\n",
      "(473671, 30) (473671, 10)\n",
      "(1384733, 30) (1384733, 10)\n",
      "Preparing time is 72.65s\n",
      "trajectories-0400-0415.zip\n",
      "Done loading a dataset!\n",
      "(1048575, 18)\n",
      "After filtering: (524288, 18)\n",
      "The number of vehicles is 1725\n",
      "Converting to sequences ...\n",
      "(457013, 30) (457013, 10)\n",
      "(1841746, 30) (1841746, 10)\n",
      "Preparing time is 93.66s\n",
      "trajectories-0500-0515.zip\n",
      "Done loading a dataset!\n",
      "(1048575, 18)\n",
      "After filtering: (524288, 18)\n",
      "The number of vehicles is 1416\n",
      "Converting to sequences ...\n",
      "(469064, 30) (469064, 10)\n",
      "(2310810, 30) (2310810, 10)\n",
      "Preparing time is 76.20s\n",
      "trajectories-0515-0530.zip\n",
      "Done loading a dataset!\n",
      "(1048575, 18)\n",
      "After filtering: (524288, 18)\n",
      "The number of vehicles is 1242\n",
      "Converting to sequences ...\n",
      "(475850, 30) (475850, 10)\n",
      "(2786660, 30) (2786660, 10)\n",
      "Preparing time is 69.95s\n",
      "Wall time: 8min 22s\n"
     ]
    }
   ],
   "source": [
    "%%time\n",
    "X, Y = pd.DataFrame(), pd.DataFrame()\n",
    "for file in filenames:\n",
    "    print(file)\n",
    "    start = time.time()\n",
    "    url = './Data/' + file\n",
    "    df = url2pd(url)\n",
    "    # Filter time step\n",
    "    print(df.shape)\n",
    "    df = df.iloc[::2,:].copy()\n",
    "    df.reset_index(drop=True, inplace=True)\n",
    "    print('After filtering:', df.shape)\n",
    "    #  keep only columns that are useful for now\n",
    "    kept_cols = ['Vehicle_ID', 'Frame_ID', 'Total_Frames', 'Local_X','Local_Y','v_Length', 'v_Width', 'v_Class',\n",
    "           'v_Vel', 'v_Acc', 'Lane_ID']\n",
    "    df = df[kept_cols].copy()\n",
    "    print('The number of vehicles is {}'.format(len(df.Vehicle_ID.unique())))\n",
    "    print('Converting to sequences ...')\n",
    "    newX, newY = treatment_cars(df,n_in=n_steps, n_out=n_future,step_in=1, step_out=5, labels = target_names)\n",
    "    X = pd.concat((X,newX),ignore_index=True)\n",
    "    Y = pd.concat((Y,newY),ignore_index=True)\n",
    "    end = time.time()\n",
    "    print(X.shape,Y.shape)\n",
    "    print('Preparing time is {0:.2f}s'.format(end-start))"
   ]
  },
  {
   "cell_type": "markdown",
   "metadata": {
    "colab_type": "text",
    "id": "UXbKv-3AVjCs"
   },
   "source": [
    "### Split the data set\n"
   ]
  },
  {
   "cell_type": "code",
   "execution_count": 34,
   "metadata": {
    "colab": {
     "base_uri": "https://localhost:8080/",
     "height": 34
    },
    "colab_type": "code",
    "id": "qtmwVnZgVmhg",
    "outputId": "b75ad653-ce0d-4ed6-c2e0-59ed494cd066"
   },
   "outputs": [
    {
     "name": "stdout",
     "output_type": "stream",
     "text": [
      "(1950662, 30) (835998, 30) (1950662, 10) (835998, 10)\n"
     ]
    }
   ],
   "source": [
    "X_train, X_test, y_train, y_test = train_test_split(X,Y, \n",
    "                                                    test_size=0.3, random_state=42)\n",
    "print(X_train.shape,X_test.shape, y_train.shape, y_test.shape)"
   ]
  },
  {
   "cell_type": "code",
   "execution_count": 35,
   "metadata": {
    "colab": {
     "base_uri": "https://localhost:8080/",
     "height": 419
    },
    "colab_type": "code",
    "id": "bVBQUUntVtJw",
    "outputId": "85b0311e-28d0-4dc4-f6c4-962b082d113f"
   },
   "outputs": [
    {
     "name": "stdout",
     "output_type": "stream",
     "text": [
      "(1950662, 30)\n"
     ]
    }
   ],
   "source": [
    "### Standardize the data\n",
    "train_mean = X_train.mean()\n",
    "train_std = X_train.std()\n",
    "\n",
    "X_train = (X_train - train_mean) / train_std\n",
    "X_test = (X_test - train_mean) / train_std\n",
    "\n",
    "print(X_train.shape)"
   ]
  },
  {
   "cell_type": "markdown",
   "metadata": {
    "colab_type": "text",
    "id": "G8a71W0GWtni"
   },
   "source": [
    "### Reshape data sets\n"
   ]
  },
  {
   "cell_type": "code",
   "execution_count": 36,
   "metadata": {
    "colab": {},
    "colab_type": "code",
    "id": "mI5v2pm6W0HL"
   },
   "outputs": [],
   "source": [
    "X_train = X_train.values\n",
    "X_test = X_test.values\n",
    "# reshape into [# samples, # timesteps,# features]\n",
    "X_train = X_train.reshape((X_train.shape[0], X_train.shape[1],1))\n",
    "X_test = X_test.reshape((X_test.shape[0], X_train.shape[1],1))"
   ]
  },
  {
   "cell_type": "markdown",
   "metadata": {
    "colab_type": "text",
    "id": "hO9p6VOjweHD"
   },
   "source": [
    "## Prediction model"
   ]
  },
  {
   "cell_type": "code",
   "execution_count": 37,
   "metadata": {
    "colab": {
     "base_uri": "https://localhost:8080/",
     "height": 1000
    },
    "colab_type": "code",
    "id": "wO-XWY6xweHE",
    "outputId": "bf08d054-1ac4-46c3-858d-d6a77cb2ffba"
   },
   "outputs": [
    {
     "name": "stdout",
     "output_type": "stream",
     "text": [
      "Epoch 1/50\n",
      "1905/1905 [==============================] - 21s 10ms/step - loss: 529.4685 - val_loss: 70.2445\n",
      "Epoch 2/50\n",
      "1905/1905 [==============================] - 18s 9ms/step - loss: 48.2007 - val_loss: 21.8342\n",
      "Epoch 3/50\n",
      "1905/1905 [==============================] - 18s 9ms/step - loss: 20.1754 - val_loss: 17.6059\n",
      "Epoch 4/50\n",
      "1905/1905 [==============================] - 18s 9ms/step - loss: 17.3307 - val_loss: 16.7180\n",
      "Epoch 5/50\n",
      "1905/1905 [==============================] - 18s 9ms/step - loss: 16.5970 - val_loss: 16.3324\n",
      "Epoch 6/50\n",
      "1905/1905 [==============================] - 18s 9ms/step - loss: 16.3015 - val_loss: 16.2161\n",
      "Epoch 7/50\n",
      "1905/1905 [==============================] - 18s 9ms/step - loss: 16.1596 - val_loss: 16.1167\n",
      "Epoch 8/50\n",
      "1905/1905 [==============================] - 18s 9ms/step - loss: 16.0743 - val_loss: 15.9372\n",
      "Epoch 9/50\n",
      "1905/1905 [==============================] - 18s 9ms/step - loss: 16.0227 - val_loss: 15.9424\n",
      "Epoch 10/50\n",
      "1905/1905 [==============================] - 18s 9ms/step - loss: 15.9328 - val_loss: 15.9167\n",
      "Epoch 11/50\n",
      "1905/1905 [==============================] - 18s 9ms/step - loss: 15.8875 - val_loss: 15.8611\n",
      "Epoch 12/50\n",
      "1905/1905 [==============================] - 18s 9ms/step - loss: 15.8865 - val_loss: 15.8154\n",
      "Epoch 13/50\n",
      "1905/1905 [==============================] - 18s 9ms/step - loss: 15.7661 - val_loss: 15.7828\n",
      "Epoch 14/50\n",
      "1905/1905 [==============================] - 18s 9ms/step - loss: 15.7721 - val_loss: 15.7252\n",
      "Epoch 15/50\n",
      "1905/1905 [==============================] - 18s 9ms/step - loss: 15.7600 - val_loss: 15.7333\n",
      "Epoch 16/50\n",
      "1905/1905 [==============================] - 18s 9ms/step - loss: 15.7210 - val_loss: 15.7380\n",
      "Epoch 17/50\n",
      "1905/1905 [==============================] - 18s 9ms/step - loss: 15.6703 - val_loss: 15.7231\n",
      "Epoch 18/50\n",
      "1905/1905 [==============================] - 18s 10ms/step - loss: 15.6564 - val_loss: 15.6198\n",
      "Epoch 19/50\n",
      "1905/1905 [==============================] - 18s 10ms/step - loss: 15.6188 - val_loss: 15.5888\n",
      "Epoch 20/50\n",
      "1905/1905 [==============================] - 18s 10ms/step - loss: 15.5778 - val_loss: 15.6158\n",
      "Epoch 21/50\n",
      "1905/1905 [==============================] - 18s 10ms/step - loss: 15.5871 - val_loss: 15.5763\n",
      "Epoch 22/50\n",
      "1905/1905 [==============================] - 18s 10ms/step - loss: 15.5379 - val_loss: 15.5219\n",
      "Epoch 23/50\n",
      "1905/1905 [==============================] - 19s 10ms/step - loss: 15.5183 - val_loss: 15.5639\n",
      "Epoch 24/50\n",
      "1905/1905 [==============================] - 18s 9ms/step - loss: 15.5383 - val_loss: 15.5087\n",
      "Epoch 25/50\n",
      "1905/1905 [==============================] - 18s 9ms/step - loss: 15.4655 - val_loss: 15.4800\n",
      "Epoch 26/50\n",
      "1905/1905 [==============================] - 18s 9ms/step - loss: 15.4497 - val_loss: 15.4342\n",
      "Epoch 27/50\n",
      "1905/1905 [==============================] - 18s 10ms/step - loss: 15.4785 - val_loss: 15.4203\n",
      "Epoch 28/50\n",
      "1905/1905 [==============================] - 18s 10ms/step - loss: 15.4166 - val_loss: 15.4071\n",
      "Epoch 29/50\n",
      "1905/1905 [==============================] - 19s 10ms/step - loss: 15.4277 - val_loss: 15.4053\n",
      "Epoch 30/50\n",
      "1905/1905 [==============================] - 19s 10ms/step - loss: 15.3921 - val_loss: 15.3708\n",
      "Epoch 31/50\n",
      "1905/1905 [==============================] - 18s 10ms/step - loss: 15.3240 - val_loss: 15.3493\n",
      "Epoch 32/50\n",
      "1905/1905 [==============================] - 18s 10ms/step - loss: 15.3837 - val_loss: 15.3270\n",
      "Epoch 33/50\n",
      "1905/1905 [==============================] - 19s 10ms/step - loss: 15.3215 - val_loss: 15.3051\n",
      "Epoch 34/50\n",
      "1905/1905 [==============================] - 18s 10ms/step - loss: 15.2941 - val_loss: 15.2826\n",
      "Epoch 35/50\n",
      "1905/1905 [==============================] - 19s 10ms/step - loss: 15.2879 - val_loss: 15.3109\n",
      "Epoch 36/50\n",
      "1905/1905 [==============================] - 18s 10ms/step - loss: 15.2845 - val_loss: 15.2593\n",
      "Epoch 37/50\n",
      "1905/1905 [==============================] - 18s 10ms/step - loss: 15.2936 - val_loss: 15.2637\n",
      "Epoch 38/50\n",
      "1905/1905 [==============================] - 18s 10ms/step - loss: 15.2753 - val_loss: 15.2816\n",
      "Epoch 39/50\n",
      "1905/1905 [==============================] - 18s 10ms/step - loss: 15.2582 - val_loss: 15.2597\n",
      "Epoch 40/50\n",
      "1905/1905 [==============================] - 19s 10ms/step - loss: 15.2161 - val_loss: 15.2606\n",
      "Epoch 41/50\n",
      "1905/1905 [==============================] - 19s 10ms/step - loss: 15.2652 - val_loss: 15.3059\n",
      "Epoch 42/50\n",
      "1905/1905 [==============================] - 19s 10ms/step - loss: 15.2409 - val_loss: 15.1890\n",
      "Epoch 43/50\n",
      "1905/1905 [==============================] - 19s 10ms/step - loss: 15.2004 - val_loss: 15.2308\n",
      "Epoch 44/50\n",
      "1905/1905 [==============================] - 19s 10ms/step - loss: 15.2228 - val_loss: 15.1877\n",
      "Epoch 45/50\n",
      "1905/1905 [==============================] - 18s 10ms/step - loss: 15.1670 - val_loss: 15.1584\n",
      "Epoch 46/50\n",
      "1905/1905 [==============================] - 18s 10ms/step - loss: 15.1850 - val_loss: 15.1571\n",
      "Epoch 47/50\n",
      "1905/1905 [==============================] - 19s 10ms/step - loss: 15.1559 - val_loss: 15.2227\n",
      "Epoch 48/50\n",
      "1905/1905 [==============================] - 18s 10ms/step - loss: 15.1700 - val_loss: 15.1468\n",
      "Epoch 49/50\n",
      "1905/1905 [==============================] - 19s 10ms/step - loss: 15.1730 - val_loss: 15.1527\n",
      "Epoch 50/50\n",
      "1905/1905 [==============================] - 18s 10ms/step - loss: 15.1329 - val_loss: 15.1503\n",
      "Wall time: 15min 14s\n"
     ]
    }
   ],
   "source": [
    "%%time\n",
    "# define model\n",
    "model = Sequential()\n",
    "model.add(LSTM(50, activation='tanh', input_shape=(X_train.shape[1],1)))\n",
    "model.add(Dense(y_test.shape[1]))\n",
    "model.compile(optimizer='adam', loss='mse')\n",
    "\n",
    "# For saving the best model during the whole training process.\n",
    "#checkpointer = callbacks.ModelCheckpoint(filepath='BestModel.h5', monitor='val_loss', save_best_only=True)\n",
    "\n",
    "#### Interrupt training if `val_loss` stops improving for over 10 epochs #######\n",
    "stop_learn= tf.keras.callbacks.EarlyStopping(patience=10, monitor='val_loss')\n",
    "\n",
    "\n",
    "# fit model\n",
    "Monitor = model.fit(X_train, y_train, epochs=50, batch_size= 1024,\n",
    "                    callbacks=[stop_learn],\n",
    "                    validation_data=(X_test, y_test), verbose=1)"
   ]
  },
  {
   "cell_type": "code",
   "execution_count": 38,
   "metadata": {
    "colab": {},
    "colab_type": "code",
    "id": "Oa1rcutTweHJ"
   },
   "outputs": [
    {
     "data": {
      "image/png": "[encoded data removed]",
      "text/plain": [
       "<Figure size 1500x600 with 1 Axes>"
      ]
     },
     "metadata": {
      "needs_background": "light"
     },
     "output_type": "display_data"
    }
   ],
   "source": [
    "hist = pd.DataFrame(Monitor.history)\n",
    "hist['epoch'] = Monitor.epoch\n",
    "fig, axes = plt.subplots(nrows=1, ncols=1,figsize=(10,4),dpi=150)\n",
    "hist[['loss','val_loss']].plot(ax=axes)\n",
    "#hist[['mse','val_mse']].plot(ax=axes[1])\n",
    "plt.show()"
   ]
  },
  {
   "cell_type": "markdown",
   "metadata": {
    "colab_type": "text",
    "id": "2YWEoDw-jEjK"
   },
   "source": [
    "## Evaluation \n"
   ]
  },
  {
   "cell_type": "code",
   "execution_count": 39,
   "metadata": {},
   "outputs": [
    {
     "name": "stdout",
     "output_type": "stream",
     "text": [
      "26125/26125 [==============================] - 41s 2ms/step\n"
     ]
    },
    {
     "data": {
      "text/html": [
       "<div>\n",
       "<style scoped>\n",
       "    .dataframe tbody tr th:only-of-type {\n",
       "        vertical-align: middle;\n",
       "    }\n",
       "\n",
       "    .dataframe tbody tr th {\n",
       "        vertical-align: top;\n",
       "    }\n",
       "\n",
       "    .dataframe thead th {\n",
       "        text-align: right;\n",
       "    }\n",
       "</style>\n",
       "<table border=\"1\" class=\"dataframe\">\n",
       "  <thead>\n",
       "    <tr style=\"text-align: right;\">\n",
       "      <th></th>\n",
       "      <th>1s</th>\n",
       "      <th>2s</th>\n",
       "      <th>3s</th>\n",
       "      <th>4s</th>\n",
       "      <th>5s</th>\n",
       "    </tr>\n",
       "  </thead>\n",
       "  <tbody>\n",
       "    <tr>\n",
       "      <th>Local_X</th>\n",
       "      <td>0.581</td>\n",
       "      <td>0.907</td>\n",
       "      <td>1.205</td>\n",
       "      <td>1.474</td>\n",
       "      <td>1.716</td>\n",
       "    </tr>\n",
       "    <tr>\n",
       "      <th>v_Vel</th>\n",
       "      <td>3.068</td>\n",
       "      <td>4.180</td>\n",
       "      <td>5.239</td>\n",
       "      <td>6.231</td>\n",
       "      <td>7.113</td>\n",
       "    </tr>\n",
       "  </tbody>\n",
       "</table>\n",
       "</div>"
      ],
      "text/plain": [
       "            1s     2s     3s     4s     5s\n",
       "Local_X  0.581  0.907  1.205  1.474  1.716\n",
       "v_Vel    3.068  4.180  5.239  6.231  7.113"
      ]
     },
     "execution_count": 39,
     "metadata": {},
     "output_type": "execute_result"
    }
   ],
   "source": [
    "y_hat = model.predict(X_test, verbose=1)\n",
    "colnames = [str(i)+'s' for i in range(1,6)]\n",
    "rmse = np.sqrt(np.square(np.subtract(y_test.values,y_hat)).mean(0)).reshape(2,-1)\n",
    "rmse = pd.DataFrame(rmse,columns = colnames, index = target_names )\n",
    "rmse.round(3)"
   ]
  },
  {
   "cell_type": "markdown",
   "metadata": {
    "colab_type": "text",
    "id": "5rgsBKw41gpN"
   },
   "source": [
    "# END"
   ]
  }
 ],
 "metadata": {
  "colab": {
   "collapsed_sections": [],
   "include_colab_link": true,
   "name": "VTP_1.10_Models for full dataset.ipynb",
   "provenance": [],
   "toc_visible": true
  },
  "kernelspec": {
   "display_name": "Python 3",
   "language": "python",
   "name": "python3"
  },
  "language_info": {
   "codemirror_mode": {
    "name": "ipython",
    "version": 3
   },
   "file_extension": ".py",
   "mimetype": "text/x-python",
   "name": "python",
   "nbconvert_exporter": "python",
   "pygments_lexer": "ipython3",
   "version": "3.8.5"
  },
  "toc": {
   "base_numbering": 1,
   "nav_menu": {},
   "number_sections": true,
   "sideBar": true,
   "skip_h1_title": false,
   "title_cell": "Table of Contents",
   "title_sidebar": "Contents",
   "toc_cell": false,
   "toc_position": {},
   "toc_section_display": true,
   "toc_window_display": false
  }
 },
 "nbformat": 4,
 "nbformat_minor": 4
}
