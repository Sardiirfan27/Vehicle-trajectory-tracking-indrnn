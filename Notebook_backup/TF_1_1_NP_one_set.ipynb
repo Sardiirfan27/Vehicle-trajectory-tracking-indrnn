{
 "cells": [
  {
   "cell_type": "markdown",
   "metadata": {
    "colab_type": "text",
    "id": "view-in-github"
   },
   "source": [
    "<a href=\"https://colab.research.google.com/github/duonghung86/Vehicle-trajectory-tracking/blob/master/Codes/VTP_1_10_Models_for_full_dataset.ipynb\" target=\"_parent\"><img src=\"https://colab.research.google.com/assets/colab-badge.svg\" alt=\"Open In Colab\"/></a>"
   ]
  },
  {
   "cell_type": "markdown",
   "metadata": {
    "colab_type": "text",
    "id": "pa49bUnKyRgF"
   },
   "source": [
    "# Developing models for full dataset\n",
    "---"
   ]
  },
  {
   "cell_type": "markdown",
   "metadata": {
    "colab_type": "text",
    "id": "XVhK72Pu1cJL"
   },
   "source": [
    "## Import packages"
   ]
  },
  {
   "cell_type": "code",
   "execution_count": 2,
   "metadata": {
    "ExecuteTime": {
     "end_time": "2020-08-21T20:16:12.937889Z",
     "start_time": "2020-08-21T20:16:03.058187Z"
    },
    "colab": {},
    "colab_type": "code",
    "id": "7rZnJaGTWQw0"
   },
   "outputs": [],
   "source": [
    "# General\n",
    "import numpy as np\n",
    "import time\n",
    "import os\n",
    "\n",
    "# Loading datasets\n",
    "from io import StringIO, BytesIO\n",
    "from zipfile import ZipFile\n",
    "import urllib.request\n",
    "\n",
    "# For data processing\n",
    "import pandas as pd\n",
    "from sklearn.model_selection import train_test_split\n",
    "\n",
    "# Evaluation\n",
    "from sklearn.metrics import mean_squared_error\n",
    "from math import sqrt\n",
    "\n",
    "# For prediction model\n",
    "import tensorflow as tf\n",
    "from tensorflow.keras.models import Sequential\n",
    "from tensorflow.keras.layers import Dense\n",
    "from tensorflow.keras.layers import LSTM\n",
    "physical_devices = tf.config.list_physical_devices('GPU')\n",
    "tf.config.experimental.set_memory_growth(physical_devices[0], enable=True)\n",
    "\n",
    "# Visualization\n",
    "import matplotlib.pyplot as plt\n",
    "plt.rcParams['figure.figsize'] = (8, 6)"
   ]
  },
  {
   "cell_type": "markdown",
   "metadata": {
    "colab_type": "text",
    "id": "TokBlnUhWFw9"
   },
   "source": [
    "## Load dataset"
   ]
  },
  {
   "cell_type": "code",
   "execution_count": 3,
   "metadata": {},
   "outputs": [],
   "source": [
    "def url2pd(link):\n",
    "    with ZipFile(link) as my_zip_file:\n",
    "        for contained_file in my_zip_file.namelist():\n",
    "            fzip=my_zip_file.open(contained_file)\n",
    "            data=fzip.read()\n",
    "    s=str(data,'utf-8')\n",
    "    data = StringIO(s) \n",
    "    print('Done loading a dataset!')\n",
    "    return pd.read_csv(data)"
   ]
  },
  {
   "cell_type": "code",
   "execution_count": 4,
   "metadata": {
    "ExecuteTime": {
     "end_time": "2020-08-21T20:16:15.100385Z",
     "start_time": "2020-08-21T20:16:12.941842Z"
    },
    "colab": {
     "base_uri": "https://localhost:8080/",
     "height": 69
    },
    "colab_type": "code",
    "id": "R6vKGxODhB-M",
    "outputId": "ef0a7b77-7cb1-4411-ec8a-7b6c2baed9c5"
   },
   "outputs": [
    {
     "name": "stdout",
     "output_type": "stream",
     "text": [
      "Done loading a dataset!\n",
      "<class 'pandas.core.frame.DataFrame'>\n",
      "RangeIndex: 1048575 entries, 0 to 1048574\n",
      "Data columns (total 18 columns):\n",
      " #   Column        Non-Null Count    Dtype  \n",
      "---  ------        --------------    -----  \n",
      " 0   Vehicle_ID    1048575 non-null  int64  \n",
      " 1   Frame_ID      1048575 non-null  int64  \n",
      " 2   Total_Frames  1048575 non-null  int64  \n",
      " 3   Global_Time   1048575 non-null  int64  \n",
      " 4   Local_X       1048575 non-null  float64\n",
      " 5   Local_Y       1048575 non-null  float64\n",
      " 6   Global_X      1048575 non-null  float64\n",
      " 7   Global_Y      1048575 non-null  float64\n",
      " 8   v_Length      1048575 non-null  float64\n",
      " 9   v_Width       1048575 non-null  float64\n",
      " 10  v_Class       1048575 non-null  int64  \n",
      " 11  v_Vel         1048575 non-null  float64\n",
      " 12  v_Acc         1048575 non-null  float64\n",
      " 13  Lane_ID       1048575 non-null  int64  \n",
      " 14  Preceeding    1048575 non-null  int64  \n",
      " 15  Following     1048575 non-null  int64  \n",
      " 16  Space_Hdwy    1048575 non-null  float64\n",
      " 17  Time_Hdwy     1048575 non-null  float64\n",
      "dtypes: float64(10), int64(8)\n",
      "memory usage: 144.0 MB\n"
     ]
    },
    {
     "data": {
      "text/html": [
       "<div>\n",
       "<style scoped>\n",
       "    .dataframe tbody tr th:only-of-type {\n",
       "        vertical-align: middle;\n",
       "    }\n",
       "\n",
       "    .dataframe tbody tr th {\n",
       "        vertical-align: top;\n",
       "    }\n",
       "\n",
       "    .dataframe thead th {\n",
       "        text-align: right;\n",
       "    }\n",
       "</style>\n",
       "<table border=\"1\" class=\"dataframe\">\n",
       "  <thead>\n",
       "    <tr style=\"text-align: right;\">\n",
       "      <th></th>\n",
       "      <th>Vehicle_ID</th>\n",
       "      <th>Frame_ID</th>\n",
       "      <th>Total_Frames</th>\n",
       "      <th>Global_Time</th>\n",
       "      <th>Local_X</th>\n",
       "      <th>Local_Y</th>\n",
       "      <th>Global_X</th>\n",
       "      <th>Global_Y</th>\n",
       "      <th>v_Length</th>\n",
       "      <th>v_Width</th>\n",
       "      <th>v_Class</th>\n",
       "      <th>v_Vel</th>\n",
       "      <th>v_Acc</th>\n",
       "      <th>Lane_ID</th>\n",
       "      <th>Preceeding</th>\n",
       "      <th>Following</th>\n",
       "      <th>Space_Hdwy</th>\n",
       "      <th>Time_Hdwy</th>\n",
       "    </tr>\n",
       "  </thead>\n",
       "  <tbody>\n",
       "    <tr>\n",
       "      <th>0</th>\n",
       "      <td>2</td>\n",
       "      <td>13</td>\n",
       "      <td>437</td>\n",
       "      <td>1118846980200</td>\n",
       "      <td>16.467196</td>\n",
       "      <td>35.380427</td>\n",
       "      <td>6451137.641</td>\n",
       "      <td>1873344.962</td>\n",
       "      <td>14.5</td>\n",
       "      <td>4.9</td>\n",
       "      <td>2</td>\n",
       "      <td>40.000000</td>\n",
       "      <td>0.000000</td>\n",
       "      <td>2</td>\n",
       "      <td>0</td>\n",
       "      <td>0</td>\n",
       "      <td>0.0</td>\n",
       "      <td>0.0</td>\n",
       "    </tr>\n",
       "    <tr>\n",
       "      <th>1</th>\n",
       "      <td>2</td>\n",
       "      <td>14</td>\n",
       "      <td>437</td>\n",
       "      <td>1118846980300</td>\n",
       "      <td>16.446594</td>\n",
       "      <td>39.381608</td>\n",
       "      <td>6451140.329</td>\n",
       "      <td>1873342.000</td>\n",
       "      <td>14.5</td>\n",
       "      <td>4.9</td>\n",
       "      <td>2</td>\n",
       "      <td>40.012349</td>\n",
       "      <td>0.123485</td>\n",
       "      <td>2</td>\n",
       "      <td>0</td>\n",
       "      <td>0</td>\n",
       "      <td>0.0</td>\n",
       "      <td>0.0</td>\n",
       "    </tr>\n",
       "    <tr>\n",
       "      <th>2</th>\n",
       "      <td>2</td>\n",
       "      <td>15</td>\n",
       "      <td>437</td>\n",
       "      <td>1118846980400</td>\n",
       "      <td>16.425991</td>\n",
       "      <td>43.381541</td>\n",
       "      <td>6451143.018</td>\n",
       "      <td>1873339.038</td>\n",
       "      <td>14.5</td>\n",
       "      <td>4.9</td>\n",
       "      <td>2</td>\n",
       "      <td>39.999855</td>\n",
       "      <td>-0.124939</td>\n",
       "      <td>2</td>\n",
       "      <td>0</td>\n",
       "      <td>0</td>\n",
       "      <td>0.0</td>\n",
       "      <td>0.0</td>\n",
       "    </tr>\n",
       "  </tbody>\n",
       "</table>\n",
       "</div>"
      ],
      "text/plain": [
       "   Vehicle_ID  Frame_ID  Total_Frames    Global_Time    Local_X    Local_Y  \\\n",
       "0           2        13           437  1118846980200  16.467196  35.380427   \n",
       "1           2        14           437  1118846980300  16.446594  39.381608   \n",
       "2           2        15           437  1118846980400  16.425991  43.381541   \n",
       "\n",
       "      Global_X     Global_Y  v_Length  v_Width  v_Class      v_Vel     v_Acc  \\\n",
       "0  6451137.641  1873344.962      14.5      4.9        2  40.000000  0.000000   \n",
       "1  6451140.329  1873342.000      14.5      4.9        2  40.012349  0.123485   \n",
       "2  6451143.018  1873339.038      14.5      4.9        2  39.999855 -0.124939   \n",
       "\n",
       "   Lane_ID  Preceeding  Following  Space_Hdwy  Time_Hdwy  \n",
       "0        2           0          0         0.0        0.0  \n",
       "1        2           0          0         0.0        0.0  \n",
       "2        2           0          0         0.0        0.0  "
      ]
     },
     "execution_count": 4,
     "metadata": {},
     "output_type": "execute_result"
    }
   ],
   "source": [
    "filenames = os.listdir('./Data')\n",
    "url_1 = './Data/' + filenames[0]\n",
    "df = url2pd(url_1)\n",
    "df.info()\n",
    "df.head(3)"
   ]
  },
  {
   "cell_type": "markdown",
   "metadata": {
    "colab_type": "text",
    "id": "VdbOWXiTWM2T"
   },
   "source": [
    "Let's take a glance at the data. Here are the first few rows:"
   ]
  },
  {
   "cell_type": "code",
   "execution_count": 5,
   "metadata": {
    "ExecuteTime": {
     "end_time": "2020-08-21T20:16:20.617383Z",
     "start_time": "2020-08-21T20:16:20.548384Z"
    },
    "colab": {
     "base_uri": "https://localhost:8080/",
     "height": 204
    },
    "colab_type": "code",
    "id": "ffjH69ZiI4uF",
    "outputId": "df3afa2a-d780-4765-a740-9d18164e5227"
   },
   "outputs": [
    {
     "name": "stdout",
     "output_type": "stream",
     "text": [
      "(1048575, 18)\n",
      "After filtering: (524288, 18)\n"
     ]
    },
    {
     "data": {
      "text/html": [
       "<div>\n",
       "<style scoped>\n",
       "    .dataframe tbody tr th:only-of-type {\n",
       "        vertical-align: middle;\n",
       "    }\n",
       "\n",
       "    .dataframe tbody tr th {\n",
       "        vertical-align: top;\n",
       "    }\n",
       "\n",
       "    .dataframe thead th {\n",
       "        text-align: right;\n",
       "    }\n",
       "</style>\n",
       "<table border=\"1\" class=\"dataframe\">\n",
       "  <thead>\n",
       "    <tr style=\"text-align: right;\">\n",
       "      <th></th>\n",
       "      <th>Vehicle_ID</th>\n",
       "      <th>Frame_ID</th>\n",
       "      <th>Total_Frames</th>\n",
       "      <th>Local_X</th>\n",
       "      <th>Local_Y</th>\n",
       "      <th>v_Length</th>\n",
       "      <th>v_Width</th>\n",
       "      <th>v_Class</th>\n",
       "      <th>v_Vel</th>\n",
       "      <th>v_Acc</th>\n",
       "      <th>Lane_ID</th>\n",
       "    </tr>\n",
       "  </thead>\n",
       "  <tbody>\n",
       "    <tr>\n",
       "      <th>0</th>\n",
       "      <td>2</td>\n",
       "      <td>13</td>\n",
       "      <td>437</td>\n",
       "      <td>16.467196</td>\n",
       "      <td>35.380427</td>\n",
       "      <td>14.5</td>\n",
       "      <td>4.9</td>\n",
       "      <td>2</td>\n",
       "      <td>40.000000</td>\n",
       "      <td>0.000000</td>\n",
       "      <td>2</td>\n",
       "    </tr>\n",
       "    <tr>\n",
       "      <th>1</th>\n",
       "      <td>2</td>\n",
       "      <td>15</td>\n",
       "      <td>437</td>\n",
       "      <td>16.425991</td>\n",
       "      <td>43.381541</td>\n",
       "      <td>14.5</td>\n",
       "      <td>4.9</td>\n",
       "      <td>2</td>\n",
       "      <td>39.999855</td>\n",
       "      <td>-0.124939</td>\n",
       "      <td>2</td>\n",
       "    </tr>\n",
       "    <tr>\n",
       "      <th>2</th>\n",
       "      <td>2</td>\n",
       "      <td>17</td>\n",
       "      <td>437</td>\n",
       "      <td>16.384804</td>\n",
       "      <td>51.379881</td>\n",
       "      <td>14.5</td>\n",
       "      <td>4.9</td>\n",
       "      <td>2</td>\n",
       "      <td>39.991544</td>\n",
       "      <td>-0.013759</td>\n",
       "      <td>2</td>\n",
       "    </tr>\n",
       "    <tr>\n",
       "      <th>3</th>\n",
       "      <td>2</td>\n",
       "      <td>19</td>\n",
       "      <td>437</td>\n",
       "      <td>16.342611</td>\n",
       "      <td>59.385676</td>\n",
       "      <td>14.5</td>\n",
       "      <td>4.9</td>\n",
       "      <td>2</td>\n",
       "      <td>40.063334</td>\n",
       "      <td>0.676072</td>\n",
       "      <td>2</td>\n",
       "    </tr>\n",
       "    <tr>\n",
       "      <th>4</th>\n",
       "      <td>2</td>\n",
       "      <td>21</td>\n",
       "      <td>437</td>\n",
       "      <td>16.304035</td>\n",
       "      <td>67.409629</td>\n",
       "      <td>14.5</td>\n",
       "      <td>4.9</td>\n",
       "      <td>2</td>\n",
       "      <td>40.121870</td>\n",
       "      <td>0.032792</td>\n",
       "      <td>2</td>\n",
       "    </tr>\n",
       "  </tbody>\n",
       "</table>\n",
       "</div>"
      ],
      "text/plain": [
       "   Vehicle_ID  Frame_ID  Total_Frames    Local_X    Local_Y  v_Length  \\\n",
       "0           2        13           437  16.467196  35.380427      14.5   \n",
       "1           2        15           437  16.425991  43.381541      14.5   \n",
       "2           2        17           437  16.384804  51.379881      14.5   \n",
       "3           2        19           437  16.342611  59.385676      14.5   \n",
       "4           2        21           437  16.304035  67.409629      14.5   \n",
       "\n",
       "   v_Width  v_Class      v_Vel     v_Acc  Lane_ID  \n",
       "0      4.9        2  40.000000  0.000000        2  \n",
       "1      4.9        2  39.999855 -0.124939        2  \n",
       "2      4.9        2  39.991544 -0.013759        2  \n",
       "3      4.9        2  40.063334  0.676072        2  \n",
       "4      4.9        2  40.121870  0.032792        2  "
      ]
     },
     "execution_count": 5,
     "metadata": {},
     "output_type": "execute_result"
    }
   ],
   "source": [
    "# Filter time step\n",
    "print(df.shape)\n",
    "df = df.iloc[::2,:].copy()\n",
    "df.reset_index(drop=True, inplace=True)\n",
    "print('After filtering:', df.shape)\n",
    "#  keep only columns that are useful for now\n",
    "kept_cols = ['Vehicle_ID', 'Frame_ID', 'Total_Frames', 'Local_X','Local_Y','v_Length', 'v_Width', 'v_Class',\n",
    "       'v_Vel', 'v_Acc', 'Lane_ID']\n",
    "df = df[kept_cols]\n",
    "df.head()"
   ]
  },
  {
   "cell_type": "code",
   "execution_count": 6,
   "metadata": {
    "ExecuteTime": {
     "end_time": "2020-08-21T20:16:20.665384Z",
     "start_time": "2020-08-21T20:16:20.621385Z"
    },
    "colab": {
     "base_uri": "https://localhost:8080/",
     "height": 35
    },
    "colab_type": "code",
    "id": "dGL1rr_aI4uK",
    "outputId": "9eb02699-8331-484b-fe2f-52cda43cc53f"
   },
   "outputs": [
    {
     "data": {
      "text/plain": [
       "'the number of vehicles is 1993'"
      ]
     },
     "execution_count": 6,
     "metadata": {},
     "output_type": "execute_result"
    }
   ],
   "source": [
    "'the number of vehicles is {}'.format(len(df.Vehicle_ID.unique()))"
   ]
  },
  {
   "cell_type": "markdown",
   "metadata": {
    "colab_type": "text",
    "id": "eiM1eB7KI4uV"
   },
   "source": [
    "# Model 1"
   ]
  },
  {
   "cell_type": "markdown",
   "metadata": {
    "colab_type": "text",
    "id": "6cnCCRajz7Yo"
   },
   "source": [
    "### Constant values"
   ]
  },
  {
   "cell_type": "code",
   "execution_count": 7,
   "metadata": {
    "colab": {},
    "colab_type": "code",
    "id": "z5qGt4C1z6kq"
   },
   "outputs": [],
   "source": [
    "# Set constant values\n",
    "HISTORY_LENGTH = 3\n",
    "FUTURE_LENGTH = 6\n",
    "n_steps = int(HISTORY_LENGTH/0.2)\n",
    "n_future = int(FUTURE_LENGTH/0.2)\n",
    "n_features = len(df)\n",
    "series_feature_names = ['Local_X','v_Vel']\n",
    "target_names = ['Local_X','v_Vel']\n",
    "n_labels = len(target_names)\n",
    "vehicle_ids = df.Vehicle_ID.unique()"
   ]
  },
  {
   "cell_type": "markdown",
   "metadata": {
    "colab_type": "text",
    "id": "8P5M-rRuowNR"
   },
   "source": [
    "## Data preparation"
   ]
  },
  {
   "cell_type": "markdown",
   "metadata": {
    "colab_type": "text",
    "id": "g-smQvOMzqBR"
   },
   "source": [
    "### `series2seq`: Function that return sequence input and output for one object\n",
    "\n",
    "**Arguments**:\n",
    "series,past=4,future=1,past_step=1, future_step=1\n",
    "- series:  A Sequence of observations as a numpy array or list.\n",
    "- past: Number of lag observations as input (X).\n",
    "- future: Number of observations as output (y).\n",
    "- past_step, future_step: increments of input or output\n",
    "    \n",
    "**Returns**:\n",
    "- X, Y: Features and Labels Numpy array\n",
    "\n",
    "  "
   ]
  },
  {
   "cell_type": "code",
   "execution_count": 8,
   "metadata": {
    "colab": {
     "base_uri": "https://localhost:8080/",
     "height": 510
    },
    "colab_type": "code",
    "id": "Q581lAPT1Lwj",
    "outputId": "caa0e3ec-4418-4697-f125-728d9bb32a32"
   },
   "outputs": [
    {
     "name": "stdout",
     "output_type": "stream",
     "text": [
      "<class 'pandas.core.frame.DataFrame'>\n",
      "Int64Index: 219 entries, 0 to 218\n",
      "Data columns (total 11 columns):\n",
      " #   Column        Non-Null Count  Dtype  \n",
      "---  ------        --------------  -----  \n",
      " 0   Vehicle_ID    219 non-null    int64  \n",
      " 1   Frame_ID      219 non-null    int64  \n",
      " 2   Total_Frames  219 non-null    int64  \n",
      " 3   Local_X       219 non-null    float64\n",
      " 4   Local_Y       219 non-null    float64\n",
      " 5   v_Length      219 non-null    float64\n",
      " 6   v_Width       219 non-null    float64\n",
      " 7   v_Class       219 non-null    int64  \n",
      " 8   v_Vel         219 non-null    float64\n",
      " 9   v_Acc         219 non-null    float64\n",
      " 10  Lane_ID       219 non-null    int64  \n",
      "dtypes: float64(6), int64(5)\n",
      "memory usage: 20.5 KB\n"
     ]
    },
    {
     "data": {
      "text/html": [
       "<div>\n",
       "<style scoped>\n",
       "    .dataframe tbody tr th:only-of-type {\n",
       "        vertical-align: middle;\n",
       "    }\n",
       "\n",
       "    .dataframe tbody tr th {\n",
       "        vertical-align: top;\n",
       "    }\n",
       "\n",
       "    .dataframe thead th {\n",
       "        text-align: right;\n",
       "    }\n",
       "</style>\n",
       "<table border=\"1\" class=\"dataframe\">\n",
       "  <thead>\n",
       "    <tr style=\"text-align: right;\">\n",
       "      <th></th>\n",
       "      <th>Vehicle_ID</th>\n",
       "      <th>Frame_ID</th>\n",
       "      <th>Total_Frames</th>\n",
       "      <th>Local_X</th>\n",
       "      <th>Local_Y</th>\n",
       "      <th>v_Length</th>\n",
       "      <th>v_Width</th>\n",
       "      <th>v_Class</th>\n",
       "      <th>v_Vel</th>\n",
       "      <th>v_Acc</th>\n",
       "      <th>Lane_ID</th>\n",
       "    </tr>\n",
       "  </thead>\n",
       "  <tbody>\n",
       "    <tr>\n",
       "      <th>0</th>\n",
       "      <td>2</td>\n",
       "      <td>13</td>\n",
       "      <td>437</td>\n",
       "      <td>16.467196</td>\n",
       "      <td>35.380427</td>\n",
       "      <td>14.5</td>\n",
       "      <td>4.9</td>\n",
       "      <td>2</td>\n",
       "      <td>40.000000</td>\n",
       "      <td>0.000000</td>\n",
       "      <td>2</td>\n",
       "    </tr>\n",
       "    <tr>\n",
       "      <th>1</th>\n",
       "      <td>2</td>\n",
       "      <td>15</td>\n",
       "      <td>437</td>\n",
       "      <td>16.425991</td>\n",
       "      <td>43.381541</td>\n",
       "      <td>14.5</td>\n",
       "      <td>4.9</td>\n",
       "      <td>2</td>\n",
       "      <td>39.999855</td>\n",
       "      <td>-0.124939</td>\n",
       "      <td>2</td>\n",
       "    </tr>\n",
       "    <tr>\n",
       "      <th>2</th>\n",
       "      <td>2</td>\n",
       "      <td>17</td>\n",
       "      <td>437</td>\n",
       "      <td>16.384804</td>\n",
       "      <td>51.379881</td>\n",
       "      <td>14.5</td>\n",
       "      <td>4.9</td>\n",
       "      <td>2</td>\n",
       "      <td>39.991544</td>\n",
       "      <td>-0.013759</td>\n",
       "      <td>2</td>\n",
       "    </tr>\n",
       "    <tr>\n",
       "      <th>3</th>\n",
       "      <td>2</td>\n",
       "      <td>19</td>\n",
       "      <td>437</td>\n",
       "      <td>16.342611</td>\n",
       "      <td>59.385676</td>\n",
       "      <td>14.5</td>\n",
       "      <td>4.9</td>\n",
       "      <td>2</td>\n",
       "      <td>40.063334</td>\n",
       "      <td>0.676072</td>\n",
       "      <td>2</td>\n",
       "    </tr>\n",
       "    <tr>\n",
       "      <th>4</th>\n",
       "      <td>2</td>\n",
       "      <td>21</td>\n",
       "      <td>437</td>\n",
       "      <td>16.304035</td>\n",
       "      <td>67.409629</td>\n",
       "      <td>14.5</td>\n",
       "      <td>4.9</td>\n",
       "      <td>2</td>\n",
       "      <td>40.121870</td>\n",
       "      <td>0.032792</td>\n",
       "      <td>2</td>\n",
       "    </tr>\n",
       "  </tbody>\n",
       "</table>\n",
       "</div>"
      ],
      "text/plain": [
       "   Vehicle_ID  Frame_ID  Total_Frames    Local_X    Local_Y  v_Length  \\\n",
       "0           2        13           437  16.467196  35.380427      14.5   \n",
       "1           2        15           437  16.425991  43.381541      14.5   \n",
       "2           2        17           437  16.384804  51.379881      14.5   \n",
       "3           2        19           437  16.342611  59.385676      14.5   \n",
       "4           2        21           437  16.304035  67.409629      14.5   \n",
       "\n",
       "   v_Width  v_Class      v_Vel     v_Acc  Lane_ID  \n",
       "0      4.9        2  40.000000  0.000000        2  \n",
       "1      4.9        2  39.999855 -0.124939        2  \n",
       "2      4.9        2  39.991544 -0.013759        2  \n",
       "3      4.9        2  40.063334  0.676072        2  \n",
       "4      4.9        2  40.121870  0.032792        2  "
      ]
     },
     "execution_count": 8,
     "metadata": {},
     "output_type": "execute_result"
    }
   ],
   "source": [
    "# Test data frame\n",
    "# data set of the vehicle #2\n",
    "df_test = df[df.Vehicle_ID==vehicle_ids[0]].copy()\n",
    "df_test.info()\n",
    "df_test.head()"
   ]
  },
  {
   "cell_type": "code",
   "execution_count": 9,
   "metadata": {},
   "outputs": [
    {
     "data": {
      "text/plain": [
       "(array([[ 0,  1,  2],\n",
       "        [ 1,  2,  3],\n",
       "        [ 2,  3,  4],\n",
       "        [ 3,  4,  5],\n",
       "        [ 4,  5,  6],\n",
       "        [ 5,  6,  7],\n",
       "        [ 6,  7,  8],\n",
       "        [ 7,  8,  9],\n",
       "        [ 8,  9, 10],\n",
       "        [ 9, 10, 11],\n",
       "        [10, 11, 12],\n",
       "        [11, 12, 13],\n",
       "        [12, 13, 14],\n",
       "        [13, 14, 15]]),\n",
       " array([[ 3,  4,  5,  6],\n",
       "        [ 4,  5,  6,  7],\n",
       "        [ 5,  6,  7,  8],\n",
       "        [ 6,  7,  8,  9],\n",
       "        [ 7,  8,  9, 10],\n",
       "        [ 8,  9, 10, 11],\n",
       "        [ 9, 10, 11, 12],\n",
       "        [10, 11, 12, 13],\n",
       "        [11, 12, 13, 14],\n",
       "        [12, 13, 14, 15],\n",
       "        [13, 14, 15, 16],\n",
       "        [14, 15, 16, 17],\n",
       "        [15, 16, 17, 18],\n",
       "        [16, 17, 18, 19]]))"
      ]
     },
     "execution_count": 9,
     "metadata": {},
     "output_type": "execute_result"
    }
   ],
   "source": [
    "def single_series2seq(series,past=4,future=1,past_step=1, future_step=1):\n",
    "    # length of sequences \n",
    "    length = past + future\n",
    "    seq = series.copy()\n",
    "    # add rolled series\n",
    "    for i in range(length-1):\n",
    "        seq = np.vstack((seq,np.roll(series,i+1)))\n",
    "    seq = np.flip(seq.T,1)\n",
    "    seq = seq[length-1:,:]\n",
    "    # Prepare output\n",
    "    X = seq[:,:past:past_step]\n",
    "    Y = seq[:,past::future_step]\n",
    "    return X,Y\n",
    "data = np.arange(20)\n",
    "single_series2seq(data,past = 3, future = 4,future_step=1)"
   ]
  },
  {
   "cell_type": "code",
   "execution_count": 10,
   "metadata": {},
   "outputs": [
    {
     "data": {
      "text/plain": [
       "((219,), (175, 15), (175, 6))"
      ]
     },
     "execution_count": 10,
     "metadata": {},
     "output_type": "execute_result"
    }
   ],
   "source": [
    "inputs, labels = single_series2seq(df_test.Local_X,past = n_steps, future = n_future,future_step=5)\n",
    "df_test.Local_X.shape, inputs.shape, labels.shape"
   ]
  },
  {
   "cell_type": "code",
   "execution_count": 11,
   "metadata": {},
   "outputs": [
    {
     "data": {
      "text/plain": [
       "(array([[ 0,  2,  4,  1,  3,  5],\n",
       "        [ 2,  4,  6,  3,  5,  7],\n",
       "        [ 4,  6,  8,  5,  7,  9],\n",
       "        [ 6,  8, 10,  7,  9, 11]]),\n",
       " array([[ 6,  8, 10, 12,  7,  9, 11, 13],\n",
       "        [ 8, 10, 12, 14,  9, 11, 13, 15],\n",
       "        [10, 12, 14, 16, 11, 13, 15, 17],\n",
       "        [12, 14, 16, 18, 13, 15, 17, 19]]))"
      ]
     },
     "execution_count": 11,
     "metadata": {},
     "output_type": "execute_result"
    }
   ],
   "source": [
    "def multi_series2seq(mulseries,**kwarg):\n",
    "    # number of series\n",
    "    n_series = mulseries.shape[1]\n",
    "    seq = mulseries.copy()\n",
    "    X,Y = single_series2seq(seq[:,0],past = kwarg['past'],future = kwarg['future'],\n",
    "                           future_step = kwarg['future_step'])\n",
    "    for i in range(1,n_series):\n",
    "        newX,newY = single_series2seq(seq[:,i],past = kwarg['past'],future = kwarg['future'],\n",
    "                           future_step = kwarg['future_step'])\n",
    "        X = np.column_stack((X,newX))\n",
    "        Y = np.column_stack((Y,newY))\n",
    "    return X,Y\n",
    "data = np.arange(20).reshape(-1,2)\n",
    "multi_series2seq(mulseries = data,past = 3, future = 4,future_step=1)"
   ]
  },
  {
   "cell_type": "code",
   "execution_count": 12,
   "metadata": {},
   "outputs": [
    {
     "data": {
      "text/plain": [
       "((219, 2), (175, 30), (175, 12))"
      ]
     },
     "execution_count": 12,
     "metadata": {},
     "output_type": "execute_result"
    }
   ],
   "source": [
    "inputs, labels = multi_series2seq(df_test[['Local_X','v_Vel']].values ,past = n_steps, future = n_future,future_step=5)\n",
    "df_test[['Local_X','v_Vel']].shape, inputs.shape, labels.shape"
   ]
  },
  {
   "cell_type": "markdown",
   "metadata": {
    "colab_type": "text",
    "id": "9Exyazj-4Wxh"
   },
   "source": [
    "### `treatment_cars` Function to prepare the data set for each car"
   ]
  },
  {
   "cell_type": "code",
   "execution_count": 13,
   "metadata": {
    "colab": {
     "base_uri": "https://localhost:8080/",
     "height": 527
    },
    "colab_type": "code",
    "id": "EklcZXfD5u4_",
    "outputId": "4f37a032-5fad-41fc-fd96-69b5a829314d"
   },
   "outputs": [
    {
     "name": "stdout",
     "output_type": "stream",
     "text": [
      "<class 'pandas.core.frame.DataFrame'>\n",
      "Int64Index: 1023 entries, 0 to 1022\n",
      "Data columns (total 11 columns):\n",
      " #   Column        Non-Null Count  Dtype  \n",
      "---  ------        --------------  -----  \n",
      " 0   Vehicle_ID    1023 non-null   int64  \n",
      " 1   Frame_ID      1023 non-null   int64  \n",
      " 2   Total_Frames  1023 non-null   int64  \n",
      " 3   Local_X       1023 non-null   float64\n",
      " 4   Local_Y       1023 non-null   float64\n",
      " 5   v_Length      1023 non-null   float64\n",
      " 6   v_Width       1023 non-null   float64\n",
      " 7   v_Class       1023 non-null   int64  \n",
      " 8   v_Vel         1023 non-null   float64\n",
      " 9   v_Acc         1023 non-null   float64\n",
      " 10  Lane_ID       1023 non-null   int64  \n",
      "dtypes: float64(6), int64(5)\n",
      "memory usage: 95.9 KB\n",
      "[2 4 5 6 8]\n"
     ]
    },
    {
     "data": {
      "text/html": [
       "<div>\n",
       "<style scoped>\n",
       "    .dataframe tbody tr th:only-of-type {\n",
       "        vertical-align: middle;\n",
       "    }\n",
       "\n",
       "    .dataframe tbody tr th {\n",
       "        vertical-align: top;\n",
       "    }\n",
       "\n",
       "    .dataframe thead th {\n",
       "        text-align: right;\n",
       "    }\n",
       "</style>\n",
       "<table border=\"1\" class=\"dataframe\">\n",
       "  <thead>\n",
       "    <tr style=\"text-align: right;\">\n",
       "      <th></th>\n",
       "      <th>Vehicle_ID</th>\n",
       "      <th>Frame_ID</th>\n",
       "      <th>Total_Frames</th>\n",
       "      <th>Local_X</th>\n",
       "      <th>Local_Y</th>\n",
       "      <th>v_Length</th>\n",
       "      <th>v_Width</th>\n",
       "      <th>v_Class</th>\n",
       "      <th>v_Vel</th>\n",
       "      <th>v_Acc</th>\n",
       "      <th>Lane_ID</th>\n",
       "    </tr>\n",
       "  </thead>\n",
       "  <tbody>\n",
       "    <tr>\n",
       "      <th>0</th>\n",
       "      <td>2</td>\n",
       "      <td>13</td>\n",
       "      <td>437</td>\n",
       "      <td>16.467196</td>\n",
       "      <td>35.380427</td>\n",
       "      <td>14.5</td>\n",
       "      <td>4.9</td>\n",
       "      <td>2</td>\n",
       "      <td>40.000000</td>\n",
       "      <td>0.000000</td>\n",
       "      <td>2</td>\n",
       "    </tr>\n",
       "    <tr>\n",
       "      <th>1</th>\n",
       "      <td>2</td>\n",
       "      <td>15</td>\n",
       "      <td>437</td>\n",
       "      <td>16.425991</td>\n",
       "      <td>43.381541</td>\n",
       "      <td>14.5</td>\n",
       "      <td>4.9</td>\n",
       "      <td>2</td>\n",
       "      <td>39.999855</td>\n",
       "      <td>-0.124939</td>\n",
       "      <td>2</td>\n",
       "    </tr>\n",
       "    <tr>\n",
       "      <th>2</th>\n",
       "      <td>2</td>\n",
       "      <td>17</td>\n",
       "      <td>437</td>\n",
       "      <td>16.384804</td>\n",
       "      <td>51.379881</td>\n",
       "      <td>14.5</td>\n",
       "      <td>4.9</td>\n",
       "      <td>2</td>\n",
       "      <td>39.991544</td>\n",
       "      <td>-0.013759</td>\n",
       "      <td>2</td>\n",
       "    </tr>\n",
       "    <tr>\n",
       "      <th>3</th>\n",
       "      <td>2</td>\n",
       "      <td>19</td>\n",
       "      <td>437</td>\n",
       "      <td>16.342611</td>\n",
       "      <td>59.385676</td>\n",
       "      <td>14.5</td>\n",
       "      <td>4.9</td>\n",
       "      <td>2</td>\n",
       "      <td>40.063334</td>\n",
       "      <td>0.676072</td>\n",
       "      <td>2</td>\n",
       "    </tr>\n",
       "    <tr>\n",
       "      <th>4</th>\n",
       "      <td>2</td>\n",
       "      <td>21</td>\n",
       "      <td>437</td>\n",
       "      <td>16.304035</td>\n",
       "      <td>67.409629</td>\n",
       "      <td>14.5</td>\n",
       "      <td>4.9</td>\n",
       "      <td>2</td>\n",
       "      <td>40.121870</td>\n",
       "      <td>0.032792</td>\n",
       "      <td>2</td>\n",
       "    </tr>\n",
       "  </tbody>\n",
       "</table>\n",
       "</div>"
      ],
      "text/plain": [
       "   Vehicle_ID  Frame_ID  Total_Frames    Local_X    Local_Y  v_Length  \\\n",
       "0           2        13           437  16.467196  35.380427      14.5   \n",
       "1           2        15           437  16.425991  43.381541      14.5   \n",
       "2           2        17           437  16.384804  51.379881      14.5   \n",
       "3           2        19           437  16.342611  59.385676      14.5   \n",
       "4           2        21           437  16.304035  67.409629      14.5   \n",
       "\n",
       "   v_Width  v_Class      v_Vel     v_Acc  Lane_ID  \n",
       "0      4.9        2  40.000000  0.000000        2  \n",
       "1      4.9        2  39.999855 -0.124939        2  \n",
       "2      4.9        2  39.991544 -0.013759        2  \n",
       "3      4.9        2  40.063334  0.676072        2  \n",
       "4      4.9        2  40.121870  0.032792        2  "
      ]
     },
     "execution_count": 13,
     "metadata": {},
     "output_type": "execute_result"
    }
   ],
   "source": [
    "# Test data frame\n",
    "# data set of the first 5 vehicles\n",
    "df_test = df[df.Vehicle_ID.isin(vehicle_ids[:5])].copy()\n",
    "df_test.info()\n",
    "print(df_test.Vehicle_ID.unique())\n",
    "df_test.head()"
   ]
  },
  {
   "cell_type": "code",
   "execution_count": 14,
   "metadata": {},
   "outputs": [
    {
     "name": "stdout",
     "output_type": "stream",
     "text": [
      "(803, 30)\n",
      "(803, 12)\n"
     ]
    }
   ],
   "source": [
    "# multiple objects\n",
    "def multi_obj2seq(data, **kwarg):\n",
    "    veh_ids = data.Vehicle_ID.unique()\n",
    "    X,Y = np.array([]), np.array([])\n",
    "    for id in veh_ids:\n",
    "        dat = data[data.Vehicle_ID==id][target_names].copy()\n",
    "        newX,newY = multi_series2seq(dat.values ,past = kwarg['past'],future = kwarg['future'],\n",
    "                           future_step = kwarg['future_step'])\n",
    "        #print(X.shape, newX.shape)\n",
    "        X = np.vstack((X,newX)) if X.size else newX\n",
    "        Y = np.vstack((Y,newY)) if Y.size else newY\n",
    "        #print(X.shape)\n",
    "    if kwarg[\"show_result\"]:\n",
    "        print(X.shape)\n",
    "        print(Y.shape)\n",
    "    return X, Y\n",
    "inputs, labels = multi_obj2seq(df_test,past = n_steps, future = n_future,future_step=5, show_result=True)"
   ]
  },
  {
   "cell_type": "markdown",
   "metadata": {
    "colab_type": "text",
    "id": "O3aqvq768FUe"
   },
   "source": [
    "### Choose the size of the raw data set"
   ]
  },
  {
   "cell_type": "code",
   "execution_count": 15,
   "metadata": {},
   "outputs": [
    {
     "name": "stdout",
     "output_type": "stream",
     "text": [
      "(436596, 30)\n",
      "(436596, 12)\n",
      "CPU times: user 37.5 s, sys: 24.6 s, total: 1min 2s\n",
      "Wall time: 1min 2s\n"
     ]
    }
   ],
   "source": [
    "%%time\n",
    "inputs, labels = multi_obj2seq(df,past = n_steps, future = n_future,future_step=5, show_result=True)"
   ]
  },
  {
   "cell_type": "markdown",
   "metadata": {
    "colab_type": "text",
    "id": "UXbKv-3AVjCs"
   },
   "source": [
    "### Split the data set\n"
   ]
  },
  {
   "cell_type": "code",
   "execution_count": 16,
   "metadata": {
    "colab": {
     "base_uri": "https://localhost:8080/",
     "height": 34
    },
    "colab_type": "code",
    "id": "qtmwVnZgVmhg",
    "outputId": "b75ad653-ce0d-4ed6-c2e0-59ed494cd066"
   },
   "outputs": [
    {
     "name": "stdout",
     "output_type": "stream",
     "text": [
      "(305617, 30) (130979, 30) (305617, 12) (130979, 12)\n"
     ]
    }
   ],
   "source": [
    "X_train, X_test, y_train, y_test = train_test_split(inputs,labels, \n",
    "                                                    test_size=0.3, random_state=42)\n",
    "print(X_train.shape,X_test.shape, y_train.shape, y_test.shape)"
   ]
  },
  {
   "cell_type": "code",
   "execution_count": 17,
   "metadata": {
    "colab": {
     "base_uri": "https://localhost:8080/",
     "height": 419
    },
    "colab_type": "code",
    "id": "bVBQUUntVtJw",
    "outputId": "85b0311e-28d0-4dc4-f6c4-962b082d113f"
   },
   "outputs": [
    {
     "name": "stdout",
     "output_type": "stream",
     "text": [
      "(305617, 30)\n"
     ]
    },
    {
     "data": {
      "text/plain": [
       "(5.376179717569043e-16, 1.0000000000000004)"
      ]
     },
     "execution_count": 17,
     "metadata": {},
     "output_type": "execute_result"
    }
   ],
   "source": [
    "### Standardize the data\n",
    "train_mean = X_train.mean()\n",
    "train_std = X_train.std()\n",
    "\n",
    "X_train = (X_train - train_mean) / train_std\n",
    "X_test = (X_test - train_mean) / train_std\n",
    "\n",
    "print(X_train.shape)\n",
    "X_train.mean(), X_train.std()"
   ]
  },
  {
   "cell_type": "code",
   "execution_count": 18,
   "metadata": {},
   "outputs": [],
   "source": [
    "X_train = X_train.reshape((X_train.shape[0], X_train.shape[1],1))\n",
    "X_test = X_test.reshape((X_test.shape[0], X_train.shape[1],1))\n"
   ]
  },
  {
   "cell_type": "code",
   "execution_count": 19,
   "metadata": {},
   "outputs": [
    {
     "data": {
      "text/plain": [
       "((305617, 30, 1), (130979, 30, 1))"
      ]
     },
     "execution_count": 19,
     "metadata": {},
     "output_type": "execute_result"
    }
   ],
   "source": [
    "X_train.shape,X_test.shape"
   ]
  },
  {
   "cell_type": "code",
   "execution_count": 22,
   "metadata": {},
   "outputs": [
    {
     "data": {
      "text/plain": [
       "(305617, 12)"
      ]
     },
     "execution_count": 22,
     "metadata": {},
     "output_type": "execute_result"
    }
   ],
   "source": [
    "y_train.shape"
   ]
  },
  {
   "cell_type": "markdown",
   "metadata": {
    "colab_type": "text",
    "id": "hO9p6VOjweHD"
   },
   "source": [
    "## Prediction model"
   ]
  },
  {
   "cell_type": "code",
   "execution_count": 23,
   "metadata": {
    "colab": {
     "base_uri": "https://localhost:8080/",
     "height": 1000
    },
    "colab_type": "code",
    "id": "wO-XWY6xweHE",
    "outputId": "bf08d054-1ac4-46c3-858d-d6a77cb2ffba"
   },
   "outputs": [
    {
     "name": "stdout",
     "output_type": "stream",
     "text": [
      "Train on 305617 samples, validate on 130979 samples\n",
      "Epoch 1/50\n",
      "305617/305617 [==============================] - 6s 21us/sample - loss: 841.1080 - val_loss: 507.6231\n",
      "Epoch 2/50\n",
      "305617/305617 [==============================] - 2s 6us/sample - loss: 375.3658 - val_loss: 289.9691\n",
      "Epoch 3/50\n",
      "305617/305617 [==============================] - 2s 6us/sample - loss: 246.6941 - val_loss: 195.7656\n",
      "Epoch 4/50\n",
      "305617/305617 [==============================] - 2s 6us/sample - loss: 150.4981 - val_loss: 123.2594\n",
      "Epoch 5/50\n",
      "305617/305617 [==============================] - 2s 6us/sample - loss: 105.3497 - val_loss: 90.2383\n",
      "Epoch 6/50\n",
      "305617/305617 [==============================] - 2s 6us/sample - loss: 77.9447 - val_loss: 67.5359\n",
      "Epoch 7/50\n",
      "305617/305617 [==============================] - 2s 6us/sample - loss: 58.5850 - val_loss: 51.2189\n",
      "Epoch 8/50\n",
      "305617/305617 [==============================] - 2s 6us/sample - loss: 44.6699 - val_loss: 39.5157\n",
      "Epoch 9/50\n",
      "305617/305617 [==============================] - 2s 6us/sample - loss: 35.0103 - val_loss: 31.4887\n",
      "Epoch 10/50\n",
      "305617/305617 [==============================] - 2s 6us/sample - loss: 28.7215 - val_loss: 26.5263\n",
      "Epoch 11/50\n",
      "305617/305617 [==============================] - 2s 6us/sample - loss: 24.7813 - val_loss: 23.3373\n",
      "Epoch 12/50\n",
      "305617/305617 [==============================] - 2s 6us/sample - loss: 22.2799 - val_loss: 21.3586\n",
      "Epoch 13/50\n",
      "305617/305617 [==============================] - 2s 6us/sample - loss: 20.6761 - val_loss: 20.0971\n",
      "Epoch 14/50\n",
      "305617/305617 [==============================] - 2s 6us/sample - loss: 19.5899 - val_loss: 19.1577\n",
      "Epoch 15/50\n",
      "305617/305617 [==============================] - 2s 6us/sample - loss: 18.7582 - val_loss: 18.4283\n",
      "Epoch 16/50\n",
      "305617/305617 [==============================] - 2s 6us/sample - loss: 18.1632 - val_loss: 17.9209\n",
      "Epoch 17/50\n",
      "305617/305617 [==============================] - 2s 6us/sample - loss: 17.6714 - val_loss: 17.6002\n",
      "Epoch 18/50\n",
      "305617/305617 [==============================] - 2s 6us/sample - loss: 17.2763 - val_loss: 17.1186\n",
      "Epoch 19/50\n",
      "305617/305617 [==============================] - 2s 6us/sample - loss: 16.9689 - val_loss: 16.8951\n",
      "Epoch 20/50\n",
      "305617/305617 [==============================] - 2s 6us/sample - loss: 16.7010 - val_loss: 16.5712\n",
      "Epoch 21/50\n",
      "305617/305617 [==============================] - 2s 6us/sample - loss: 16.4752 - val_loss: 16.3991\n",
      "Epoch 22/50\n",
      "305617/305617 [==============================] - 2s 6us/sample - loss: 16.3017 - val_loss: 16.4563\n",
      "Epoch 23/50\n",
      "305617/305617 [==============================] - 2s 6us/sample - loss: 16.1255 - val_loss: 16.0497\n",
      "Epoch 24/50\n",
      "305617/305617 [==============================] - 2s 6us/sample - loss: 15.9771 - val_loss: 15.9214\n",
      "Epoch 25/50\n",
      "305617/305617 [==============================] - 2s 6us/sample - loss: 15.8639 - val_loss: 15.8216\n",
      "Epoch 26/50\n",
      "305617/305617 [==============================] - 2s 6us/sample - loss: 15.7489 - val_loss: 15.6928\n",
      "Epoch 27/50\n",
      "305617/305617 [==============================] - 2s 6us/sample - loss: 15.6691 - val_loss: 15.7190\n",
      "Epoch 28/50\n",
      "305617/305617 [==============================] - 2s 6us/sample - loss: 15.5869 - val_loss: 15.5870\n",
      "Epoch 29/50\n",
      "305617/305617 [==============================] - 2s 6us/sample - loss: 15.5145 - val_loss: 15.4756\n",
      "Epoch 30/50\n",
      "305617/305617 [==============================] - 2s 6us/sample - loss: 15.4540 - val_loss: 15.4144\n",
      "Epoch 31/50\n",
      "305617/305617 [==============================] - 2s 6us/sample - loss: 15.4142 - val_loss: 15.3378\n",
      "Epoch 32/50\n",
      "305617/305617 [==============================] - 2s 6us/sample - loss: 15.3599 - val_loss: 15.2886\n",
      "Epoch 33/50\n",
      "305617/305617 [==============================] - 2s 6us/sample - loss: 15.3002 - val_loss: 15.2962\n",
      "Epoch 34/50\n",
      "305617/305617 [==============================] - 2s 6us/sample - loss: 15.2746 - val_loss: 15.2174\n",
      "Epoch 35/50\n",
      "305617/305617 [==============================] - 2s 6us/sample - loss: 15.2286 - val_loss: 15.2481\n",
      "Epoch 36/50\n",
      "305617/305617 [==============================] - 2s 6us/sample - loss: 15.1770 - val_loss: 15.3158\n",
      "Epoch 37/50\n",
      "305617/305617 [==============================] - 2s 6us/sample - loss: 15.1636 - val_loss: 15.1239\n",
      "Epoch 38/50\n",
      "305617/305617 [==============================] - 2s 6us/sample - loss: 15.1221 - val_loss: 15.1131\n",
      "Epoch 39/50\n",
      "305617/305617 [==============================] - 2s 6us/sample - loss: 15.0852 - val_loss: 15.1163\n",
      "Epoch 40/50\n",
      "305617/305617 [==============================] - 2s 6us/sample - loss: 15.0439 - val_loss: 15.1076\n",
      "Epoch 41/50\n",
      "305617/305617 [==============================] - 2s 6us/sample - loss: 15.0207 - val_loss: 15.0773\n",
      "Epoch 42/50\n",
      "305617/305617 [==============================] - 2s 7us/sample - loss: 14.9885 - val_loss: 14.9348\n",
      "Epoch 43/50\n",
      "305617/305617 [==============================] - 2s 6us/sample - loss: 14.9770 - val_loss: 14.9530\n",
      "Epoch 44/50\n",
      "305617/305617 [==============================] - 2s 6us/sample - loss: 14.9287 - val_loss: 14.8903\n",
      "Epoch 45/50\n",
      "305617/305617 [==============================] - 2s 6us/sample - loss: 14.8967 - val_loss: 14.8631\n",
      "Epoch 46/50\n",
      "305617/305617 [==============================] - 2s 6us/sample - loss: 14.8688 - val_loss: 14.9597\n",
      "Epoch 47/50\n",
      "305617/305617 [==============================] - 2s 6us/sample - loss: 14.8668 - val_loss: 14.8028\n",
      "Epoch 48/50\n",
      "305617/305617 [==============================] - 2s 7us/sample - loss: 14.8342 - val_loss: 14.7989\n",
      "Epoch 49/50\n",
      "305617/305617 [==============================] - 2s 6us/sample - loss: 14.8202 - val_loss: 14.8160\n",
      "Epoch 50/50\n",
      "305617/305617 [==============================] - 2s 6us/sample - loss: 14.8068 - val_loss: 14.7788\n",
      "CPU times: user 2min 14s, sys: 20.3 s, total: 2min 35s\n",
      "Wall time: 1min 39s\n"
     ]
    }
   ],
   "source": [
    "%%time\n",
    "# define model\n",
    "model = Sequential()\n",
    "model.add(LSTM(50, activation='tanh', input_shape=(X_train.shape[1],1)))\n",
    "model.add(Dense(y_train.shape[1]))\n",
    "model.compile(optimizer='adam', loss='mse')\n",
    "\n",
    "# For saving the best model during the whole training process.\n",
    "#checkpointer = callbacks.ModelCheckpoint(filepath='BestModel.h5', monitor='val_loss', save_best_only=True)\n",
    "\n",
    "#### Interrupt training if `val_loss` stops improving for over 10 epochs #######\n",
    "stop_learn= tf.keras.callbacks.EarlyStopping(patience=10, monitor='val_loss')\n",
    "\n",
    "\n",
    "# fit model\n",
    "Monitor = model.fit(X_train, y_train, epochs=50, batch_size= 1024,\n",
    "                    callbacks=[stop_learn],\n",
    "                    validation_data=(X_test, y_test), verbose=1)"
   ]
  },
  {
   "cell_type": "code",
   "execution_count": 26,
   "metadata": {
    "colab": {},
    "colab_type": "code",
    "id": "Oa1rcutTweHJ"
   },
   "outputs": [
    {
     "data": {
      "image/png": "[encoded data removed]",
      "text/plain": [
       "<Figure size 1500x600 with 1 Axes>"
      ]
     },
     "metadata": {
      "needs_background": "light"
     },
     "output_type": "display_data"
    }
   ],
   "source": [
    "hist = pd.DataFrame(Monitor.history)\n",
    "hist['epoch'] = Monitor.epoch\n",
    "fig, axes = plt.subplots(nrows=1, ncols=1,figsize=(10,4),dpi=150)\n",
    "hist[['loss','val_loss']].plot(ax=axes)\n",
    "#hist[['mse','val_mse']].plot(ax=axes[1])\n",
    "plt.show()"
   ]
  },
  {
   "cell_type": "markdown",
   "metadata": {
    "colab_type": "text",
    "id": "2YWEoDw-jEjK"
   },
   "source": [
    "## Evaluation \n"
   ]
  },
  {
   "cell_type": "code",
   "execution_count": 27,
   "metadata": {},
   "outputs": [
    {
     "name": "stdout",
     "output_type": "stream",
     "text": [
      "130979/130979 [==============================] - 10s 73us/sample\n"
     ]
    },
    {
     "data": {
      "text/html": [
       "<div>\n",
       "<style scoped>\n",
       "    .dataframe tbody tr th:only-of-type {\n",
       "        vertical-align: middle;\n",
       "    }\n",
       "\n",
       "    .dataframe tbody tr th {\n",
       "        vertical-align: top;\n",
       "    }\n",
       "\n",
       "    .dataframe thead th {\n",
       "        text-align: right;\n",
       "    }\n",
       "</style>\n",
       "<table border=\"1\" class=\"dataframe\">\n",
       "  <thead>\n",
       "    <tr style=\"text-align: right;\">\n",
       "      <th></th>\n",
       "      <th>0s</th>\n",
       "      <th>1s</th>\n",
       "      <th>2s</th>\n",
       "      <th>3s</th>\n",
       "      <th>4s</th>\n",
       "      <th>5s</th>\n",
       "    </tr>\n",
       "  </thead>\n",
       "  <tbody>\n",
       "    <tr>\n",
       "      <th>Local_X</th>\n",
       "      <td>0.648</td>\n",
       "      <td>0.945</td>\n",
       "      <td>1.244</td>\n",
       "      <td>1.512</td>\n",
       "      <td>1.767</td>\n",
       "      <td>2.008</td>\n",
       "    </tr>\n",
       "    <tr>\n",
       "      <th>v_Vel</th>\n",
       "      <td>0.713</td>\n",
       "      <td>3.411</td>\n",
       "      <td>4.449</td>\n",
       "      <td>5.572</td>\n",
       "      <td>6.627</td>\n",
       "      <td>7.626</td>\n",
       "    </tr>\n",
       "  </tbody>\n",
       "</table>\n",
       "</div>"
      ],
      "text/plain": [
       "            0s     1s     2s     3s     4s     5s\n",
       "Local_X  0.648  0.945  1.244  1.512  1.767  2.008\n",
       "v_Vel    0.713  3.411  4.449  5.572  6.627  7.626"
      ]
     },
     "execution_count": 27,
     "metadata": {},
     "output_type": "execute_result"
    }
   ],
   "source": [
    "y_hat = model.predict(X_test, verbose=1)\n",
    "colnames = [str(i)+'s' for i in range(6)]\n",
    "rmse = np.sqrt(np.square(np.subtract(y_test,y_hat)).mean(0)).reshape(2,-1)\n",
    "rmse = pd.DataFrame(rmse,columns = colnames, index = target_names )\n",
    "rmse.round(3)"
   ]
  },
  {
   "cell_type": "markdown",
   "metadata": {
    "colab_type": "text",
    "id": "5rgsBKw41gpN"
   },
   "source": [
    "# END"
   ]
  }
 ],
 "metadata": {
  "colab": {
   "collapsed_sections": [],
   "include_colab_link": true,
   "name": "VTP_1.10_Models for full dataset.ipynb",
   "provenance": [],
   "toc_visible": true
  },
  "kernelspec": {
   "display_name": "Python 3",
   "language": "python",
   "name": "python3"
  },
  "language_info": {
   "codemirror_mode": {
    "name": "ipython",
    "version": 3
   },
   "file_extension": ".py",
   "mimetype": "text/x-python",
   "name": "python",
   "nbconvert_exporter": "python",
   "pygments_lexer": "ipython3",
   "version": "3.8.5"
  },
  "toc": {
   "base_numbering": 1,
   "nav_menu": {},
   "number_sections": true,
   "sideBar": true,
   "skip_h1_title": false,
   "title_cell": "Table of Contents",
   "title_sidebar": "Contents",
   "toc_cell": false,
   "toc_position": {},
   "toc_section_display": true,
   "toc_window_display": false
  }
 },
 "nbformat": 4,
 "nbformat_minor": 4
}
