{
 "cells": [
  {
   "cell_type": "markdown",
   "metadata": {
    "colab_type": "text",
    "id": "view-in-github"
   },
   "source": [
    "<a href=\"https://colab.research.google.com/github/duonghung86/Vehicle-trajectory-tracking/blob/master/Codes/VTP_1_04_Summary_of_simple_models.ipynb\" target=\"_parent\"><img src=\"https://colab.research.google.com/assets/colab-badge.svg\" alt=\"Open In Colab\"/></a>"
   ]
  },
  {
   "cell_type": "markdown",
   "metadata": {
    "colab_type": "text",
    "id": "pa49bUnKyRgF"
   },
   "source": [
    "# Simple LSTM"
   ]
  },
  {
   "cell_type": "markdown",
   "metadata": {
    "colab_type": "text",
    "id": "IoAFjczidkA4"
   },
   "source": [
    "Overview on the configuration of all simple models\n",
    "\n",
    "|Model name|Description| # Car|# vars|# targets|# const_vars| # steps | # futures\n",
    "|---|:--|:-:|:-:|:-:|:-:|:-:|:-:|\n",
    "Model 1|Baseline model with multi input time steps|1|1|1|0|**4**|1| "
   ]
  },
  {
   "cell_type": "markdown",
   "metadata": {
    "colab_type": "text",
    "id": "XVhK72Pu1cJL"
   },
   "source": [
    "## Import packages"
   ]
  },
  {
   "cell_type": "code",
   "execution_count": 1,
   "metadata": {
    "ExecuteTime": {
     "end_time": "2020-08-21T20:16:12.937889Z",
     "start_time": "2020-08-21T20:16:03.058187Z"
    },
    "colab": {
     "base_uri": "https://localhost:8080/",
     "height": 51
    },
    "colab_type": "code",
    "id": "7rZnJaGTWQw0",
    "outputId": "19716a4f-1742-441e-cfc1-9982dba3bb8b"
   },
   "outputs": [],
   "source": [
    "# General\n",
    "import numpy as np\n",
    "import time\n",
    "# Loading data\n",
    "import pandas as pd\n",
    "from io import StringIO, BytesIO\n",
    "from zipfile import ZipFile\n",
    "import urllib.request\n",
    "import os\n",
    "\n",
    "#import pytorch\n",
    "import torch\n",
    "import torch.nn as nn\n",
    "import torch.nn.functional as F\n",
    "import torch.optim as optim\n",
    "\n",
    "torch.manual_seed(1)\n",
    "\n",
    "#Evaluation\n",
    "from sklearn.metrics import mean_squared_error\n",
    "from math import sqrt"
   ]
  },
  {
   "cell_type": "markdown",
   "metadata": {
    "colab_type": "text",
    "id": "TokBlnUhWFw9"
   },
   "source": [
    "## Load dataset"
   ]
  },
  {
   "cell_type": "code",
   "execution_count": 2,
   "metadata": {
    "ExecuteTime": {
     "end_time": "2020-08-21T20:16:15.100385Z",
     "start_time": "2020-08-21T20:16:12.941842Z"
    },
    "colab": {
     "base_uri": "https://localhost:8080/",
     "height": 69
    },
    "colab_type": "code",
    "id": "R6vKGxODhB-M",
    "outputId": "2215e01f-5f1d-4ef0-a0de-6dd2109dc59e"
   },
   "outputs": [],
   "source": [
    "def url2pd(link):\n",
    "    with ZipFile(link) as my_zip_file:\n",
    "        for contained_file in my_zip_file.namelist():\n",
    "            fzip=my_zip_file.open(contained_file)\n",
    "            data=fzip.read()\n",
    "    s=str(data,'utf-8')\n",
    "    data = StringIO(s) \n",
    "    print('Done loading a dataset!')\n",
    "    return pd.read_csv(data)"
   ]
  },
  {
   "cell_type": "code",
   "execution_count": 3,
   "metadata": {},
   "outputs": [
    {
     "name": "stdout",
     "output_type": "stream",
     "text": [
      "Done loading a dataset!\n",
      "<class 'pandas.core.frame.DataFrame'>\n",
      "RangeIndex: 1048575 entries, 0 to 1048574\n",
      "Data columns (total 18 columns):\n",
      " #   Column        Non-Null Count    Dtype  \n",
      "---  ------        --------------    -----  \n",
      " 0   Vehicle_ID    1048575 non-null  int64  \n",
      " 1   Frame_ID      1048575 non-null  int64  \n",
      " 2   Total_Frames  1048575 non-null  int64  \n",
      " 3   Global_Time   1048575 non-null  int64  \n",
      " 4   Local_X       1048575 non-null  float64\n",
      " 5   Local_Y       1048575 non-null  float64\n",
      " 6   Global_X      1048575 non-null  float64\n",
      " 7   Global_Y      1048575 non-null  float64\n",
      " 8   v_Length      1048575 non-null  float64\n",
      " 9   v_Width       1048575 non-null  float64\n",
      " 10  v_Class       1048575 non-null  int64  \n",
      " 11  v_Vel         1048575 non-null  float64\n",
      " 12  v_Acc         1048575 non-null  float64\n",
      " 13  Lane_ID       1048575 non-null  int64  \n",
      " 14  Preceeding    1048575 non-null  int64  \n",
      " 15  Following     1048575 non-null  int64  \n",
      " 16  Space_Hdwy    1048575 non-null  float64\n",
      " 17  Time_Hdwy     1048575 non-null  float64\n",
      "dtypes: float64(10), int64(8)\n",
      "memory usage: 144.0 MB\n"
     ]
    },
    {
     "data": {
      "text/html": [
       "<div>\n",
       "<style scoped>\n",
       "    .dataframe tbody tr th:only-of-type {\n",
       "        vertical-align: middle;\n",
       "    }\n",
       "\n",
       "    .dataframe tbody tr th {\n",
       "        vertical-align: top;\n",
       "    }\n",
       "\n",
       "    .dataframe thead th {\n",
       "        text-align: right;\n",
       "    }\n",
       "</style>\n",
       "<table border=\"1\" class=\"dataframe\">\n",
       "  <thead>\n",
       "    <tr style=\"text-align: right;\">\n",
       "      <th></th>\n",
       "      <th>Vehicle_ID</th>\n",
       "      <th>Frame_ID</th>\n",
       "      <th>Total_Frames</th>\n",
       "      <th>Global_Time</th>\n",
       "      <th>Local_X</th>\n",
       "      <th>Local_Y</th>\n",
       "      <th>Global_X</th>\n",
       "      <th>Global_Y</th>\n",
       "      <th>v_Length</th>\n",
       "      <th>v_Width</th>\n",
       "      <th>v_Class</th>\n",
       "      <th>v_Vel</th>\n",
       "      <th>v_Acc</th>\n",
       "      <th>Lane_ID</th>\n",
       "      <th>Preceeding</th>\n",
       "      <th>Following</th>\n",
       "      <th>Space_Hdwy</th>\n",
       "      <th>Time_Hdwy</th>\n",
       "    </tr>\n",
       "  </thead>\n",
       "  <tbody>\n",
       "    <tr>\n",
       "      <th>0</th>\n",
       "      <td>2</td>\n",
       "      <td>13</td>\n",
       "      <td>437</td>\n",
       "      <td>1118846980200</td>\n",
       "      <td>16.467196</td>\n",
       "      <td>35.380427</td>\n",
       "      <td>6451137.641</td>\n",
       "      <td>1873344.962</td>\n",
       "      <td>14.5</td>\n",
       "      <td>4.9</td>\n",
       "      <td>2</td>\n",
       "      <td>40.000000</td>\n",
       "      <td>0.000000</td>\n",
       "      <td>2</td>\n",
       "      <td>0</td>\n",
       "      <td>0</td>\n",
       "      <td>0.0</td>\n",
       "      <td>0.0</td>\n",
       "    </tr>\n",
       "    <tr>\n",
       "      <th>1</th>\n",
       "      <td>2</td>\n",
       "      <td>14</td>\n",
       "      <td>437</td>\n",
       "      <td>1118846980300</td>\n",
       "      <td>16.446594</td>\n",
       "      <td>39.381608</td>\n",
       "      <td>6451140.329</td>\n",
       "      <td>1873342.000</td>\n",
       "      <td>14.5</td>\n",
       "      <td>4.9</td>\n",
       "      <td>2</td>\n",
       "      <td>40.012349</td>\n",
       "      <td>0.123485</td>\n",
       "      <td>2</td>\n",
       "      <td>0</td>\n",
       "      <td>0</td>\n",
       "      <td>0.0</td>\n",
       "      <td>0.0</td>\n",
       "    </tr>\n",
       "    <tr>\n",
       "      <th>2</th>\n",
       "      <td>2</td>\n",
       "      <td>15</td>\n",
       "      <td>437</td>\n",
       "      <td>1118846980400</td>\n",
       "      <td>16.425991</td>\n",
       "      <td>43.381541</td>\n",
       "      <td>6451143.018</td>\n",
       "      <td>1873339.038</td>\n",
       "      <td>14.5</td>\n",
       "      <td>4.9</td>\n",
       "      <td>2</td>\n",
       "      <td>39.999855</td>\n",
       "      <td>-0.124939</td>\n",
       "      <td>2</td>\n",
       "      <td>0</td>\n",
       "      <td>0</td>\n",
       "      <td>0.0</td>\n",
       "      <td>0.0</td>\n",
       "    </tr>\n",
       "  </tbody>\n",
       "</table>\n",
       "</div>"
      ],
      "text/plain": [
       "   Vehicle_ID  Frame_ID  Total_Frames    Global_Time    Local_X    Local_Y  \\\n",
       "0           2        13           437  1118846980200  16.467196  35.380427   \n",
       "1           2        14           437  1118846980300  16.446594  39.381608   \n",
       "2           2        15           437  1118846980400  16.425991  43.381541   \n",
       "\n",
       "      Global_X     Global_Y  v_Length  v_Width  v_Class      v_Vel     v_Acc  \\\n",
       "0  6451137.641  1873344.962      14.5      4.9        2  40.000000  0.000000   \n",
       "1  6451140.329  1873342.000      14.5      4.9        2  40.012349  0.123485   \n",
       "2  6451143.018  1873339.038      14.5      4.9        2  39.999855 -0.124939   \n",
       "\n",
       "   Lane_ID  Preceeding  Following  Space_Hdwy  Time_Hdwy  \n",
       "0        2           0          0         0.0        0.0  \n",
       "1        2           0          0         0.0        0.0  \n",
       "2        2           0          0         0.0        0.0  "
      ]
     },
     "execution_count": 3,
     "metadata": {},
     "output_type": "execute_result"
    }
   ],
   "source": [
    "filenames = os.listdir('./Data')\n",
    "url_1 = './Data/' + filenames[0]\n",
    "df = url2pd(url_1)\n",
    "df.info()\n",
    "df.head(3)"
   ]
  },
  {
   "cell_type": "markdown",
   "metadata": {
    "colab_type": "text",
    "id": "VdbOWXiTWM2T"
   },
   "source": [
    "Let's take a glance at the data. Here are the first few rows:"
   ]
  },
  {
   "cell_type": "markdown",
   "metadata": {
    "colab_type": "text",
    "id": "yhmZXJew6GlS"
   },
   "source": [
    "Next look at the statistics of the dataset:"
   ]
  },
  {
   "cell_type": "code",
   "execution_count": 4,
   "metadata": {
    "ExecuteTime": {
     "end_time": "2020-08-21T20:16:20.523382Z",
     "start_time": "2020-08-21T20:16:19.013384Z"
    },
    "colab": {
     "base_uri": "https://localhost:8080/",
     "height": 607
    },
    "colab_type": "code",
    "id": "h510pgKVrrai",
    "outputId": "8c1710ff-3a6b-41c8-bc66-00b8b2866c88"
   },
   "outputs": [
    {
     "data": {
      "text/html": [
       "<div>\n",
       "<style scoped>\n",
       "    .dataframe tbody tr th:only-of-type {\n",
       "        vertical-align: middle;\n",
       "    }\n",
       "\n",
       "    .dataframe tbody tr th {\n",
       "        vertical-align: top;\n",
       "    }\n",
       "\n",
       "    .dataframe thead th {\n",
       "        text-align: right;\n",
       "    }\n",
       "</style>\n",
       "<table border=\"1\" class=\"dataframe\">\n",
       "  <thead>\n",
       "    <tr style=\"text-align: right;\">\n",
       "      <th></th>\n",
       "      <th>count</th>\n",
       "      <th>mean</th>\n",
       "      <th>std</th>\n",
       "      <th>min</th>\n",
       "      <th>25%</th>\n",
       "      <th>50%</th>\n",
       "      <th>75%</th>\n",
       "      <th>max</th>\n",
       "    </tr>\n",
       "  </thead>\n",
       "  <tbody>\n",
       "    <tr>\n",
       "      <th>Vehicle_ID</th>\n",
       "      <td>1048575.0</td>\n",
       "      <td>1.533080e+03</td>\n",
       "      <td>790.271</td>\n",
       "      <td>2.000000e+00</td>\n",
       "      <td>9.320000e+02</td>\n",
       "      <td>1.574000e+03</td>\n",
       "      <td>2.210000e+03</td>\n",
       "      <td>2.783000e+03</td>\n",
       "    </tr>\n",
       "    <tr>\n",
       "      <th>Frame_ID</th>\n",
       "      <td>1048575.0</td>\n",
       "      <td>4.518249e+03</td>\n",
       "      <td>2412.479</td>\n",
       "      <td>8.000000e+00</td>\n",
       "      <td>2.455000e+03</td>\n",
       "      <td>4.586000e+03</td>\n",
       "      <td>6.598000e+03</td>\n",
       "      <td>8.906000e+03</td>\n",
       "    </tr>\n",
       "    <tr>\n",
       "      <th>Total_Frames</th>\n",
       "      <td>1048575.0</td>\n",
       "      <td>5.608770e+02</td>\n",
       "      <td>146.577</td>\n",
       "      <td>1.770000e+02</td>\n",
       "      <td>4.640000e+02</td>\n",
       "      <td>5.180000e+02</td>\n",
       "      <td>6.400000e+02</td>\n",
       "      <td>1.010000e+03</td>\n",
       "    </tr>\n",
       "    <tr>\n",
       "      <th>Global_Time</th>\n",
       "      <td>1048575.0</td>\n",
       "      <td>1.118847e+12</td>\n",
       "      <td>241247.914</td>\n",
       "      <td>1.118847e+12</td>\n",
       "      <td>1.118847e+12</td>\n",
       "      <td>1.118847e+12</td>\n",
       "      <td>1.118848e+12</td>\n",
       "      <td>1.118848e+12</td>\n",
       "    </tr>\n",
       "    <tr>\n",
       "      <th>Local_X</th>\n",
       "      <td>1048575.0</td>\n",
       "      <td>2.940600e+01</td>\n",
       "      <td>16.666</td>\n",
       "      <td>5.340000e-01</td>\n",
       "      <td>1.728400e+01</td>\n",
       "      <td>2.955700e+01</td>\n",
       "      <td>4.187500e+01</td>\n",
       "      <td>7.347800e+01</td>\n",
       "    </tr>\n",
       "    <tr>\n",
       "      <th>Local_Y</th>\n",
       "      <td>1048575.0</td>\n",
       "      <td>1.002056e+03</td>\n",
       "      <td>596.357</td>\n",
       "      <td>1.796600e+01</td>\n",
       "      <td>4.883960e+02</td>\n",
       "      <td>9.640280e+02</td>\n",
       "      <td>1.491548e+03</td>\n",
       "      <td>2.195470e+03</td>\n",
       "    </tr>\n",
       "    <tr>\n",
       "      <th>Global_X</th>\n",
       "      <td>1048575.0</td>\n",
       "      <td>6.451838e+06</td>\n",
       "      <td>446.275</td>\n",
       "      <td>6.451107e+06</td>\n",
       "      <td>6.451450e+06</td>\n",
       "      <td>6.451808e+06</td>\n",
       "      <td>6.452205e+06</td>\n",
       "      <td>6.452734e+06</td>\n",
       "    </tr>\n",
       "    <tr>\n",
       "      <th>Global_Y</th>\n",
       "      <td>1048575.0</td>\n",
       "      <td>1.872677e+06</td>\n",
       "      <td>397.006</td>\n",
       "      <td>1.871875e+06</td>\n",
       "      <td>1.872352e+06</td>\n",
       "      <td>1.872699e+06</td>\n",
       "      <td>1.873015e+06</td>\n",
       "      <td>1.873365e+06</td>\n",
       "    </tr>\n",
       "    <tr>\n",
       "      <th>v_Length</th>\n",
       "      <td>1048575.0</td>\n",
       "      <td>1.463500e+01</td>\n",
       "      <td>4.870</td>\n",
       "      <td>4.000000e+00</td>\n",
       "      <td>1.200000e+01</td>\n",
       "      <td>1.450000e+01</td>\n",
       "      <td>1.650000e+01</td>\n",
       "      <td>7.610000e+01</td>\n",
       "    </tr>\n",
       "    <tr>\n",
       "      <th>v_Width</th>\n",
       "      <td>1048575.0</td>\n",
       "      <td>6.132000e+00</td>\n",
       "      <td>1.037</td>\n",
       "      <td>2.000000e+00</td>\n",
       "      <td>5.400000e+00</td>\n",
       "      <td>6.000000e+00</td>\n",
       "      <td>6.900000e+00</td>\n",
       "      <td>8.500000e+00</td>\n",
       "    </tr>\n",
       "    <tr>\n",
       "      <th>v_Class</th>\n",
       "      <td>1048575.0</td>\n",
       "      <td>2.009000e+00</td>\n",
       "      <td>0.191</td>\n",
       "      <td>1.000000e+00</td>\n",
       "      <td>2.000000e+00</td>\n",
       "      <td>2.000000e+00</td>\n",
       "      <td>2.000000e+00</td>\n",
       "      <td>3.000000e+00</td>\n",
       "    </tr>\n",
       "    <tr>\n",
       "      <th>v_Vel</th>\n",
       "      <td>1048575.0</td>\n",
       "      <td>3.877400e+01</td>\n",
       "      <td>14.110</td>\n",
       "      <td>0.000000e+00</td>\n",
       "      <td>3.031700e+01</td>\n",
       "      <td>3.989800e+01</td>\n",
       "      <td>4.820200e+01</td>\n",
       "      <td>1.490520e+02</td>\n",
       "    </tr>\n",
       "    <tr>\n",
       "      <th>v_Acc</th>\n",
       "      <td>1048575.0</td>\n",
       "      <td>3.610000e-01</td>\n",
       "      <td>5.852</td>\n",
       "      <td>-3.193080e+02</td>\n",
       "      <td>-1.752000e+00</td>\n",
       "      <td>1.700000e-02</td>\n",
       "      <td>2.754000e+00</td>\n",
       "      <td>2.430030e+02</td>\n",
       "    </tr>\n",
       "    <tr>\n",
       "      <th>Lane_ID</th>\n",
       "      <td>1048575.0</td>\n",
       "      <td>2.956000e+00</td>\n",
       "      <td>1.469</td>\n",
       "      <td>1.000000e+00</td>\n",
       "      <td>2.000000e+00</td>\n",
       "      <td>3.000000e+00</td>\n",
       "      <td>4.000000e+00</td>\n",
       "      <td>8.000000e+00</td>\n",
       "    </tr>\n",
       "    <tr>\n",
       "      <th>Preceeding</th>\n",
       "      <td>1048575.0</td>\n",
       "      <td>1.459864e+03</td>\n",
       "      <td>844.319</td>\n",
       "      <td>0.000000e+00</td>\n",
       "      <td>7.880000e+02</td>\n",
       "      <td>1.519000e+03</td>\n",
       "      <td>2.186000e+03</td>\n",
       "      <td>3.109000e+03</td>\n",
       "    </tr>\n",
       "    <tr>\n",
       "      <th>Following</th>\n",
       "      <td>1048575.0</td>\n",
       "      <td>1.477269e+03</td>\n",
       "      <td>843.679</td>\n",
       "      <td>0.000000e+00</td>\n",
       "      <td>8.120000e+02</td>\n",
       "      <td>1.533000e+03</td>\n",
       "      <td>2.202000e+03</td>\n",
       "      <td>3.109000e+03</td>\n",
       "    </tr>\n",
       "    <tr>\n",
       "      <th>Space_Hdwy</th>\n",
       "      <td>1048575.0</td>\n",
       "      <td>7.815800e+01</td>\n",
       "      <td>48.615</td>\n",
       "      <td>0.000000e+00</td>\n",
       "      <td>4.984000e+01</td>\n",
       "      <td>6.911000e+01</td>\n",
       "      <td>9.725000e+01</td>\n",
       "      <td>7.777300e+02</td>\n",
       "    </tr>\n",
       "    <tr>\n",
       "      <th>Time_Hdwy</th>\n",
       "      <td>1048575.0</td>\n",
       "      <td>1.090800e+02</td>\n",
       "      <td>1027.551</td>\n",
       "      <td>0.000000e+00</td>\n",
       "      <td>1.460000e+00</td>\n",
       "      <td>1.970000e+00</td>\n",
       "      <td>2.730000e+00</td>\n",
       "      <td>9.999990e+03</td>\n",
       "    </tr>\n",
       "  </tbody>\n",
       "</table>\n",
       "</div>"
      ],
      "text/plain": [
       "                  count          mean         std           min           25%  \\\n",
       "Vehicle_ID    1048575.0  1.533080e+03     790.271  2.000000e+00  9.320000e+02   \n",
       "Frame_ID      1048575.0  4.518249e+03    2412.479  8.000000e+00  2.455000e+03   \n",
       "Total_Frames  1048575.0  5.608770e+02     146.577  1.770000e+02  4.640000e+02   \n",
       "Global_Time   1048575.0  1.118847e+12  241247.914  1.118847e+12  1.118847e+12   \n",
       "Local_X       1048575.0  2.940600e+01      16.666  5.340000e-01  1.728400e+01   \n",
       "Local_Y       1048575.0  1.002056e+03     596.357  1.796600e+01  4.883960e+02   \n",
       "Global_X      1048575.0  6.451838e+06     446.275  6.451107e+06  6.451450e+06   \n",
       "Global_Y      1048575.0  1.872677e+06     397.006  1.871875e+06  1.872352e+06   \n",
       "v_Length      1048575.0  1.463500e+01       4.870  4.000000e+00  1.200000e+01   \n",
       "v_Width       1048575.0  6.132000e+00       1.037  2.000000e+00  5.400000e+00   \n",
       "v_Class       1048575.0  2.009000e+00       0.191  1.000000e+00  2.000000e+00   \n",
       "v_Vel         1048575.0  3.877400e+01      14.110  0.000000e+00  3.031700e+01   \n",
       "v_Acc         1048575.0  3.610000e-01       5.852 -3.193080e+02 -1.752000e+00   \n",
       "Lane_ID       1048575.0  2.956000e+00       1.469  1.000000e+00  2.000000e+00   \n",
       "Preceeding    1048575.0  1.459864e+03     844.319  0.000000e+00  7.880000e+02   \n",
       "Following     1048575.0  1.477269e+03     843.679  0.000000e+00  8.120000e+02   \n",
       "Space_Hdwy    1048575.0  7.815800e+01      48.615  0.000000e+00  4.984000e+01   \n",
       "Time_Hdwy     1048575.0  1.090800e+02    1027.551  0.000000e+00  1.460000e+00   \n",
       "\n",
       "                       50%           75%           max  \n",
       "Vehicle_ID    1.574000e+03  2.210000e+03  2.783000e+03  \n",
       "Frame_ID      4.586000e+03  6.598000e+03  8.906000e+03  \n",
       "Total_Frames  5.180000e+02  6.400000e+02  1.010000e+03  \n",
       "Global_Time   1.118847e+12  1.118848e+12  1.118848e+12  \n",
       "Local_X       2.955700e+01  4.187500e+01  7.347800e+01  \n",
       "Local_Y       9.640280e+02  1.491548e+03  2.195470e+03  \n",
       "Global_X      6.451808e+06  6.452205e+06  6.452734e+06  \n",
       "Global_Y      1.872699e+06  1.873015e+06  1.873365e+06  \n",
       "v_Length      1.450000e+01  1.650000e+01  7.610000e+01  \n",
       "v_Width       6.000000e+00  6.900000e+00  8.500000e+00  \n",
       "v_Class       2.000000e+00  2.000000e+00  3.000000e+00  \n",
       "v_Vel         3.989800e+01  4.820200e+01  1.490520e+02  \n",
       "v_Acc         1.700000e-02  2.754000e+00  2.430030e+02  \n",
       "Lane_ID       3.000000e+00  4.000000e+00  8.000000e+00  \n",
       "Preceeding    1.519000e+03  2.186000e+03  3.109000e+03  \n",
       "Following     1.533000e+03  2.202000e+03  3.109000e+03  \n",
       "Space_Hdwy    6.911000e+01  9.725000e+01  7.777300e+02  \n",
       "Time_Hdwy     1.970000e+00  2.730000e+00  9.999990e+03  "
      ]
     },
     "execution_count": 4,
     "metadata": {},
     "output_type": "execute_result"
    }
   ],
   "source": [
    "df.describe().transpose().round(3)"
   ]
  },
  {
   "cell_type": "code",
   "execution_count": 5,
   "metadata": {
    "ExecuteTime": {
     "end_time": "2020-08-21T20:16:20.617383Z",
     "start_time": "2020-08-21T20:16:20.548384Z"
    },
    "colab": {
     "base_uri": "https://localhost:8080/",
     "height": 204
    },
    "colab_type": "code",
    "id": "ffjH69ZiI4uF",
    "outputId": "11166b87-f582-407d-e802-c9bdd6cd7b3d"
   },
   "outputs": [
    {
     "name": "stdout",
     "output_type": "stream",
     "text": [
      "(1048575, 18)\n",
      "After filtering: (524288, 18)\n"
     ]
    },
    {
     "data": {
      "text/html": [
       "<div>\n",
       "<style scoped>\n",
       "    .dataframe tbody tr th:only-of-type {\n",
       "        vertical-align: middle;\n",
       "    }\n",
       "\n",
       "    .dataframe tbody tr th {\n",
       "        vertical-align: top;\n",
       "    }\n",
       "\n",
       "    .dataframe thead th {\n",
       "        text-align: right;\n",
       "    }\n",
       "</style>\n",
       "<table border=\"1\" class=\"dataframe\">\n",
       "  <thead>\n",
       "    <tr style=\"text-align: right;\">\n",
       "      <th></th>\n",
       "      <th>Vehicle_ID</th>\n",
       "      <th>Frame_ID</th>\n",
       "      <th>Total_Frames</th>\n",
       "      <th>Local_X</th>\n",
       "      <th>Local_Y</th>\n",
       "      <th>v_Length</th>\n",
       "      <th>v_Width</th>\n",
       "      <th>v_Class</th>\n",
       "      <th>v_Vel</th>\n",
       "      <th>v_Acc</th>\n",
       "      <th>Lane_ID</th>\n",
       "    </tr>\n",
       "  </thead>\n",
       "  <tbody>\n",
       "    <tr>\n",
       "      <th>0</th>\n",
       "      <td>2</td>\n",
       "      <td>13</td>\n",
       "      <td>437</td>\n",
       "      <td>16.467196</td>\n",
       "      <td>35.380427</td>\n",
       "      <td>14.5</td>\n",
       "      <td>4.9</td>\n",
       "      <td>2</td>\n",
       "      <td>40.000000</td>\n",
       "      <td>0.000000</td>\n",
       "      <td>2</td>\n",
       "    </tr>\n",
       "    <tr>\n",
       "      <th>2</th>\n",
       "      <td>2</td>\n",
       "      <td>15</td>\n",
       "      <td>437</td>\n",
       "      <td>16.425991</td>\n",
       "      <td>43.381541</td>\n",
       "      <td>14.5</td>\n",
       "      <td>4.9</td>\n",
       "      <td>2</td>\n",
       "      <td>39.999855</td>\n",
       "      <td>-0.124939</td>\n",
       "      <td>2</td>\n",
       "    </tr>\n",
       "    <tr>\n",
       "      <th>4</th>\n",
       "      <td>2</td>\n",
       "      <td>17</td>\n",
       "      <td>437</td>\n",
       "      <td>16.384804</td>\n",
       "      <td>51.379881</td>\n",
       "      <td>14.5</td>\n",
       "      <td>4.9</td>\n",
       "      <td>2</td>\n",
       "      <td>39.991544</td>\n",
       "      <td>-0.013759</td>\n",
       "      <td>2</td>\n",
       "    </tr>\n",
       "  </tbody>\n",
       "</table>\n",
       "</div>"
      ],
      "text/plain": [
       "   Vehicle_ID  Frame_ID  Total_Frames    Local_X    Local_Y  v_Length  \\\n",
       "0           2        13           437  16.467196  35.380427      14.5   \n",
       "2           2        15           437  16.425991  43.381541      14.5   \n",
       "4           2        17           437  16.384804  51.379881      14.5   \n",
       "\n",
       "   v_Width  v_Class      v_Vel     v_Acc  Lane_ID  \n",
       "0      4.9        2  40.000000  0.000000        2  \n",
       "2      4.9        2  39.999855 -0.124939        2  \n",
       "4      4.9        2  39.991544 -0.013759        2  "
      ]
     },
     "execution_count": 5,
     "metadata": {},
     "output_type": "execute_result"
    }
   ],
   "source": [
    "# Filter time step\n",
    "print(df.shape)\n",
    "df = df.iloc[::2,:].copy()\n",
    "print('After filtering:', df.shape)\n",
    "#  keep only columns that are useful for now\n",
    "kept_cols = ['Vehicle_ID', 'Frame_ID', 'Total_Frames', 'Local_X','Local_Y','v_Length', 'v_Width', 'v_Class',\n",
    "       'v_Vel', 'v_Acc', 'Lane_ID']\n",
    "df = df[kept_cols]\n",
    "df.head(3)"
   ]
  },
  {
   "cell_type": "code",
   "execution_count": 6,
   "metadata": {
    "ExecuteTime": {
     "end_time": "2020-08-21T20:16:20.665384Z",
     "start_time": "2020-08-21T20:16:20.621385Z"
    },
    "colab": {
     "base_uri": "https://localhost:8080/",
     "height": 35
    },
    "colab_type": "code",
    "id": "dGL1rr_aI4uK",
    "outputId": "43f68d39-d3e3-4f04-a9fc-6874d3c7ea02"
   },
   "outputs": [
    {
     "data": {
      "text/plain": [
       "'the number of vehicles is 1993'"
      ]
     },
     "execution_count": 6,
     "metadata": {},
     "output_type": "execute_result"
    }
   ],
   "source": [
    "'the number of vehicles is {}'.format(len(df.Vehicle_ID.unique()))"
   ]
  },
  {
   "cell_type": "code",
   "execution_count": 7,
   "metadata": {},
   "outputs": [],
   "source": [
    "df.reset_index(drop=True, inplace=True)"
   ]
  },
  {
   "cell_type": "markdown",
   "metadata": {
    "colab_type": "text",
    "id": "eiM1eB7KI4uV"
   },
   "source": [
    "# Model 1\n",
    "\n",
    "|Model name|Description| # Car|# vars|# targets|# const_vars| # steps | # futures\n",
    "|---|:--|:-:|:-:|:-:|:-:|:-:|:-:|\n",
    "Model 1|Baseline model with multi input time steps|1|1|1|0|**4**|1| "
   ]
  },
  {
   "cell_type": "markdown",
   "metadata": {
    "colab_type": "text",
    "id": "8P5M-rRuowNR"
   },
   "source": [
    "## Data preparation"
   ]
  },
  {
   "cell_type": "code",
   "execution_count": 8,
   "metadata": {
    "colab": {
     "base_uri": "https://localhost:8080/",
     "height": 52
    },
    "colab_type": "code",
    "id": "tJ2qzeOtovsR",
    "outputId": "f6611e26-556e-4fd6-ee0b-a02fd4a83951"
   },
   "outputs": [
    {
     "name": "stdout",
     "output_type": "stream",
     "text": [
      "1010\n"
     ]
    },
    {
     "data": {
      "text/plain": [
       "'ID of the car that have longest data is 2582 '"
      ]
     },
     "execution_count": 8,
     "metadata": {},
     "output_type": "execute_result"
    }
   ],
   "source": [
    "# Let pick the vehicle that had longest historical data\n",
    "max_frames = df.Total_Frames.max()\n",
    "print(max_frames)\n",
    "car_id = df[df.Total_Frames==max_frames].Vehicle_ID.unique()\n",
    "\"ID of the car that have longest data is {} \".format(car_id[0])"
   ]
  },
  {
   "cell_type": "code",
   "execution_count": 9,
   "metadata": {
    "colab": {
     "base_uri": "https://localhost:8080/",
     "height": 204
    },
    "colab_type": "code",
    "id": "c7pV6F3vVDjZ",
    "outputId": "c6c18cb5-6cde-4cf8-cf3a-74695dd87fa4"
   },
   "outputs": [
    {
     "data": {
      "text/html": [
       "<div>\n",
       "<style scoped>\n",
       "    .dataframe tbody tr th:only-of-type {\n",
       "        vertical-align: middle;\n",
       "    }\n",
       "\n",
       "    .dataframe tbody tr th {\n",
       "        vertical-align: top;\n",
       "    }\n",
       "\n",
       "    .dataframe thead th {\n",
       "        text-align: right;\n",
       "    }\n",
       "</style>\n",
       "<table border=\"1\" class=\"dataframe\">\n",
       "  <thead>\n",
       "    <tr style=\"text-align: right;\">\n",
       "      <th></th>\n",
       "      <th>Vehicle_ID</th>\n",
       "      <th>Frame_ID</th>\n",
       "      <th>Total_Frames</th>\n",
       "      <th>Local_X</th>\n",
       "      <th>Local_Y</th>\n",
       "      <th>v_Length</th>\n",
       "      <th>v_Width</th>\n",
       "      <th>v_Class</th>\n",
       "      <th>v_Vel</th>\n",
       "      <th>v_Acc</th>\n",
       "      <th>Lane_ID</th>\n",
       "    </tr>\n",
       "  </thead>\n",
       "  <tbody>\n",
       "    <tr>\n",
       "      <th>466051</th>\n",
       "      <td>2582</td>\n",
       "      <td>7263</td>\n",
       "      <td>1010</td>\n",
       "      <td>4.725434</td>\n",
       "      <td>36.935259</td>\n",
       "      <td>18.5</td>\n",
       "      <td>6.9</td>\n",
       "      <td>2</td>\n",
       "      <td>45.030000</td>\n",
       "      <td>0.000000</td>\n",
       "      <td>1</td>\n",
       "    </tr>\n",
       "    <tr>\n",
       "      <th>466052</th>\n",
       "      <td>2582</td>\n",
       "      <td>7265</td>\n",
       "      <td>1010</td>\n",
       "      <td>4.668727</td>\n",
       "      <td>45.875960</td>\n",
       "      <td>18.5</td>\n",
       "      <td>6.9</td>\n",
       "      <td>2</td>\n",
       "      <td>44.918464</td>\n",
       "      <td>4.280980</td>\n",
       "      <td>1</td>\n",
       "    </tr>\n",
       "    <tr>\n",
       "      <th>466053</th>\n",
       "      <td>2582</td>\n",
       "      <td>7267</td>\n",
       "      <td>1010</td>\n",
       "      <td>4.627103</td>\n",
       "      <td>54.924527</td>\n",
       "      <td>18.5</td>\n",
       "      <td>6.9</td>\n",
       "      <td>2</td>\n",
       "      <td>45.298705</td>\n",
       "      <td>1.107846</td>\n",
       "      <td>1</td>\n",
       "    </tr>\n",
       "    <tr>\n",
       "      <th>466054</th>\n",
       "      <td>2582</td>\n",
       "      <td>7269</td>\n",
       "      <td>1010</td>\n",
       "      <td>4.591890</td>\n",
       "      <td>63.945685</td>\n",
       "      <td>18.5</td>\n",
       "      <td>6.9</td>\n",
       "      <td>2</td>\n",
       "      <td>44.961476</td>\n",
       "      <td>-2.893200</td>\n",
       "      <td>1</td>\n",
       "    </tr>\n",
       "    <tr>\n",
       "      <th>466055</th>\n",
       "      <td>2582</td>\n",
       "      <td>7271</td>\n",
       "      <td>1010</td>\n",
       "      <td>4.543895</td>\n",
       "      <td>72.797674</td>\n",
       "      <td>18.5</td>\n",
       "      <td>6.9</td>\n",
       "      <td>2</td>\n",
       "      <td>44.002607</td>\n",
       "      <td>-5.160000</td>\n",
       "      <td>1</td>\n",
       "    </tr>\n",
       "  </tbody>\n",
       "</table>\n",
       "</div>"
      ],
      "text/plain": [
       "        Vehicle_ID  Frame_ID  Total_Frames   Local_X    Local_Y  v_Length  \\\n",
       "466051        2582      7263          1010  4.725434  36.935259      18.5   \n",
       "466052        2582      7265          1010  4.668727  45.875960      18.5   \n",
       "466053        2582      7267          1010  4.627103  54.924527      18.5   \n",
       "466054        2582      7269          1010  4.591890  63.945685      18.5   \n",
       "466055        2582      7271          1010  4.543895  72.797674      18.5   \n",
       "\n",
       "        v_Width  v_Class      v_Vel     v_Acc  Lane_ID  \n",
       "466051      6.9        2  45.030000  0.000000        1  \n",
       "466052      6.9        2  44.918464  4.280980        1  \n",
       "466053      6.9        2  45.298705  1.107846        1  \n",
       "466054      6.9        2  44.961476 -2.893200        1  \n",
       "466055      6.9        2  44.002607 -5.160000        1  "
      ]
     },
     "execution_count": 9,
     "metadata": {},
     "output_type": "execute_result"
    }
   ],
   "source": [
    "simple_df = df[df.Vehicle_ID==car_id[0]].copy()\n",
    "simple_df.head()"
   ]
  },
  {
   "cell_type": "code",
   "execution_count": 10,
   "metadata": {},
   "outputs": [
    {
     "data": {
      "text/plain": [
       "(505, 11)"
      ]
     },
     "execution_count": 10,
     "metadata": {},
     "output_type": "execute_result"
    }
   ],
   "source": [
    "simple_df.shape"
   ]
  },
  {
   "cell_type": "code",
   "execution_count": 11,
   "metadata": {},
   "outputs": [
    {
     "name": "stdout",
     "output_type": "stream",
     "text": [
      "test size is 101\n",
      "404\n",
      "101\n"
     ]
    }
   ],
   "source": [
    "test_data_size = int(simple_df.shape[0]*0.2)\n",
    "print('test size is',test_data_size)\n",
    "train_data = simple_df.Local_X[:-test_data_size]\n",
    "test_data = simple_df.Local_X[-test_data_size:]\n",
    "print(len(train_data))\n",
    "print(len(test_data))"
   ]
  },
  {
   "cell_type": "code",
   "execution_count": 12,
   "metadata": {},
   "outputs": [],
   "source": [
    "from sklearn.preprocessing import MinMaxScaler\n",
    "\n",
    "scaler = MinMaxScaler(feature_range=(-1, 1))\n",
    "train_data_normalized = scaler.fit_transform(train_data.values.reshape(-1, 1))"
   ]
  },
  {
   "cell_type": "code",
   "execution_count": 13,
   "metadata": {},
   "outputs": [],
   "source": [
    "train_data_normalized = torch.FloatTensor(train_data_normalized).view(-1)"
   ]
  },
  {
   "cell_type": "code",
   "execution_count": 14,
   "metadata": {},
   "outputs": [],
   "source": [
    "test_data_normalized = scaler.fit_transform(test_data.values.reshape(-1, 1))\n",
    "test_data_normalized = torch.FloatTensor(test_data_normalized).view(-1)"
   ]
  },
  {
   "cell_type": "code",
   "execution_count": 15,
   "metadata": {},
   "outputs": [],
   "source": [
    "def create_inout_sequences(input_data, tw):\n",
    "    inout_seq = []\n",
    "    L = len(input_data)\n",
    "    for i in range(L-tw):\n",
    "        train_seq = input_data[i:i+tw]\n",
    "        train_label = input_data[i+tw:i+tw+1]\n",
    "        inout_seq.append((train_seq ,train_label))\n",
    "    return inout_seq"
   ]
  },
  {
   "cell_type": "code",
   "execution_count": 16,
   "metadata": {},
   "outputs": [],
   "source": [
    "train_window = 12\n",
    "train_inout_seq = create_inout_sequences(train_data_normalized, train_window)"
   ]
  },
  {
   "cell_type": "code",
   "execution_count": 17,
   "metadata": {},
   "outputs": [],
   "source": [
    "test_inout_seq = create_inout_sequences(test_data_normalized, train_window)"
   ]
  },
  {
   "cell_type": "code",
   "execution_count": 18,
   "metadata": {},
   "outputs": [
    {
     "data": {
      "text/plain": [
       "[(tensor([-0.9709, -0.9777, -0.9827, -0.9870, -0.9927, -0.9983, -1.0000, -0.9956,\n",
       "          -0.9848, -0.9736, -0.9617, -0.9500]),\n",
       "  tensor([-0.9383])),\n",
       " (tensor([-0.9777, -0.9827, -0.9870, -0.9927, -0.9983, -1.0000, -0.9956, -0.9848,\n",
       "          -0.9736, -0.9617, -0.9500, -0.9383]),\n",
       "  tensor([-0.9266]))]"
      ]
     },
     "execution_count": 18,
     "metadata": {},
     "output_type": "execute_result"
    }
   ],
   "source": [
    "train_inout_seq[:2]"
   ]
  },
  {
   "cell_type": "code",
   "execution_count": 19,
   "metadata": {},
   "outputs": [],
   "source": [
    "class LSTM(nn.Module):\n",
    "    def __init__(self, input_size=1, hidden_layer_size=100, output_size=1):\n",
    "        super().__init__()\n",
    "        self.hidden_layer_size = hidden_layer_size\n",
    "\n",
    "        self.lstm = nn.LSTM(input_size, hidden_layer_size)\n",
    "\n",
    "        self.linear = nn.Linear(hidden_layer_size, output_size)\n",
    "\n",
    "        self.hidden_cell = (torch.zeros(1,1,self.hidden_layer_size),\n",
    "                            torch.zeros(1,1,self.hidden_layer_size))\n",
    "\n",
    "    def forward(self, input_seq):\n",
    "        lstm_out, self.hidden_cell = self.lstm(input_seq.view(len(input_seq) ,1, -1), self.hidden_cell)\n",
    "        predictions = self.linear(lstm_out.view(len(input_seq), -1))\n",
    "        return predictions[-1]"
   ]
  },
  {
   "cell_type": "code",
   "execution_count": 20,
   "metadata": {},
   "outputs": [
    {
     "name": "stdout",
     "output_type": "stream",
     "text": [
      "LSTM(\n",
      "  (lstm): LSTM(1, 100)\n",
      "  (linear): Linear(in_features=100, out_features=1, bias=True)\n",
      ")\n"
     ]
    },
    {
     "data": {
      "text/plain": [
       "LSTM(\n",
       "  (lstm): LSTM(1, 100)\n",
       "  (linear): Linear(in_features=100, out_features=1, bias=True)\n",
       ")"
      ]
     },
     "execution_count": 20,
     "metadata": {},
     "output_type": "execute_result"
    }
   ],
   "source": [
    "model = LSTM()\n",
    "loss_function = nn.MSELoss()\n",
    "optimizer = optim.Adam(model.parameters(), lr=0.001)\n",
    "print(model)\n",
    "device = torch.device(\"cuda:0\" if torch.cuda.is_available() else \"cpu\")\n",
    "model.to(device)"
   ]
  },
  {
   "cell_type": "code",
   "execution_count": 21,
   "metadata": {},
   "outputs": [
    {
     "name": "stdout",
     "output_type": "stream",
     "text": [
      "Wall time: 0 ns\n",
      "epoch:   1 loss: 0.00022390\n",
      "epoch:  11 loss: 0.00002021\n",
      "epoch:  21 loss: 0.00033038\n",
      "epoch:  31 loss: 0.00034768\n",
      "epoch:  41 loss: 0.00012526\n",
      "epoch:  49 loss: 0.0000051398\n"
     ]
    }
   ],
   "source": [
    "%time\n",
    "epochs = 50\n",
    "\n",
    "for i in range(epochs):\n",
    "    for seq, labels in train_inout_seq:\n",
    "        optimizer.zero_grad()\n",
    "        model.hidden_cell = (torch.zeros(1, 1, model.hidden_layer_size).requires_grad_().to(device),\n",
    "                        torch.zeros(1, 1, model.hidden_layer_size).requires_grad_().to(device))\n",
    "        seq = seq.to(device)\n",
    "        labels = labels.to(device)\n",
    "        y_pred = model(seq)\n",
    "\n",
    "        single_loss = loss_function(y_pred, labels)\n",
    "        single_loss.backward()\n",
    "        optimizer.step()\n",
    "\n",
    "    if i%10 == 1:\n",
    "        print(f'epoch: {i:3} loss: {single_loss.item():10.8f}')\n",
    "\n",
    "print(f'epoch: {i:3} loss: {single_loss.item():10.10f}')"
   ]
  },
  {
   "cell_type": "code",
   "execution_count": 46,
   "metadata": {},
   "outputs": [],
   "source": [
    "model.eval()\n",
    "fut_pred = 12\n",
    "test_inputs = test_data_normalized.tolist()\n",
    "for i in range(len(test_inputs)):\n",
    "    seq = torch.FloatTensor(test_inputs)\n",
    "    with torch.no_grad():\n",
    "        model.hidden = (torch.zeros(1, 1, model.hidden_layer_size),\n",
    "                        torch.zeros(1, 1, model.hidden_layer_size))\n",
    "        test_inputs.append(model(seq).item())"
   ]
  },
  {
   "cell_type": "code",
   "execution_count": 49,
   "metadata": {},
   "outputs": [
    {
     "data": {
      "text/plain": [
       "113"
      ]
     },
     "execution_count": 49,
     "metadata": {},
     "output_type": "execute_result"
    }
   ],
   "source": [
    "len(test_inputs)"
   ]
  },
  {
   "cell_type": "code",
   "execution_count": 34,
   "metadata": {},
   "outputs": [
    {
     "name": "stdout",
     "output_type": "stream",
     "text": [
      "[[20.6484481 ]\n",
      " [20.77859266]\n",
      " [20.98960473]\n",
      " [21.29998619]\n",
      " [21.7410973 ]\n",
      " [22.34563493]\n",
      " [23.00569183]\n",
      " [23.43833588]\n",
      " [23.54771831]\n",
      " [23.1987619 ]\n",
      " [22.35805961]\n",
      " [21.1604181 ]]\n"
     ]
    }
   ],
   "source": [
    "actual_predictions = scaler.inverse_transform(np.array(test_inputs[train_window:] ).reshape(-1, 1))\n",
    "print(actual_predictions)"
   ]
  },
  {
   "cell_type": "code",
   "execution_count": 45,
   "metadata": {},
   "outputs": [
    {
     "data": {
      "text/plain": [
       "2.3530971170679034"
      ]
     },
     "execution_count": 45,
     "metadata": {},
     "output_type": "execute_result"
    }
   ],
   "source": [
    "rmse = sqrt(mean_squared_error(train_data[-train_window:], actual_predictions))\n",
    "rmse"
   ]
  },
  {
   "cell_type": "markdown",
   "metadata": {
    "colab_type": "text",
    "id": "24PEDVLuqVMT"
   },
   "source": [
    "### series2seq1: Function that return sequence input and output| Version 1\n",
    "\n",
    "**Arguments**:\n",
    "\n",
    "- data: Sequence of observations as a list or NumPy array.\n",
    "- n_in: Number of lag observations as input (X).\n",
    "- n_out: Number of observations as output (y).\n",
    "- dropnan: Boolean whether or not to drop rows with NaN values.\n",
    "    \n",
    "**Returns**:\n",
    "- X: Feature Pandas DataFrame\n",
    "- y: Label Pandas dataframe\n",
    "\n",
    "  "
   ]
  },
  {
   "cell_type": "code",
   "execution_count": 10,
   "metadata": {
    "colab": {
     "base_uri": "https://localhost:8080/",
     "height": 221
    },
    "colab_type": "code",
    "id": "2WukZWNgyUml",
    "outputId": "46be0bce-e3f0-4a66-87c0-9dc24a62bb47"
   },
   "outputs": [
    {
     "name": "stdout",
     "output_type": "stream",
     "text": [
      "   Local_X(t-2)  Local_X(t-1)\n",
      "0           NaN           NaN\n",
      "1           NaN     16.467196\n",
      "2     16.467196     16.425991\n",
      "3     16.425991     16.384804\n",
      "4     16.384804     16.342611\n",
      "   Local_X(t)\n",
      "0   16.467196\n",
      "1   16.425991\n",
      "2   16.384804\n",
      "3   16.342611\n",
      "4   16.304035\n"
     ]
    }
   ],
   "source": [
    "def series2seq1(data, n_in=1, n_out=1, dropnan=True):\n",
    "\n",
    "    dat = data.copy()\n",
    "\n",
    "    cols, names = list(), list()\n",
    "    # input sequence (t-n, ... t-1)\n",
    "    for i in range(n_in, 0, -1):\n",
    "        cols.append(dat.shift(i))\n",
    "        names += ['{}(t-{})'.format(dat.name, i) ]\n",
    "\n",
    "    # forecast sequence (t, t+1, ... t+n) for selected labels\n",
    "    for i in range(0, n_out):\n",
    "        cols.append(dat.shift(-i))\n",
    "        if i == 0:\n",
    "            names += ['{}(t)'.format(dat.name)]\n",
    "        else:\n",
    "            names += ['{}(t+{})'.format(dat.name, i)]\n",
    "    # put it all together\n",
    "    agg = pd.concat(cols, axis=1)\n",
    "    agg.columns = names\n",
    "    # drop rows with NaN values\n",
    "    if dropnan:\n",
    "        agg.dropna(inplace=True)\n",
    "    X = agg.iloc[:,:n_in]\n",
    "    y = agg.iloc[:,n_in:].copy()\n",
    "    return X, y\n",
    "  \n",
    "# Test the function\n",
    "X, y = series2seq1(df.Local_X, n_in=2, n_out=1, dropnan=False)\n",
    "print(X.head())\n",
    "print(y.head())"
   ]
  },
  {
   "cell_type": "code",
   "execution_count": 11,
   "metadata": {
    "colab": {},
    "colab_type": "code",
    "id": "fACiV40_Ut-9"
   },
   "outputs": [],
   "source": [
    "n_steps = 4\n",
    "n_labels = 1\n",
    "n_future = 1\n",
    "n_features = 1"
   ]
  },
  {
   "cell_type": "code",
   "execution_count": 12,
   "metadata": {
    "colab": {
     "base_uri": "https://localhost:8080/",
     "height": 221
    },
    "colab_type": "code",
    "id": "qCDvAWypUiHl",
    "outputId": "99ba61ef-4449-4246-ea43-692536c3c0ec"
   },
   "outputs": [
    {
     "name": "stdout",
     "output_type": "stream",
     "text": [
      "        Local_X(t-4)  Local_X(t-3)  Local_X(t-2)  Local_X(t-1)\n",
      "466055      4.725434      4.668727      4.627103      4.591890\n",
      "466056      4.668727      4.627103      4.591890      4.543895\n",
      "466057      4.627103      4.591890      4.543895      4.497583\n",
      "466058      4.591890      4.543895      4.497583      4.483431\n",
      "466059      4.543895      4.497583      4.483431      4.519953 (501, 4)\n",
      "        Local_X(t)\n",
      "466055    4.543895\n",
      "466056    4.497583\n",
      "466057    4.483431\n",
      "466058    4.519953\n",
      "466059    4.609469 (501, 1)\n"
     ]
    }
   ],
   "source": [
    "X, y = series2seq1(simple_df.Local_X, n_in=n_steps, n_out=n_future, dropnan=True)\n",
    "print(X.head(), X.shape)\n",
    "print(y.head(), y.shape)"
   ]
  },
  {
   "cell_type": "markdown",
   "metadata": {
    "colab_type": "text",
    "id": "UXbKv-3AVjCs"
   },
   "source": [
    "### Split the data set\n"
   ]
  },
  {
   "cell_type": "code",
   "execution_count": 13,
   "metadata": {
    "colab": {},
    "colab_type": "code",
    "id": "iFC4zPYeVdMQ"
   },
   "outputs": [],
   "source": [
    "### Split the data set\n",
    "from sklearn.model_selection import train_test_split"
   ]
  },
  {
   "cell_type": "code",
   "execution_count": 14,
   "metadata": {
    "colab": {
     "base_uri": "https://localhost:8080/",
     "height": 34
    },
    "colab_type": "code",
    "id": "qtmwVnZgVmhg",
    "outputId": "98ddf1a0-99a2-4299-9cc0-897fd94220ef"
   },
   "outputs": [
    {
     "name": "stdout",
     "output_type": "stream",
     "text": [
      "(350, 4) (151, 4) (350, 1) (151, 1)\n"
     ]
    }
   ],
   "source": [
    "X_train, X_test, y_train, y_test = train_test_split(X,y, \n",
    "                                                    test_size=0.3, random_state=42)\n",
    "print(X_train.shape,X_test.shape, y_train.shape, y_test.shape)"
   ]
  },
  {
   "cell_type": "code",
   "execution_count": 15,
   "metadata": {
    "colab": {
     "base_uri": "https://localhost:8080/",
     "height": 314
    },
    "colab_type": "code",
    "id": "bVBQUUntVtJw",
    "outputId": "7914e1d0-3174-440c-dccf-2eba5c00c4ba"
   },
   "outputs": [
    {
     "name": "stdout",
     "output_type": "stream",
     "text": [
      "(350, 4)\n"
     ]
    },
    {
     "data": {
      "text/html": [
       "<div>\n",
       "<style scoped>\n",
       "    .dataframe tbody tr th:only-of-type {\n",
       "        vertical-align: middle;\n",
       "    }\n",
       "\n",
       "    .dataframe tbody tr th {\n",
       "        vertical-align: top;\n",
       "    }\n",
       "\n",
       "    .dataframe thead th {\n",
       "        text-align: right;\n",
       "    }\n",
       "</style>\n",
       "<table border=\"1\" class=\"dataframe\">\n",
       "  <thead>\n",
       "    <tr style=\"text-align: right;\">\n",
       "      <th></th>\n",
       "      <th>Local_X(t-4)</th>\n",
       "      <th>Local_X(t-3)</th>\n",
       "      <th>Local_X(t-2)</th>\n",
       "      <th>Local_X(t-1)</th>\n",
       "    </tr>\n",
       "  </thead>\n",
       "  <tbody>\n",
       "    <tr>\n",
       "      <th>count</th>\n",
       "      <td>3.500000e+02</td>\n",
       "      <td>3.500000e+02</td>\n",
       "      <td>3.500000e+02</td>\n",
       "      <td>3.500000e+02</td>\n",
       "    </tr>\n",
       "    <tr>\n",
       "      <th>mean</th>\n",
       "      <td>6.394885e-16</td>\n",
       "      <td>1.116567e-15</td>\n",
       "      <td>7.765217e-16</td>\n",
       "      <td>-8.120488e-17</td>\n",
       "    </tr>\n",
       "    <tr>\n",
       "      <th>std</th>\n",
       "      <td>1.000000e+00</td>\n",
       "      <td>1.000000e+00</td>\n",
       "      <td>1.000000e+00</td>\n",
       "      <td>1.000000e+00</td>\n",
       "    </tr>\n",
       "    <tr>\n",
       "      <th>min</th>\n",
       "      <td>-1.585158e+00</td>\n",
       "      <td>-1.591476e+00</td>\n",
       "      <td>-1.602768e+00</td>\n",
       "      <td>-1.611491e+00</td>\n",
       "    </tr>\n",
       "    <tr>\n",
       "      <th>25%</th>\n",
       "      <td>-1.048653e+00</td>\n",
       "      <td>-1.049085e+00</td>\n",
       "      <td>-1.046041e+00</td>\n",
       "      <td>-1.047701e+00</td>\n",
       "    </tr>\n",
       "    <tr>\n",
       "      <th>50%</th>\n",
       "      <td>3.973715e-01</td>\n",
       "      <td>3.926763e-01</td>\n",
       "      <td>3.894742e-01</td>\n",
       "      <td>3.853394e-01</td>\n",
       "    </tr>\n",
       "    <tr>\n",
       "      <th>75%</th>\n",
       "      <td>9.683812e-01</td>\n",
       "      <td>9.686760e-01</td>\n",
       "      <td>9.662557e-01</td>\n",
       "      <td>9.624222e-01</td>\n",
       "    </tr>\n",
       "    <tr>\n",
       "      <th>max</th>\n",
       "      <td>1.251361e+00</td>\n",
       "      <td>1.245572e+00</td>\n",
       "      <td>1.242927e+00</td>\n",
       "      <td>1.243391e+00</td>\n",
       "    </tr>\n",
       "  </tbody>\n",
       "</table>\n",
       "</div>"
      ],
      "text/plain": [
       "       Local_X(t-4)  Local_X(t-3)  Local_X(t-2)  Local_X(t-1)\n",
       "count  3.500000e+02  3.500000e+02  3.500000e+02  3.500000e+02\n",
       "mean   6.394885e-16  1.116567e-15  7.765217e-16 -8.120488e-17\n",
       "std    1.000000e+00  1.000000e+00  1.000000e+00  1.000000e+00\n",
       "min   -1.585158e+00 -1.591476e+00 -1.602768e+00 -1.611491e+00\n",
       "25%   -1.048653e+00 -1.049085e+00 -1.046041e+00 -1.047701e+00\n",
       "50%    3.973715e-01  3.926763e-01  3.894742e-01  3.853394e-01\n",
       "75%    9.683812e-01  9.686760e-01  9.662557e-01  9.624222e-01\n",
       "max    1.251361e+00  1.245572e+00  1.242927e+00  1.243391e+00"
      ]
     },
     "execution_count": 15,
     "metadata": {},
     "output_type": "execute_result"
    }
   ],
   "source": [
    "### Standardize the data\n",
    "train_mean = X_train.mean()\n",
    "train_std = X_train.std()\n",
    "\n",
    "X_train = (X_train - train_mean) / train_std\n",
    "X_test = (X_test - train_mean) / train_std\n",
    "\n",
    "print(X_train.shape)\n",
    "X_train.describe()"
   ]
  },
  {
   "cell_type": "markdown",
   "metadata": {
    "colab_type": "text",
    "id": "G8a71W0GWtni"
   },
   "source": [
    "### Reshape data sets\n"
   ]
  },
  {
   "cell_type": "code",
   "execution_count": 16,
   "metadata": {
    "colab": {},
    "colab_type": "code",
    "id": "mI5v2pm6W0HL"
   },
   "outputs": [],
   "source": [
    "X_train = X_train.values\n",
    "X_test = X_test.values\n",
    "# reshape into [# samples, # timesteps,# features]\n",
    "X_train = X_train.reshape((X_train.shape[0], X_train.shape[1],1))\n",
    "X_test = X_test.reshape((X_test.shape[0], X_train.shape[1],1))"
   ]
  },
  {
   "cell_type": "code",
   "execution_count": 20,
   "metadata": {},
   "outputs": [],
   "source": [
    "X_train = torch.Tensor(X_train)\n",
    "X_test = torch.Tensor(X_test)"
   ]
  },
  {
   "cell_type": "code",
   "execution_count": 23,
   "metadata": {},
   "outputs": [
    {
     "data": {
      "text/plain": [
       "torch.Size([350, 4, 1])"
      ]
     },
     "execution_count": 23,
     "metadata": {},
     "output_type": "execute_result"
    }
   ],
   "source": [
    "X_train.shape"
   ]
  },
  {
   "cell_type": "markdown",
   "metadata": {
    "colab_type": "text",
    "id": "Bw5cmjNFWLjE"
   },
   "source": [
    "## Prediction model"
   ]
  },
  {
   "cell_type": "markdown",
   "metadata": {},
   "source": [
    "Define the LSTM class"
   ]
  },
  {
   "cell_type": "code",
   "execution_count": 18,
   "metadata": {
    "colab": {},
    "colab_type": "code",
    "id": "8rcqewOKWJDv"
   },
   "outputs": [],
   "source": [
    "class LSTM(nn.Module):\n",
    "    # define each layer\n",
    "    def __init__(self, input_size=1, hidden_layer_size=100, output_size=1):\n",
    "        super().__init__()\n",
    "        self.hidden_layer_size = hidden_layer_size\n",
    "\n",
    "        self.lstm = nn.LSTM(input_size, hidden_layer_size)\n",
    "\n",
    "        self.linear = nn.Linear(hidden_layer_size, output_size)\n",
    "\n",
    "        self.hidden_cell = (torch.zeros(1,1,self.hidden_layer_size),\n",
    "                            torch.zeros(1,1,self.hidden_layer_size))\n",
    "    \n",
    "    # Define how network move forward\n",
    "    def forward(self, input_seq):\n",
    "        lstm_out, self.hidden_cell = self.lstm(input_seq.view(len(input_seq) ,1, -1), self.hidden_cell)\n",
    "        predictions = self.linear(lstm_out.view(len(input_seq), -1))\n",
    "        return predictions[-1]"
   ]
  },
  {
   "cell_type": "code",
   "execution_count": 19,
   "metadata": {},
   "outputs": [
    {
     "name": "stdout",
     "output_type": "stream",
     "text": [
      "LSTM(\n",
      "  (lstm): LSTM(1, 100)\n",
      "  (linear): Linear(in_features=100, out_features=1, bias=True)\n",
      ")\n"
     ]
    }
   ],
   "source": [
    "model = LSTM()\n",
    "loss_function = nn.MSELoss()\n",
    "optimizer = torch.optim.Adam(model.parameters(), lr=0.001)\n",
    "print(model)"
   ]
  },
  {
   "cell_type": "code",
   "execution_count": 21,
   "metadata": {},
   "outputs": [
    {
     "ename": "AttributeError",
     "evalue": "'str' object has no attribute 'size'",
     "output_type": "error",
     "traceback": [
      "\u001b[1;31m---------------------------------------------------------------------------\u001b[0m",
      "\u001b[1;31mAttributeError\u001b[0m                            Traceback (most recent call last)",
      "\u001b[1;32m<ipython-input-21-fb729773f5fa>\u001b[0m in \u001b[0;36m<module>\u001b[1;34m\u001b[0m\n\u001b[0;32m      8\u001b[0m         \u001b[0my_pred\u001b[0m \u001b[1;33m=\u001b[0m \u001b[0mmodel\u001b[0m\u001b[1;33m(\u001b[0m\u001b[0mseq\u001b[0m\u001b[1;33m)\u001b[0m\u001b[1;33m\u001b[0m\u001b[1;33m\u001b[0m\u001b[0m\n\u001b[0;32m      9\u001b[0m \u001b[1;33m\u001b[0m\u001b[0m\n\u001b[1;32m---> 10\u001b[1;33m         \u001b[0msingle_loss\u001b[0m \u001b[1;33m=\u001b[0m \u001b[0mloss_function\u001b[0m\u001b[1;33m(\u001b[0m\u001b[0my_pred\u001b[0m\u001b[1;33m,\u001b[0m \u001b[0mlabels\u001b[0m\u001b[1;33m)\u001b[0m\u001b[1;33m\u001b[0m\u001b[1;33m\u001b[0m\u001b[0m\n\u001b[0m\u001b[0;32m     11\u001b[0m         \u001b[0msingle_loss\u001b[0m\u001b[1;33m.\u001b[0m\u001b[0mbackward\u001b[0m\u001b[1;33m(\u001b[0m\u001b[1;33m)\u001b[0m\u001b[1;33m\u001b[0m\u001b[1;33m\u001b[0m\u001b[0m\n\u001b[0;32m     12\u001b[0m         \u001b[0moptimizer\u001b[0m\u001b[1;33m.\u001b[0m\u001b[0mstep\u001b[0m\u001b[1;33m(\u001b[0m\u001b[1;33m)\u001b[0m\u001b[1;33m\u001b[0m\u001b[1;33m\u001b[0m\u001b[0m\n",
      "\u001b[1;32m~\\anaconda3\\envs\\pyto\\lib\\site-packages\\torch\\nn\\modules\\module.py\u001b[0m in \u001b[0;36m_call_impl\u001b[1;34m(self, *input, **kwargs)\u001b[0m\n\u001b[0;32m    725\u001b[0m             \u001b[0mresult\u001b[0m \u001b[1;33m=\u001b[0m \u001b[0mself\u001b[0m\u001b[1;33m.\u001b[0m\u001b[0m_slow_forward\u001b[0m\u001b[1;33m(\u001b[0m\u001b[1;33m*\u001b[0m\u001b[0minput\u001b[0m\u001b[1;33m,\u001b[0m \u001b[1;33m**\u001b[0m\u001b[0mkwargs\u001b[0m\u001b[1;33m)\u001b[0m\u001b[1;33m\u001b[0m\u001b[1;33m\u001b[0m\u001b[0m\n\u001b[0;32m    726\u001b[0m         \u001b[1;32melse\u001b[0m\u001b[1;33m:\u001b[0m\u001b[1;33m\u001b[0m\u001b[1;33m\u001b[0m\u001b[0m\n\u001b[1;32m--> 727\u001b[1;33m             \u001b[0mresult\u001b[0m \u001b[1;33m=\u001b[0m \u001b[0mself\u001b[0m\u001b[1;33m.\u001b[0m\u001b[0mforward\u001b[0m\u001b[1;33m(\u001b[0m\u001b[1;33m*\u001b[0m\u001b[0minput\u001b[0m\u001b[1;33m,\u001b[0m \u001b[1;33m**\u001b[0m\u001b[0mkwargs\u001b[0m\u001b[1;33m)\u001b[0m\u001b[1;33m\u001b[0m\u001b[1;33m\u001b[0m\u001b[0m\n\u001b[0m\u001b[0;32m    728\u001b[0m         for hook in itertools.chain(\n\u001b[0;32m    729\u001b[0m                 \u001b[0m_global_forward_hooks\u001b[0m\u001b[1;33m.\u001b[0m\u001b[0mvalues\u001b[0m\u001b[1;33m(\u001b[0m\u001b[1;33m)\u001b[0m\u001b[1;33m,\u001b[0m\u001b[1;33m\u001b[0m\u001b[1;33m\u001b[0m\u001b[0m\n",
      "\u001b[1;32m~\\anaconda3\\envs\\pyto\\lib\\site-packages\\torch\\nn\\modules\\loss.py\u001b[0m in \u001b[0;36mforward\u001b[1;34m(self, input, target)\u001b[0m\n\u001b[0;32m    444\u001b[0m \u001b[1;33m\u001b[0m\u001b[0m\n\u001b[0;32m    445\u001b[0m     \u001b[1;32mdef\u001b[0m \u001b[0mforward\u001b[0m\u001b[1;33m(\u001b[0m\u001b[0mself\u001b[0m\u001b[1;33m,\u001b[0m \u001b[0minput\u001b[0m\u001b[1;33m:\u001b[0m \u001b[0mTensor\u001b[0m\u001b[1;33m,\u001b[0m \u001b[0mtarget\u001b[0m\u001b[1;33m:\u001b[0m \u001b[0mTensor\u001b[0m\u001b[1;33m)\u001b[0m \u001b[1;33m->\u001b[0m \u001b[0mTensor\u001b[0m\u001b[1;33m:\u001b[0m\u001b[1;33m\u001b[0m\u001b[1;33m\u001b[0m\u001b[0m\n\u001b[1;32m--> 446\u001b[1;33m         \u001b[1;32mreturn\u001b[0m \u001b[0mF\u001b[0m\u001b[1;33m.\u001b[0m\u001b[0mmse_loss\u001b[0m\u001b[1;33m(\u001b[0m\u001b[0minput\u001b[0m\u001b[1;33m,\u001b[0m \u001b[0mtarget\u001b[0m\u001b[1;33m,\u001b[0m \u001b[0mreduction\u001b[0m\u001b[1;33m=\u001b[0m\u001b[0mself\u001b[0m\u001b[1;33m.\u001b[0m\u001b[0mreduction\u001b[0m\u001b[1;33m)\u001b[0m\u001b[1;33m\u001b[0m\u001b[1;33m\u001b[0m\u001b[0m\n\u001b[0m\u001b[0;32m    447\u001b[0m \u001b[1;33m\u001b[0m\u001b[0m\n\u001b[0;32m    448\u001b[0m \u001b[1;33m\u001b[0m\u001b[0m\n",
      "\u001b[1;32m~\\anaconda3\\envs\\pyto\\lib\\site-packages\\torch\\nn\\functional.py\u001b[0m in \u001b[0;36mmse_loss\u001b[1;34m(input, target, size_average, reduce, reduction)\u001b[0m\n\u001b[0;32m   2649\u001b[0m                 \u001b[0mmse_loss\u001b[0m\u001b[1;33m,\u001b[0m \u001b[0mtens_ops\u001b[0m\u001b[1;33m,\u001b[0m \u001b[0minput\u001b[0m\u001b[1;33m,\u001b[0m \u001b[0mtarget\u001b[0m\u001b[1;33m,\u001b[0m \u001b[0msize_average\u001b[0m\u001b[1;33m=\u001b[0m\u001b[0msize_average\u001b[0m\u001b[1;33m,\u001b[0m \u001b[0mreduce\u001b[0m\u001b[1;33m=\u001b[0m\u001b[0mreduce\u001b[0m\u001b[1;33m,\u001b[0m\u001b[1;33m\u001b[0m\u001b[1;33m\u001b[0m\u001b[0m\n\u001b[0;32m   2650\u001b[0m                 reduction=reduction)\n\u001b[1;32m-> 2651\u001b[1;33m     \u001b[1;32mif\u001b[0m \u001b[1;32mnot\u001b[0m \u001b[1;33m(\u001b[0m\u001b[0mtarget\u001b[0m\u001b[1;33m.\u001b[0m\u001b[0msize\u001b[0m\u001b[1;33m(\u001b[0m\u001b[1;33m)\u001b[0m \u001b[1;33m==\u001b[0m \u001b[0minput\u001b[0m\u001b[1;33m.\u001b[0m\u001b[0msize\u001b[0m\u001b[1;33m(\u001b[0m\u001b[1;33m)\u001b[0m\u001b[1;33m)\u001b[0m\u001b[1;33m:\u001b[0m\u001b[1;33m\u001b[0m\u001b[1;33m\u001b[0m\u001b[0m\n\u001b[0m\u001b[0;32m   2652\u001b[0m         warnings.warn(\"Using a target size ({}) that is different to the input size ({}). \"\n\u001b[0;32m   2653\u001b[0m                       \u001b[1;34m\"This will likely lead to incorrect results due to broadcasting. \"\u001b[0m\u001b[1;33m\u001b[0m\u001b[1;33m\u001b[0m\u001b[0m\n",
      "\u001b[1;31mAttributeError\u001b[0m: 'str' object has no attribute 'size'"
     ]
    }
   ],
   "source": [
    "epochs = 10\n",
    "for i in range(epochs):\n",
    "    for seq, labels in zip(X_train,y_train):\n",
    "        optimizer.zero_grad()\n",
    "        model.hidden_cell = (torch.zeros(1, 1, model.hidden_layer_size),\n",
    "                        torch.zeros(1, 1, model.hidden_layer_size))\n",
    "\n",
    "        y_pred = model(seq)\n",
    "\n",
    "        single_loss = loss_function(y_pred, labels)\n",
    "        single_loss.backward()\n",
    "        optimizer.step()\n",
    "\n",
    "    if i%25 == 1:\n",
    "        print(f'epoch: {i:3} loss: {single_loss.item():10.8f}')\n",
    "\n",
    "print(f'epoch: {i:3} loss: {single_loss.item():10.10f}')"
   ]
  },
  {
   "cell_type": "code",
   "execution_count": 20,
   "metadata": {
    "colab": {
     "base_uri": "https://localhost:8080/",
     "height": 1000
    },
    "colab_type": "code",
    "id": "a0eT3xnEWCWY",
    "outputId": "e545879f-e0e2-4cbd-e813-7bf1be8ec338"
   },
   "outputs": [
    {
     "name": "stdout",
     "output_type": "stream",
     "text": [
      "WARNING:tensorflow:From C:\\Anaconda\\envs\\tf-gpu\\lib\\site-packages\\tensorflow_core\\python\\ops\\resource_variable_ops.py:1635: calling BaseResourceVariable.__init__ (from tensorflow.python.ops.resource_variable_ops) with constraint is deprecated and will be removed in a future version.\n",
      "Instructions for updating:\n",
      "If using Keras pass *_constraint arguments to layers.\n",
      "Train on 704 samples, validate on 302 samples\n"
     ]
    },
    {
     "ename": "InternalError",
     "evalue": "GPU sync failed",
     "output_type": "error",
     "traceback": [
      "\u001b[1;31m---------------------------------------------------------------------------\u001b[0m",
      "\u001b[1;31mInternalError\u001b[0m                             Traceback (most recent call last)",
      "\u001b[1;32mC:\\Anaconda\\envs\\tf-gpu\\lib\\site-packages\\tensorflow_core\\python\\client\\session.py\u001b[0m in \u001b[0;36m_do_call\u001b[1;34m(self, fn, *args)\u001b[0m\n\u001b[0;32m   1366\u001b[0m     \u001b[1;32mtry\u001b[0m\u001b[1;33m:\u001b[0m\u001b[1;33m\u001b[0m\u001b[1;33m\u001b[0m\u001b[0m\n\u001b[1;32m-> 1367\u001b[1;33m       \u001b[1;32mreturn\u001b[0m \u001b[0mfn\u001b[0m\u001b[1;33m(\u001b[0m\u001b[1;33m*\u001b[0m\u001b[0margs\u001b[0m\u001b[1;33m)\u001b[0m\u001b[1;33m\u001b[0m\u001b[1;33m\u001b[0m\u001b[0m\n\u001b[0m\u001b[0;32m   1368\u001b[0m     \u001b[1;32mexcept\u001b[0m \u001b[0merrors\u001b[0m\u001b[1;33m.\u001b[0m\u001b[0mOpError\u001b[0m \u001b[1;32mas\u001b[0m \u001b[0me\u001b[0m\u001b[1;33m:\u001b[0m\u001b[1;33m\u001b[0m\u001b[1;33m\u001b[0m\u001b[0m\n",
      "\u001b[1;32mC:\\Anaconda\\envs\\tf-gpu\\lib\\site-packages\\tensorflow_core\\python\\client\\session.py\u001b[0m in \u001b[0;36m_run_fn\u001b[1;34m(feed_dict, fetch_list, target_list, options, run_metadata)\u001b[0m\n\u001b[0;32m   1351\u001b[0m       return self._call_tf_sessionrun(options, feed_dict, fetch_list,\n\u001b[1;32m-> 1352\u001b[1;33m                                       target_list, run_metadata)\n\u001b[0m\u001b[0;32m   1353\u001b[0m \u001b[1;33m\u001b[0m\u001b[0m\n",
      "\u001b[1;32mC:\\Anaconda\\envs\\tf-gpu\\lib\\site-packages\\tensorflow_core\\python\\client\\session.py\u001b[0m in \u001b[0;36m_call_tf_sessionrun\u001b[1;34m(self, options, feed_dict, fetch_list, target_list, run_metadata)\u001b[0m\n\u001b[0;32m   1444\u001b[0m                                             \u001b[0mfetch_list\u001b[0m\u001b[1;33m,\u001b[0m \u001b[0mtarget_list\u001b[0m\u001b[1;33m,\u001b[0m\u001b[1;33m\u001b[0m\u001b[1;33m\u001b[0m\u001b[0m\n\u001b[1;32m-> 1445\u001b[1;33m                                             run_metadata)\n\u001b[0m\u001b[0;32m   1446\u001b[0m \u001b[1;33m\u001b[0m\u001b[0m\n",
      "\u001b[1;31mInternalError\u001b[0m: GPU sync failed",
      "\nDuring handling of the above exception, another exception occurred:\n",
      "\u001b[1;31mInternalError\u001b[0m                             Traceback (most recent call last)",
      "\u001b[1;32m<ipython-input-20-83f854b397eb>\u001b[0m in \u001b[0;36m<module>\u001b[1;34m\u001b[0m\n\u001b[0;32m     15\u001b[0m Monitor = model.fit(X_train, y_train, epochs=100, \n\u001b[0;32m     16\u001b[0m                     \u001b[0mcallbacks\u001b[0m\u001b[1;33m=\u001b[0m\u001b[1;33m[\u001b[0m\u001b[0mstop_learn\u001b[0m\u001b[1;33m]\u001b[0m\u001b[1;33m,\u001b[0m\u001b[1;33m\u001b[0m\u001b[1;33m\u001b[0m\u001b[0m\n\u001b[1;32m---> 17\u001b[1;33m                     validation_data=(X_test, y_test), verbose=1)\n\u001b[0m",
      "\u001b[1;32mC:\\Anaconda\\envs\\tf-gpu\\lib\\site-packages\\tensorflow_core\\python\\keras\\engine\\training.py\u001b[0m in \u001b[0;36mfit\u001b[1;34m(self, x, y, batch_size, epochs, verbose, callbacks, validation_split, validation_data, shuffle, class_weight, sample_weight, initial_epoch, steps_per_epoch, validation_steps, validation_freq, max_queue_size, workers, use_multiprocessing, **kwargs)\u001b[0m\n\u001b[0;32m    817\u001b[0m         \u001b[0mmax_queue_size\u001b[0m\u001b[1;33m=\u001b[0m\u001b[0mmax_queue_size\u001b[0m\u001b[1;33m,\u001b[0m\u001b[1;33m\u001b[0m\u001b[1;33m\u001b[0m\u001b[0m\n\u001b[0;32m    818\u001b[0m         \u001b[0mworkers\u001b[0m\u001b[1;33m=\u001b[0m\u001b[0mworkers\u001b[0m\u001b[1;33m,\u001b[0m\u001b[1;33m\u001b[0m\u001b[1;33m\u001b[0m\u001b[0m\n\u001b[1;32m--> 819\u001b[1;33m         use_multiprocessing=use_multiprocessing)\n\u001b[0m\u001b[0;32m    820\u001b[0m \u001b[1;33m\u001b[0m\u001b[0m\n\u001b[0;32m    821\u001b[0m   def evaluate(self,\n",
      "\u001b[1;32mC:\\Anaconda\\envs\\tf-gpu\\lib\\site-packages\\tensorflow_core\\python\\keras\\engine\\training_arrays.py\u001b[0m in \u001b[0;36mfit\u001b[1;34m(self, model, x, y, batch_size, epochs, verbose, callbacks, validation_split, validation_data, shuffle, class_weight, sample_weight, initial_epoch, steps_per_epoch, validation_steps, validation_freq, **kwargs)\u001b[0m\n\u001b[0;32m    678\u001b[0m         \u001b[0mvalidation_steps\u001b[0m\u001b[1;33m=\u001b[0m\u001b[0mvalidation_steps\u001b[0m\u001b[1;33m,\u001b[0m\u001b[1;33m\u001b[0m\u001b[1;33m\u001b[0m\u001b[0m\n\u001b[0;32m    679\u001b[0m         \u001b[0mvalidation_freq\u001b[0m\u001b[1;33m=\u001b[0m\u001b[0mvalidation_freq\u001b[0m\u001b[1;33m,\u001b[0m\u001b[1;33m\u001b[0m\u001b[1;33m\u001b[0m\u001b[0m\n\u001b[1;32m--> 680\u001b[1;33m         steps_name='steps_per_epoch')\n\u001b[0m\u001b[0;32m    681\u001b[0m \u001b[1;33m\u001b[0m\u001b[0m\n\u001b[0;32m    682\u001b[0m   def evaluate(self,\n",
      "\u001b[1;32mC:\\Anaconda\\envs\\tf-gpu\\lib\\site-packages\\tensorflow_core\\python\\keras\\engine\\training_arrays.py\u001b[0m in \u001b[0;36mmodel_iteration\u001b[1;34m(model, inputs, targets, sample_weights, batch_size, epochs, verbose, callbacks, val_inputs, val_targets, val_sample_weights, shuffle, initial_epoch, steps_per_epoch, validation_steps, validation_freq, mode, validation_in_fit, prepared_feed_values_from_dataset, steps_name, **kwargs)\u001b[0m\n\u001b[0;32m    273\u001b[0m       \u001b[1;31m# Collecting and resetting metrics has non-zero cost and will needlessly\u001b[0m\u001b[1;33m\u001b[0m\u001b[1;33m\u001b[0m\u001b[1;33m\u001b[0m\u001b[0m\n\u001b[0;32m    274\u001b[0m       \u001b[1;31m# slow down model.predict.\u001b[0m\u001b[1;33m\u001b[0m\u001b[1;33m\u001b[0m\u001b[1;33m\u001b[0m\u001b[0m\n\u001b[1;32m--> 275\u001b[1;33m       \u001b[0mmodel\u001b[0m\u001b[1;33m.\u001b[0m\u001b[0mreset_metrics\u001b[0m\u001b[1;33m(\u001b[0m\u001b[1;33m)\u001b[0m\u001b[1;33m\u001b[0m\u001b[1;33m\u001b[0m\u001b[0m\n\u001b[0m\u001b[0;32m    276\u001b[0m     \u001b[1;32mif\u001b[0m \u001b[0mmode\u001b[0m \u001b[1;33m==\u001b[0m \u001b[0mModeKeys\u001b[0m\u001b[1;33m.\u001b[0m\u001b[0mTRAIN\u001b[0m\u001b[1;33m:\u001b[0m\u001b[1;33m\u001b[0m\u001b[1;33m\u001b[0m\u001b[0m\n\u001b[0;32m    277\u001b[0m       \u001b[0mcallbacks\u001b[0m\u001b[1;33m.\u001b[0m\u001b[0mon_epoch_begin\u001b[0m\u001b[1;33m(\u001b[0m\u001b[0mepoch\u001b[0m\u001b[1;33m,\u001b[0m \u001b[0mepoch_logs\u001b[0m\u001b[1;33m)\u001b[0m\u001b[1;33m\u001b[0m\u001b[1;33m\u001b[0m\u001b[0m\n",
      "\u001b[1;32mC:\\Anaconda\\envs\\tf-gpu\\lib\\site-packages\\tensorflow_core\\python\\keras\\engine\\training.py\u001b[0m in \u001b[0;36mreset_metrics\u001b[1;34m(self)\u001b[0m\n\u001b[0;32m   1017\u001b[0m     \u001b[0mmetrics\u001b[0m \u001b[1;33m=\u001b[0m \u001b[0mself\u001b[0m\u001b[1;33m.\u001b[0m\u001b[0m_get_training_eval_metrics\u001b[0m\u001b[1;33m(\u001b[0m\u001b[1;33m)\u001b[0m\u001b[1;33m\u001b[0m\u001b[1;33m\u001b[0m\u001b[0m\n\u001b[0;32m   1018\u001b[0m     \u001b[1;32mfor\u001b[0m \u001b[0mm\u001b[0m \u001b[1;32min\u001b[0m \u001b[0mmetrics\u001b[0m\u001b[1;33m:\u001b[0m\u001b[1;33m\u001b[0m\u001b[1;33m\u001b[0m\u001b[0m\n\u001b[1;32m-> 1019\u001b[1;33m       \u001b[0mm\u001b[0m\u001b[1;33m.\u001b[0m\u001b[0mreset_states\u001b[0m\u001b[1;33m(\u001b[0m\u001b[1;33m)\u001b[0m\u001b[1;33m\u001b[0m\u001b[1;33m\u001b[0m\u001b[0m\n\u001b[0m\u001b[0;32m   1020\u001b[0m \u001b[1;33m\u001b[0m\u001b[0m\n\u001b[0;32m   1021\u001b[0m     \u001b[1;31m# Reset metrics on all the distributed (cloned) models.\u001b[0m\u001b[1;33m\u001b[0m\u001b[1;33m\u001b[0m\u001b[1;33m\u001b[0m\u001b[0m\n",
      "\u001b[1;32mC:\\Anaconda\\envs\\tf-gpu\\lib\\site-packages\\tensorflow_core\\python\\keras\\metrics.py\u001b[0m in \u001b[0;36mreset_states\u001b[1;34m(self)\u001b[0m\n\u001b[0;32m    210\u001b[0m     \u001b[0mwhen\u001b[0m \u001b[0ma\u001b[0m \u001b[0mmetric\u001b[0m \u001b[1;32mis\u001b[0m \u001b[0mevaluated\u001b[0m \u001b[0mduring\u001b[0m \u001b[0mtraining\u001b[0m\u001b[1;33m.\u001b[0m\u001b[1;33m\u001b[0m\u001b[1;33m\u001b[0m\u001b[0m\n\u001b[0;32m    211\u001b[0m     \"\"\"\n\u001b[1;32m--> 212\u001b[1;33m     \u001b[0mK\u001b[0m\u001b[1;33m.\u001b[0m\u001b[0mbatch_set_value\u001b[0m\u001b[1;33m(\u001b[0m\u001b[1;33m[\u001b[0m\u001b[1;33m(\u001b[0m\u001b[0mv\u001b[0m\u001b[1;33m,\u001b[0m \u001b[1;36m0\u001b[0m\u001b[1;33m)\u001b[0m \u001b[1;32mfor\u001b[0m \u001b[0mv\u001b[0m \u001b[1;32min\u001b[0m \u001b[0mself\u001b[0m\u001b[1;33m.\u001b[0m\u001b[0mvariables\u001b[0m\u001b[1;33m]\u001b[0m\u001b[1;33m)\u001b[0m\u001b[1;33m\u001b[0m\u001b[1;33m\u001b[0m\u001b[0m\n\u001b[0m\u001b[0;32m    213\u001b[0m \u001b[1;33m\u001b[0m\u001b[0m\n\u001b[0;32m    214\u001b[0m   \u001b[1;33m@\u001b[0m\u001b[0mabc\u001b[0m\u001b[1;33m.\u001b[0m\u001b[0mabstractmethod\u001b[0m\u001b[1;33m\u001b[0m\u001b[1;33m\u001b[0m\u001b[0m\n",
      "\u001b[1;32mC:\\Anaconda\\envs\\tf-gpu\\lib\\site-packages\\tensorflow_core\\python\\keras\\backend.py\u001b[0m in \u001b[0;36mbatch_set_value\u001b[1;34m(tuples)\u001b[0m\n\u001b[0;32m   3346\u001b[0m           \u001b[0massign_ops\u001b[0m\u001b[1;33m.\u001b[0m\u001b[0mappend\u001b[0m\u001b[1;33m(\u001b[0m\u001b[0massign_op\u001b[0m\u001b[1;33m)\u001b[0m\u001b[1;33m\u001b[0m\u001b[1;33m\u001b[0m\u001b[0m\n\u001b[0;32m   3347\u001b[0m           \u001b[0mfeed_dict\u001b[0m\u001b[1;33m[\u001b[0m\u001b[0massign_placeholder\u001b[0m\u001b[1;33m]\u001b[0m \u001b[1;33m=\u001b[0m \u001b[0mvalue\u001b[0m\u001b[1;33m\u001b[0m\u001b[1;33m\u001b[0m\u001b[0m\n\u001b[1;32m-> 3348\u001b[1;33m         \u001b[0mget_session\u001b[0m\u001b[1;33m(\u001b[0m\u001b[1;33m)\u001b[0m\u001b[1;33m.\u001b[0m\u001b[0mrun\u001b[0m\u001b[1;33m(\u001b[0m\u001b[0massign_ops\u001b[0m\u001b[1;33m,\u001b[0m \u001b[0mfeed_dict\u001b[0m\u001b[1;33m=\u001b[0m\u001b[0mfeed_dict\u001b[0m\u001b[1;33m)\u001b[0m\u001b[1;33m\u001b[0m\u001b[1;33m\u001b[0m\u001b[0m\n\u001b[0m\u001b[0;32m   3349\u001b[0m \u001b[1;33m\u001b[0m\u001b[0m\n\u001b[0;32m   3350\u001b[0m \u001b[1;33m\u001b[0m\u001b[0m\n",
      "\u001b[1;32mC:\\Anaconda\\envs\\tf-gpu\\lib\\site-packages\\tensorflow_core\\python\\keras\\backend.py\u001b[0m in \u001b[0;36mget_session\u001b[1;34m(op_input_list)\u001b[0m\n\u001b[0;32m    494\u001b[0m   \u001b[1;32mif\u001b[0m \u001b[1;32mnot\u001b[0m \u001b[0m_MANUAL_VAR_INIT\u001b[0m\u001b[1;33m:\u001b[0m\u001b[1;33m\u001b[0m\u001b[1;33m\u001b[0m\u001b[0m\n\u001b[0;32m    495\u001b[0m     \u001b[1;32mwith\u001b[0m \u001b[0msession\u001b[0m\u001b[1;33m.\u001b[0m\u001b[0mgraph\u001b[0m\u001b[1;33m.\u001b[0m\u001b[0mas_default\u001b[0m\u001b[1;33m(\u001b[0m\u001b[1;33m)\u001b[0m\u001b[1;33m:\u001b[0m\u001b[1;33m\u001b[0m\u001b[1;33m\u001b[0m\u001b[0m\n\u001b[1;32m--> 496\u001b[1;33m       \u001b[0m_initialize_variables\u001b[0m\u001b[1;33m(\u001b[0m\u001b[0msession\u001b[0m\u001b[1;33m)\u001b[0m\u001b[1;33m\u001b[0m\u001b[1;33m\u001b[0m\u001b[0m\n\u001b[0m\u001b[0;32m    497\u001b[0m   \u001b[1;32mreturn\u001b[0m \u001b[0msession\u001b[0m\u001b[1;33m\u001b[0m\u001b[1;33m\u001b[0m\u001b[0m\n\u001b[0;32m    498\u001b[0m \u001b[1;33m\u001b[0m\u001b[0m\n",
      "\u001b[1;32mC:\\Anaconda\\envs\\tf-gpu\\lib\\site-packages\\tensorflow_core\\python\\keras\\backend.py\u001b[0m in \u001b[0;36m_initialize_variables\u001b[1;34m(session)\u001b[0m\n\u001b[0;32m    909\u001b[0m     \u001b[1;31m# marked as initialized.\u001b[0m\u001b[1;33m\u001b[0m\u001b[1;33m\u001b[0m\u001b[1;33m\u001b[0m\u001b[0m\n\u001b[0;32m    910\u001b[0m     is_initialized = session.run(\n\u001b[1;32m--> 911\u001b[1;33m         [variables_module.is_variable_initialized(v) for v in candidate_vars])\n\u001b[0m\u001b[0;32m    912\u001b[0m     \u001b[0muninitialized_vars\u001b[0m \u001b[1;33m=\u001b[0m \u001b[1;33m[\u001b[0m\u001b[1;33m]\u001b[0m\u001b[1;33m\u001b[0m\u001b[1;33m\u001b[0m\u001b[0m\n\u001b[0;32m    913\u001b[0m     \u001b[1;32mfor\u001b[0m \u001b[0mflag\u001b[0m\u001b[1;33m,\u001b[0m \u001b[0mv\u001b[0m \u001b[1;32min\u001b[0m \u001b[0mzip\u001b[0m\u001b[1;33m(\u001b[0m\u001b[0mis_initialized\u001b[0m\u001b[1;33m,\u001b[0m \u001b[0mcandidate_vars\u001b[0m\u001b[1;33m)\u001b[0m\u001b[1;33m:\u001b[0m\u001b[1;33m\u001b[0m\u001b[1;33m\u001b[0m\u001b[0m\n",
      "\u001b[1;32mC:\\Anaconda\\envs\\tf-gpu\\lib\\site-packages\\tensorflow_core\\python\\client\\session.py\u001b[0m in \u001b[0;36mrun\u001b[1;34m(self, fetches, feed_dict, options, run_metadata)\u001b[0m\n\u001b[0;32m    958\u001b[0m     \u001b[1;32mtry\u001b[0m\u001b[1;33m:\u001b[0m\u001b[1;33m\u001b[0m\u001b[1;33m\u001b[0m\u001b[0m\n\u001b[0;32m    959\u001b[0m       result = self._run(None, fetches, feed_dict, options_ptr,\n\u001b[1;32m--> 960\u001b[1;33m                          run_metadata_ptr)\n\u001b[0m\u001b[0;32m    961\u001b[0m       \u001b[1;32mif\u001b[0m \u001b[0mrun_metadata\u001b[0m\u001b[1;33m:\u001b[0m\u001b[1;33m\u001b[0m\u001b[1;33m\u001b[0m\u001b[0m\n\u001b[0;32m    962\u001b[0m         \u001b[0mproto_data\u001b[0m \u001b[1;33m=\u001b[0m \u001b[0mtf_session\u001b[0m\u001b[1;33m.\u001b[0m\u001b[0mTF_GetBuffer\u001b[0m\u001b[1;33m(\u001b[0m\u001b[0mrun_metadata_ptr\u001b[0m\u001b[1;33m)\u001b[0m\u001b[1;33m\u001b[0m\u001b[1;33m\u001b[0m\u001b[0m\n",
      "\u001b[1;32mC:\\Anaconda\\envs\\tf-gpu\\lib\\site-packages\\tensorflow_core\\python\\client\\session.py\u001b[0m in \u001b[0;36m_run\u001b[1;34m(self, handle, fetches, feed_dict, options, run_metadata)\u001b[0m\n\u001b[0;32m   1181\u001b[0m     \u001b[1;32mif\u001b[0m \u001b[0mfinal_fetches\u001b[0m \u001b[1;32mor\u001b[0m \u001b[0mfinal_targets\u001b[0m \u001b[1;32mor\u001b[0m \u001b[1;33m(\u001b[0m\u001b[0mhandle\u001b[0m \u001b[1;32mand\u001b[0m \u001b[0mfeed_dict_tensor\u001b[0m\u001b[1;33m)\u001b[0m\u001b[1;33m:\u001b[0m\u001b[1;33m\u001b[0m\u001b[1;33m\u001b[0m\u001b[0m\n\u001b[0;32m   1182\u001b[0m       results = self._do_run(handle, final_targets, final_fetches,\n\u001b[1;32m-> 1183\u001b[1;33m                              feed_dict_tensor, options, run_metadata)\n\u001b[0m\u001b[0;32m   1184\u001b[0m     \u001b[1;32melse\u001b[0m\u001b[1;33m:\u001b[0m\u001b[1;33m\u001b[0m\u001b[1;33m\u001b[0m\u001b[0m\n\u001b[0;32m   1185\u001b[0m       \u001b[0mresults\u001b[0m \u001b[1;33m=\u001b[0m \u001b[1;33m[\u001b[0m\u001b[1;33m]\u001b[0m\u001b[1;33m\u001b[0m\u001b[1;33m\u001b[0m\u001b[0m\n",
      "\u001b[1;32mC:\\Anaconda\\envs\\tf-gpu\\lib\\site-packages\\tensorflow_core\\python\\client\\session.py\u001b[0m in \u001b[0;36m_do_run\u001b[1;34m(self, handle, target_list, fetch_list, feed_dict, options, run_metadata)\u001b[0m\n\u001b[0;32m   1359\u001b[0m     \u001b[1;32mif\u001b[0m \u001b[0mhandle\u001b[0m \u001b[1;32mis\u001b[0m \u001b[1;32mNone\u001b[0m\u001b[1;33m:\u001b[0m\u001b[1;33m\u001b[0m\u001b[1;33m\u001b[0m\u001b[0m\n\u001b[0;32m   1360\u001b[0m       return self._do_call(_run_fn, feeds, fetches, targets, options,\n\u001b[1;32m-> 1361\u001b[1;33m                            run_metadata)\n\u001b[0m\u001b[0;32m   1362\u001b[0m     \u001b[1;32melse\u001b[0m\u001b[1;33m:\u001b[0m\u001b[1;33m\u001b[0m\u001b[1;33m\u001b[0m\u001b[0m\n\u001b[0;32m   1363\u001b[0m       \u001b[1;32mreturn\u001b[0m \u001b[0mself\u001b[0m\u001b[1;33m.\u001b[0m\u001b[0m_do_call\u001b[0m\u001b[1;33m(\u001b[0m\u001b[0m_prun_fn\u001b[0m\u001b[1;33m,\u001b[0m \u001b[0mhandle\u001b[0m\u001b[1;33m,\u001b[0m \u001b[0mfeeds\u001b[0m\u001b[1;33m,\u001b[0m \u001b[0mfetches\u001b[0m\u001b[1;33m)\u001b[0m\u001b[1;33m\u001b[0m\u001b[1;33m\u001b[0m\u001b[0m\n",
      "\u001b[1;32mC:\\Anaconda\\envs\\tf-gpu\\lib\\site-packages\\tensorflow_core\\python\\client\\session.py\u001b[0m in \u001b[0;36m_do_call\u001b[1;34m(self, fn, *args)\u001b[0m\n\u001b[0;32m   1384\u001b[0m                     \u001b[1;34m'\\nsession_config.graph_options.rewrite_options.'\u001b[0m\u001b[1;33m\u001b[0m\u001b[1;33m\u001b[0m\u001b[0m\n\u001b[0;32m   1385\u001b[0m                     'disable_meta_optimizer = True')\n\u001b[1;32m-> 1386\u001b[1;33m       \u001b[1;32mraise\u001b[0m \u001b[0mtype\u001b[0m\u001b[1;33m(\u001b[0m\u001b[0me\u001b[0m\u001b[1;33m)\u001b[0m\u001b[1;33m(\u001b[0m\u001b[0mnode_def\u001b[0m\u001b[1;33m,\u001b[0m \u001b[0mop\u001b[0m\u001b[1;33m,\u001b[0m \u001b[0mmessage\u001b[0m\u001b[1;33m)\u001b[0m\u001b[1;33m\u001b[0m\u001b[1;33m\u001b[0m\u001b[0m\n\u001b[0m\u001b[0;32m   1387\u001b[0m \u001b[1;33m\u001b[0m\u001b[0m\n\u001b[0;32m   1388\u001b[0m   \u001b[1;32mdef\u001b[0m \u001b[0m_extend_graph\u001b[0m\u001b[1;33m(\u001b[0m\u001b[0mself\u001b[0m\u001b[1;33m)\u001b[0m\u001b[1;33m:\u001b[0m\u001b[1;33m\u001b[0m\u001b[1;33m\u001b[0m\u001b[0m\n",
      "\u001b[1;31mInternalError\u001b[0m: GPU sync failed"
     ]
    }
   ],
   "source": [
    "# define model\n",
    "model = Sequential()\n",
    "model.add(LSTM(50, activation='relu', input_shape=(X_train.shape[1],1)))\n",
    "model.add(Dense(n_labels*n_future))\n",
    "model.compile(optimizer='adam', loss='mse', metrics=['mse'])\n",
    "\n",
    "# For saving the best model during the whole training process.\n",
    "#checkpointer = callbacks.ModelCheckpoint(filepath='BestModel.h5', monitor='val_loss', save_best_only=True)\n",
    "\n",
    "#### Interrupt training if `val_loss` stops improving for over 10 epochs #######\n",
    "stop_learn= tf.keras.callbacks.EarlyStopping(patience=10, monitor='val_loss')\n",
    "\n",
    "\n",
    "# fit model\n",
    "Monitor = model.fit(X_train, y_train, epochs=100, \n",
    "                    callbacks=[stop_learn],\n",
    "                    validation_data=(X_test, y_test), verbose=1)"
   ]
  },
  {
   "cell_type": "code",
   "execution_count": null,
   "metadata": {
    "colab": {
     "base_uri": "https://localhost:8080/",
     "height": 721
    },
    "colab_type": "code",
    "id": "PuBEpEIKWB20",
    "outputId": "67caa325-8af1-43ae-9963-a50cd626e09d"
   },
   "outputs": [],
   "source": [
    "hist = pd.DataFrame(Monitor.history)\n",
    "hist['epoch'] = Monitor.epoch\n",
    "fig, axes = plt.subplots(nrows=1, ncols=2,figsize=(10,4),dpi=150)\n",
    "hist[['loss','val_loss']].plot(ax=axes[0])\n",
    "hist[['mse','val_mse']].plot(ax=axes[1])\n",
    "plt.show()\n",
    "hist.tail()"
   ]
  },
  {
   "cell_type": "markdown",
   "metadata": {
    "colab_type": "text",
    "id": "Qm2GOAzDXOiV"
   },
   "source": [
    "## Evaluation \n"
   ]
  },
  {
   "cell_type": "code",
   "execution_count": null,
   "metadata": {
    "colab": {},
    "colab_type": "code",
    "id": "b5Q9r2tCXa3a"
   },
   "outputs": [],
   "source": [
    "from sklearn.metrics import mean_squared_error\n",
    "from math import sqrt"
   ]
  },
  {
   "cell_type": "code",
   "execution_count": null,
   "metadata": {
    "colab": {
     "base_uri": "https://localhost:8080/",
     "height": 136
    },
    "colab_type": "code",
    "id": "YTECdGdIXRhp",
    "outputId": "836eda9e-4000-4948-c459-6759e9b7a779"
   },
   "outputs": [],
   "source": [
    "yhat = model.predict(X_test, verbose=1)\n",
    "rms = [sqrt(mean_squared_error(y_test, yhat))]\n",
    "print(yhat[:5])\n",
    "rms"
   ]
  },
  {
   "cell_type": "code",
   "execution_count": null,
   "metadata": {
    "colab": {
     "base_uri": "https://localhost:8080/",
     "height": 374
    },
    "colab_type": "code",
    "id": "goEA6thdX2ut",
    "outputId": "8c17d974-d51e-477d-841b-8bb49e2db493"
   },
   "outputs": [],
   "source": [
    "plt.figure(figsize=(8,6))\n",
    "plt.scatter(y_test.index,y_test, label = \"true Local_X at t\",marker = 'X', )\n",
    "plt.scatter(y_test.index,yhat, label = \"prediction Local_X at t\",marker = '.')\n",
    "plt.legend()\n",
    "plt.show()"
   ]
  },
  {
   "cell_type": "markdown",
   "metadata": {
    "colab_type": "text",
    "id": "zh02_jucYKG4"
   },
   "source": [
    "# Model 2\n",
    "\n",
    "|Model name|Description| # Car|# vars|# targets|# const_vars| # steps | # futures\n",
    "|---|:--|:-:|:-:|:-:|:-:|:-:|:-:|\n",
    "Model 2|Add multi output time steps|1|1|1|0|4|**2**|"
   ]
  },
  {
   "cell_type": "markdown",
   "metadata": {
    "colab_type": "text",
    "id": "VdD4pTXkYfKd"
   },
   "source": [
    "## Data preparation\n",
    "\n",
    "We will use the same data set as model 1"
   ]
  },
  {
   "cell_type": "code",
   "execution_count": null,
   "metadata": {
    "colab": {},
    "colab_type": "code",
    "id": "ZqK6nzShYfK7"
   },
   "outputs": [],
   "source": [
    "n_steps = 4\n",
    "n_labels = 1\n",
    "n_future = 2\n",
    "n_features = 1"
   ]
  },
  {
   "cell_type": "code",
   "execution_count": null,
   "metadata": {
    "colab": {
     "base_uri": "https://localhost:8080/",
     "height": 221
    },
    "colab_type": "code",
    "id": "5k0KkxJAYfLD",
    "outputId": "23c39bd4-52dd-4d0b-861e-6f538743abcf"
   },
   "outputs": [],
   "source": [
    "X, y = series2seq1(simple_df.Local_X, n_in=n_steps, n_out=n_future, dropnan=True)\n",
    "print(X.head(), X.shape)\n",
    "print(y.head(), y.shape)"
   ]
  },
  {
   "cell_type": "markdown",
   "metadata": {
    "colab_type": "text",
    "id": "mKbM_pjIYfLJ"
   },
   "source": [
    "### Split the data set\n"
   ]
  },
  {
   "cell_type": "code",
   "execution_count": null,
   "metadata": {
    "colab": {
     "base_uri": "https://localhost:8080/",
     "height": 34
    },
    "colab_type": "code",
    "id": "8qCHSVEdYfLM",
    "outputId": "511f9b8b-cd40-4859-a6ef-9c939737b023"
   },
   "outputs": [],
   "source": [
    "X_train, X_test, y_train, y_test = train_test_split(X,y, \n",
    "                                                    test_size=0.3, random_state=42)\n",
    "print(X_train.shape,X_test.shape, y_train.shape, y_test.shape)"
   ]
  },
  {
   "cell_type": "code",
   "execution_count": null,
   "metadata": {
    "colab": {
     "base_uri": "https://localhost:8080/",
     "height": 314
    },
    "colab_type": "code",
    "id": "nm-SCmTzYfLO",
    "outputId": "8d5ad867-aa31-4d51-b025-350dcf6c24c0"
   },
   "outputs": [],
   "source": [
    "### Standardize the data\n",
    "train_mean = X_train.mean()\n",
    "train_std = X_train.std()\n",
    "\n",
    "X_train = (X_train - train_mean) / train_std\n",
    "X_test = (X_test - train_mean) / train_std\n",
    "\n",
    "print(X_train.shape)\n",
    "X_train.describe()"
   ]
  },
  {
   "cell_type": "markdown",
   "metadata": {
    "colab_type": "text",
    "id": "vX7HpqYgYfLS"
   },
   "source": [
    "### Reshape data sets\n"
   ]
  },
  {
   "cell_type": "code",
   "execution_count": null,
   "metadata": {
    "colab": {},
    "colab_type": "code",
    "id": "6ngeMOjoYfLT"
   },
   "outputs": [],
   "source": [
    "X_train = X_train.values\n",
    "X_test = X_test.values\n",
    "# reshape into [# samples, # timesteps,# features]\n",
    "X_train = X_train.reshape((X_train.shape[0], X_train.shape[1],1))\n",
    "X_test = X_test.reshape((X_test.shape[0], X_train.shape[1],1))"
   ]
  },
  {
   "cell_type": "markdown",
   "metadata": {
    "colab_type": "text",
    "id": "qZCqY4G8YfLX"
   },
   "source": [
    "## Prediction model"
   ]
  },
  {
   "cell_type": "code",
   "execution_count": null,
   "metadata": {
    "colab": {
     "base_uri": "https://localhost:8080/",
     "height": 1000
    },
    "colab_type": "code",
    "id": "hsxmQX-oYfLc",
    "outputId": "d1c8ca91-e4a8-48a8-cfeb-238676edf371"
   },
   "outputs": [],
   "source": [
    "# define model\n",
    "model = Sequential()\n",
    "model.add(LSTM(50, activation='relu', input_shape=(X_train.shape[1],1)))\n",
    "model.add(Dense(n_labels*n_future))\n",
    "model.compile(optimizer='adam', loss='mse', metrics=['mse'])\n",
    "\n",
    "# For saving the best model during the whole training process.\n",
    "#checkpointer = callbacks.ModelCheckpoint(filepath='BestModel.h5', monitor='val_loss', save_best_only=True)\n",
    "\n",
    "#### Interrupt training if `val_loss` stops improving for over 10 epochs #######\n",
    "stop_learn= tf.keras.callbacks.EarlyStopping(patience=10, monitor='val_loss')\n",
    "\n",
    "\n",
    "# fit model\n",
    "Monitor = model.fit(X_train, y_train, epochs=100, \n",
    "                    callbacks=[stop_learn],\n",
    "                    validation_data=(X_test, y_test), verbose=1)"
   ]
  },
  {
   "cell_type": "code",
   "execution_count": null,
   "metadata": {
    "colab": {
     "base_uri": "https://localhost:8080/",
     "height": 721
    },
    "colab_type": "code",
    "id": "CN9fbsC2YfLf",
    "outputId": "8c8f4ade-f920-44b6-df69-d18739165705"
   },
   "outputs": [],
   "source": [
    "hist = pd.DataFrame(Monitor.history)\n",
    "hist['epoch'] = Monitor.epoch\n",
    "fig, axes = plt.subplots(nrows=1, ncols=2,figsize=(10,4),dpi=150)\n",
    "hist[['loss','val_loss']].plot(ax=axes[0])\n",
    "hist[['mse','val_mse']].plot(ax=axes[1])\n",
    "plt.show()\n",
    "hist.tail()"
   ]
  },
  {
   "cell_type": "markdown",
   "metadata": {
    "colab_type": "text",
    "id": "hxHisMtfYfLh"
   },
   "source": [
    "## Evaluation \n"
   ]
  },
  {
   "cell_type": "code",
   "execution_count": null,
   "metadata": {
    "colab": {
     "base_uri": "https://localhost:8080/",
     "height": 136
    },
    "colab_type": "code",
    "id": "1fiNob-QYfLl",
    "outputId": "5fe573b6-7a80-4a45-a980-d4777b1c7b4a"
   },
   "outputs": [],
   "source": [
    "yhat = model.predict(X_test, verbose=1)\n",
    "rms += [sqrt(mean_squared_error(y_test, yhat))]\n",
    "print(yhat[:5])\n",
    "rms"
   ]
  },
  {
   "cell_type": "code",
   "execution_count": null,
   "metadata": {
    "colab": {
     "base_uri": "https://localhost:8080/",
     "height": 374
    },
    "colab_type": "code",
    "id": "c0X-AcYcYfLp",
    "outputId": "e4f2fe35-93d2-4a1e-bd45-3a2087211c52"
   },
   "outputs": [],
   "source": [
    "plt.figure(figsize=(15,6))\n",
    "for i in range(n_future):\n",
    "  plt.subplot(1,n_future,i+1)\n",
    "  plt.scatter(y_test.index,y_test.iloc[:,i], label = \"true Local_X at t+{}\".format(i),marker = 'X', )\n",
    "  plt.scatter(y_test.index,yhat[:,i], label = \"prediction Local_X at t+{}\".format(i),marker = '.')\n",
    "  plt.legend()\n",
    "plt.show()"
   ]
  },
  {
   "cell_type": "markdown",
   "metadata": {
    "colab_type": "text",
    "id": "ioyqvBnCbtrC"
   },
   "source": [
    "# Model 3\n",
    "\n",
    "|Model name|Description| # Car|# vars|# targets|# const_vars| # steps | # futures\n",
    "|---|:--|:-:|:-:|:-:|:-:|:-:|:-:|\n",
    "Model 3|Add multi input series|1|**2**|1|0|4|2|"
   ]
  },
  {
   "cell_type": "markdown",
   "metadata": {
    "colab_type": "text",
    "id": "a3JGzoGcbtrF"
   },
   "source": [
    "## Data preparation\n",
    "\n",
    "We will add one more feature v_Vel to the data set used in model 1 and 2"
   ]
  },
  {
   "cell_type": "code",
   "execution_count": null,
   "metadata": {
    "colab": {},
    "colab_type": "code",
    "id": "sOyTqpsIbtrH"
   },
   "outputs": [],
   "source": [
    "n_steps = 4\n",
    "n_future = 2\n",
    "n_features = 2\n",
    "feature_names = ['Local_X','v_Vel']\n",
    "target_names = ['Local_X']\n",
    "n_labels = len(target_names)\n",
    "n_features = len(feature_names)"
   ]
  },
  {
   "cell_type": "markdown",
   "metadata": {
    "colab_type": "text",
    "id": "QAh6xuiAchK7"
   },
   "source": [
    "### series2seq2: Function that return sequence input and output| Version 2\n",
    "\n",
    "**Arguments**:\n",
    "\n",
    "- data: Sequence of observations as a list or NumPy array.\n",
    "- n_in: Number of lag observations as input (X).\n",
    "- n_out: Number of observations as output (y).\n",
    "- **labels**: name of target variables\n",
    "- dropnan: Boolean whether or not to drop rows with NaN values.\n",
    "    \n",
    "**Returns**:\n",
    "- X: Feature Pandas DataFrame\n",
    "- y: Label Pandas dataframe\n",
    "\n",
    "  "
   ]
  },
  {
   "cell_type": "code",
   "execution_count": null,
   "metadata": {
    "colab": {
     "base_uri": "https://localhost:8080/",
     "height": 221
    },
    "colab_type": "code",
    "id": "zosQ4J4gchK-",
    "outputId": "8722037a-3c84-49fb-8c26-393a3ca625e9"
   },
   "outputs": [],
   "source": [
    "def series2seq2(data, n_in=1, n_out=1,labels=None, dropnan=True):\n",
    "\n",
    "    dat = data.copy()\n",
    "    if isinstance(dat,pd.Series):\n",
    "      features = [dat.name]\n",
    "      targets = [dat.name]\n",
    "    else:\n",
    "      features = dat.columns\n",
    "      if labels == None:\n",
    "        targets = dat.columns\n",
    "      else:\n",
    "        targets = labels\n",
    "    cols, names = list(), list()\n",
    "    # input sequence (t-n, ... t-1)\n",
    "    for i in range(n_in, 0, -1):\n",
    "        cols.append(dat.shift(i))\n",
    "        names += ['{}(t-{})'.format(j, i) for j in features ]\n",
    "    # forecast sequence (t, t+1, ... t+n) for selected labels\n",
    "    for i in range(0, n_out):\n",
    "        cols.append(dat[targets].shift(-i))\n",
    "        if i == 0:\n",
    "            names += ['{}(t)'.format(j) for j in targets]\n",
    "        else:\n",
    "            names += ['{}(t+{})'.format(j, i) for j in targets]\n",
    "    # put it all together\n",
    "    agg = pd.concat(cols, axis=1)\n",
    "    \n",
    "    agg.columns = names\n",
    "    # drop rows with NaN values\n",
    "    if dropnan:\n",
    "        agg.dropna(inplace=True)\n",
    "    X = agg.iloc[:,:len(features)*n_in]\n",
    "    y = agg.iloc[:,len(features)*n_in:].copy()\n",
    "    print(X.head(), X.shape)\n",
    "    print(y.head(), y.shape)\n",
    "    return X, y\n",
    "  \n",
    "# Test the function\n",
    "X, y = series2seq2(df[feature_names], n_in=2, n_out=1,labels = target_names, dropnan=False)"
   ]
  },
  {
   "cell_type": "code",
   "execution_count": null,
   "metadata": {
    "colab": {
     "base_uri": "https://localhost:8080/",
     "height": 255
    },
    "colab_type": "code",
    "id": "TVQE7cDsbtrW",
    "outputId": "bbb7444c-91e9-4d55-cd83-a70cca97e679"
   },
   "outputs": [],
   "source": [
    "X, y = series2seq2(simple_df[feature_names], n_in=n_steps, n_out=n_future,labels = target_names, dropnan=True)"
   ]
  },
  {
   "cell_type": "markdown",
   "metadata": {
    "colab_type": "text",
    "id": "QHrcxks7btrg"
   },
   "source": [
    "### Split the data set\n"
   ]
  },
  {
   "cell_type": "code",
   "execution_count": null,
   "metadata": {
    "colab": {
     "base_uri": "https://localhost:8080/",
     "height": 34
    },
    "colab_type": "code",
    "id": "M2H5JaY5btri",
    "outputId": "e1e13d55-cf90-450f-e13e-9e90b2131674"
   },
   "outputs": [],
   "source": [
    "X_train, X_test, y_train, y_test = train_test_split(X,y, \n",
    "                                                    test_size=0.3, random_state=42)\n",
    "print(X_train.shape,X_test.shape, y_train.shape, y_test.shape)"
   ]
  },
  {
   "cell_type": "code",
   "execution_count": null,
   "metadata": {
    "colab": {
     "base_uri": "https://localhost:8080/",
     "height": 314
    },
    "colab_type": "code",
    "id": "Qru7Mabfbtrs",
    "outputId": "bee18d71-2aaa-40ff-f536-9a2bfd42ea75"
   },
   "outputs": [],
   "source": [
    "### Standardize the data\n",
    "train_mean = X_train.mean()\n",
    "train_std = X_train.std()\n",
    "\n",
    "X_train = (X_train - train_mean) / train_std\n",
    "X_test = (X_test - train_mean) / train_std\n",
    "\n",
    "print(X_train.shape)\n",
    "X_train.describe()"
   ]
  },
  {
   "cell_type": "markdown",
   "metadata": {
    "colab_type": "text",
    "id": "yid-fYGUbtr2"
   },
   "source": [
    "### Reshape data sets\n"
   ]
  },
  {
   "cell_type": "code",
   "execution_count": null,
   "metadata": {
    "colab": {},
    "colab_type": "code",
    "id": "aMtsoImvbtr3"
   },
   "outputs": [],
   "source": [
    "X_train = X_train.values\n",
    "X_test = X_test.values\n",
    "# reshape into [# samples, # timesteps,# features]\n",
    "X_train = X_train.reshape((X_train.shape[0], X_train.shape[1],1))\n",
    "X_test = X_test.reshape((X_test.shape[0], X_train.shape[1],1))"
   ]
  },
  {
   "cell_type": "markdown",
   "metadata": {
    "colab_type": "text",
    "id": "dFBtjEOpbtsB"
   },
   "source": [
    "## Prediction model"
   ]
  },
  {
   "cell_type": "code",
   "execution_count": null,
   "metadata": {
    "colab": {
     "base_uri": "https://localhost:8080/",
     "height": 1000
    },
    "colab_type": "code",
    "id": "cblAIv6DbtsD",
    "outputId": "1193284b-1163-4cf6-aa28-03a4508fb6cc"
   },
   "outputs": [],
   "source": [
    "# define model\n",
    "model = Sequential()\n",
    "model.add(LSTM(50, activation='relu', input_shape=(X_train.shape[1],1)))\n",
    "model.add(Dense(n_labels*n_future))\n",
    "model.compile(optimizer='adam', loss='mse', metrics=['mse'])\n",
    "\n",
    "# For saving the best model during the whole training process.\n",
    "#checkpointer = callbacks.ModelCheckpoint(filepath='BestModel.h5', monitor='val_loss', save_best_only=True)\n",
    "\n",
    "#### Interrupt training if `val_loss` stops improving for over 10 epochs #######\n",
    "stop_learn= tf.keras.callbacks.EarlyStopping(patience=10, monitor='val_loss')\n",
    "\n",
    "\n",
    "# fit model\n",
    "Monitor = model.fit(X_train, y_train, epochs=100, \n",
    "                    callbacks=[stop_learn],\n",
    "                    validation_data=(X_test, y_test), verbose=1)"
   ]
  },
  {
   "cell_type": "code",
   "execution_count": null,
   "metadata": {
    "colab": {
     "base_uri": "https://localhost:8080/",
     "height": 721
    },
    "colab_type": "code",
    "id": "mqbWsgpfbtsG",
    "outputId": "0eb56233-ca8b-47e4-9304-106ba9293e38"
   },
   "outputs": [],
   "source": [
    "hist = pd.DataFrame(Monitor.history)\n",
    "hist['epoch'] = Monitor.epoch\n",
    "fig, axes = plt.subplots(nrows=1, ncols=2,figsize=(10,4),dpi=150)\n",
    "hist[['loss','val_loss']].plot(ax=axes[0])\n",
    "hist[['mse','val_mse']].plot(ax=axes[1])\n",
    "plt.show()\n",
    "hist.tail()"
   ]
  },
  {
   "cell_type": "markdown",
   "metadata": {
    "colab_type": "text",
    "id": "Pa6hWNFKbtsK"
   },
   "source": [
    "## Evaluation \n"
   ]
  },
  {
   "cell_type": "code",
   "execution_count": null,
   "metadata": {
    "colab": {
     "base_uri": "https://localhost:8080/",
     "height": 136
    },
    "colab_type": "code",
    "id": "KNgDeOrjbtsK",
    "outputId": "ae6ff674-2458-43f7-d04f-c3ef1ad6e80e"
   },
   "outputs": [],
   "source": [
    "yhat = model.predict(X_test, verbose=1)\n",
    "rms += [sqrt(mean_squared_error(y_test, yhat))]\n",
    "print(yhat[:5])\n",
    "rms"
   ]
  },
  {
   "cell_type": "code",
   "execution_count": null,
   "metadata": {
    "colab": {
     "base_uri": "https://localhost:8080/",
     "height": 374
    },
    "colab_type": "code",
    "id": "lZGxzOV6btsN",
    "outputId": "2c94982f-1ce0-4334-cc65-1e7e2546c04d"
   },
   "outputs": [],
   "source": [
    "plt.figure(figsize=(15,6))\n",
    "k = 1\n",
    "for i in range(n_future):\n",
    "  for j in range(1,n_labels+1):\n",
    "    plt.subplot(j,n_future,k)\n",
    "    plt.scatter(y_test.index,y_test.iloc[:,i], label = \"true Local_X at t+{}\".format(i),marker = 'X', )\n",
    "    plt.scatter(y_test.index,yhat[:,i], label = \"prediction Local_X at t+{}\".format(i),marker = '.')\n",
    "    plt.legend()\n",
    "    k+=1\n",
    "plt.show()"
   ]
  },
  {
   "cell_type": "markdown",
   "metadata": {
    "colab_type": "text",
    "id": "6Nj0chwbweGm"
   },
   "source": [
    "# Model 4\n",
    "\n",
    "|Model name|Description| # Car|# vars|# targets|# const_vars| # steps | # futures\n",
    "|---|:--|:-:|:-:|:-:|:-:|:-:|:-:|\n",
    "Model 4|Add multi `output` series|1|2|**2**|0|4|2|"
   ]
  },
  {
   "cell_type": "markdown",
   "metadata": {
    "colab_type": "text",
    "id": "1L7lCY-YweGn"
   },
   "source": [
    "## Data preparation\n",
    "\n",
    "We will use the same dataset of model 3"
   ]
  },
  {
   "cell_type": "code",
   "execution_count": null,
   "metadata": {
    "colab": {},
    "colab_type": "code",
    "id": "9TpqwtXHweGo"
   },
   "outputs": [],
   "source": [
    "n_steps = 4\n",
    "n_future = 2\n",
    "n_features = 2\n",
    "feature_names = ['Local_X','v_Vel']\n",
    "target_names = ['Local_X','v_Vel']\n",
    "n_labels = len(target_names)\n",
    "n_features = len(feature_names)"
   ]
  },
  {
   "cell_type": "code",
   "execution_count": null,
   "metadata": {
    "colab": {
     "base_uri": "https://localhost:8080/",
     "height": 255
    },
    "colab_type": "code",
    "id": "wOzPpsCFweGz",
    "outputId": "15e73479-18a9-4a1e-8b0b-6db525573edd"
   },
   "outputs": [],
   "source": [
    "X, y = series2seq2(simple_df[feature_names], n_in=n_steps, n_out=n_future,labels = target_names, dropnan=True)"
   ]
  },
  {
   "cell_type": "markdown",
   "metadata": {
    "colab_type": "text",
    "id": "o8EfH8pLweG4"
   },
   "source": [
    "### Split the data set\n"
   ]
  },
  {
   "cell_type": "code",
   "execution_count": null,
   "metadata": {
    "colab": {
     "base_uri": "https://localhost:8080/",
     "height": 34
    },
    "colab_type": "code",
    "id": "gtoWofP6weG5",
    "outputId": "3392d7e0-6ef4-4fe8-ca26-58d330606ee7"
   },
   "outputs": [],
   "source": [
    "X_train, X_test, y_train, y_test = train_test_split(X,y, \n",
    "                                                    test_size=0.3, random_state=42)\n",
    "print(X_train.shape,X_test.shape, y_train.shape, y_test.shape)"
   ]
  },
  {
   "cell_type": "code",
   "execution_count": null,
   "metadata": {
    "colab": {
     "base_uri": "https://localhost:8080/",
     "height": 314
    },
    "colab_type": "code",
    "id": "gkIu154JweG8",
    "outputId": "42643caa-ba3e-41fd-ca9a-8c52b6188352"
   },
   "outputs": [],
   "source": [
    "### Standardize the data\n",
    "train_mean = X_train.mean()\n",
    "train_std = X_train.std()\n",
    "\n",
    "X_train = (X_train - train_mean) / train_std\n",
    "X_test = (X_test - train_mean) / train_std\n",
    "\n",
    "print(X_train.shape)\n",
    "X_train.describe()"
   ]
  },
  {
   "cell_type": "markdown",
   "metadata": {
    "colab_type": "text",
    "id": "3XOb04M1weG_"
   },
   "source": [
    "### Reshape data sets\n"
   ]
  },
  {
   "cell_type": "code",
   "execution_count": null,
   "metadata": {
    "colab": {},
    "colab_type": "code",
    "id": "MUvIDgQaweHA"
   },
   "outputs": [],
   "source": [
    "X_train = X_train.values\n",
    "X_test = X_test.values\n",
    "# reshape into [# samples, # timesteps,# features]\n",
    "X_train = X_train.reshape((X_train.shape[0], X_train.shape[1],1))\n",
    "X_test = X_test.reshape((X_test.shape[0], X_train.shape[1],1))"
   ]
  },
  {
   "cell_type": "markdown",
   "metadata": {
    "colab_type": "text",
    "id": "hO9p6VOjweHD"
   },
   "source": [
    "## Prediction model"
   ]
  },
  {
   "cell_type": "code",
   "execution_count": null,
   "metadata": {
    "colab": {
     "base_uri": "https://localhost:8080/",
     "height": 1000
    },
    "colab_type": "code",
    "id": "wO-XWY6xweHE",
    "outputId": "2017ff96-196d-4336-a0e6-8af3bad4684c"
   },
   "outputs": [],
   "source": [
    "# define model\n",
    "model = Sequential()\n",
    "model.add(LSTM(50, activation='relu', input_shape=(X_train.shape[1],1)))\n",
    "model.add(Dense(n_labels*n_future))\n",
    "model.compile(optimizer='adam', loss='mse', metrics=['mse'])\n",
    "\n",
    "# For saving the best model during the whole training process.\n",
    "#checkpointer = callbacks.ModelCheckpoint(filepath='BestModel.h5', monitor='val_loss', save_best_only=True)\n",
    "\n",
    "#### Interrupt training if `val_loss` stops improving for over 10 epochs #######\n",
    "stop_learn= tf.keras.callbacks.EarlyStopping(patience=10, monitor='val_loss')\n",
    "\n",
    "\n",
    "# fit model\n",
    "Monitor = model.fit(X_train, y_train, epochs=100, \n",
    "                    callbacks=[stop_learn],\n",
    "                    validation_data=(X_test, y_test), verbose=1)"
   ]
  },
  {
   "cell_type": "code",
   "execution_count": null,
   "metadata": {
    "colab": {
     "base_uri": "https://localhost:8080/",
     "height": 721
    },
    "colab_type": "code",
    "id": "Oa1rcutTweHJ",
    "outputId": "59e6f696-4d2d-4207-ed35-bc263d999fe2"
   },
   "outputs": [],
   "source": [
    "hist = pd.DataFrame(Monitor.history)\n",
    "hist['epoch'] = Monitor.epoch\n",
    "fig, axes = plt.subplots(nrows=1, ncols=2,figsize=(10,4),dpi=150)\n",
    "hist[['loss','val_loss']].plot(ax=axes[0])\n",
    "hist[['mse','val_mse']].plot(ax=axes[1])\n",
    "plt.show()\n",
    "hist.tail()"
   ]
  },
  {
   "cell_type": "markdown",
   "metadata": {
    "colab_type": "text",
    "id": "706qyWluweHU"
   },
   "source": [
    "## Evaluation \n"
   ]
  },
  {
   "cell_type": "code",
   "execution_count": null,
   "metadata": {
    "colab": {
     "base_uri": "https://localhost:8080/",
     "height": 187
    },
    "colab_type": "code",
    "id": "PO5YGGVvweHV",
    "outputId": "a310aec2-ca72-413e-aa58-b6c597e58ec0"
   },
   "outputs": [],
   "source": [
    "yhat = model.predict(X_test, verbose=1)\n",
    "rms += [sqrt(mean_squared_error(y_test, yhat))]\n",
    "print(yhat[:5])\n",
    "rms"
   ]
  },
  {
   "cell_type": "code",
   "execution_count": null,
   "metadata": {
    "colab": {
     "base_uri": "https://localhost:8080/",
     "height": 592
    },
    "colab_type": "code",
    "id": "LvCLAIabweHc",
    "outputId": "ff7d6d24-b034-423d-8f23-502f9ea18b1d"
   },
   "outputs": [],
   "source": [
    "plt.figure(figsize=(n_labels*5,n_future*5))\n",
    "k = 1\n",
    "for i in range(n_future):\n",
    "  for j in range(1,n_labels+1):\n",
    "    plt.subplot(n_labels,n_future,k)\n",
    "    plt.scatter(y_test.index,y_test.iloc[:,i], label = \"true {} at t+{}\".format(target_names[j-1],i),marker = 'X', )\n",
    "    plt.scatter(y_test.index,yhat[:,i], label = \"prediction {} at t+{}\".format(target_names[j-1],i),marker = '.')\n",
    "    plt.legend()\n",
    "    k+=1\n",
    "plt.show()"
   ]
  },
  {
   "cell_type": "markdown",
   "metadata": {
    "colab_type": "text",
    "id": "rPGD-TRYVawS"
   },
   "source": [
    "# Model 5\n",
    "\n",
    "|Model name|Description| # Car|# vars|# targets|# const_vars| # steps | # futures\n",
    "|---|:--|:-:|:-:|:-:|:-:|:-:|:-:|\n",
    "Model 5|Add multi constant input|1|2|2|**2**|4|2|"
   ]
  },
  {
   "cell_type": "markdown",
   "metadata": {
    "colab_type": "text",
    "id": "asDySZW5VawW"
   },
   "source": [
    "## Data preparation\n",
    "\n",
    "We will add one two constant features `v_Length`, `v_Width` to the data set used in model 3 and 4"
   ]
  },
  {
   "cell_type": "code",
   "execution_count": null,
   "metadata": {
    "colab": {
     "base_uri": "https://localhost:8080/",
     "height": 204
    },
    "colab_type": "code",
    "id": "V-qwnp3GV78M",
    "outputId": "96a3cf7d-4c90-40ca-ac51-cd96700d6fec"
   },
   "outputs": [],
   "source": [
    "simple_df[[ 'Local_X', 'v_Vel', 'v_Length', 'v_Width']].head()"
   ]
  },
  {
   "cell_type": "code",
   "execution_count": null,
   "metadata": {
    "colab": {},
    "colab_type": "code",
    "id": "dQL81CsZVawZ"
   },
   "outputs": [],
   "source": [
    "n_steps = 4\n",
    "n_future = 2\n",
    "n_features = 2\n",
    "series_feature_names = ['Local_X','v_Vel']\n",
    "target_names = ['Local_X','v_Vel']\n",
    "n_labels = len(target_names)\n",
    "n_features = len(feature_names)\n",
    "const_feats = []"
   ]
  },
  {
   "cell_type": "markdown",
   "metadata": {
    "colab_type": "text",
    "id": "EDqldnJBb5Ol"
   },
   "source": [
    "### series2seq3: Function that return sequence input and output| Version 3\n",
    "\n",
    "**Arguments**:\n",
    "\n",
    "- data: Sequence of observations as a list or NumPy array.\n",
    "- n_in: Number of lag observations as input (X).\n",
    "- n_out: Number of observations as output (y).\n",
    "- **series_features**: names of series features\n",
    "- labels: name of target variables\n",
    "- dropnan: Boolean whether or not to drop rows with NaN values.\n",
    "    \n",
    "**Returns**:\n",
    "- X: Feature Pandas DataFrame\n",
    "- y: Label Pandas dataframe\n",
    "\n",
    "  "
   ]
  },
  {
   "cell_type": "code",
   "execution_count": null,
   "metadata": {
    "colab": {},
    "colab_type": "code",
    "id": "ZXESshRtb5O6"
   },
   "outputs": [],
   "source": [
    "def series2seq3(data, n_in=1, n_out=1,labels=None,series_features=None, dropnan=True):\n",
    "\n",
    "    dat = data.copy()\n",
    "    # check if the data set is univariable\n",
    "    if isinstance(dat,pd.Series):\n",
    "      features = [dat.name]\n",
    "      targets = [dat.name]\n",
    "    else:\n",
    "      features = dat.columns\n",
    "      if labels == None:\n",
    "        targets = dat.columns\n",
    "      else:\n",
    "        targets = labels\n",
    "    cols, names = list(), list()\n",
    "    # input sequence (t-n, ... t-1)\n",
    "    if series_features == None:\n",
    "      for i in range(n_in, 0, -1):\n",
    "        cols.append(dat.shift(i))\n",
    "        names += ['{}(t-{})'.format(j, i) for j in features ]\n",
    "    else:\n",
    "      for i in range(n_in, 0, -1):\n",
    "        cols.append(dat[series_features].shift(i))\n",
    "        names += ['{}(t-{})'.format(j, i) for j in series_features]\n",
    "    # forecast sequence (t, t+1, ... t+n) for selected labels\n",
    "    #print(targets)\n",
    "    for i in range(0, n_out):\n",
    "        cols.append(dat[targets].shift(-i))\n",
    "        if i == 0:\n",
    "            names += ['{}(t)'.format(j) for j in targets]\n",
    "        else:\n",
    "            names += ['{}(t+{})'.format(j, i) for j in targets]\n",
    "    # put it all together\n",
    "    agg = pd.concat(cols, axis=1)\n",
    "    agg.columns = names\n",
    "    # concatenate with constant features\n",
    "    \n",
    "    # drop rows with NaN values\n",
    "    if dropnan:\n",
    "        agg.dropna(inplace=True)\n",
    "    X = agg.iloc[:,:len(series_features)*n_in]\n",
    "    X = pd.concat([X,dat.drop(columns=series_features)], axis=1).dropna()\n",
    "    y = agg.iloc[:,len(series_features)*n_in:].copy()\n",
    "    #print(X.head(), X.shape)\n",
    "    #print(y.head(), y.shape)\n",
    "    return X, y\n",
    "  \n",
    "# Test the function\n",
    "X, y = series2seq3(simple_df[[ 'Local_X', 'v_Vel', 'v_Length', 'v_Width']], n_in=2, n_out=1,labels = target_names,series_features=series_feature_names, dropnan=True)"
   ]
  },
  {
   "cell_type": "code",
   "execution_count": null,
   "metadata": {
    "colab": {},
    "colab_type": "code",
    "id": "LlHiFxUXVawk"
   },
   "outputs": [],
   "source": [
    "X, y = series2seq3(simple_df[[ 'Local_X', 'v_Vel', 'v_Length', 'v_Width']], \n",
    "                   n_in=n_steps, n_out=n_future,\n",
    "                   labels = target_names,\n",
    "                   series_features=series_feature_names, \n",
    "                   dropnan=True)"
   ]
  },
  {
   "cell_type": "markdown",
   "metadata": {
    "colab_type": "text",
    "id": "J0kct8iXVawo"
   },
   "source": [
    "### Split the data set\n"
   ]
  },
  {
   "cell_type": "code",
   "execution_count": null,
   "metadata": {
    "colab": {
     "base_uri": "https://localhost:8080/",
     "height": 34
    },
    "colab_type": "code",
    "id": "jNB5NEX2Vawp",
    "outputId": "07d980a8-a3b9-4c87-868d-d153a7a08d0e"
   },
   "outputs": [],
   "source": [
    "X_train, X_test, y_train, y_test = train_test_split(X,y, \n",
    "                                                    test_size=0.3, random_state=42)\n",
    "print(X_train.shape,X_test.shape, y_train.shape, y_test.shape)"
   ]
  },
  {
   "cell_type": "code",
   "execution_count": null,
   "metadata": {
    "colab": {
     "base_uri": "https://localhost:8080/",
     "height": 297
    },
    "colab_type": "code",
    "id": "5iOVSRkYirre",
    "outputId": "03fc396b-5cea-4f0b-c012-ed40e30663c4"
   },
   "outputs": [],
   "source": [
    "X_train.describe()"
   ]
  },
  {
   "cell_type": "markdown",
   "metadata": {
    "colab_type": "text",
    "id": "D1sByOslVawu"
   },
   "source": [
    "### Reshape data sets\n"
   ]
  },
  {
   "cell_type": "code",
   "execution_count": null,
   "metadata": {
    "colab": {},
    "colab_type": "code",
    "id": "8pFq6ZzSVawv"
   },
   "outputs": [],
   "source": [
    "X_train = X_train.values\n",
    "X_test = X_test.values\n",
    "# reshape into [# samples, # timesteps,# features]\n",
    "X_train = X_train.reshape((X_train.shape[0], X_train.shape[1],1))\n",
    "X_test = X_test.reshape((X_test.shape[0], X_train.shape[1],1))"
   ]
  },
  {
   "cell_type": "markdown",
   "metadata": {
    "colab_type": "text",
    "id": "XJK8ymevVawx"
   },
   "source": [
    "## Prediction model"
   ]
  },
  {
   "cell_type": "code",
   "execution_count": null,
   "metadata": {
    "colab": {
     "base_uri": "https://localhost:8080/",
     "height": 1000
    },
    "colab_type": "code",
    "id": "LDyuViuCVawz",
    "outputId": "7b6f0810-7eef-4621-dca0-4096fa7a0c4a"
   },
   "outputs": [],
   "source": [
    "# define model\n",
    "model = Sequential()\n",
    "model.add(LSTM(50, activation='relu', input_shape=(X_train.shape[1],1)))\n",
    "model.add(Dense(n_labels*n_future))\n",
    "model.compile(optimizer='adam', loss='mse', metrics=['mse'])\n",
    "\n",
    "# For saving the best model during the whole training process.\n",
    "#checkpointer = callbacks.ModelCheckpoint(filepath='BestModel.h5', monitor='val_loss', save_best_only=True)\n",
    "\n",
    "#### Interrupt training if `val_loss` stops improving for over 10 epochs #######\n",
    "stop_learn= tf.keras.callbacks.EarlyStopping(patience=10, monitor='val_loss')\n",
    "\n",
    "\n",
    "# fit model\n",
    "Monitor = model.fit(X_train, y_train, epochs=100, \n",
    "                    callbacks=[stop_learn],\n",
    "                    validation_data=(X_test, y_test), verbose=1)"
   ]
  },
  {
   "cell_type": "code",
   "execution_count": null,
   "metadata": {
    "colab": {
     "base_uri": "https://localhost:8080/",
     "height": 721
    },
    "colab_type": "code",
    "id": "3Jnp3F6BVaw2",
    "outputId": "eae78d36-812b-47c4-a1c6-2df28d38171a"
   },
   "outputs": [],
   "source": [
    "hist = pd.DataFrame(Monitor.history)\n",
    "hist['epoch'] = Monitor.epoch\n",
    "fig, axes = plt.subplots(nrows=1, ncols=2,figsize=(10,4),dpi=150)\n",
    "hist[['loss','val_loss']].plot(ax=axes[0])\n",
    "hist[['mse','val_mse']].plot(ax=axes[1])\n",
    "plt.show()\n",
    "hist.tail()"
   ]
  },
  {
   "cell_type": "markdown",
   "metadata": {
    "colab_type": "text",
    "id": "n-eoPC1GVaw4"
   },
   "source": [
    "## Evaluation \n"
   ]
  },
  {
   "cell_type": "code",
   "execution_count": null,
   "metadata": {
    "colab": {
     "base_uri": "https://localhost:8080/",
     "height": 204
    },
    "colab_type": "code",
    "id": "QEaPTyuFVaw5",
    "outputId": "182d62c8-1e2f-4315-8ff6-4675a1be0194"
   },
   "outputs": [],
   "source": [
    "yhat = model.predict(X_test, verbose=1)\n",
    "rms += [sqrt(mean_squared_error(y_test, yhat))]\n",
    "print(yhat[:5])\n",
    "rms"
   ]
  },
  {
   "cell_type": "code",
   "execution_count": null,
   "metadata": {
    "colab": {
     "base_uri": "https://localhost:8080/",
     "height": 592
    },
    "colab_type": "code",
    "id": "1tDmMWShVaw7",
    "outputId": "92c49cb7-2f6d-4d77-fb1b-007fd128039b"
   },
   "outputs": [],
   "source": [
    "plt.figure(figsize=(n_labels*5,n_future*5))\n",
    "k = 1\n",
    "for i in range(n_future):\n",
    "  for j in range(1,n_labels+1):\n",
    "    plt.subplot(n_labels,n_future,k)\n",
    "    plt.scatter(y_test.index,y_test.iloc[:,i], label = \"true {} at t+{}\".format(target_names[j-1],i),marker = 'X', )\n",
    "    plt.scatter(y_test.index,yhat[:,i], label = \"prediction {} at t+{}\".format(target_names[j-1],i),marker = '.')\n",
    "    plt.legend()\n",
    "    k+=1\n",
    "plt.show()"
   ]
  },
  {
   "cell_type": "code",
   "execution_count": null,
   "metadata": {
    "colab": {},
    "colab_type": "code",
    "id": "TyClaCwgVaw-"
   },
   "outputs": [],
   "source": []
  },
  {
   "cell_type": "markdown",
   "metadata": {
    "colab_type": "text",
    "id": "URkO79MhjEie"
   },
   "source": [
    "# Model 6\n",
    "\n",
    "|Model name|Description| # Car|# vars|# targets|# const_vars| # steps | # futures\n",
    "|---|:--|:-:|:-:|:-:|:-:|:-:|:-:|\n",
    "Model 6|Add more objects|**4**|2|2|2|4|2|"
   ]
  },
  {
   "cell_type": "markdown",
   "metadata": {
    "colab_type": "text",
    "id": "j6am132AjEik"
   },
   "source": [
    "## Data preparation\n",
    "\n",
    "We will add 3 more objects to the dataset used in previous models"
   ]
  },
  {
   "cell_type": "code",
   "execution_count": null,
   "metadata": {
    "colab": {
     "base_uri": "https://localhost:8080/",
     "height": 34
    },
    "colab_type": "code",
    "id": "1HhL6dSaj1EG",
    "outputId": "8a2a5929-f8b3-4d68-d694-95643887dd75"
   },
   "outputs": [],
   "source": [
    "np.random.seed(23)\n",
    "veh_list = np.random.choice(df.Vehicle_ID.unique(),3)\n",
    "veh_list = np.append(veh_list,2582)\n",
    "veh_list"
   ]
  },
  {
   "cell_type": "code",
   "execution_count": null,
   "metadata": {
    "colab": {
     "base_uri": "https://localhost:8080/",
     "height": 425
    },
    "colab_type": "code",
    "id": "3esiZ1Mjk2Ep",
    "outputId": "f8b745f4-2626-4f21-ed74-d394124d6dda"
   },
   "outputs": [],
   "source": [
    "kept_cols = [ 'Vehicle_ID', 'Frame_ID','Local_X', 'v_Vel', 'v_Length', 'v_Width']\n",
    "simple_df = df[df.Vehicle_ID.isin(veh_list)].copy()[kept_cols]\n",
    "simple_df.info()\n",
    "simple_df.head()"
   ]
  },
  {
   "cell_type": "code",
   "execution_count": null,
   "metadata": {
    "colab": {},
    "colab_type": "code",
    "id": "91rKdjOJjEis"
   },
   "outputs": [],
   "source": [
    "n_steps = 4\n",
    "n_future = 2\n",
    "n_features = 2\n",
    "series_feature_names = ['Local_X','v_Vel']\n",
    "target_names = ['Local_X','v_Vel']\n",
    "n_labels = len(target_names)\n",
    "n_features = len(feature_names)"
   ]
  },
  {
   "cell_type": "markdown",
   "metadata": {
    "colab_type": "text",
    "id": "5SFOAKN-lzcL"
   },
   "source": [
    "### `treatment_cars` Function to prepare the data set for each car"
   ]
  },
  {
   "cell_type": "code",
   "execution_count": null,
   "metadata": {
    "colab": {
     "base_uri": "https://localhost:8080/",
     "height": 510
    },
    "colab_type": "code",
    "id": "M5ky3kaImbMD",
    "outputId": "4b149518-1263-4eb3-9e2d-8aa52cd0debe"
   },
   "outputs": [],
   "source": [
    "def treatment_cars(data, n_in=1, n_out=1,labels=None,series_features=None):\n",
    "  veh_ids = data.Vehicle_ID.unique()\n",
    "  dat_X, dat_y = pd.DataFrame(),pd.DataFrame()\n",
    "\n",
    "  for id in veh_ids:\n",
    "    dat = data[data.Vehicle_ID==id].copy()\n",
    "    X, y = series2seq3(dat.drop(columns=['Frame_ID']), n_in=n_in, n_out=n_out,labels = labels,series_features=series_features, dropnan=True)\n",
    "    dat_X = pd.concat([dat_X,X],ignore_index=True)\n",
    "    dat_y = pd.concat([dat_y,y],ignore_index=True)\n",
    "  print(dat_X.shape)\n",
    "  print(dat_y.shape)\n",
    "  return dat_X ,dat_y\n",
    "treatment_cars(simple_df,n_in=2, n_out=1, labels = target_names,series_features=series_feature_names,)"
   ]
  },
  {
   "cell_type": "code",
   "execution_count": null,
   "metadata": {
    "colab": {
     "base_uri": "https://localhost:8080/",
     "height": 51
    },
    "colab_type": "code",
    "id": "xoj_Y2vGjEiz",
    "outputId": "dec78d54-b49f-45d7-fb8d-b2a792738581"
   },
   "outputs": [],
   "source": [
    "X, y = treatment_cars(simple_df, \n",
    "                   n_in=n_steps, n_out=n_future,\n",
    "                   labels = target_names,\n",
    "                   series_features=series_feature_names)"
   ]
  },
  {
   "cell_type": "code",
   "execution_count": null,
   "metadata": {
    "colab": {
     "base_uri": "https://localhost:8080/",
     "height": 34
    },
    "colab_type": "code",
    "id": "UXmR-PgrZjCv",
    "outputId": "f625e8ce-9d42-4908-9678-f91d6b678602"
   },
   "outputs": [],
   "source": [
    "X.Vehicle_ID.unique()"
   ]
  },
  {
   "cell_type": "markdown",
   "metadata": {
    "colab_type": "text",
    "id": "khb40KuUjEi1"
   },
   "source": [
    "### Split the data set\n"
   ]
  },
  {
   "cell_type": "code",
   "execution_count": null,
   "metadata": {
    "colab": {
     "base_uri": "https://localhost:8080/",
     "height": 34
    },
    "colab_type": "code",
    "id": "Pf5IrbBXjEi2",
    "outputId": "0bd3b7e6-36d7-42fb-8f87-f6263936c0ef"
   },
   "outputs": [],
   "source": [
    "X_train, X_test, y_train, y_test = train_test_split(X,y, \n",
    "                                                    test_size=0.3, random_state=42)\n",
    "print(X_train.shape,X_test.shape, y_train.shape, y_test.shape)"
   ]
  },
  {
   "cell_type": "code",
   "execution_count": null,
   "metadata": {
    "colab": {
     "base_uri": "https://localhost:8080/",
     "height": 297
    },
    "colab_type": "code",
    "id": "Okzj3HAYjEi4",
    "outputId": "561b5983-f4a2-4d96-e4e4-8cdfecfebd93"
   },
   "outputs": [],
   "source": [
    "X_train.describe()"
   ]
  },
  {
   "cell_type": "code",
   "execution_count": null,
   "metadata": {
    "colab": {
     "base_uri": "https://localhost:8080/",
     "height": 314
    },
    "colab_type": "code",
    "id": "TA2zwnKjjEi7",
    "outputId": "389174cf-f42f-44a9-9ba3-4346f4faac7b"
   },
   "outputs": [],
   "source": [
    "### Standardize the data\n",
    "train_mean = X_train.mean()\n",
    "train_std = X_train.std()\n",
    "\n",
    "X_train = (X_train - train_mean) / train_std\n",
    "X_test = (X_test - train_mean) / train_std\n",
    "\n",
    "print(X_train.shape)\n",
    "X_train.describe()"
   ]
  },
  {
   "cell_type": "markdown",
   "metadata": {
    "colab_type": "text",
    "id": "c0w1QvP2jEi-"
   },
   "source": [
    "### Reshape data sets\n"
   ]
  },
  {
   "cell_type": "code",
   "execution_count": null,
   "metadata": {
    "colab": {},
    "colab_type": "code",
    "id": "uPInJ-B6jEi_"
   },
   "outputs": [],
   "source": [
    "X_train = X_train.values\n",
    "X_test = X_test.values\n",
    "# reshape into [# samples, # timesteps,# features]\n",
    "X_train = X_train.reshape((X_train.shape[0], X_train.shape[1],1))\n",
    "X_test = X_test.reshape((X_test.shape[0], X_train.shape[1],1))"
   ]
  },
  {
   "cell_type": "markdown",
   "metadata": {
    "colab_type": "text",
    "id": "pZSePIvEjEjD"
   },
   "source": [
    "## Prediction model"
   ]
  },
  {
   "cell_type": "code",
   "execution_count": null,
   "metadata": {
    "colab": {
     "base_uri": "https://localhost:8080/",
     "height": 1000
    },
    "colab_type": "code",
    "id": "vBD3pZqxjEjE",
    "outputId": "db986ec0-a412-43e9-9331-d1be9b8df568"
   },
   "outputs": [],
   "source": [
    "# define model\n",
    "model = Sequential()\n",
    "model.add(LSTM(50, activation='relu', input_shape=(X_train.shape[1],1)))\n",
    "model.add(Dense(n_labels*n_future))\n",
    "model.compile(optimizer='adam', loss='mse', metrics=['mse'])\n",
    "\n",
    "# For saving the best model during the whole training process.\n",
    "#checkpointer = callbacks.ModelCheckpoint(filepath='BestModel.h5', monitor='val_loss', save_best_only=True)\n",
    "\n",
    "#### Interrupt training if `val_loss` stops improving for over 10 epochs #######\n",
    "stop_learn= tf.keras.callbacks.EarlyStopping(patience=10, monitor='val_loss')\n",
    "\n",
    "\n",
    "# fit model\n",
    "Monitor = model.fit(X_train, y_train, epochs=100, \n",
    "                    callbacks=[stop_learn],\n",
    "                    validation_data=(X_test, y_test), verbose=1)"
   ]
  },
  {
   "cell_type": "code",
   "execution_count": null,
   "metadata": {
    "colab": {
     "base_uri": "https://localhost:8080/",
     "height": 721
    },
    "colab_type": "code",
    "id": "PFAw0JUFjEjH",
    "outputId": "48c841a9-4862-4c69-f029-4a9f3cba2dab"
   },
   "outputs": [],
   "source": [
    "hist = pd.DataFrame(Monitor.history)\n",
    "hist['epoch'] = Monitor.epoch\n",
    "fig, axes = plt.subplots(nrows=1, ncols=2,figsize=(10,4),dpi=150)\n",
    "hist[['loss','val_loss']].plot(ax=axes[0])\n",
    "hist[['mse','val_mse']].plot(ax=axes[1])\n",
    "plt.show()\n",
    "hist.tail()"
   ]
  },
  {
   "cell_type": "markdown",
   "metadata": {
    "colab_type": "text",
    "id": "2YWEoDw-jEjK"
   },
   "source": [
    "## Evaluation \n"
   ]
  },
  {
   "cell_type": "code",
   "execution_count": null,
   "metadata": {
    "colab": {
     "base_uri": "https://localhost:8080/",
     "height": 221
    },
    "colab_type": "code",
    "id": "yfS2BXNmjEjL",
    "outputId": "d8c1087c-df83-4dde-aca8-bdc09d58d4fb"
   },
   "outputs": [],
   "source": [
    "yhat = model.predict(X_test, verbose=1)\n",
    "rms += [sqrt(mean_squared_error(y_test, yhat))]\n",
    "print(yhat[:5])\n",
    "rms"
   ]
  },
  {
   "cell_type": "code",
   "execution_count": null,
   "metadata": {
    "colab": {
     "base_uri": "https://localhost:8080/",
     "height": 592
    },
    "colab_type": "code",
    "id": "5vGrHn-GjEjN",
    "outputId": "ecae6f1b-332e-4f37-ca4d-24de879e526b"
   },
   "outputs": [],
   "source": [
    "plt.figure(figsize=(n_labels*7,n_future*5))\n",
    "k = 0\n",
    "for i in range(n_future):\n",
    "  for j in range(n_labels):\n",
    "    plt.subplot(n_labels,n_future,k+1)\n",
    "    plt.scatter(y_test.index,y_test.iloc[:,k], label = \"true {} at t+{}\".format(target_names[j],i),marker = 'X', )\n",
    "    plt.scatter(y_test.index,yhat[:,k], label = \"prediction {} at t+{}\".format(target_names[j],i),marker = '.')\n",
    "    plt.legend()\n",
    "    k+=1\n",
    "plt.show()"
   ]
  },
  {
   "cell_type": "markdown",
   "metadata": {
    "colab_type": "text",
    "id": "dpJtfW0ynS76"
   },
   "source": [
    "# 1000 cars\n",
    "\n"
   ]
  },
  {
   "cell_type": "markdown",
   "metadata": {
    "colab_type": "text",
    "id": "KiKTSvpyfjgc"
   },
   "source": [
    "## Data preparation\n",
    "\n",
    "We will add 3 more objects to the dataset used in previous models"
   ]
  },
  {
   "cell_type": "code",
   "execution_count": null,
   "metadata": {
    "colab": {},
    "colab_type": "code",
    "id": "tjgzMixbfuM6"
   },
   "outputs": [],
   "source": [
    "np.random.seed(23)\n",
    "veh_list = np.random.choice(df.Vehicle_ID.unique(),1000)"
   ]
  },
  {
   "cell_type": "code",
   "execution_count": null,
   "metadata": {
    "colab": {
     "base_uri": "https://localhost:8080/",
     "height": 425
    },
    "colab_type": "code",
    "id": "hsbOazytfjgk",
    "outputId": "f2e9d426-dd8b-4ffd-b4a9-067035d3cd81"
   },
   "outputs": [],
   "source": [
    "kept_cols = [ 'Vehicle_ID', 'Frame_ID','Local_X', 'v_Vel', 'v_Length', 'v_Width']\n",
    "simple_df = df[df.Vehicle_ID.isin(veh_list)].copy()[kept_cols]\n",
    "simple_df.info()\n",
    "simple_df.head()"
   ]
  },
  {
   "cell_type": "code",
   "execution_count": null,
   "metadata": {
    "colab": {},
    "colab_type": "code",
    "id": "l2WIM9Kpfjgr"
   },
   "outputs": [],
   "source": [
    "n_steps = 4\n",
    "n_future = 2\n",
    "n_features = 2\n",
    "series_feature_names = ['Local_X','v_Vel']\n",
    "target_names = ['Local_X','v_Vel']\n",
    "n_labels = len(target_names)\n",
    "n_features = len(feature_names)"
   ]
  },
  {
   "cell_type": "markdown",
   "metadata": {
    "colab_type": "text",
    "id": "HE5A4Zr6fjgw"
   },
   "source": [
    "### `treatment_cars` Function to prepare the data set for each car"
   ]
  },
  {
   "cell_type": "code",
   "execution_count": null,
   "metadata": {
    "colab": {
     "base_uri": "https://localhost:8080/",
     "height": 510
    },
    "colab_type": "code",
    "id": "eMfscIdIfjgx",
    "outputId": "797d804e-b3da-4f7c-d766-f70b1b3b658c"
   },
   "outputs": [],
   "source": [
    "def treatment_cars(data, n_in=1, n_out=1,labels=None,series_features=None):\n",
    "  veh_ids = data.Vehicle_ID.unique()\n",
    "  dat_X, dat_y = pd.DataFrame(),pd.DataFrame()\n",
    "\n",
    "  for id in veh_ids:\n",
    "    dat = data[data.Vehicle_ID==id].copy()\n",
    "    X, y = series2seq3(dat.drop(columns=['Frame_ID']), n_in=n_in, n_out=n_out,labels = labels,series_features=series_features, dropnan=True)\n",
    "    dat_X = pd.concat([dat_X,X],ignore_index=True)\n",
    "    dat_y = pd.concat([dat_y,y],ignore_index=True)\n",
    "  print(dat_X.shape)\n",
    "  print(dat_y.shape)\n",
    "  return dat_X ,dat_y\n",
    "treatment_cars(simple_df,n_in=2, n_out=1, labels = target_names,series_features=series_feature_names,)"
   ]
  },
  {
   "cell_type": "code",
   "execution_count": null,
   "metadata": {
    "colab": {
     "base_uri": "https://localhost:8080/",
     "height": 51
    },
    "colab_type": "code",
    "id": "u4x_Zzjafjg3",
    "outputId": "44b9a7b1-cf61-4fc4-a8a3-6f4bdbfafe94"
   },
   "outputs": [],
   "source": [
    "X, y = treatment_cars(simple_df, \n",
    "                   n_in=n_steps, n_out=n_future,\n",
    "                   labels = target_names,\n",
    "                   series_features=series_feature_names)"
   ]
  },
  {
   "cell_type": "code",
   "execution_count": null,
   "metadata": {
    "colab": {
     "base_uri": "https://localhost:8080/",
     "height": 34
    },
    "colab_type": "code",
    "id": "8wA-FX19fjg8",
    "outputId": "f615b56a-5b6c-4f0b-ffeb-33bb52acc8de"
   },
   "outputs": [],
   "source": [
    "len(X.Vehicle_ID.unique())"
   ]
  },
  {
   "cell_type": "markdown",
   "metadata": {
    "colab_type": "text",
    "id": "kg1Z47orfjg_"
   },
   "source": [
    "### Split the data set\n"
   ]
  },
  {
   "cell_type": "code",
   "execution_count": null,
   "metadata": {
    "colab": {
     "base_uri": "https://localhost:8080/",
     "height": 34
    },
    "colab_type": "code",
    "id": "ZU47mZFqfjg_",
    "outputId": "30e2b2aa-32d4-41ea-a732-1e780bb57b6c"
   },
   "outputs": [],
   "source": [
    "X_train, X_test, y_train, y_test = train_test_split(X,y, \n",
    "                                                    test_size=0.3, random_state=42)\n",
    "print(X_train.shape,X_test.shape, y_train.shape, y_test.shape)"
   ]
  },
  {
   "cell_type": "code",
   "execution_count": null,
   "metadata": {
    "colab": {
     "base_uri": "https://localhost:8080/",
     "height": 297
    },
    "colab_type": "code",
    "id": "7m3-sJcCfjhG",
    "outputId": "33bf768d-fa79-4c89-daa4-0a22fb41ed1a"
   },
   "outputs": [],
   "source": [
    "X_train.describe()"
   ]
  },
  {
   "cell_type": "code",
   "execution_count": null,
   "metadata": {
    "colab": {
     "base_uri": "https://localhost:8080/",
     "height": 314
    },
    "colab_type": "code",
    "id": "URl0_Tl3fjhJ",
    "outputId": "286515a0-ccd5-44e4-d929-91c3c9ae9754"
   },
   "outputs": [],
   "source": [
    "### Standardize the data\n",
    "train_mean = X_train.mean()\n",
    "train_std = X_train.std()\n",
    "\n",
    "X_train = (X_train - train_mean) / train_std\n",
    "X_test = (X_test - train_mean) / train_std\n",
    "\n",
    "print(X_train.shape)\n",
    "X_train.describe()"
   ]
  },
  {
   "cell_type": "markdown",
   "metadata": {
    "colab_type": "text",
    "id": "mYAM1jpFfjhL"
   },
   "source": [
    "### Reshape data sets\n"
   ]
  },
  {
   "cell_type": "code",
   "execution_count": null,
   "metadata": {
    "colab": {},
    "colab_type": "code",
    "id": "nmQbf1orfjhM"
   },
   "outputs": [],
   "source": [
    "X_train = X_train.values\n",
    "X_test = X_test.values\n",
    "# reshape into [# samples, # timesteps,# features]\n",
    "X_train = X_train.reshape((X_train.shape[0], X_train.shape[1],1))\n",
    "X_test = X_test.reshape((X_test.shape[0], X_train.shape[1],1))"
   ]
  },
  {
   "cell_type": "markdown",
   "metadata": {
    "colab_type": "text",
    "id": "OruUcU72fjhO"
   },
   "source": [
    "## Prediction model"
   ]
  },
  {
   "cell_type": "code",
   "execution_count": null,
   "metadata": {
    "colab": {
     "base_uri": "https://localhost:8080/",
     "height": 34
    },
    "colab_type": "code",
    "id": "byac92_EgliF",
    "outputId": "0b52111c-734d-497c-f3a7-41e025c648e0"
   },
   "outputs": [],
   "source": [
    "import time\n",
    "time.time()"
   ]
  },
  {
   "cell_type": "code",
   "execution_count": null,
   "metadata": {
    "colab": {
     "base_uri": "https://localhost:8080/",
     "height": 1000
    },
    "colab_type": "code",
    "id": "64gOuT8tfjhP",
    "outputId": "bab9fc42-a66d-47fa-a4e7-bbdf5137118a"
   },
   "outputs": [],
   "source": [
    "# define model\n",
    "model = Sequential()\n",
    "model.add(LSTM(50, activation='relu', input_shape=(X_train.shape[1],1)))\n",
    "model.add(Dense(n_labels*n_future))\n",
    "model.compile(optimizer='adam', loss='mse', metrics=['mse'])\n",
    "\n",
    "# For saving the best model during the whole training process.\n",
    "#checkpointer = callbacks.ModelCheckpoint(filepath='BestModel.h5', monitor='val_loss', save_best_only=True)\n",
    "\n",
    "#### Interrupt training if `val_loss` stops improving for over 10 epochs #######\n",
    "stop_learn= tf.keras.callbacks.EarlyStopping(patience=10, monitor='val_loss')\n",
    "\n",
    "start = time.time()\n",
    "# fit model\n",
    "Monitor = model.fit(X_train, y_train, epochs=100, \n",
    "                    callbacks=[stop_learn],\n",
    "                    validation_data=(X_test, y_test), verbose=1)\n",
    "end = time.time()\n",
    "'Training time was {} sec'.format(end-start)"
   ]
  },
  {
   "cell_type": "code",
   "execution_count": null,
   "metadata": {
    "colab": {
     "base_uri": "https://localhost:8080/",
     "height": 721
    },
    "colab_type": "code",
    "id": "2BqkIl46fjhR",
    "outputId": "aaafe6dd-50f0-481c-fd14-fe7ab62f07de"
   },
   "outputs": [],
   "source": [
    "hist = pd.DataFrame(Monitor.history)\n",
    "hist['epoch'] = Monitor.epoch\n",
    "fig, axes = plt.subplots(nrows=1, ncols=2,figsize=(10,4),dpi=150)\n",
    "hist[['loss','val_loss']].plot(ax=axes[0])\n",
    "hist[['mse','val_mse']].plot(ax=axes[1])\n",
    "plt.show()\n",
    "hist.tail()"
   ]
  },
  {
   "cell_type": "markdown",
   "metadata": {
    "colab_type": "text",
    "id": "RKxC7RXofjhU"
   },
   "source": [
    "## Evaluation \n"
   ]
  },
  {
   "cell_type": "code",
   "execution_count": null,
   "metadata": {
    "colab": {
     "base_uri": "https://localhost:8080/",
     "height": 238
    },
    "colab_type": "code",
    "id": "dmIK6w77fjhU",
    "outputId": "6e5fcde8-cd55-4382-b3a7-fd72b4af3857"
   },
   "outputs": [],
   "source": [
    "yhat = model.predict(X_test, verbose=1)\n",
    "rms += [sqrt(mean_squared_error(y_test, yhat))]\n",
    "print(yhat[:5])\n",
    "rms"
   ]
  },
  {
   "cell_type": "code",
   "execution_count": null,
   "metadata": {
    "colab": {
     "base_uri": "https://localhost:8080/",
     "height": 626
    },
    "colab_type": "code",
    "id": "NQfo9qkYfjhX",
    "outputId": "8c9b6034-6d72-4ae2-8cbe-6f58104ba59c"
   },
   "outputs": [],
   "source": [
    "plt.figure(figsize=(n_labels*5,n_future*5))\n",
    "k = 1\n",
    "for i in range(n_future):\n",
    "  for j in range(1,n_labels+1):\n",
    "    plt.subplot(n_labels,n_future,k)\n",
    "    plt.scatter(y_test.index,y_test.iloc[:,i], label = \"true {} at t+{}\".format(target_names[j-1],i),marker = 'X', )\n",
    "    plt.scatter(y_test.index,yhat[:,i], label = \"prediction {} at t+{}\".format(target_names[j-1],i),marker = '.')\n",
    "    plt.legend()\n",
    "    k+=1\n",
    "plt.show()"
   ]
  },
  {
   "cell_type": "markdown",
   "metadata": {
    "colab_type": "text",
    "id": "SgourblRic1l"
   },
   "source": [
    "# Conclusion\n",
    "\n",
    "Overview on the performance of all simple models\n",
    "\n",
    "|Model name|Description| # Car|# vars|# targets|# const_vars| # steps | # futures|RMS|Computing time|\n",
    "|---|:--|:-:|:-:|:-:|:-:|:-:|:-:|:-:|:-:|\n",
    "Model 1|Baseline model with multi input time steps|1|1|1|0|**4**|1|0.307|0.1sec| \n",
    "Model 2|Add multi output time steps|1|1|1|0|4|**2**|0.315|0.1|\n",
    "Model 3|Add multi input series|1|**2**|1|0|4|2|0.412|0.1|\n",
    "Model 4|Add multi `output` series|1|2|**2**|0|4|2| 0.831|0.1|\n",
    "Model 5|Add multi constant input|1|2|2|**2**|4|2|0.586|0.1|\n",
    "Model 6|Add more objects|**4**|2|2|2|4|2|0.752|0.1\n",
    "Model 6.1|Add much more objects|**1000**|2|2|2|4|2|0.385|2200sec (37min)"
   ]
  },
  {
   "cell_type": "markdown",
   "metadata": {
    "colab_type": "text",
    "id": "5rgsBKw41gpN"
   },
   "source": [
    "#END\n"
   ]
  }
 ],
 "metadata": {
  "colab": {
   "collapsed_sections": [],
   "include_colab_link": true,
   "name": "VTP_1.04_Summary of simple models.ipynb",
   "provenance": [],
   "toc_visible": true
  },
  "kernelspec": {
   "display_name": "Python 3",
   "language": "python",
   "name": "python3"
  },
  "language_info": {
   "codemirror_mode": {
    "name": "ipython",
    "version": 3
   },
   "file_extension": ".py",
   "mimetype": "text/x-python",
   "name": "python",
   "nbconvert_exporter": "python",
   "pygments_lexer": "ipython3",
   "version": "3.8.5"
  },
  "toc": {
   "base_numbering": 1,
   "nav_menu": {},
   "number_sections": true,
   "sideBar": true,
   "skip_h1_title": false,
   "title_cell": "Table of Contents",
   "title_sidebar": "Contents",
   "toc_cell": false,
   "toc_position": {},
   "toc_section_display": true,
   "toc_window_display": false
  }
 },
 "nbformat": 4,
 "nbformat_minor": 4
}
