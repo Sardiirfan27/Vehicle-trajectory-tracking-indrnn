{
 "cells": [
  {
   "cell_type": "markdown",
   "metadata": {
    "colab_type": "text",
    "id": "view-in-github"
   },
   "source": [
    "<a href=\"https://colab.research.google.com/github/duonghung86/Vehicle-trajectory-tracking/blob/master/Codes/VTP_1_10_Models_for_full_dataset.ipynb\" target=\"_parent\"><img src=\"https://colab.research.google.com/assets/colab-badge.svg\" alt=\"Open In Colab\"/></a>"
   ]
  },
  {
   "cell_type": "markdown",
   "metadata": {
    "colab_type": "text",
    "id": "pa49bUnKyRgF"
   },
   "source": [
    "# Developing models for full dataset\n",
    "---"
   ]
  },
  {
   "cell_type": "markdown",
   "metadata": {
    "colab_type": "text",
    "id": "XVhK72Pu1cJL"
   },
   "source": [
    "## Import packages"
   ]
  },
  {
   "cell_type": "code",
   "execution_count": 1,
   "metadata": {
    "ExecuteTime": {
     "end_time": "2020-08-21T20:16:12.937889Z",
     "start_time": "2020-08-21T20:16:03.058187Z"
    },
    "colab": {},
    "colab_type": "code",
    "id": "7rZnJaGTWQw0"
   },
   "outputs": [],
   "source": [
    "# General\n",
    "import numpy as np\n",
    "import time\n",
    "import os\n",
    "\n",
    "# Loading datasets\n",
    "from io import StringIO, BytesIO\n",
    "from zipfile import ZipFile\n",
    "import urllib.request\n",
    "\n",
    "# For data processing\n",
    "import pandas as pd\n",
    "from sklearn.model_selection import train_test_split\n",
    "\n",
    "# Evaluation\n",
    "from sklearn.metrics import mean_squared_error\n",
    "from math import sqrt\n",
    "\n",
    "# For prediction model\n",
    "import tensorflow as tf\n",
    "from tensorflow.keras.models import Sequential\n",
    "from tensorflow.keras.layers import Dense\n",
    "from tensorflow.keras.layers import LSTM\n",
    "physical_devices = tf.config.list_physical_devices('GPU')\n",
    "tf.config.experimental.set_memory_growth(physical_devices[0], enable=True)\n",
    "\n",
    "# Visualization\n",
    "import matplotlib.pyplot as plt\n",
    "plt.rcParams['figure.figsize'] = (8, 6)"
   ]
  },
  {
   "cell_type": "markdown",
   "metadata": {
    "colab_type": "text",
    "id": "TokBlnUhWFw9"
   },
   "source": [
    "## Load dataset"
   ]
  },
  {
   "cell_type": "code",
   "execution_count": 18,
   "metadata": {},
   "outputs": [],
   "source": [
    "def url2pd(link):\n",
    "    with ZipFile(link) as my_zip_file:\n",
    "        for contained_file in my_zip_file.namelist():\n",
    "            fzip=my_zip_file.open(contained_file)\n",
    "            data=fzip.read()\n",
    "    s=str(data,'utf-8')\n",
    "    data = StringIO(s) \n",
    "    print('Done loading dataset %s !' % link)\n",
    "    return pd.read_csv(data)"
   ]
  },
  {
   "cell_type": "code",
   "execution_count": 3,
   "metadata": {},
   "outputs": [
    {
     "data": {
      "text/plain": [
       "['0750_0805_us101_smoothed_11_.zip',\n",
       " '0805_0820_us101_smoothed_11_.zip',\n",
       " '0820_0835_us101_smoothed_11_.zip',\n",
       " 'trajectories-0400-0415.zip',\n",
       " 'trajectories-0500-0515.zip',\n",
       " 'trajectories-0515-0530.zip']"
      ]
     },
     "execution_count": 3,
     "metadata": {},
     "output_type": "execute_result"
    }
   ],
   "source": [
    "filenames = os.listdir('./Data')\n",
    "filenames"
   ]
  },
  {
   "cell_type": "code",
   "execution_count": 9,
   "metadata": {},
   "outputs": [],
   "source": [
    "# Set constant values\n",
    "HISTORY_LENGTH = 3\n",
    "FUTURE_LENGTH = 5\n",
    "n_steps = int(HISTORY_LENGTH/0.2)\n",
    "n_future = int(FUTURE_LENGTH/0.2)\n",
    "n_features = len(df)\n",
    "target_names = ['Local_X','v_Vel']"
   ]
  },
  {
   "cell_type": "code",
   "execution_count": 20,
   "metadata": {},
   "outputs": [
    {
     "data": {
      "text/plain": [
       "(array([[0, 1, 2],\n",
       "        [1, 2, 3],\n",
       "        [2, 3, 4],\n",
       "        [3, 4, 5]]),\n",
       " array([[3, 5],\n",
       "        [4, 6],\n",
       "        [5, 7],\n",
       "        [6, 8]]))"
      ]
     },
     "execution_count": 20,
     "metadata": {},
     "output_type": "execute_result"
    }
   ],
   "source": [
    "def single_series2seq(series,past=4,future=1,past_step=1, future_step=1):\n",
    "    # length of sequences \n",
    "    length = past + future\n",
    "    seq = series.copy()\n",
    "    # add rolled series\n",
    "    for i in range(length-1):\n",
    "        seq = np.vstack((seq,np.roll(series,i+1)))\n",
    "    seq = np.flip(seq.T,1)\n",
    "    seq = seq[length-1:,:]\n",
    "    # Prepare output\n",
    "    X = seq[:,:past:past_step]\n",
    "    Y = seq[:,past::future_step]\n",
    "    return X,Y\n",
    "data = np.arange(10)\n",
    "single_series2seq(data,past = 3, future = 4,future_step=2)"
   ]
  },
  {
   "cell_type": "code",
   "execution_count": 21,
   "metadata": {},
   "outputs": [
    {
     "data": {
      "text/plain": [
       "(array([[ 0,  2,  4,  1,  3,  5],\n",
       "        [ 2,  4,  6,  3,  5,  7],\n",
       "        [ 4,  6,  8,  5,  7,  9],\n",
       "        [ 6,  8, 10,  7,  9, 11]]),\n",
       " array([[ 6,  8, 10, 12,  7,  9, 11, 13],\n",
       "        [ 8, 10, 12, 14,  9, 11, 13, 15],\n",
       "        [10, 12, 14, 16, 11, 13, 15, 17],\n",
       "        [12, 14, 16, 18, 13, 15, 17, 19]]))"
      ]
     },
     "execution_count": 21,
     "metadata": {},
     "output_type": "execute_result"
    }
   ],
   "source": [
    "def multi_series2seq(mulseries,**kwarg):\n",
    "    # number of series\n",
    "    n_series = mulseries.shape[1]\n",
    "    seq = mulseries.copy()\n",
    "    X,Y = single_series2seq(seq[:,0],past = kwarg['past'],future = kwarg['future'],\n",
    "                           future_step = kwarg['future_step'])\n",
    "    for i in range(1,n_series):\n",
    "        newX,newY = single_series2seq(seq[:,i],past = kwarg['past'],future = kwarg['future'],\n",
    "                           future_step = kwarg['future_step'])\n",
    "        X = np.column_stack((X,newX))\n",
    "        Y = np.column_stack((Y,newY))\n",
    "    return X,Y\n",
    "data = np.arange(20).reshape(-1,2)\n",
    "multi_series2seq(mulseries = data,past = 3, future = 4,future_step=1)"
   ]
  },
  {
   "cell_type": "code",
   "execution_count": 23,
   "metadata": {},
   "outputs": [],
   "source": [
    "# multiple objects\n",
    "def multi_obj2seq(data, **kwarg):\n",
    "    veh_ids = data.Vehicle_ID.unique()\n",
    "    X,Y = np.array([]), np.array([])\n",
    "    for id in veh_ids:\n",
    "        dat = data[data.Vehicle_ID==id][target_names].copy()\n",
    "        newX,newY = multi_series2seq(dat.values ,past = kwarg['past'],future = kwarg['future'],\n",
    "                           future_step = kwarg['future_step'])\n",
    "        #print(X.shape, newX.shape)\n",
    "        X = np.vstack((X,newX)) if X.size else newX\n",
    "        Y = np.vstack((Y,newY)) if Y.size else newY\n",
    "        #print(X.shape)\n",
    "    if kwarg[\"show_result\"]:\n",
    "        print(X.shape)\n",
    "        print(Y.shape)\n",
    "    return X, Y"
   ]
  },
  {
   "cell_type": "code",
   "execution_count": 24,
   "metadata": {},
   "outputs": [
    {
     "name": "stdout",
     "output_type": "stream",
     "text": [
      "0750_0805_us101_smoothed_11_.zip\n",
      "Done loading dataset ./Data/0750_0805_us101_smoothed_11_.zip !\n",
      "(1048575, 18)\n",
      "After filtering: (524288, 18)\n",
      "The number of vehicles is 1993\n",
      "Converting to sequences ...\n",
      "(446561, 30)\n",
      "(446561, 10)\n",
      "0805_0820_us101_smoothed_11_.zip\n",
      "Done loading dataset ./Data/0805_0820_us101_smoothed_11_.zip !\n",
      "(1048575, 18)\n",
      "After filtering: (524288, 18)\n",
      "The number of vehicles is 1533\n",
      "Converting to sequences ...\n",
      "(464501, 30)\n",
      "(464501, 10)\n",
      "0820_0835_us101_smoothed_11_.zip\n",
      "Done loading dataset ./Data/0820_0835_us101_smoothed_11_.zip !\n",
      "(1048575, 18)\n",
      "After filtering: (524288, 18)\n",
      "The number of vehicles is 1298\n",
      "Converting to sequences ...\n",
      "(473671, 30)\n",
      "(473671, 10)\n",
      "trajectories-0400-0415.zip\n",
      "Done loading dataset ./Data/trajectories-0400-0415.zip !\n",
      "(1048575, 18)\n",
      "After filtering: (524288, 18)\n",
      "The number of vehicles is 1725\n",
      "Converting to sequences ...\n",
      "(457013, 30)\n",
      "(457013, 10)\n",
      "trajectories-0500-0515.zip\n",
      "Done loading dataset ./Data/trajectories-0500-0515.zip !\n",
      "(1048575, 18)\n",
      "After filtering: (524288, 18)\n",
      "The number of vehicles is 1416\n",
      "Converting to sequences ...\n",
      "(469064, 30)\n",
      "(469064, 10)\n",
      "trajectories-0515-0530.zip\n",
      "Done loading dataset ./Data/trajectories-0515-0530.zip !\n",
      "(1048575, 18)\n",
      "After filtering: (524288, 18)\n",
      "The number of vehicles is 1242\n",
      "Converting to sequences ...\n",
      "(475850, 30)\n",
      "(475850, 10)\n"
     ]
    }
   ],
   "source": [
    "X,Y = np.array([]), np.array([])\n",
    "for file in filenames:\n",
    "    print(file)\n",
    "    url = './Data/' + file\n",
    "    df = url2pd(url)\n",
    "    # Filter time step\n",
    "    print(df.shape)\n",
    "    df = df.iloc[::2,:].copy()\n",
    "    df.reset_index(drop=True, inplace=True)\n",
    "    print('After filtering:', df.shape)\n",
    "    #  keep only columns that are useful for now\n",
    "    kept_cols = ['Vehicle_ID', 'Frame_ID', 'Total_Frames', 'Local_X','Local_Y','v_Length', 'v_Width', 'v_Class',\n",
    "           'v_Vel', 'v_Acc', 'Lane_ID']\n",
    "    df = df[kept_cols]\n",
    "    print('The number of vehicles is {}'.format(len(df.Vehicle_ID.unique())))\n",
    "    print('Converting to sequences ...')\n",
    "    newX, newY = multi_obj2seq(df,past = n_steps, future = n_future,future_step=5, show_result=True)\n",
    "    X = np.vstack((X,newX)) if X.size else newX\n",
    "    Y = np.vstack((Y,newY)) if Y.size else newY"
   ]
  },
  {
   "cell_type": "markdown",
   "metadata": {
    "colab_type": "text",
    "id": "UXbKv-3AVjCs"
   },
   "source": [
    "### Split the data set\n"
   ]
  },
  {
   "cell_type": "code",
   "execution_count": 25,
   "metadata": {},
   "outputs": [
    {
     "data": {
      "text/plain": [
       "((2786660, 30), (2786660, 10))"
      ]
     },
     "execution_count": 25,
     "metadata": {},
     "output_type": "execute_result"
    }
   ],
   "source": [
    "X.shape, Y.shape"
   ]
  },
  {
   "cell_type": "code",
   "execution_count": 26,
   "metadata": {
    "colab": {
     "base_uri": "https://localhost:8080/",
     "height": 34
    },
    "colab_type": "code",
    "id": "qtmwVnZgVmhg",
    "outputId": "b75ad653-ce0d-4ed6-c2e0-59ed494cd066"
   },
   "outputs": [
    {
     "name": "stdout",
     "output_type": "stream",
     "text": [
      "(1950662, 30) (835998, 30) (1950662, 10) (835998, 10)\n"
     ]
    }
   ],
   "source": [
    "X_train, X_test, y_train, y_test = train_test_split(X,Y, \n",
    "                                                    test_size=0.3, random_state=42)\n",
    "print(X_train.shape,X_test.shape, y_train.shape, y_test.shape)"
   ]
  },
  {
   "cell_type": "code",
   "execution_count": 27,
   "metadata": {
    "colab": {
     "base_uri": "https://localhost:8080/",
     "height": 419
    },
    "colab_type": "code",
    "id": "bVBQUUntVtJw",
    "outputId": "85b0311e-28d0-4dc4-f6c4-962b082d113f"
   },
   "outputs": [
    {
     "name": "stdout",
     "output_type": "stream",
     "text": [
      "(1950662, 30)\n"
     ]
    },
    {
     "data": {
      "text/plain": [
       "(2.5300156106414927e-15, 0.999999999999999)"
      ]
     },
     "execution_count": 27,
     "metadata": {},
     "output_type": "execute_result"
    }
   ],
   "source": [
    "### Standardize the data\n",
    "train_mean = X_train.mean()\n",
    "train_std = X_train.std()\n",
    "\n",
    "X_train = (X_train - train_mean) / train_std\n",
    "X_test = (X_test - train_mean) / train_std\n",
    "\n",
    "print(X_train.shape)\n",
    "X_train.mean(), X_train.std()"
   ]
  },
  {
   "cell_type": "code",
   "execution_count": 28,
   "metadata": {},
   "outputs": [],
   "source": [
    "X_train = X_train.reshape((X_train.shape[0], X_train.shape[1],1))\n",
    "X_test = X_test.reshape((X_test.shape[0], X_train.shape[1],1))\n"
   ]
  },
  {
   "cell_type": "code",
   "execution_count": 29,
   "metadata": {},
   "outputs": [
    {
     "data": {
      "text/plain": [
       "((1950662, 30, 1), (835998, 30, 1))"
      ]
     },
     "execution_count": 29,
     "metadata": {},
     "output_type": "execute_result"
    }
   ],
   "source": [
    "X_train.shape,X_test.shape"
   ]
  },
  {
   "cell_type": "markdown",
   "metadata": {
    "colab_type": "text",
    "id": "hO9p6VOjweHD"
   },
   "source": [
    "## Prediction model"
   ]
  },
  {
   "cell_type": "code",
   "execution_count": 32,
   "metadata": {
    "colab": {
     "base_uri": "https://localhost:8080/",
     "height": 1000
    },
    "colab_type": "code",
    "id": "wO-XWY6xweHE",
    "outputId": "bf08d054-1ac4-46c3-858d-d6a77cb2ffba"
   },
   "outputs": [
    {
     "name": "stdout",
     "output_type": "stream",
     "text": [
      "Epoch 1/50\n",
      "1905/1905 [==============================] - 28s 12ms/step - loss: 542.8395 - mse: 542.8395 - val_loss: 74.5285 - val_mse: 74.5285\n",
      "Epoch 2/50\n",
      "1905/1905 [==============================] - 21s 11ms/step - loss: 48.1419 - mse: 48.1419 - val_loss: 17.4895 - val_mse: 17.4895\n",
      "Epoch 3/50\n",
      "1905/1905 [==============================] - 21s 11ms/step - loss: 15.8198 - mse: 15.8198 - val_loss: 13.1642 - val_mse: 13.1642\n",
      "Epoch 4/50\n",
      "1905/1905 [==============================] - 21s 11ms/step - loss: 12.7810 - mse: 12.7810 - val_loss: 12.1099 - val_mse: 12.1099\n",
      "Epoch 5/50\n",
      "1905/1905 [==============================] - 21s 11ms/step - loss: 12.0132 - mse: 12.0132 - val_loss: 11.8173 - val_mse: 11.8173\n",
      "Epoch 6/50\n",
      "1905/1905 [==============================] - 21s 11ms/step - loss: 11.7536 - mse: 11.7536 - val_loss: 11.6438 - val_mse: 11.6438\n",
      "Epoch 7/50\n",
      "1905/1905 [==============================] - 21s 11ms/step - loss: 11.6728 - mse: 11.6728 - val_loss: 11.6121 - val_mse: 11.6121\n",
      "Epoch 8/50\n",
      "1905/1905 [==============================] - 21s 11ms/step - loss: 11.5944 - mse: 11.5944 - val_loss: 11.5289 - val_mse: 11.5289\n",
      "Epoch 9/50\n",
      "1905/1905 [==============================] - 21s 11ms/step - loss: 11.5285 - mse: 11.5285 - val_loss: 11.4761 - val_mse: 11.4761\n",
      "Epoch 10/50\n",
      "1905/1905 [==============================] - 21s 11ms/step - loss: 11.4629 - mse: 11.4629 - val_loss: 11.4506 - val_mse: 11.4506\n",
      "Epoch 11/50\n",
      "1905/1905 [==============================] - 21s 11ms/step - loss: 11.4201 - mse: 11.4201 - val_loss: 11.3557 - val_mse: 11.3557\n",
      "Epoch 12/50\n",
      "1905/1905 [==============================] - 21s 11ms/step - loss: 11.3713 - mse: 11.3713 - val_loss: 11.3320 - val_mse: 11.3320\n",
      "Epoch 13/50\n",
      "1905/1905 [==============================] - 21s 11ms/step - loss: 11.3481 - mse: 11.3481 - val_loss: 11.3080 - val_mse: 11.3080\n",
      "Epoch 14/50\n",
      "1905/1905 [==============================] - 21s 11ms/step - loss: 11.3031 - mse: 11.3031 - val_loss: 11.2667 - val_mse: 11.2667\n",
      "Epoch 15/50\n",
      "1905/1905 [==============================] - 21s 11ms/step - loss: 11.2629 - mse: 11.2629 - val_loss: 11.2650 - val_mse: 11.2650\n",
      "Epoch 16/50\n",
      "1905/1905 [==============================] - 21s 11ms/step - loss: 11.2428 - mse: 11.2428 - val_loss: 11.2302 - val_mse: 11.2302\n",
      "Epoch 17/50\n",
      "1905/1905 [==============================] - 21s 11ms/step - loss: 11.2192 - mse: 11.2192 - val_loss: 11.1675 - val_mse: 11.1675\n",
      "Epoch 18/50\n",
      "1905/1905 [==============================] - 21s 11ms/step - loss: 11.2009 - mse: 11.2009 - val_loss: 11.1454 - val_mse: 11.1454\n",
      "Epoch 19/50\n",
      "1905/1905 [==============================] - 22s 12ms/step - loss: 11.1623 - mse: 11.1623 - val_loss: 11.1466 - val_mse: 11.1466\n",
      "Epoch 20/50\n",
      "1905/1905 [==============================] - 21s 11ms/step - loss: 11.1207 - mse: 11.1207 - val_loss: 11.1035 - val_mse: 11.1035\n",
      "Epoch 21/50\n",
      "1905/1905 [==============================] - 21s 11ms/step - loss: 11.1137 - mse: 11.1137 - val_loss: 11.2248 - val_mse: 11.2248\n",
      "Epoch 22/50\n",
      "1905/1905 [==============================] - 21s 11ms/step - loss: 11.0795 - mse: 11.0795 - val_loss: 11.0673 - val_mse: 11.0673\n",
      "Epoch 23/50\n",
      "1905/1905 [==============================] - 21s 11ms/step - loss: 11.0868 - mse: 11.0868 - val_loss: 11.0735 - val_mse: 11.0735\n",
      "Epoch 24/50\n",
      "1905/1905 [==============================] - 22s 11ms/step - loss: 11.0383 - mse: 11.0383 - val_loss: 11.0869 - val_mse: 11.0869\n",
      "Epoch 25/50\n",
      "1905/1905 [==============================] - 22s 11ms/step - loss: 11.0457 - mse: 11.0457 - val_loss: 11.0209 - val_mse: 11.0209\n",
      "Epoch 26/50\n",
      "1905/1905 [==============================] - 22s 11ms/step - loss: 11.0445 - mse: 11.0445 - val_loss: 11.0533 - val_mse: 11.0533\n",
      "Epoch 27/50\n",
      "1905/1905 [==============================] - 22s 12ms/step - loss: 11.0113 - mse: 11.0113 - val_loss: 11.0183 - val_mse: 11.0183\n",
      "Epoch 28/50\n",
      "1905/1905 [==============================] - 22s 11ms/step - loss: 10.9935 - mse: 10.9935 - val_loss: 11.0118 - val_mse: 11.0118\n",
      "Epoch 29/50\n",
      "1905/1905 [==============================] - 22s 11ms/step - loss: 10.9604 - mse: 10.9604 - val_loss: 10.9597 - val_mse: 10.9597\n",
      "Epoch 30/50\n",
      "1905/1905 [==============================] - 22s 11ms/step - loss: 10.9461 - mse: 10.9461 - val_loss: 10.9422 - val_mse: 10.9422\n",
      "Epoch 31/50\n",
      "1905/1905 [==============================] - 22s 11ms/step - loss: 10.9656 - mse: 10.9656 - val_loss: 10.9268 - val_mse: 10.9268\n",
      "Epoch 32/50\n",
      "1905/1905 [==============================] - 22s 11ms/step - loss: 10.9358 - mse: 10.9358 - val_loss: 10.9294 - val_mse: 10.9294\n",
      "Epoch 33/50\n",
      "1905/1905 [==============================] - 22s 12ms/step - loss: 10.9245 - mse: 10.9245 - val_loss: 10.9014 - val_mse: 10.9014\n",
      "Epoch 34/50\n",
      "1905/1905 [==============================] - 22s 11ms/step - loss: 10.8849 - mse: 10.8849 - val_loss: 10.8709 - val_mse: 10.8709\n",
      "Epoch 35/50\n",
      "1905/1905 [==============================] - 22s 11ms/step - loss: 10.8853 - mse: 10.8853 - val_loss: 10.8722 - val_mse: 10.8722\n",
      "Epoch 36/50\n",
      "1905/1905 [==============================] - 23s 12ms/step - loss: 10.8822 - mse: 10.8822 - val_loss: 10.8787 - val_mse: 10.8787\n",
      "Epoch 37/50\n",
      "1905/1905 [==============================] - 22s 11ms/step - loss: 10.8411 - mse: 10.8411 - val_loss: 10.8465 - val_mse: 10.8465\n",
      "Epoch 38/50\n",
      "1905/1905 [==============================] - 22s 11ms/step - loss: 10.8369 - mse: 10.8369 - val_loss: 10.8549 - val_mse: 10.8549\n",
      "Epoch 39/50\n",
      "1905/1905 [==============================] - 22s 11ms/step - loss: 10.8330 - mse: 10.8330 - val_loss: 10.8110 - val_mse: 10.8110\n",
      "Epoch 40/50\n",
      "1905/1905 [==============================] - 22s 11ms/step - loss: 10.8373 - mse: 10.8373 - val_loss: 10.8099 - val_mse: 10.8099\n",
      "Epoch 41/50\n",
      "1905/1905 [==============================] - 22s 11ms/step - loss: 10.8015 - mse: 10.8015 - val_loss: 10.7949 - val_mse: 10.7949\n",
      "Epoch 42/50\n",
      "1905/1905 [==============================] - 22s 11ms/step - loss: 10.8009 - mse: 10.8009 - val_loss: 10.7974 - val_mse: 10.7974\n",
      "Epoch 43/50\n",
      "1905/1905 [==============================] - 22s 12ms/step - loss: 10.7993 - mse: 10.7993 - val_loss: 10.8030 - val_mse: 10.8030\n",
      "Epoch 44/50\n",
      "1905/1905 [==============================] - 22s 11ms/step - loss: 10.7790 - mse: 10.7790 - val_loss: 10.7689 - val_mse: 10.7689\n",
      "Epoch 45/50\n",
      "1905/1905 [==============================] - 22s 12ms/step - loss: 10.7858 - mse: 10.7858 - val_loss: 10.7924 - val_mse: 10.7924\n",
      "Epoch 46/50\n",
      "1905/1905 [==============================] - 22s 11ms/step - loss: 10.7414 - mse: 10.7414 - val_loss: 10.7823 - val_mse: 10.7823\n",
      "Epoch 47/50\n",
      "1905/1905 [==============================] - 22s 11ms/step - loss: 10.7542 - mse: 10.7542 - val_loss: 10.7724 - val_mse: 10.7724\n",
      "Epoch 48/50\n",
      "1905/1905 [==============================] - 22s 11ms/step - loss: 10.7432 - mse: 10.7432 - val_loss: 10.7575 - val_mse: 10.7575\n",
      "Epoch 49/50\n",
      "1905/1905 [==============================] - 22s 12ms/step - loss: 10.7544 - mse: 10.7544 - val_loss: 10.7485 - val_mse: 10.7485\n",
      "Epoch 50/50\n",
      "1905/1905 [==============================] - 22s 11ms/step - loss: 10.7427 - mse: 10.7427 - val_loss: 10.7609 - val_mse: 10.7609\n",
      "Wall time: 18min 6s\n"
     ]
    }
   ],
   "source": [
    "%%time\n",
    "# define model\n",
    "model = Sequential()\n",
    "model.add(LSTM(50, activation='tanh', input_shape=(X_train.shape[1],1)))\n",
    "model.add(Dense(10))\n",
    "model.compile(optimizer='adam', loss='mse', metrics=['mse'])\n",
    "\n",
    "# For saving the best model during the whole training process.\n",
    "#checkpointer = callbacks.ModelCheckpoint(filepath='BestModel.h5', monitor='val_loss', save_best_only=True)\n",
    "\n",
    "#### Interrupt training if `val_loss` stops improving for over 10 epochs #######\n",
    "stop_learn= tf.keras.callbacks.EarlyStopping(patience=10, monitor='val_loss')\n",
    "\n",
    "\n",
    "# fit model\n",
    "Monitor = model.fit(X_train, y_train, epochs=50, batch_size= 1024,\n",
    "                    callbacks=[stop_learn],\n",
    "                    validation_data=(X_test, y_test), verbose=1)"
   ]
  },
  {
   "cell_type": "code",
   "execution_count": 33,
   "metadata": {
    "colab": {},
    "colab_type": "code",
    "id": "Oa1rcutTweHJ"
   },
   "outputs": [
    {
     "data": {
      "image/png": "[encoded data removed]",
      "text/plain": [
       "<Figure size 1500x600 with 2 Axes>"
      ]
     },
     "metadata": {
      "needs_background": "light"
     },
     "output_type": "display_data"
    }
   ],
   "source": [
    "hist = pd.DataFrame(Monitor.history)\n",
    "hist['epoch'] = Monitor.epoch\n",
    "fig, axes = plt.subplots(nrows=1, ncols=2,figsize=(10,4),dpi=150)\n",
    "hist[['loss','val_loss']].plot(ax=axes[0])\n",
    "hist[['mse','val_mse']].plot(ax=axes[1])\n",
    "plt.show()"
   ]
  },
  {
   "cell_type": "markdown",
   "metadata": {
    "colab_type": "text",
    "id": "2YWEoDw-jEjK"
   },
   "source": [
    "## Evaluation \n"
   ]
  },
  {
   "cell_type": "code",
   "execution_count": 34,
   "metadata": {},
   "outputs": [
    {
     "name": "stdout",
     "output_type": "stream",
     "text": [
      "26125/26125 [==============================] - 73s 3ms/step - loss: 10.7609 - mse: 10.7609\n"
     ]
    },
    {
     "data": {
      "text/plain": [
       "3.2803764997113363"
      ]
     },
     "execution_count": 34,
     "metadata": {},
     "output_type": "execute_result"
    }
   ],
   "source": [
    "loss, mse = model.evaluate(X_test,y_test, verbose=1)\n",
    "sqrt(mse)"
   ]
  },
  {
   "cell_type": "code",
   "execution_count": 35,
   "metadata": {},
   "outputs": [
    {
     "name": "stdout",
     "output_type": "stream",
     "text": [
      "26125/26125 [==============================] - 51s 2ms/step\n"
     ]
    }
   ],
   "source": [
    "y_hat = model.predict(X_test, verbose=1)"
   ]
  },
  {
   "cell_type": "code",
   "execution_count": null,
   "metadata": {},
   "outputs": [],
   "source": [
    "y_test.shape"
   ]
  },
  {
   "cell_type": "code",
   "execution_count": 39,
   "metadata": {},
   "outputs": [
    {
     "data": {
      "text/html": [
       "<div>\n",
       "<style scoped>\n",
       "    .dataframe tbody tr th:only-of-type {\n",
       "        vertical-align: middle;\n",
       "    }\n",
       "\n",
       "    .dataframe tbody tr th {\n",
       "        vertical-align: top;\n",
       "    }\n",
       "\n",
       "    .dataframe thead th {\n",
       "        text-align: right;\n",
       "    }\n",
       "</style>\n",
       "<table border=\"1\" class=\"dataframe\">\n",
       "  <thead>\n",
       "    <tr style=\"text-align: right;\">\n",
       "      <th></th>\n",
       "      <th>1s</th>\n",
       "      <th>2s</th>\n",
       "      <th>3s</th>\n",
       "      <th>4s</th>\n",
       "      <th>5s</th>\n",
       "    </tr>\n",
       "  </thead>\n",
       "  <tbody>\n",
       "    <tr>\n",
       "      <th>Local_X</th>\n",
       "      <td>0.351</td>\n",
       "      <td>0.632</td>\n",
       "      <td>0.969</td>\n",
       "      <td>1.262</td>\n",
       "      <td>1.526</td>\n",
       "    </tr>\n",
       "    <tr>\n",
       "      <th>v_Vel</th>\n",
       "      <td>1.130</td>\n",
       "      <td>3.312</td>\n",
       "      <td>4.385</td>\n",
       "      <td>5.437</td>\n",
       "      <td>6.418</td>\n",
       "    </tr>\n",
       "  </tbody>\n",
       "</table>\n",
       "</div>"
      ],
      "text/plain": [
       "            1s     2s     3s     4s     5s\n",
       "Local_X  0.351  0.632  0.969  1.262  1.526\n",
       "v_Vel    1.130  3.312  4.385  5.437  6.418"
      ]
     },
     "execution_count": 39,
     "metadata": {},
     "output_type": "execute_result"
    }
   ],
   "source": [
    "colnames = [str(i)+'s' for i in range(1,6)]\n",
    "rmse = np.sqrt(np.square(np.subtract(y_test,y_hat)).mean(0)).reshape(2,-1)\n",
    "rmse = pd.DataFrame(rmse,columns = colnames, index = target_names )\n",
    "rmse.round(3)"
   ]
  },
  {
   "cell_type": "markdown",
   "metadata": {
    "colab_type": "text",
    "id": "5rgsBKw41gpN"
   },
   "source": [
    "# END"
   ]
  }
 ],
 "metadata": {
  "colab": {
   "collapsed_sections": [],
   "include_colab_link": true,
   "name": "VTP_1.10_Models for full dataset.ipynb",
   "provenance": [],
   "toc_visible": true
  },
  "kernelspec": {
   "display_name": "Python 3",
   "language": "python",
   "name": "python3"
  },
  "language_info": {
   "codemirror_mode": {
    "name": "ipython",
    "version": 3
   },
   "file_extension": ".py",
   "mimetype": "text/x-python",
   "name": "python",
   "nbconvert_exporter": "python",
   "pygments_lexer": "ipython3",
   "version": "3.8.5"
  },
  "toc": {
   "base_numbering": 1,
   "nav_menu": {},
   "number_sections": true,
   "sideBar": true,
   "skip_h1_title": false,
   "title_cell": "Table of Contents",
   "title_sidebar": "Contents",
   "toc_cell": false,
   "toc_position": {},
   "toc_section_display": true,
   "toc_window_display": false
  }
 },
 "nbformat": 4,
 "nbformat_minor": 4
}
