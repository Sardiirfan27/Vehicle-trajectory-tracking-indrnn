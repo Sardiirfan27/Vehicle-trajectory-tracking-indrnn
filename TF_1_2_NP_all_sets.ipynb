{
 "cells": [
  {
   "cell_type": "markdown",
   "metadata": {
    "colab_type": "text",
    "id": "view-in-github"
   },
   "source": [
    "<a href=\"https://colab.research.google.com/github/duonghung86/Vehicle-trajectory-tracking/blob/master/Codes/VTP_1_10_Models_for_full_dataset.ipynb\" target=\"_parent\"><img src=\"https://colab.research.google.com/assets/colab-badge.svg\" alt=\"Open In Colab\"/></a>"
   ]
  },
  {
   "cell_type": "markdown",
   "metadata": {
    "colab_type": "text",
    "id": "pa49bUnKyRgF"
   },
   "source": [
    "# Developing models for full dataset\n",
    "---"
   ]
  },
  {
   "cell_type": "markdown",
   "metadata": {
    "colab_type": "text",
    "id": "XVhK72Pu1cJL"
   },
   "source": [
    "## Import packages"
   ]
  },
  {
   "cell_type": "code",
   "execution_count": 1,
   "metadata": {
    "ExecuteTime": {
     "end_time": "2020-08-21T20:16:12.937889Z",
     "start_time": "2020-08-21T20:16:03.058187Z"
    },
    "colab": {},
    "colab_type": "code",
    "id": "7rZnJaGTWQw0"
   },
   "outputs": [],
   "source": [
    "# General\n",
    "import numpy as np\n",
    "import time\n",
    "import os\n",
    "\n",
    "# Loading datasets\n",
    "from io import StringIO, BytesIO\n",
    "from zipfile import ZipFile\n",
    "import urllib.request\n",
    "\n",
    "# For data processing\n",
    "import pandas as pd\n",
    "from sklearn.model_selection import train_test_split\n",
    "\n",
    "# Evaluation\n",
    "from sklearn.metrics import mean_squared_error\n",
    "from math import sqrt\n",
    "\n",
    "# For prediction model\n",
    "import tensorflow as tf\n",
    "from tensorflow.keras.models import Sequential\n",
    "from tensorflow.keras.layers import Dense\n",
    "from tensorflow.keras.layers import LSTM\n",
    "physical_devices = tf.config.list_physical_devices('GPU')\n",
    "tf.config.experimental.set_memory_growth(physical_devices[0], enable=True)\n",
    "\n",
    "# Visualization\n",
    "import matplotlib.pyplot as plt\n",
    "plt.rcParams['figure.figsize'] = (8, 6)"
   ]
  },
  {
   "cell_type": "markdown",
   "metadata": {
    "colab_type": "text",
    "id": "TokBlnUhWFw9"
   },
   "source": [
    "## Load dataset"
   ]
  },
  {
   "cell_type": "code",
   "execution_count": 2,
   "metadata": {},
   "outputs": [],
   "source": [
    "def url2pd(link):\n",
    "    with ZipFile(link) as my_zip_file:\n",
    "        for contained_file in my_zip_file.namelist():\n",
    "            fzip=my_zip_file.open(contained_file)\n",
    "            data=fzip.read()\n",
    "    s=str(data,'utf-8')\n",
    "    data = StringIO(s) \n",
    "    print('Done loading dataset %s !' % link)\n",
    "    return pd.read_csv(data)"
   ]
  },
  {
   "cell_type": "code",
   "execution_count": 3,
   "metadata": {},
   "outputs": [
    {
     "data": {
      "text/plain": [
       "['0750_0805_us101_smoothed_11_.zip',\n",
       " '0805_0820_us101_smoothed_11_.zip',\n",
       " '0820_0835_us101_smoothed_11_.zip',\n",
       " 'trajectories-0400-0415.zip',\n",
       " 'trajectories-0500-0515.zip',\n",
       " 'trajectories-0515-0530.zip']"
      ]
     },
     "execution_count": 3,
     "metadata": {},
     "output_type": "execute_result"
    }
   ],
   "source": [
    "filenames = os.listdir('./Data')\n",
    "filenames"
   ]
  },
  {
   "cell_type": "code",
   "execution_count": 4,
   "metadata": {},
   "outputs": [],
   "source": [
    "# Set constant values\n",
    "HISTORY_LENGTH = 3\n",
    "FUTURE_LENGTH = 6\n",
    "n_steps = int(HISTORY_LENGTH/0.2)\n",
    "n_future = int(FUTURE_LENGTH/0.2)\n",
    "#n_features = len(df)\n",
    "target_names = ['Local_X','v_Vel']"
   ]
  },
  {
   "cell_type": "code",
   "execution_count": 5,
   "metadata": {},
   "outputs": [
    {
     "data": {
      "text/plain": [
       "(array([[0, 1, 2],\n",
       "        [1, 2, 3],\n",
       "        [2, 3, 4],\n",
       "        [3, 4, 5]]),\n",
       " array([[3, 5],\n",
       "        [4, 6],\n",
       "        [5, 7],\n",
       "        [6, 8]]))"
      ]
     },
     "execution_count": 5,
     "metadata": {},
     "output_type": "execute_result"
    }
   ],
   "source": [
    "def single_series2seq(series,past=4,future=1,past_step=1, future_step=1):\n",
    "    # length of sequences \n",
    "    length = past + future\n",
    "    seq = series.copy()\n",
    "    # add rolled series\n",
    "    for i in range(length-1):\n",
    "        seq = np.vstack((seq,np.roll(series,i+1)))\n",
    "    seq = np.flip(seq.T,1)\n",
    "    seq = seq[length-1:,:]\n",
    "    # Prepare output\n",
    "    X = seq[:,:past:past_step]\n",
    "    Y = seq[:,past::future_step]\n",
    "    return X,Y\n",
    "data = np.arange(10)\n",
    "single_series2seq(data,past = 3, future = 4,future_step=2)"
   ]
  },
  {
   "cell_type": "code",
   "execution_count": 6,
   "metadata": {},
   "outputs": [
    {
     "data": {
      "text/plain": [
       "(array([[ 0,  2,  4,  1,  3,  5],\n",
       "        [ 2,  4,  6,  3,  5,  7],\n",
       "        [ 4,  6,  8,  5,  7,  9],\n",
       "        [ 6,  8, 10,  7,  9, 11]]),\n",
       " array([[ 6,  8, 10, 12,  7,  9, 11, 13],\n",
       "        [ 8, 10, 12, 14,  9, 11, 13, 15],\n",
       "        [10, 12, 14, 16, 11, 13, 15, 17],\n",
       "        [12, 14, 16, 18, 13, 15, 17, 19]]))"
      ]
     },
     "execution_count": 6,
     "metadata": {},
     "output_type": "execute_result"
    }
   ],
   "source": [
    "def multi_series2seq(mulseries,**kwarg):\n",
    "    # number of series\n",
    "    n_series = mulseries.shape[1]\n",
    "    seq = mulseries.copy()\n",
    "    X,Y = single_series2seq(seq[:,0],past = kwarg['past'],future = kwarg['future'],\n",
    "                           future_step = kwarg['future_step'])\n",
    "    for i in range(1,n_series):\n",
    "        newX,newY = single_series2seq(seq[:,i],past = kwarg['past'],future = kwarg['future'],\n",
    "                           future_step = kwarg['future_step'])\n",
    "        X = np.column_stack((X,newX))\n",
    "        Y = np.column_stack((Y,newY))\n",
    "    return X,Y\n",
    "data = np.arange(20).reshape(-1,2)\n",
    "multi_series2seq(mulseries = data,past = 3, future = 4,future_step=1)"
   ]
  },
  {
   "cell_type": "code",
   "execution_count": 7,
   "metadata": {},
   "outputs": [],
   "source": [
    "# multiple objects\n",
    "def multi_obj2seq(data, **kwarg):\n",
    "    veh_ids = data.Vehicle_ID.unique()\n",
    "    X,Y = np.array([]), np.array([])\n",
    "    for id in veh_ids:\n",
    "        dat = data[data.Vehicle_ID==id][target_names].copy()\n",
    "        newX,newY = multi_series2seq(dat.values ,past = kwarg['past'],future = kwarg['future'],\n",
    "                           future_step = kwarg['future_step'])\n",
    "        #print(X.shape, newX.shape)\n",
    "        X = np.vstack((X,newX)) if X.size else newX\n",
    "        Y = np.vstack((Y,newY)) if Y.size else newY\n",
    "        #print(X.shape)\n",
    "    if kwarg[\"show_result\"]:\n",
    "        print(X.shape)\n",
    "        print(Y.shape)\n",
    "    return X, Y"
   ]
  },
  {
   "cell_type": "code",
   "execution_count": 8,
   "metadata": {},
   "outputs": [
    {
     "name": "stdout",
     "output_type": "stream",
     "text": [
      "0750_0805_us101_smoothed_11_.zip\n",
      "Done loading dataset ./Data/0750_0805_us101_smoothed_11_.zip !\n",
      "(1048575, 18)\n",
      "After filtering: (524288, 18)\n",
      "The number of vehicles is 1993\n",
      "Converting to sequences ...\n",
      "(436596, 30)\n",
      "(436596, 12)\n",
      "0805_0820_us101_smoothed_11_.zip\n",
      "Done loading dataset ./Data/0805_0820_us101_smoothed_11_.zip !\n",
      "(1048575, 18)\n",
      "After filtering: (524288, 18)\n",
      "The number of vehicles is 1533\n",
      "Converting to sequences ...\n",
      "(456836, 30)\n",
      "(456836, 12)\n",
      "0820_0835_us101_smoothed_11_.zip\n",
      "Done loading dataset ./Data/0820_0835_us101_smoothed_11_.zip !\n",
      "(1048575, 18)\n",
      "After filtering: (524288, 18)\n",
      "The number of vehicles is 1298\n",
      "Converting to sequences ...\n",
      "(467186, 30)\n",
      "(467186, 12)\n",
      "trajectories-0400-0415.zip\n",
      "Done loading dataset ./Data/trajectories-0400-0415.zip !\n",
      "(1048575, 18)\n",
      "After filtering: (524288, 18)\n",
      "The number of vehicles is 1725\n",
      "Converting to sequences ...\n",
      "(448388, 30)\n",
      "(448388, 12)\n",
      "trajectories-0500-0515.zip\n",
      "Done loading dataset ./Data/trajectories-0500-0515.zip !\n",
      "(1048575, 18)\n",
      "After filtering: (524288, 18)\n",
      "The number of vehicles is 1416\n",
      "Converting to sequences ...\n",
      "(461984, 30)\n",
      "(461984, 12)\n",
      "trajectories-0515-0530.zip\n",
      "Done loading dataset ./Data/trajectories-0515-0530.zip !\n",
      "(1048575, 18)\n",
      "After filtering: (524288, 18)\n",
      "The number of vehicles is 1242\n",
      "Converting to sequences ...\n",
      "(469640, 30)\n",
      "(469640, 12)\n",
      "CPU times: user 2min 53s, sys: 1min 54s, total: 4min 48s\n",
      "Wall time: 4min 49s\n"
     ]
    }
   ],
   "source": [
    "%%time\n",
    "X,Y = np.array([]), np.array([])\n",
    "for file in filenames:\n",
    "    print(file)\n",
    "    url = './Data/' + file\n",
    "    df = url2pd(url)\n",
    "    # Filter time step\n",
    "    print(df.shape)\n",
    "    df = df.iloc[::2,:].copy()\n",
    "    df.reset_index(drop=True, inplace=True)\n",
    "    print('After filtering:', df.shape)\n",
    "    #  keep only columns that are useful for now\n",
    "    kept_cols = ['Vehicle_ID', 'Frame_ID', 'Total_Frames', 'Local_X','Local_Y','v_Length', 'v_Width', 'v_Class',\n",
    "           'v_Vel', 'v_Acc', 'Lane_ID']\n",
    "    df = df[kept_cols]\n",
    "    print('The number of vehicles is {}'.format(len(df.Vehicle_ID.unique())))\n",
    "    print('Converting to sequences ...')\n",
    "    newX, newY = multi_obj2seq(df,past = n_steps, future = n_future,future_step=5, show_result=True)\n",
    "    X = np.vstack((X,newX)) if X.size else newX\n",
    "    Y = np.vstack((Y,newY)) if Y.size else newY"
   ]
  },
  {
   "cell_type": "markdown",
   "metadata": {
    "colab_type": "text",
    "id": "UXbKv-3AVjCs"
   },
   "source": [
    "### Split the data set\n"
   ]
  },
  {
   "cell_type": "code",
   "execution_count": 9,
   "metadata": {},
   "outputs": [
    {
     "data": {
      "text/plain": [
       "((2740630, 30), (2740630, 12))"
      ]
     },
     "execution_count": 9,
     "metadata": {},
     "output_type": "execute_result"
    }
   ],
   "source": [
    "X.shape, Y.shape"
   ]
  },
  {
   "cell_type": "code",
   "execution_count": 10,
   "metadata": {
    "colab": {
     "base_uri": "https://localhost:8080/",
     "height": 34
    },
    "colab_type": "code",
    "id": "qtmwVnZgVmhg",
    "outputId": "b75ad653-ce0d-4ed6-c2e0-59ed494cd066"
   },
   "outputs": [
    {
     "name": "stdout",
     "output_type": "stream",
     "text": [
      "(1918441, 30) (822189, 30) (1918441, 12) (822189, 12)\n"
     ]
    }
   ],
   "source": [
    "X_train, X_test, y_train, y_test = train_test_split(X,Y, \n",
    "                                                    test_size=0.3, random_state=42)\n",
    "print(X_train.shape,X_test.shape, y_train.shape, y_test.shape)"
   ]
  },
  {
   "cell_type": "code",
   "execution_count": 11,
   "metadata": {
    "colab": {
     "base_uri": "https://localhost:8080/",
     "height": 419
    },
    "colab_type": "code",
    "id": "bVBQUUntVtJw",
    "outputId": "85b0311e-28d0-4dc4-f6c4-962b082d113f"
   },
   "outputs": [
    {
     "name": "stdout",
     "output_type": "stream",
     "text": [
      "(1918441, 30)\n"
     ]
    },
    {
     "data": {
      "text/plain": [
       "(2.2918256757274753e-15, 1.0000000000000016)"
      ]
     },
     "execution_count": 11,
     "metadata": {},
     "output_type": "execute_result"
    }
   ],
   "source": [
    "### Standardize the data\n",
    "train_mean = X_train.mean()\n",
    "train_std = X_train.std()\n",
    "\n",
    "X_train = (X_train - train_mean) / train_std\n",
    "X_test = (X_test - train_mean) / train_std\n",
    "\n",
    "print(X_train.shape)\n",
    "X_train.mean(), X_train.std()"
   ]
  },
  {
   "cell_type": "code",
   "execution_count": 12,
   "metadata": {},
   "outputs": [],
   "source": [
    "X_train = X_train.reshape((X_train.shape[0], X_train.shape[1],1))\n",
    "X_test = X_test.reshape((X_test.shape[0], X_train.shape[1],1))\n"
   ]
  },
  {
   "cell_type": "code",
   "execution_count": 13,
   "metadata": {},
   "outputs": [
    {
     "data": {
      "text/plain": [
       "((1918441, 30, 1), (822189, 30, 1))"
      ]
     },
     "execution_count": 13,
     "metadata": {},
     "output_type": "execute_result"
    }
   ],
   "source": [
    "X_train.shape,X_test.shape"
   ]
  },
  {
   "cell_type": "markdown",
   "metadata": {
    "colab_type": "text",
    "id": "hO9p6VOjweHD"
   },
   "source": [
    "## Prediction model"
   ]
  },
  {
   "cell_type": "code",
   "execution_count": 14,
   "metadata": {
    "colab": {
     "base_uri": "https://localhost:8080/",
     "height": 1000
    },
    "colab_type": "code",
    "id": "wO-XWY6xweHE",
    "outputId": "bf08d054-1ac4-46c3-858d-d6a77cb2ffba"
   },
   "outputs": [
    {
     "name": "stdout",
     "output_type": "stream",
     "text": [
      "Train on 1918441 samples, validate on 822189 samples\n",
      "Epoch 1/50\n",
      "1918441/1918441 [==============================] - 16s 8us/sample - loss: 317.0248 - val_loss: 85.1236\n",
      "Epoch 2/50\n",
      "1918441/1918441 [==============================] - 12s 6us/sample - loss: 38.8573 - val_loss: 21.0709\n",
      "Epoch 3/50\n",
      "1918441/1918441 [==============================] - 12s 6us/sample - loss: 17.9922 - val_loss: 16.4194\n",
      "Epoch 4/50\n",
      "1918441/1918441 [==============================] - 12s 6us/sample - loss: 15.6621 - val_loss: 15.2565\n",
      "Epoch 5/50\n",
      "1918441/1918441 [==============================] - 12s 6us/sample - loss: 15.0082 - val_loss: 14.9055\n",
      "Epoch 6/50\n",
      "1918441/1918441 [==============================] - 12s 6us/sample - loss: 14.7644 - val_loss: 14.7057\n",
      "Epoch 7/50\n",
      "1918441/1918441 [==============================] - 11s 6us/sample - loss: 14.6491 - val_loss: 14.6096\n",
      "Epoch 8/50\n",
      "1918441/1918441 [==============================] - 11s 6us/sample - loss: 14.5729 - val_loss: 14.5956\n",
      "Epoch 9/50\n",
      "1918441/1918441 [==============================] - 11s 6us/sample - loss: 14.5138 - val_loss: 14.4913\n",
      "Epoch 10/50\n",
      "1918441/1918441 [==============================] - 12s 6us/sample - loss: 14.4628 - val_loss: 14.4078\n",
      "Epoch 11/50\n",
      "1918441/1918441 [==============================] - 11s 6us/sample - loss: 14.4059 - val_loss: 14.3920\n",
      "Epoch 12/50\n",
      "1918441/1918441 [==============================] - 12s 6us/sample - loss: 14.3545 - val_loss: 14.3861\n",
      "Epoch 13/50\n",
      "1918441/1918441 [==============================] - 11s 6us/sample - loss: 14.3126 - val_loss: 14.2983\n",
      "Epoch 14/50\n",
      "1918441/1918441 [==============================] - 12s 6us/sample - loss: 14.2756 - val_loss: 14.2737\n",
      "Epoch 15/50\n",
      "1918441/1918441 [==============================] - 12s 6us/sample - loss: 14.2427 - val_loss: 14.2989\n",
      "Epoch 16/50\n",
      "1918441/1918441 [==============================] - 12s 6us/sample - loss: 14.2134 - val_loss: 14.2455\n",
      "Epoch 17/50\n",
      "1918441/1918441 [==============================] - 12s 6us/sample - loss: 14.1882 - val_loss: 14.2194\n",
      "Epoch 18/50\n",
      "1918441/1918441 [==============================] - 11s 6us/sample - loss: 14.1592 - val_loss: 14.1987\n",
      "Epoch 19/50\n",
      "1918441/1918441 [==============================] - 11s 6us/sample - loss: 14.1416 - val_loss: 14.1031\n",
      "Epoch 20/50\n",
      "1918441/1918441 [==============================] - 11s 6us/sample - loss: 14.1152 - val_loss: 14.1228\n",
      "Epoch 21/50\n",
      "1918441/1918441 [==============================] - 12s 6us/sample - loss: 14.0941 - val_loss: 14.1096\n",
      "Epoch 22/50\n",
      "1918441/1918441 [==============================] - 12s 6us/sample - loss: 14.0731 - val_loss: 14.0742\n",
      "Epoch 23/50\n",
      "1918441/1918441 [==============================] - 12s 6us/sample - loss: 14.0519 - val_loss: 14.0776\n",
      "Epoch 24/50\n",
      "1918441/1918441 [==============================] - 11s 6us/sample - loss: 14.0332 - val_loss: 14.0270\n",
      "Epoch 25/50\n",
      "1918441/1918441 [==============================] - 11s 6us/sample - loss: 14.0165 - val_loss: 14.0365\n",
      "Epoch 26/50\n",
      "1918441/1918441 [==============================] - 12s 6us/sample - loss: 14.0026 - val_loss: 14.1033\n",
      "Epoch 27/50\n",
      "1918441/1918441 [==============================] - 12s 6us/sample - loss: 13.9858 - val_loss: 14.0108\n",
      "Epoch 28/50\n",
      "1918441/1918441 [==============================] - 12s 6us/sample - loss: 13.9686 - val_loss: 13.9589\n",
      "Epoch 29/50\n",
      "1918441/1918441 [==============================] - 12s 6us/sample - loss: 13.9574 - val_loss: 13.9681\n",
      "Epoch 30/50\n",
      "1918441/1918441 [==============================] - 11s 6us/sample - loss: 13.9399 - val_loss: 13.9604\n",
      "Epoch 31/50\n",
      "1918441/1918441 [==============================] - 12s 6us/sample - loss: 13.9308 - val_loss: 13.9008\n",
      "Epoch 32/50\n",
      "1918441/1918441 [==============================] - 11s 6us/sample - loss: 13.9181 - val_loss: 13.9290\n",
      "Epoch 33/50\n",
      "1918441/1918441 [==============================] - 12s 6us/sample - loss: 13.9041 - val_loss: 13.9393\n",
      "Epoch 34/50\n",
      "1918441/1918441 [==============================] - 12s 6us/sample - loss: 13.8940 - val_loss: 13.9141\n",
      "Epoch 35/50\n",
      "1918441/1918441 [==============================] - 12s 6us/sample - loss: 13.8809 - val_loss: 13.8616\n",
      "Epoch 36/50\n",
      "1918441/1918441 [==============================] - 12s 6us/sample - loss: 13.8697 - val_loss: 13.8771\n",
      "Epoch 37/50\n",
      "1918441/1918441 [==============================] - 12s 6us/sample - loss: 13.8627 - val_loss: 13.8862\n",
      "Epoch 38/50\n",
      "1918441/1918441 [==============================] - 12s 6us/sample - loss: 13.8491 - val_loss: 13.8518\n",
      "Epoch 39/50\n",
      "1918441/1918441 [==============================] - 12s 6us/sample - loss: 13.8401 - val_loss: 13.9247\n",
      "Epoch 40/50\n",
      "1918441/1918441 [==============================] - 12s 6us/sample - loss: 13.8325 - val_loss: 13.8258\n",
      "Epoch 41/50\n",
      "1918441/1918441 [==============================] - 12s 6us/sample - loss: 13.8216 - val_loss: 13.8179\n",
      "Epoch 42/50\n",
      "1918441/1918441 [==============================] - 12s 6us/sample - loss: 13.8134 - val_loss: 13.7992\n",
      "Epoch 43/50\n",
      "1918441/1918441 [==============================] - 12s 6us/sample - loss: 13.8030 - val_loss: 13.8214\n",
      "Epoch 44/50\n",
      "1918441/1918441 [==============================] - 12s 6us/sample - loss: 13.7949 - val_loss: 13.8033\n",
      "Epoch 45/50\n",
      "1918441/1918441 [==============================] - 12s 6us/sample - loss: 13.7884 - val_loss: 13.8010\n",
      "Epoch 46/50\n",
      "1918441/1918441 [==============================] - 12s 6us/sample - loss: 13.7803 - val_loss: 13.7945\n",
      "Epoch 47/50\n",
      "1918441/1918441 [==============================] - 12s 6us/sample - loss: 13.7727 - val_loss: 13.7953\n",
      "Epoch 48/50\n",
      "1918441/1918441 [==============================] - 12s 6us/sample - loss: 13.7679 - val_loss: 13.7873\n",
      "Epoch 49/50\n",
      "1918441/1918441 [==============================] - 12s 6us/sample - loss: 13.7576 - val_loss: 13.7688\n",
      "Epoch 50/50\n",
      "1918441/1918441 [==============================] - 12s 6us/sample - loss: 13.7499 - val_loss: 13.7682\n",
      "CPU times: user 13min 51s, sys: 2min 5s, total: 15min 56s\n",
      "Wall time: 9min 48s\n"
     ]
    }
   ],
   "source": [
    "%%time\n",
    "# define model\n",
    "model = Sequential()\n",
    "model.add(LSTM(50, activation='tanh', input_shape=(X_train.shape[1],1)))\n",
    "model.add(Dense(y_test.shape[1]))\n",
    "model.compile(optimizer='adam', loss='mse')\n",
    "\n",
    "# For saving the best model during the whole training process.\n",
    "#checkpointer = callbacks.ModelCheckpoint(filepath='BestModel.h5', monitor='val_loss', save_best_only=True)\n",
    "\n",
    "#### Interrupt training if `val_loss` stops improving for over 10 epochs #######\n",
    "stop_learn= tf.keras.callbacks.EarlyStopping(patience=10, monitor='val_loss')\n",
    "\n",
    "\n",
    "# fit model\n",
    "Monitor = model.fit(X_train, y_train, epochs=50, batch_size= 1024,\n",
    "                    callbacks=[stop_learn],\n",
    "                    validation_data=(X_test, y_test), verbose=1)"
   ]
  },
  {
   "cell_type": "code",
   "execution_count": 15,
   "metadata": {
    "colab": {},
    "colab_type": "code",
    "id": "Oa1rcutTweHJ"
   },
   "outputs": [
    {
     "data": {
      "image/png": "[encoded data removed]",
      "text/plain": [
       "<Figure size 1500x600 with 1 Axes>"
      ]
     },
     "metadata": {
      "needs_background": "light"
     },
     "output_type": "display_data"
    }
   ],
   "source": [
    "hist = pd.DataFrame(Monitor.history)\n",
    "hist['epoch'] = Monitor.epoch\n",
    "fig, axes = plt.subplots(nrows=1, ncols=1,figsize=(10,4),dpi=150)\n",
    "hist[['loss','val_loss']].plot(ax=axes)\n",
    "#hist[['mse','val_mse']].plot(ax=axes[1])\n",
    "plt.show()"
   ]
  },
  {
   "cell_type": "markdown",
   "metadata": {
    "colab_type": "text",
    "id": "2YWEoDw-jEjK"
   },
   "source": [
    "## Evaluation \n"
   ]
  },
  {
   "cell_type": "code",
   "execution_count": 16,
   "metadata": {},
   "outputs": [
    {
     "name": "stdout",
     "output_type": "stream",
     "text": [
      "822189/822189 [==============================] - 50s 61us/sample\n"
     ]
    },
    {
     "data": {
      "text/html": [
       "<div>\n",
       "<style scoped>\n",
       "    .dataframe tbody tr th:only-of-type {\n",
       "        vertical-align: middle;\n",
       "    }\n",
       "\n",
       "    .dataframe tbody tr th {\n",
       "        vertical-align: top;\n",
       "    }\n",
       "\n",
       "    .dataframe thead th {\n",
       "        text-align: right;\n",
       "    }\n",
       "</style>\n",
       "<table border=\"1\" class=\"dataframe\">\n",
       "  <thead>\n",
       "    <tr style=\"text-align: right;\">\n",
       "      <th></th>\n",
       "      <th>0s</th>\n",
       "      <th>1s</th>\n",
       "      <th>2s</th>\n",
       "      <th>3s</th>\n",
       "      <th>4s</th>\n",
       "      <th>5s</th>\n",
       "    </tr>\n",
       "  </thead>\n",
       "  <tbody>\n",
       "    <tr>\n",
       "      <th>Local_X</th>\n",
       "      <td>0.391</td>\n",
       "      <td>0.657</td>\n",
       "      <td>0.98</td>\n",
       "      <td>1.265</td>\n",
       "      <td>1.522</td>\n",
       "      <td>1.760</td>\n",
       "    </tr>\n",
       "    <tr>\n",
       "      <th>v_Vel</th>\n",
       "      <td>1.154</td>\n",
       "      <td>3.314</td>\n",
       "      <td>4.40</td>\n",
       "      <td>5.464</td>\n",
       "      <td>6.444</td>\n",
       "      <td>7.321</td>\n",
       "    </tr>\n",
       "  </tbody>\n",
       "</table>\n",
       "</div>"
      ],
      "text/plain": [
       "            0s     1s    2s     3s     4s     5s\n",
       "Local_X  0.391  0.657  0.98  1.265  1.522  1.760\n",
       "v_Vel    1.154  3.314  4.40  5.464  6.444  7.321"
      ]
     },
     "execution_count": 16,
     "metadata": {},
     "output_type": "execute_result"
    }
   ],
   "source": [
    "y_hat = model.predict(X_test, verbose=1)\n",
    "colnames = [str(i)+'s' for i in range(6)]\n",
    "rmse = np.sqrt(np.square(np.subtract(y_test,y_hat)).mean(0)).reshape(2,-1)\n",
    "rmse = pd.DataFrame(rmse,columns = colnames, index = target_names )\n",
    "rmse.round(3)"
   ]
  },
  {
   "cell_type": "markdown",
   "metadata": {
    "colab_type": "text",
    "id": "5rgsBKw41gpN"
   },
   "source": [
    "# END"
   ]
  }
 ],
 "metadata": {
  "colab": {
   "collapsed_sections": [],
   "include_colab_link": true,
   "name": "VTP_1.10_Models for full dataset.ipynb",
   "provenance": [],
   "toc_visible": true
  },
  "kernelspec": {
   "display_name": "Python 3",
   "language": "python",
   "name": "python3"
  },
  "language_info": {
   "codemirror_mode": {
    "name": "ipython",
    "version": 3
   },
   "file_extension": ".py",
   "mimetype": "text/x-python",
   "name": "python",
   "nbconvert_exporter": "python",
   "pygments_lexer": "ipython3",
   "version": "3.6.10"
  },
  "toc": {
   "base_numbering": 1,
   "nav_menu": {},
   "number_sections": true,
   "sideBar": true,
   "skip_h1_title": false,
   "title_cell": "Table of Contents",
   "title_sidebar": "Contents",
   "toc_cell": false,
   "toc_position": {},
   "toc_section_display": true,
   "toc_window_display": false
  }
 },
 "nbformat": 4,
 "nbformat_minor": 4
}
