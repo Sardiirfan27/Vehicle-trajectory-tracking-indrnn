{
 "cells": [
  {
   "cell_type": "markdown",
   "metadata": {
    "id": "6FIi8t8NUTEJ"
   },
   "source": [
    "# Time Series Prediction with LSTM Using PyTorch"
   ]
  },
  {
   "cell_type": "markdown",
   "metadata": {
    "id": "S9DqRvEBU4aL"
   },
   "source": [
    "## Download Dataset"
   ]
  },
  {
   "cell_type": "code",
   "execution_count": 23,
   "metadata": {
    "id": "BKMrjozgU3I_"
   },
   "outputs": [],
   "source": [
    "# General\n",
    "import numpy as np\n",
    "import time\n",
    "# Loading data\n",
    "import pandas as pd\n",
    "from io import StringIO, BytesIO\n",
    "from zipfile import ZipFile\n",
    "import urllib.request\n",
    "import os\n",
    "\n",
    "# Data preprocessing\n",
    "from sklearn.preprocessing import MinMaxScaler\n",
    "from torch.autograd import Variable\n",
    "#import pytorch\n",
    "import torch\n",
    "import torch.nn as nn\n",
    "import torch.nn.functional as F\n",
    "import torch.optim as optim\n",
    "\n",
    "torch.manual_seed(1)\n",
    "\n",
    "#Evaluation\n",
    "from sklearn.metrics import mean_squared_error\n",
    "from math import sqrt"
   ]
  },
  {
   "cell_type": "markdown",
   "metadata": {
    "colab_type": "text",
    "id": "TokBlnUhWFw9"
   },
   "source": [
    "## Load dataset"
   ]
  },
  {
   "cell_type": "code",
   "execution_count": 7,
   "metadata": {
    "ExecuteTime": {
     "end_time": "2020-08-21T20:16:15.100385Z",
     "start_time": "2020-08-21T20:16:12.941842Z"
    },
    "colab": {
     "base_uri": "https://localhost:8080/",
     "height": 69
    },
    "colab_type": "code",
    "id": "R6vKGxODhB-M",
    "outputId": "2215e01f-5f1d-4ef0-a0de-6dd2109dc59e"
   },
   "outputs": [],
   "source": [
    "def url2pd(link):\n",
    "    with ZipFile(link) as my_zip_file:\n",
    "        for contained_file in my_zip_file.namelist():\n",
    "            fzip=my_zip_file.open(contained_file)\n",
    "            data=fzip.read()\n",
    "    s=str(data,'utf-8')\n",
    "    data = StringIO(s) \n",
    "    print('Done loading a dataset!')\n",
    "    return pd.read_csv(data)"
   ]
  },
  {
   "cell_type": "code",
   "execution_count": 8,
   "metadata": {},
   "outputs": [
    {
     "name": "stdout",
     "output_type": "stream",
     "text": [
      "Done loading a dataset!\n",
      "<class 'pandas.core.frame.DataFrame'>\n",
      "RangeIndex: 1048575 entries, 0 to 1048574\n",
      "Data columns (total 18 columns):\n",
      " #   Column        Non-Null Count    Dtype  \n",
      "---  ------        --------------    -----  \n",
      " 0   Vehicle_ID    1048575 non-null  int64  \n",
      " 1   Frame_ID      1048575 non-null  int64  \n",
      " 2   Total_Frames  1048575 non-null  int64  \n",
      " 3   Global_Time   1048575 non-null  int64  \n",
      " 4   Local_X       1048575 non-null  float64\n",
      " 5   Local_Y       1048575 non-null  float64\n",
      " 6   Global_X      1048575 non-null  float64\n",
      " 7   Global_Y      1048575 non-null  float64\n",
      " 8   v_Length      1048575 non-null  float64\n",
      " 9   v_Width       1048575 non-null  float64\n",
      " 10  v_Class       1048575 non-null  int64  \n",
      " 11  v_Vel         1048575 non-null  float64\n",
      " 12  v_Acc         1048575 non-null  float64\n",
      " 13  Lane_ID       1048575 non-null  int64  \n",
      " 14  Preceeding    1048575 non-null  int64  \n",
      " 15  Following     1048575 non-null  int64  \n",
      " 16  Space_Hdwy    1048575 non-null  float64\n",
      " 17  Time_Hdwy     1048575 non-null  float64\n",
      "dtypes: float64(10), int64(8)\n",
      "memory usage: 144.0 MB\n"
     ]
    },
    {
     "data": {
      "text/html": [
       "<div>\n",
       "<style scoped>\n",
       "    .dataframe tbody tr th:only-of-type {\n",
       "        vertical-align: middle;\n",
       "    }\n",
       "\n",
       "    .dataframe tbody tr th {\n",
       "        vertical-align: top;\n",
       "    }\n",
       "\n",
       "    .dataframe thead th {\n",
       "        text-align: right;\n",
       "    }\n",
       "</style>\n",
       "<table border=\"1\" class=\"dataframe\">\n",
       "  <thead>\n",
       "    <tr style=\"text-align: right;\">\n",
       "      <th></th>\n",
       "      <th>Vehicle_ID</th>\n",
       "      <th>Frame_ID</th>\n",
       "      <th>Total_Frames</th>\n",
       "      <th>Global_Time</th>\n",
       "      <th>Local_X</th>\n",
       "      <th>Local_Y</th>\n",
       "      <th>Global_X</th>\n",
       "      <th>Global_Y</th>\n",
       "      <th>v_Length</th>\n",
       "      <th>v_Width</th>\n",
       "      <th>v_Class</th>\n",
       "      <th>v_Vel</th>\n",
       "      <th>v_Acc</th>\n",
       "      <th>Lane_ID</th>\n",
       "      <th>Preceeding</th>\n",
       "      <th>Following</th>\n",
       "      <th>Space_Hdwy</th>\n",
       "      <th>Time_Hdwy</th>\n",
       "    </tr>\n",
       "  </thead>\n",
       "  <tbody>\n",
       "    <tr>\n",
       "      <th>0</th>\n",
       "      <td>2</td>\n",
       "      <td>13</td>\n",
       "      <td>437</td>\n",
       "      <td>1118846980200</td>\n",
       "      <td>16.467196</td>\n",
       "      <td>35.380427</td>\n",
       "      <td>6451137.641</td>\n",
       "      <td>1873344.962</td>\n",
       "      <td>14.5</td>\n",
       "      <td>4.9</td>\n",
       "      <td>2</td>\n",
       "      <td>40.000000</td>\n",
       "      <td>0.000000</td>\n",
       "      <td>2</td>\n",
       "      <td>0</td>\n",
       "      <td>0</td>\n",
       "      <td>0.0</td>\n",
       "      <td>0.0</td>\n",
       "    </tr>\n",
       "    <tr>\n",
       "      <th>1</th>\n",
       "      <td>2</td>\n",
       "      <td>14</td>\n",
       "      <td>437</td>\n",
       "      <td>1118846980300</td>\n",
       "      <td>16.446594</td>\n",
       "      <td>39.381608</td>\n",
       "      <td>6451140.329</td>\n",
       "      <td>1873342.000</td>\n",
       "      <td>14.5</td>\n",
       "      <td>4.9</td>\n",
       "      <td>2</td>\n",
       "      <td>40.012349</td>\n",
       "      <td>0.123485</td>\n",
       "      <td>2</td>\n",
       "      <td>0</td>\n",
       "      <td>0</td>\n",
       "      <td>0.0</td>\n",
       "      <td>0.0</td>\n",
       "    </tr>\n",
       "    <tr>\n",
       "      <th>2</th>\n",
       "      <td>2</td>\n",
       "      <td>15</td>\n",
       "      <td>437</td>\n",
       "      <td>1118846980400</td>\n",
       "      <td>16.425991</td>\n",
       "      <td>43.381541</td>\n",
       "      <td>6451143.018</td>\n",
       "      <td>1873339.038</td>\n",
       "      <td>14.5</td>\n",
       "      <td>4.9</td>\n",
       "      <td>2</td>\n",
       "      <td>39.999855</td>\n",
       "      <td>-0.124939</td>\n",
       "      <td>2</td>\n",
       "      <td>0</td>\n",
       "      <td>0</td>\n",
       "      <td>0.0</td>\n",
       "      <td>0.0</td>\n",
       "    </tr>\n",
       "  </tbody>\n",
       "</table>\n",
       "</div>"
      ],
      "text/plain": [
       "   Vehicle_ID  Frame_ID  Total_Frames    Global_Time    Local_X    Local_Y  \\\n",
       "0           2        13           437  1118846980200  16.467196  35.380427   \n",
       "1           2        14           437  1118846980300  16.446594  39.381608   \n",
       "2           2        15           437  1118846980400  16.425991  43.381541   \n",
       "\n",
       "      Global_X     Global_Y  v_Length  v_Width  v_Class      v_Vel     v_Acc  \\\n",
       "0  6451137.641  1873344.962      14.5      4.9        2  40.000000  0.000000   \n",
       "1  6451140.329  1873342.000      14.5      4.9        2  40.012349  0.123485   \n",
       "2  6451143.018  1873339.038      14.5      4.9        2  39.999855 -0.124939   \n",
       "\n",
       "   Lane_ID  Preceeding  Following  Space_Hdwy  Time_Hdwy  \n",
       "0        2           0          0         0.0        0.0  \n",
       "1        2           0          0         0.0        0.0  \n",
       "2        2           0          0         0.0        0.0  "
      ]
     },
     "execution_count": 8,
     "metadata": {},
     "output_type": "execute_result"
    }
   ],
   "source": [
    "filenames = os.listdir('./Data')\n",
    "url_1 = './Data/' + filenames[0]\n",
    "df = url2pd(url_1)\n",
    "df.info()\n",
    "df.head(3)"
   ]
  },
  {
   "cell_type": "code",
   "execution_count": 9,
   "metadata": {
    "id": "wb-Z7wNKUJko"
   },
   "outputs": [
    {
     "name": "stdout",
     "output_type": "stream",
     "text": [
      "(1048575, 18)\n",
      "After filtering: (524288, 18)\n"
     ]
    },
    {
     "data": {
      "text/html": [
       "<div>\n",
       "<style scoped>\n",
       "    .dataframe tbody tr th:only-of-type {\n",
       "        vertical-align: middle;\n",
       "    }\n",
       "\n",
       "    .dataframe tbody tr th {\n",
       "        vertical-align: top;\n",
       "    }\n",
       "\n",
       "    .dataframe thead th {\n",
       "        text-align: right;\n",
       "    }\n",
       "</style>\n",
       "<table border=\"1\" class=\"dataframe\">\n",
       "  <thead>\n",
       "    <tr style=\"text-align: right;\">\n",
       "      <th></th>\n",
       "      <th>Vehicle_ID</th>\n",
       "      <th>Frame_ID</th>\n",
       "      <th>Total_Frames</th>\n",
       "      <th>Local_X</th>\n",
       "      <th>Local_Y</th>\n",
       "      <th>v_Length</th>\n",
       "      <th>v_Width</th>\n",
       "      <th>v_Class</th>\n",
       "      <th>v_Vel</th>\n",
       "      <th>v_Acc</th>\n",
       "      <th>Lane_ID</th>\n",
       "    </tr>\n",
       "  </thead>\n",
       "  <tbody>\n",
       "    <tr>\n",
       "      <th>0</th>\n",
       "      <td>2</td>\n",
       "      <td>13</td>\n",
       "      <td>437</td>\n",
       "      <td>16.467196</td>\n",
       "      <td>35.380427</td>\n",
       "      <td>14.5</td>\n",
       "      <td>4.9</td>\n",
       "      <td>2</td>\n",
       "      <td>40.000000</td>\n",
       "      <td>0.000000</td>\n",
       "      <td>2</td>\n",
       "    </tr>\n",
       "    <tr>\n",
       "      <th>1</th>\n",
       "      <td>2</td>\n",
       "      <td>15</td>\n",
       "      <td>437</td>\n",
       "      <td>16.425991</td>\n",
       "      <td>43.381541</td>\n",
       "      <td>14.5</td>\n",
       "      <td>4.9</td>\n",
       "      <td>2</td>\n",
       "      <td>39.999855</td>\n",
       "      <td>-0.124939</td>\n",
       "      <td>2</td>\n",
       "    </tr>\n",
       "    <tr>\n",
       "      <th>2</th>\n",
       "      <td>2</td>\n",
       "      <td>17</td>\n",
       "      <td>437</td>\n",
       "      <td>16.384804</td>\n",
       "      <td>51.379881</td>\n",
       "      <td>14.5</td>\n",
       "      <td>4.9</td>\n",
       "      <td>2</td>\n",
       "      <td>39.991544</td>\n",
       "      <td>-0.013759</td>\n",
       "      <td>2</td>\n",
       "    </tr>\n",
       "  </tbody>\n",
       "</table>\n",
       "</div>"
      ],
      "text/plain": [
       "   Vehicle_ID  Frame_ID  Total_Frames    Local_X    Local_Y  v_Length  \\\n",
       "0           2        13           437  16.467196  35.380427      14.5   \n",
       "1           2        15           437  16.425991  43.381541      14.5   \n",
       "2           2        17           437  16.384804  51.379881      14.5   \n",
       "\n",
       "   v_Width  v_Class      v_Vel     v_Acc  Lane_ID  \n",
       "0      4.9        2  40.000000  0.000000        2  \n",
       "1      4.9        2  39.999855 -0.124939        2  \n",
       "2      4.9        2  39.991544 -0.013759        2  "
      ]
     },
     "execution_count": 9,
     "metadata": {},
     "output_type": "execute_result"
    }
   ],
   "source": [
    "# Filter time step\n",
    "print(df.shape)\n",
    "df = df.iloc[::2,:].copy()\n",
    "df.reset_index(drop=True, inplace=True)\n",
    "print('After filtering:', df.shape)\n",
    "#  keep only columns that are useful for now\n",
    "kept_cols = ['Vehicle_ID', 'Frame_ID', 'Total_Frames', 'Local_X','Local_Y','v_Length', 'v_Width', 'v_Class',\n",
    "       'v_Vel', 'v_Acc', 'Lane_ID']\n",
    "df = df[kept_cols]\n",
    "df.head(3)"
   ]
  },
  {
   "cell_type": "code",
   "execution_count": 19,
   "metadata": {
    "id": "e31mswiSBEEB"
   },
   "outputs": [
    {
     "data": {
      "text/html": [
       "<div>\n",
       "<style scoped>\n",
       "    .dataframe tbody tr th:only-of-type {\n",
       "        vertical-align: middle;\n",
       "    }\n",
       "\n",
       "    .dataframe tbody tr th {\n",
       "        vertical-align: top;\n",
       "    }\n",
       "\n",
       "    .dataframe thead th {\n",
       "        text-align: right;\n",
       "    }\n",
       "</style>\n",
       "<table border=\"1\" class=\"dataframe\">\n",
       "  <thead>\n",
       "    <tr style=\"text-align: right;\">\n",
       "      <th></th>\n",
       "      <th>Vehicle_ID</th>\n",
       "      <th>Frame_ID</th>\n",
       "      <th>Total_Frames</th>\n",
       "      <th>Local_X</th>\n",
       "      <th>Local_Y</th>\n",
       "      <th>v_Length</th>\n",
       "      <th>v_Width</th>\n",
       "      <th>v_Class</th>\n",
       "      <th>v_Vel</th>\n",
       "      <th>v_Acc</th>\n",
       "      <th>Lane_ID</th>\n",
       "    </tr>\n",
       "  </thead>\n",
       "  <tbody>\n",
       "    <tr>\n",
       "      <th>466051</th>\n",
       "      <td>2582</td>\n",
       "      <td>7263</td>\n",
       "      <td>1010</td>\n",
       "      <td>4.725434</td>\n",
       "      <td>36.935259</td>\n",
       "      <td>18.5</td>\n",
       "      <td>6.9</td>\n",
       "      <td>2</td>\n",
       "      <td>45.030000</td>\n",
       "      <td>0.000000</td>\n",
       "      <td>1</td>\n",
       "    </tr>\n",
       "    <tr>\n",
       "      <th>466052</th>\n",
       "      <td>2582</td>\n",
       "      <td>7265</td>\n",
       "      <td>1010</td>\n",
       "      <td>4.668727</td>\n",
       "      <td>45.875960</td>\n",
       "      <td>18.5</td>\n",
       "      <td>6.9</td>\n",
       "      <td>2</td>\n",
       "      <td>44.918464</td>\n",
       "      <td>4.280980</td>\n",
       "      <td>1</td>\n",
       "    </tr>\n",
       "    <tr>\n",
       "      <th>466053</th>\n",
       "      <td>2582</td>\n",
       "      <td>7267</td>\n",
       "      <td>1010</td>\n",
       "      <td>4.627103</td>\n",
       "      <td>54.924527</td>\n",
       "      <td>18.5</td>\n",
       "      <td>6.9</td>\n",
       "      <td>2</td>\n",
       "      <td>45.298705</td>\n",
       "      <td>1.107846</td>\n",
       "      <td>1</td>\n",
       "    </tr>\n",
       "    <tr>\n",
       "      <th>466054</th>\n",
       "      <td>2582</td>\n",
       "      <td>7269</td>\n",
       "      <td>1010</td>\n",
       "      <td>4.591890</td>\n",
       "      <td>63.945685</td>\n",
       "      <td>18.5</td>\n",
       "      <td>6.9</td>\n",
       "      <td>2</td>\n",
       "      <td>44.961476</td>\n",
       "      <td>-2.893200</td>\n",
       "      <td>1</td>\n",
       "    </tr>\n",
       "    <tr>\n",
       "      <th>466055</th>\n",
       "      <td>2582</td>\n",
       "      <td>7271</td>\n",
       "      <td>1010</td>\n",
       "      <td>4.543895</td>\n",
       "      <td>72.797674</td>\n",
       "      <td>18.5</td>\n",
       "      <td>6.9</td>\n",
       "      <td>2</td>\n",
       "      <td>44.002607</td>\n",
       "      <td>-5.160000</td>\n",
       "      <td>1</td>\n",
       "    </tr>\n",
       "  </tbody>\n",
       "</table>\n",
       "</div>"
      ],
      "text/plain": [
       "        Vehicle_ID  Frame_ID  Total_Frames   Local_X    Local_Y  v_Length  \\\n",
       "466051        2582      7263          1010  4.725434  36.935259      18.5   \n",
       "466052        2582      7265          1010  4.668727  45.875960      18.5   \n",
       "466053        2582      7267          1010  4.627103  54.924527      18.5   \n",
       "466054        2582      7269          1010  4.591890  63.945685      18.5   \n",
       "466055        2582      7271          1010  4.543895  72.797674      18.5   \n",
       "\n",
       "        v_Width  v_Class      v_Vel     v_Acc  Lane_ID  \n",
       "466051      6.9        2  45.030000  0.000000        1  \n",
       "466052      6.9        2  44.918464  4.280980        1  \n",
       "466053      6.9        2  45.298705  1.107846        1  \n",
       "466054      6.9        2  44.961476 -2.893200        1  \n",
       "466055      6.9        2  44.002607 -5.160000        1  "
      ]
     },
     "execution_count": 19,
     "metadata": {},
     "output_type": "execute_result"
    }
   ],
   "source": [
    "subdf = df[df.Vehicle_ID==2582].copy()\n",
    "subdf.head()"
   ]
  },
  {
   "cell_type": "markdown",
   "metadata": {
    "id": "NabsV8O5BBd5"
   },
   "source": [
    "## Dataloading"
   ]
  },
  {
   "cell_type": "code",
   "execution_count": 21,
   "metadata": {},
   "outputs": [
    {
     "data": {
      "text/plain": [
       "(505, 1)"
      ]
     },
     "execution_count": 21,
     "metadata": {},
     "output_type": "execute_result"
    }
   ],
   "source": [
    "training_set = subdf.Local_X.values.reshape(subdf.shape[0],1)\n",
    "training_set.shape"
   ]
  },
  {
   "cell_type": "code",
   "execution_count": 24,
   "metadata": {
    "id": "vIWvJCpOVmwU"
   },
   "outputs": [],
   "source": [
    "def sliding_windows(data, seq_length):\n",
    "    x = []\n",
    "    y = []\n",
    "\n",
    "    for i in range(len(data)-seq_length-1):\n",
    "        _x = data[i:(i+seq_length)]\n",
    "        _y = data[i+seq_length]\n",
    "        x.append(_x)\n",
    "        y.append(_y)\n",
    "\n",
    "    return np.array(x),np.array(y)\n",
    "\n",
    "sc = MinMaxScaler()\n",
    "training_data = sc.fit_transform(training_set)\n",
    "\n",
    "seq_length = 4\n",
    "x, y = sliding_windows(training_data, seq_length)\n",
    "\n",
    "train_size = int(len(y) * 0.67)\n",
    "test_size = len(y) - train_size\n",
    "\n",
    "dataX = Variable(torch.Tensor(np.array(x)))\n",
    "dataY = Variable(torch.Tensor(np.array(y)))\n",
    "\n",
    "trainX = Variable(torch.Tensor(np.array(x[0:train_size])))\n",
    "trainY = Variable(torch.Tensor(np.array(y[0:train_size])))\n",
    "\n",
    "testX = Variable(torch.Tensor(np.array(x[train_size:len(x)])))\n",
    "testY = Variable(torch.Tensor(np.array(y[train_size:len(y)])))"
   ]
  },
  {
   "cell_type": "markdown",
   "metadata": {
    "id": "--1LVbHOBSIy"
   },
   "source": [
    "## Model"
   ]
  },
  {
   "cell_type": "code",
   "execution_count": 25,
   "metadata": {
    "id": "_BcDEjcABRVz"
   },
   "outputs": [],
   "source": [
    "class LSTM(nn.Module):\n",
    "\n",
    "    def __init__(self, num_classes, input_size, hidden_size, num_layers):\n",
    "        super(LSTM, self).__init__()\n",
    "        \n",
    "        self.num_classes = num_classes\n",
    "        self.num_layers = num_layers\n",
    "        self.input_size = input_size\n",
    "        self.hidden_size = hidden_size\n",
    "        self.seq_length = seq_length\n",
    "        \n",
    "        self.lstm = nn.LSTM(input_size=input_size, hidden_size=hidden_size,\n",
    "                            num_layers=num_layers, batch_first=True)\n",
    "        \n",
    "        self.fc = nn.Linear(hidden_size, num_classes)\n",
    "\n",
    "    def forward(self, x):\n",
    "        h_0 = Variable(torch.zeros(\n",
    "            self.num_layers, x.size(0), self.hidden_size)).to(device)\n",
    "        \n",
    "        c_0 = Variable(torch.zeros(\n",
    "            self.num_layers, x.size(0), self.hidden_size)).to(device)\n",
    "        # Propagate input through LSTM\n",
    "        ula, (h_out, _) = self.lstm(x, (h_0, c_0))\n",
    "        \n",
    "        h_out = h_out.view(-1, self.hidden_size)\n",
    "        \n",
    "        out = self.fc(h_out)\n",
    "        \n",
    "        return out"
   ]
  },
  {
   "cell_type": "markdown",
   "metadata": {
    "id": "tdzFI5GJBUF5"
   },
   "source": [
    "## Training"
   ]
  },
  {
   "cell_type": "code",
   "execution_count": 41,
   "metadata": {},
   "outputs": [
    {
     "data": {
      "text/plain": [
       "tensor([[[0.0146],\n",
       "         [0.0111],\n",
       "         [0.0086],\n",
       "         [0.0065]],\n",
       "\n",
       "        [[0.0111],\n",
       "         [0.0086],\n",
       "         [0.0065],\n",
       "         [0.0036]],\n",
       "\n",
       "        [[0.0086],\n",
       "         [0.0065],\n",
       "         [0.0036],\n",
       "         [0.0009]],\n",
       "\n",
       "        ...,\n",
       "\n",
       "        [[0.6998],\n",
       "         [0.6995],\n",
       "         [0.6999],\n",
       "         [0.7004]],\n",
       "\n",
       "        [[0.6995],\n",
       "         [0.6999],\n",
       "         [0.7004],\n",
       "         [0.7006]],\n",
       "\n",
       "        [[0.6999],\n",
       "         [0.7004],\n",
       "         [0.7006],\n",
       "         [0.7005]]], device='cuda:0')"
      ]
     },
     "execution_count": 41,
     "metadata": {},
     "output_type": "execute_result"
    }
   ],
   "source": [
    "trainX.to(device)"
   ]
  },
  {
   "cell_type": "code",
   "execution_count": 43,
   "metadata": {
    "colab": {
     "base_uri": "https://localhost:8080/"
    },
    "id": "a2vvHeFgVtCp",
    "outputId": "23931304-98d1-4ef5-8d7c-5da163cece40"
   },
   "outputs": [
    {
     "name": "stdout",
     "output_type": "stream",
     "text": [
      "Wall time: 0 ns\n"
     ]
    },
    {
     "ename": "RuntimeError",
     "evalue": "Input and hidden tensors are not at the same device, found input tensor at cuda:0 and hidden tensor at cpu",
     "output_type": "error",
     "traceback": [
      "\u001b[1;31m---------------------------------------------------------------------------\u001b[0m",
      "\u001b[1;31mRuntimeError\u001b[0m                              Traceback (most recent call last)",
      "\u001b[1;32m<ipython-input-43-fd2ccf102049>\u001b[0m in \u001b[0;36m<module>\u001b[1;34m\u001b[0m\n\u001b[0;32m     20\u001b[0m \u001b[1;32mfor\u001b[0m \u001b[0mepoch\u001b[0m \u001b[1;32min\u001b[0m \u001b[0mrange\u001b[0m\u001b[1;33m(\u001b[0m\u001b[0mnum_epochs\u001b[0m\u001b[1;33m)\u001b[0m\u001b[1;33m:\u001b[0m\u001b[1;33m\u001b[0m\u001b[1;33m\u001b[0m\u001b[0m\n\u001b[0;32m     21\u001b[0m     \u001b[0mtrainX\u001b[0m\u001b[1;33m.\u001b[0m\u001b[0mto\u001b[0m\u001b[1;33m(\u001b[0m\u001b[0mdevice\u001b[0m\u001b[1;33m)\u001b[0m\u001b[1;33m\u001b[0m\u001b[1;33m\u001b[0m\u001b[0m\n\u001b[1;32m---> 22\u001b[1;33m     \u001b[0moutputs\u001b[0m \u001b[1;33m=\u001b[0m \u001b[0mlstm\u001b[0m\u001b[1;33m(\u001b[0m\u001b[0mtrainX\u001b[0m\u001b[1;33m.\u001b[0m\u001b[0mcuda\u001b[0m\u001b[1;33m(\u001b[0m\u001b[1;33m)\u001b[0m\u001b[1;33m)\u001b[0m\u001b[1;33m\u001b[0m\u001b[1;33m\u001b[0m\u001b[0m\n\u001b[0m\u001b[0;32m     23\u001b[0m \u001b[1;33m\u001b[0m\u001b[0m\n\u001b[0;32m     24\u001b[0m     \u001b[0moptimizer\u001b[0m\u001b[1;33m.\u001b[0m\u001b[0mzero_grad\u001b[0m\u001b[1;33m(\u001b[0m\u001b[1;33m)\u001b[0m\u001b[1;33m\u001b[0m\u001b[1;33m\u001b[0m\u001b[0m\n",
      "\u001b[1;32m~\\anaconda3\\envs\\pyto\\lib\\site-packages\\torch\\nn\\modules\\module.py\u001b[0m in \u001b[0;36m_call_impl\u001b[1;34m(self, *input, **kwargs)\u001b[0m\n\u001b[0;32m    725\u001b[0m             \u001b[0mresult\u001b[0m \u001b[1;33m=\u001b[0m \u001b[0mself\u001b[0m\u001b[1;33m.\u001b[0m\u001b[0m_slow_forward\u001b[0m\u001b[1;33m(\u001b[0m\u001b[1;33m*\u001b[0m\u001b[0minput\u001b[0m\u001b[1;33m,\u001b[0m \u001b[1;33m**\u001b[0m\u001b[0mkwargs\u001b[0m\u001b[1;33m)\u001b[0m\u001b[1;33m\u001b[0m\u001b[1;33m\u001b[0m\u001b[0m\n\u001b[0;32m    726\u001b[0m         \u001b[1;32melse\u001b[0m\u001b[1;33m:\u001b[0m\u001b[1;33m\u001b[0m\u001b[1;33m\u001b[0m\u001b[0m\n\u001b[1;32m--> 727\u001b[1;33m             \u001b[0mresult\u001b[0m \u001b[1;33m=\u001b[0m \u001b[0mself\u001b[0m\u001b[1;33m.\u001b[0m\u001b[0mforward\u001b[0m\u001b[1;33m(\u001b[0m\u001b[1;33m*\u001b[0m\u001b[0minput\u001b[0m\u001b[1;33m,\u001b[0m \u001b[1;33m**\u001b[0m\u001b[0mkwargs\u001b[0m\u001b[1;33m)\u001b[0m\u001b[1;33m\u001b[0m\u001b[1;33m\u001b[0m\u001b[0m\n\u001b[0m\u001b[0;32m    728\u001b[0m         for hook in itertools.chain(\n\u001b[0;32m    729\u001b[0m                 \u001b[0m_global_forward_hooks\u001b[0m\u001b[1;33m.\u001b[0m\u001b[0mvalues\u001b[0m\u001b[1;33m(\u001b[0m\u001b[1;33m)\u001b[0m\u001b[1;33m,\u001b[0m\u001b[1;33m\u001b[0m\u001b[1;33m\u001b[0m\u001b[0m\n",
      "\u001b[1;32m<ipython-input-25-f5413bb2c575>\u001b[0m in \u001b[0;36mforward\u001b[1;34m(self, x)\u001b[0m\n\u001b[0;32m     23\u001b[0m \u001b[1;33m\u001b[0m\u001b[0m\n\u001b[0;32m     24\u001b[0m         \u001b[1;31m# Propagate input through LSTM\u001b[0m\u001b[1;33m\u001b[0m\u001b[1;33m\u001b[0m\u001b[1;33m\u001b[0m\u001b[0m\n\u001b[1;32m---> 25\u001b[1;33m         \u001b[0mula\u001b[0m\u001b[1;33m,\u001b[0m \u001b[1;33m(\u001b[0m\u001b[0mh_out\u001b[0m\u001b[1;33m,\u001b[0m \u001b[0m_\u001b[0m\u001b[1;33m)\u001b[0m \u001b[1;33m=\u001b[0m \u001b[0mself\u001b[0m\u001b[1;33m.\u001b[0m\u001b[0mlstm\u001b[0m\u001b[1;33m(\u001b[0m\u001b[0mx\u001b[0m\u001b[1;33m,\u001b[0m \u001b[1;33m(\u001b[0m\u001b[0mh_0\u001b[0m\u001b[1;33m,\u001b[0m \u001b[0mc_0\u001b[0m\u001b[1;33m)\u001b[0m\u001b[1;33m)\u001b[0m\u001b[1;33m\u001b[0m\u001b[1;33m\u001b[0m\u001b[0m\n\u001b[0m\u001b[0;32m     26\u001b[0m \u001b[1;33m\u001b[0m\u001b[0m\n\u001b[0;32m     27\u001b[0m         \u001b[0mh_out\u001b[0m \u001b[1;33m=\u001b[0m \u001b[0mh_out\u001b[0m\u001b[1;33m.\u001b[0m\u001b[0mview\u001b[0m\u001b[1;33m(\u001b[0m\u001b[1;33m-\u001b[0m\u001b[1;36m1\u001b[0m\u001b[1;33m,\u001b[0m \u001b[0mself\u001b[0m\u001b[1;33m.\u001b[0m\u001b[0mhidden_size\u001b[0m\u001b[1;33m)\u001b[0m\u001b[1;33m\u001b[0m\u001b[1;33m\u001b[0m\u001b[0m\n",
      "\u001b[1;32m~\\anaconda3\\envs\\pyto\\lib\\site-packages\\torch\\nn\\modules\\module.py\u001b[0m in \u001b[0;36m_call_impl\u001b[1;34m(self, *input, **kwargs)\u001b[0m\n\u001b[0;32m    725\u001b[0m             \u001b[0mresult\u001b[0m \u001b[1;33m=\u001b[0m \u001b[0mself\u001b[0m\u001b[1;33m.\u001b[0m\u001b[0m_slow_forward\u001b[0m\u001b[1;33m(\u001b[0m\u001b[1;33m*\u001b[0m\u001b[0minput\u001b[0m\u001b[1;33m,\u001b[0m \u001b[1;33m**\u001b[0m\u001b[0mkwargs\u001b[0m\u001b[1;33m)\u001b[0m\u001b[1;33m\u001b[0m\u001b[1;33m\u001b[0m\u001b[0m\n\u001b[0;32m    726\u001b[0m         \u001b[1;32melse\u001b[0m\u001b[1;33m:\u001b[0m\u001b[1;33m\u001b[0m\u001b[1;33m\u001b[0m\u001b[0m\n\u001b[1;32m--> 727\u001b[1;33m             \u001b[0mresult\u001b[0m \u001b[1;33m=\u001b[0m \u001b[0mself\u001b[0m\u001b[1;33m.\u001b[0m\u001b[0mforward\u001b[0m\u001b[1;33m(\u001b[0m\u001b[1;33m*\u001b[0m\u001b[0minput\u001b[0m\u001b[1;33m,\u001b[0m \u001b[1;33m**\u001b[0m\u001b[0mkwargs\u001b[0m\u001b[1;33m)\u001b[0m\u001b[1;33m\u001b[0m\u001b[1;33m\u001b[0m\u001b[0m\n\u001b[0m\u001b[0;32m    728\u001b[0m         for hook in itertools.chain(\n\u001b[0;32m    729\u001b[0m                 \u001b[0m_global_forward_hooks\u001b[0m\u001b[1;33m.\u001b[0m\u001b[0mvalues\u001b[0m\u001b[1;33m(\u001b[0m\u001b[1;33m)\u001b[0m\u001b[1;33m,\u001b[0m\u001b[1;33m\u001b[0m\u001b[1;33m\u001b[0m\u001b[0m\n",
      "\u001b[1;32m~\\anaconda3\\envs\\pyto\\lib\\site-packages\\torch\\nn\\modules\\rnn.py\u001b[0m in \u001b[0;36mforward\u001b[1;34m(self, input, hx)\u001b[0m\n\u001b[0;32m    579\u001b[0m         \u001b[0mself\u001b[0m\u001b[1;33m.\u001b[0m\u001b[0mcheck_forward_args\u001b[0m\u001b[1;33m(\u001b[0m\u001b[0minput\u001b[0m\u001b[1;33m,\u001b[0m \u001b[0mhx\u001b[0m\u001b[1;33m,\u001b[0m \u001b[0mbatch_sizes\u001b[0m\u001b[1;33m)\u001b[0m\u001b[1;33m\u001b[0m\u001b[1;33m\u001b[0m\u001b[0m\n\u001b[0;32m    580\u001b[0m         \u001b[1;32mif\u001b[0m \u001b[0mbatch_sizes\u001b[0m \u001b[1;32mis\u001b[0m \u001b[1;32mNone\u001b[0m\u001b[1;33m:\u001b[0m\u001b[1;33m\u001b[0m\u001b[1;33m\u001b[0m\u001b[0m\n\u001b[1;32m--> 581\u001b[1;33m             result = _VF.lstm(input, hx, self._flat_weights, self.bias, self.num_layers,\n\u001b[0m\u001b[0;32m    582\u001b[0m                               self.dropout, self.training, self.bidirectional, self.batch_first)\n\u001b[0;32m    583\u001b[0m         \u001b[1;32melse\u001b[0m\u001b[1;33m:\u001b[0m\u001b[1;33m\u001b[0m\u001b[1;33m\u001b[0m\u001b[0m\n",
      "\u001b[1;31mRuntimeError\u001b[0m: Input and hidden tensors are not at the same device, found input tensor at cuda:0 and hidden tensor at cpu"
     ]
    }
   ],
   "source": [
    "%time\n",
    "num_epochs = 50\n",
    "learning_rate = 0.001\n",
    "\n",
    "input_size = 1\n",
    "hidden_size = 100\n",
    "num_layers = 1\n",
    "\n",
    "num_classes = 1\n",
    "\n",
    "lstm = LSTM(num_classes, input_size, hidden_size, num_layers)\n",
    "device = torch.device(\"cuda:0\" if torch.cuda.is_available() else \"cpu\")\n",
    "lstm.to(device)\n",
    "criterion = torch.nn.MSELoss()    # mean-squared error for regression\n",
    "optimizer = torch.optim.Adam(lstm.parameters(), lr=learning_rate)\n",
    "#optimizer = torch.optim.SGD(lstm.parameters(), lr=learning_rate)\n",
    "\n",
    "# Train the model\n",
    "\n",
    "for epoch in range(num_epochs):\n",
    "    trainX.to(device)\n",
    "    outputs = lstm(trainX.cuda())\n",
    "    \n",
    "    optimizer.zero_grad()\n",
    "    \n",
    "    # obtain the loss function\n",
    "    loss = criterion(outputs, trainY)\n",
    "    \n",
    "    loss.backward()\n",
    "    \n",
    "    optimizer.step()\n",
    "    if epoch % 10 == 0:\n",
    "      print(\"Epoch: %d, loss: %1.5f\" % (epoch, loss.item()))"
   ]
  },
  {
   "cell_type": "markdown",
   "metadata": {
    "id": "35ndYIwIKteS"
   },
   "source": [
    "## Testing for Airplane Passengers Dataset"
   ]
  },
  {
   "cell_type": "code",
   "execution_count": 34,
   "metadata": {
    "colab": {
     "base_uri": "https://localhost:8080/",
     "height": 294
    },
    "id": "CKEzO1jzKydL",
    "outputId": "08c40e0d-d1be-47d0-d222-71554dc7c29d"
   },
   "outputs": [],
   "source": [
    "lstm.eval()\n",
    "train_predict = lstm(dataX)\n",
    "\n",
    "data_predict = train_predict.data.numpy()\n",
    "dataY_plot = dataY.data.numpy()\n",
    "\n",
    "data_predict = sc.inverse_transform(data_predict)\n",
    "dataY_plot = sc.inverse_transform(dataY_plot)\n"
   ]
  },
  {
   "cell_type": "code",
   "execution_count": 35,
   "metadata": {},
   "outputs": [],
   "source": [
    "from sklearn.metrics import mean_squared_error\n",
    "from math import sqrt"
   ]
  },
  {
   "cell_type": "code",
   "execution_count": 36,
   "metadata": {},
   "outputs": [
    {
     "data": {
      "text/plain": [
       "[2.0545046184652205]"
      ]
     },
     "execution_count": 36,
     "metadata": {},
     "output_type": "execute_result"
    }
   ],
   "source": [
    "rms = [sqrt(mean_squared_error(dataY_plot, data_predict))]\n",
    "rms"
   ]
  }
 ],
 "metadata": {
  "accelerator": "GPU",
  "colab": {
   "name": "Time Series Prediction with LSTM Using PyTorch",
   "provenance": []
  },
  "kernelspec": {
   "display_name": "Python 3",
   "language": "python",
   "name": "python3"
  },
  "language_info": {
   "codemirror_mode": {
    "name": "ipython",
    "version": 3
   },
   "file_extension": ".py",
   "mimetype": "text/x-python",
   "name": "python",
   "nbconvert_exporter": "python",
   "pygments_lexer": "ipython3",
   "version": "3.8.5"
  }
 },
 "nbformat": 4,
 "nbformat_minor": 4
}
