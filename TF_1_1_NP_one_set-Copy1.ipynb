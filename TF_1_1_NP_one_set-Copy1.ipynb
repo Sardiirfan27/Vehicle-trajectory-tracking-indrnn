{
 "cells": [
  {
   "cell_type": "markdown",
   "metadata": {
    "colab_type": "text",
    "id": "view-in-github"
   },
   "source": [
    "<a href=\"https://colab.research.google.com/github/duonghung86/Vehicle-trajectory-tracking/blob/master/Codes/VTP_1_10_Models_for_full_dataset.ipynb\" target=\"_parent\"><img src=\"https://colab.research.google.com/assets/colab-badge.svg\" alt=\"Open In Colab\"/></a>"
   ]
  },
  {
   "cell_type": "markdown",
   "metadata": {
    "colab_type": "text",
    "id": "pa49bUnKyRgF"
   },
   "source": [
    "# Developing models for full dataset\n",
    "---"
   ]
  },
  {
   "cell_type": "markdown",
   "metadata": {
    "colab_type": "text",
    "id": "XVhK72Pu1cJL"
   },
   "source": [
    "## Import packages"
   ]
  },
  {
   "cell_type": "code",
   "execution_count": 1,
   "metadata": {
    "ExecuteTime": {
     "end_time": "2020-08-21T20:16:12.937889Z",
     "start_time": "2020-08-21T20:16:03.058187Z"
    },
    "colab": {},
    "colab_type": "code",
    "id": "7rZnJaGTWQw0"
   },
   "outputs": [],
   "source": [
    "# General\n",
    "import numpy as np\n",
    "import time\n",
    "import os\n",
    "\n",
    "# Loading datasets\n",
    "from io import StringIO, BytesIO\n",
    "from zipfile import ZipFile\n",
    "import urllib.request\n",
    "\n",
    "# For data processing\n",
    "import pandas as pd\n",
    "from sklearn.model_selection import train_test_split\n",
    "\n",
    "# Evaluation\n",
    "from sklearn.metrics import mean_squared_error\n",
    "from math import sqrt\n",
    "\n",
    "# For prediction model\n",
    "import tensorflow as tf\n",
    "from tensorflow.keras.models import Sequential\n",
    "from tensorflow.keras.layers import Dense\n",
    "from tensorflow.keras.layers import LSTM\n",
    "physical_devices = tf.config.list_physical_devices('GPU')\n",
    "tf.config.experimental.set_memory_growth(physical_devices[0], enable=True)\n",
    "\n",
    "# Visualization\n",
    "import matplotlib.pyplot as plt\n",
    "plt.rcParams['figure.figsize'] = (8, 6)"
   ]
  },
  {
   "cell_type": "markdown",
   "metadata": {
    "colab_type": "text",
    "id": "TokBlnUhWFw9"
   },
   "source": [
    "## Load dataset"
   ]
  },
  {
   "cell_type": "code",
   "execution_count": 2,
   "metadata": {},
   "outputs": [],
   "source": [
    "def url2pd(link):\n",
    "    with ZipFile(link) as my_zip_file:\n",
    "        for contained_file in my_zip_file.namelist():\n",
    "            fzip=my_zip_file.open(contained_file)\n",
    "            data=fzip.read()\n",
    "    s=str(data,'utf-8')\n",
    "    data = StringIO(s) \n",
    "    print('Done loading a dataset!')\n",
    "    return pd.read_csv(data)"
   ]
  },
  {
   "cell_type": "code",
   "execution_count": 3,
   "metadata": {
    "ExecuteTime": {
     "end_time": "2020-08-21T20:16:15.100385Z",
     "start_time": "2020-08-21T20:16:12.941842Z"
    },
    "colab": {
     "base_uri": "https://localhost:8080/",
     "height": 69
    },
    "colab_type": "code",
    "id": "R6vKGxODhB-M",
    "outputId": "ef0a7b77-7cb1-4411-ec8a-7b6c2baed9c5"
   },
   "outputs": [
    {
     "name": "stdout",
     "output_type": "stream",
     "text": [
      "Done loading a dataset!\n",
      "<class 'pandas.core.frame.DataFrame'>\n",
      "RangeIndex: 1048575 entries, 0 to 1048574\n",
      "Data columns (total 18 columns):\n",
      " #   Column         Non-Null Count    Dtype  \n",
      "---  ------         --------------    -----  \n",
      " 0   Vehicle_ID     1048575 non-null  int64  \n",
      " 1   Frame_ID       1048575 non-null  int64  \n",
      " 2   Total_Frames   1048575 non-null  int64  \n",
      " 3   Global_Time    1048575 non-null  int64  \n",
      " 4   Local_X        1048575 non-null  float64\n",
      " 5   Local_Y        1048575 non-null  float64\n",
      " 6   Global_X       1048575 non-null  float64\n",
      " 7   Global_Y       1048575 non-null  float64\n",
      " 8   v_Length       1048575 non-null  float64\n",
      " 9   v_Width        1048575 non-null  float64\n",
      " 10  v_Class        1048575 non-null  int64  \n",
      " 11  v_Vel          1048575 non-null  float64\n",
      " 12  v_Acc          1048575 non-null  float64\n",
      " 13  Lane_ID        1048575 non-null  int64  \n",
      " 14  Preceding      1048575 non-null  int64  \n",
      " 15  Following      1048575 non-null  int64  \n",
      " 16  Space_Headway  1048575 non-null  float64\n",
      " 17  Time_Headway   1048575 non-null  float64\n",
      "dtypes: float64(10), int64(8)\n",
      "memory usage: 144.0 MB\n"
     ]
    },
    {
     "data": {
      "text/html": [
       "<div>\n",
       "<style scoped>\n",
       "    .dataframe tbody tr th:only-of-type {\n",
       "        vertical-align: middle;\n",
       "    }\n",
       "\n",
       "    .dataframe tbody tr th {\n",
       "        vertical-align: top;\n",
       "    }\n",
       "\n",
       "    .dataframe thead th {\n",
       "        text-align: right;\n",
       "    }\n",
       "</style>\n",
       "<table border=\"1\" class=\"dataframe\">\n",
       "  <thead>\n",
       "    <tr style=\"text-align: right;\">\n",
       "      <th></th>\n",
       "      <th>Vehicle_ID</th>\n",
       "      <th>Frame_ID</th>\n",
       "      <th>Total_Frames</th>\n",
       "      <th>Global_Time</th>\n",
       "      <th>Local_X</th>\n",
       "      <th>Local_Y</th>\n",
       "      <th>Global_X</th>\n",
       "      <th>Global_Y</th>\n",
       "      <th>v_Length</th>\n",
       "      <th>v_Width</th>\n",
       "      <th>v_Class</th>\n",
       "      <th>v_Vel</th>\n",
       "      <th>v_Acc</th>\n",
       "      <th>Lane_ID</th>\n",
       "      <th>Preceding</th>\n",
       "      <th>Following</th>\n",
       "      <th>Space_Headway</th>\n",
       "      <th>Time_Headway</th>\n",
       "    </tr>\n",
       "  </thead>\n",
       "  <tbody>\n",
       "    <tr>\n",
       "      <th>0</th>\n",
       "      <td>284</td>\n",
       "      <td>63</td>\n",
       "      <td>526</td>\n",
       "      <td>1113436773200</td>\n",
       "      <td>41.375</td>\n",
       "      <td>66.469</td>\n",
       "      <td>6042864.125</td>\n",
       "      <td>2133138.844</td>\n",
       "      <td>15.4</td>\n",
       "      <td>5.9</td>\n",
       "      <td>2</td>\n",
       "      <td>44.55</td>\n",
       "      <td>0.0</td>\n",
       "      <td>4</td>\n",
       "      <td>0</td>\n",
       "      <td>0</td>\n",
       "      <td>0.0</td>\n",
       "      <td>0.0</td>\n",
       "    </tr>\n",
       "    <tr>\n",
       "      <th>1</th>\n",
       "      <td>284</td>\n",
       "      <td>64</td>\n",
       "      <td>526</td>\n",
       "      <td>1113436773300</td>\n",
       "      <td>41.375</td>\n",
       "      <td>71.069</td>\n",
       "      <td>6042863.571</td>\n",
       "      <td>2133143.309</td>\n",
       "      <td>15.4</td>\n",
       "      <td>5.9</td>\n",
       "      <td>2</td>\n",
       "      <td>44.55</td>\n",
       "      <td>0.0</td>\n",
       "      <td>4</td>\n",
       "      <td>0</td>\n",
       "      <td>0</td>\n",
       "      <td>0.0</td>\n",
       "      <td>0.0</td>\n",
       "    </tr>\n",
       "    <tr>\n",
       "      <th>2</th>\n",
       "      <td>284</td>\n",
       "      <td>65</td>\n",
       "      <td>526</td>\n",
       "      <td>1113436773400</td>\n",
       "      <td>41.374</td>\n",
       "      <td>75.570</td>\n",
       "      <td>6042863.016</td>\n",
       "      <td>2133147.775</td>\n",
       "      <td>15.4</td>\n",
       "      <td>5.9</td>\n",
       "      <td>2</td>\n",
       "      <td>44.55</td>\n",
       "      <td>0.0</td>\n",
       "      <td>4</td>\n",
       "      <td>0</td>\n",
       "      <td>0</td>\n",
       "      <td>0.0</td>\n",
       "      <td>0.0</td>\n",
       "    </tr>\n",
       "  </tbody>\n",
       "</table>\n",
       "</div>"
      ],
      "text/plain": [
       "   Vehicle_ID  Frame_ID  Total_Frames    Global_Time  Local_X  Local_Y  \\\n",
       "0         284        63           526  1113436773200   41.375   66.469   \n",
       "1         284        64           526  1113436773300   41.375   71.069   \n",
       "2         284        65           526  1113436773400   41.374   75.570   \n",
       "\n",
       "      Global_X     Global_Y  v_Length  v_Width  v_Class  v_Vel  v_Acc  \\\n",
       "0  6042864.125  2133138.844      15.4      5.9        2  44.55    0.0   \n",
       "1  6042863.571  2133143.309      15.4      5.9        2  44.55    0.0   \n",
       "2  6042863.016  2133147.775      15.4      5.9        2  44.55    0.0   \n",
       "\n",
       "   Lane_ID  Preceding  Following  Space_Headway  Time_Headway  \n",
       "0        4          0          0            0.0           0.0  \n",
       "1        4          0          0            0.0           0.0  \n",
       "2        4          0          0            0.0           0.0  "
      ]
     },
     "execution_count": 3,
     "metadata": {},
     "output_type": "execute_result"
    }
   ],
   "source": [
    "filenames = os.listdir('./Data')\n",
    "url_1 = './Data/' + filenames[4]\n",
    "df = url2pd(url_1)\n",
    "df.info()\n",
    "df.head(3)"
   ]
  },
  {
   "cell_type": "markdown",
   "metadata": {
    "colab_type": "text",
    "id": "VdbOWXiTWM2T"
   },
   "source": [
    "Let's take a glance at the data. Here are the first few rows:"
   ]
  },
  {
   "cell_type": "code",
   "execution_count": 4,
   "metadata": {
    "ExecuteTime": {
     "end_time": "2020-08-21T20:16:20.617383Z",
     "start_time": "2020-08-21T20:16:20.548384Z"
    },
    "colab": {
     "base_uri": "https://localhost:8080/",
     "height": 204
    },
    "colab_type": "code",
    "id": "ffjH69ZiI4uF",
    "outputId": "df3afa2a-d780-4765-a740-9d18164e5227"
   },
   "outputs": [
    {
     "name": "stdout",
     "output_type": "stream",
     "text": [
      "(1048575, 18)\n",
      "After filtering: (524288, 18)\n"
     ]
    },
    {
     "data": {
      "text/html": [
       "<div>\n",
       "<style scoped>\n",
       "    .dataframe tbody tr th:only-of-type {\n",
       "        vertical-align: middle;\n",
       "    }\n",
       "\n",
       "    .dataframe tbody tr th {\n",
       "        vertical-align: top;\n",
       "    }\n",
       "\n",
       "    .dataframe thead th {\n",
       "        text-align: right;\n",
       "    }\n",
       "</style>\n",
       "<table border=\"1\" class=\"dataframe\">\n",
       "  <thead>\n",
       "    <tr style=\"text-align: right;\">\n",
       "      <th></th>\n",
       "      <th>Vehicle_ID</th>\n",
       "      <th>Frame_ID</th>\n",
       "      <th>Total_Frames</th>\n",
       "      <th>Local_X</th>\n",
       "      <th>Local_Y</th>\n",
       "      <th>v_Length</th>\n",
       "      <th>v_Width</th>\n",
       "      <th>v_Class</th>\n",
       "      <th>v_Vel</th>\n",
       "      <th>v_Acc</th>\n",
       "      <th>Lane_ID</th>\n",
       "    </tr>\n",
       "  </thead>\n",
       "  <tbody>\n",
       "    <tr>\n",
       "      <th>0</th>\n",
       "      <td>284</td>\n",
       "      <td>63</td>\n",
       "      <td>526</td>\n",
       "      <td>41.375</td>\n",
       "      <td>66.469</td>\n",
       "      <td>15.4</td>\n",
       "      <td>5.9</td>\n",
       "      <td>2</td>\n",
       "      <td>44.55</td>\n",
       "      <td>0.00</td>\n",
       "      <td>4</td>\n",
       "    </tr>\n",
       "    <tr>\n",
       "      <th>1</th>\n",
       "      <td>284</td>\n",
       "      <td>65</td>\n",
       "      <td>526</td>\n",
       "      <td>41.374</td>\n",
       "      <td>75.570</td>\n",
       "      <td>15.4</td>\n",
       "      <td>5.9</td>\n",
       "      <td>2</td>\n",
       "      <td>44.55</td>\n",
       "      <td>0.00</td>\n",
       "      <td>4</td>\n",
       "    </tr>\n",
       "    <tr>\n",
       "      <th>2</th>\n",
       "      <td>284</td>\n",
       "      <td>67</td>\n",
       "      <td>526</td>\n",
       "      <td>41.372</td>\n",
       "      <td>84.607</td>\n",
       "      <td>15.4</td>\n",
       "      <td>5.9</td>\n",
       "      <td>2</td>\n",
       "      <td>44.55</td>\n",
       "      <td>-6.14</td>\n",
       "      <td>4</td>\n",
       "    </tr>\n",
       "    <tr>\n",
       "      <th>3</th>\n",
       "      <td>284</td>\n",
       "      <td>69</td>\n",
       "      <td>526</td>\n",
       "      <td>41.369</td>\n",
       "      <td>93.368</td>\n",
       "      <td>15.4</td>\n",
       "      <td>5.9</td>\n",
       "      <td>2</td>\n",
       "      <td>43.00</td>\n",
       "      <td>-7.12</td>\n",
       "      <td>4</td>\n",
       "    </tr>\n",
       "    <tr>\n",
       "      <th>4</th>\n",
       "      <td>284</td>\n",
       "      <td>71</td>\n",
       "      <td>526</td>\n",
       "      <td>41.376</td>\n",
       "      <td>101.844</td>\n",
       "      <td>15.4</td>\n",
       "      <td>5.9</td>\n",
       "      <td>2</td>\n",
       "      <td>43.84</td>\n",
       "      <td>11.20</td>\n",
       "      <td>4</td>\n",
       "    </tr>\n",
       "  </tbody>\n",
       "</table>\n",
       "</div>"
      ],
      "text/plain": [
       "   Vehicle_ID  Frame_ID  Total_Frames  Local_X  Local_Y  v_Length  v_Width  \\\n",
       "0         284        63           526   41.375   66.469      15.4      5.9   \n",
       "1         284        65           526   41.374   75.570      15.4      5.9   \n",
       "2         284        67           526   41.372   84.607      15.4      5.9   \n",
       "3         284        69           526   41.369   93.368      15.4      5.9   \n",
       "4         284        71           526   41.376  101.844      15.4      5.9   \n",
       "\n",
       "   v_Class  v_Vel  v_Acc  Lane_ID  \n",
       "0        2  44.55   0.00        4  \n",
       "1        2  44.55   0.00        4  \n",
       "2        2  44.55  -6.14        4  \n",
       "3        2  43.00  -7.12        4  \n",
       "4        2  43.84  11.20        4  "
      ]
     },
     "execution_count": 4,
     "metadata": {},
     "output_type": "execute_result"
    }
   ],
   "source": [
    "# Filter time step\n",
    "print(df.shape)\n",
    "df = df.iloc[::2,:].copy()\n",
    "df.reset_index(drop=True, inplace=True)\n",
    "print('After filtering:', df.shape)\n",
    "#  keep only columns that are useful for now\n",
    "kept_cols = ['Vehicle_ID', 'Frame_ID', 'Total_Frames', 'Local_X','Local_Y','v_Length', 'v_Width', 'v_Class',\n",
    "       'v_Vel', 'v_Acc', 'Lane_ID']\n",
    "df = df[kept_cols]\n",
    "df.head()"
   ]
  },
  {
   "cell_type": "code",
   "execution_count": 5,
   "metadata": {
    "ExecuteTime": {
     "end_time": "2020-08-21T20:16:20.665384Z",
     "start_time": "2020-08-21T20:16:20.621385Z"
    },
    "colab": {
     "base_uri": "https://localhost:8080/",
     "height": 35
    },
    "colab_type": "code",
    "id": "dGL1rr_aI4uK",
    "outputId": "9eb02699-8331-484b-fe2f-52cda43cc53f"
   },
   "outputs": [
    {
     "data": {
      "text/plain": [
       "'the number of vehicles is 1993'"
      ]
     },
     "execution_count": 5,
     "metadata": {},
     "output_type": "execute_result"
    }
   ],
   "source": [
    "'the number of vehicles is {}'.format(len(df.Vehicle_ID.unique()))"
   ]
  },
  {
   "cell_type": "markdown",
   "metadata": {
    "colab_type": "text",
    "id": "eiM1eB7KI4uV"
   },
   "source": [
    "# Model 1"
   ]
  },
  {
   "cell_type": "markdown",
   "metadata": {
    "colab_type": "text",
    "id": "6cnCCRajz7Yo"
   },
   "source": [
    "### Constant values"
   ]
  },
  {
   "cell_type": "code",
   "execution_count": 6,
   "metadata": {
    "colab": {},
    "colab_type": "code",
    "id": "z5qGt4C1z6kq"
   },
   "outputs": [],
   "source": [
    "# Set constant values\n",
    "HISTORY_LENGTH = 3\n",
    "FUTURE_LENGTH = 5\n",
    "n_steps = int(HISTORY_LENGTH/0.2)\n",
    "n_future = int(FUTURE_LENGTH/0.2)\n",
    "n_features = len(df)\n",
    "series_feature_names = ['Local_X','v_Vel']\n",
    "target_names = ['Local_X','v_Vel']\n",
    "n_labels = len(target_names)\n",
    "vehicle_ids = df.Vehicle_ID.unique()"
   ]
  },
  {
   "cell_type": "markdown",
   "metadata": {
    "colab_type": "text",
    "id": "8P5M-rRuowNR"
   },
   "source": [
    "## Data preparation"
   ]
  },
  {
   "cell_type": "markdown",
   "metadata": {
    "colab_type": "text",
    "id": "g-smQvOMzqBR"
   },
   "source": [
    "### `series2seq`: Function that return sequence input and output for one object\n",
    "\n",
    "**Arguments**:\n",
    "series,past=4,future=1,past_step=1, future_step=1\n",
    "- series:  A Sequence of observations as a numpy array or list.\n",
    "- past: Number of lag observations as input (X).\n",
    "- future: Number of observations as output (y).\n",
    "- past_step, future_step: increments of input or output\n",
    "    \n",
    "**Returns**:\n",
    "- X, Y: Features and Labels Numpy array\n",
    "\n",
    "  "
   ]
  },
  {
   "cell_type": "code",
   "execution_count": 7,
   "metadata": {
    "colab": {
     "base_uri": "https://localhost:8080/",
     "height": 510
    },
    "colab_type": "code",
    "id": "Q581lAPT1Lwj",
    "outputId": "caa0e3ec-4418-4697-f125-728d9bb32a32"
   },
   "outputs": [
    {
     "name": "stdout",
     "output_type": "stream",
     "text": [
      "<class 'pandas.core.frame.DataFrame'>\n",
      "Int64Index: 219 entries, 0 to 218\n",
      "Data columns (total 11 columns):\n",
      " #   Column        Non-Null Count  Dtype  \n",
      "---  ------        --------------  -----  \n",
      " 0   Vehicle_ID    219 non-null    int64  \n",
      " 1   Frame_ID      219 non-null    int64  \n",
      " 2   Total_Frames  219 non-null    int64  \n",
      " 3   Local_X       219 non-null    float64\n",
      " 4   Local_Y       219 non-null    float64\n",
      " 5   v_Length      219 non-null    float64\n",
      " 6   v_Width       219 non-null    float64\n",
      " 7   v_Class       219 non-null    int64  \n",
      " 8   v_Vel         219 non-null    float64\n",
      " 9   v_Acc         219 non-null    float64\n",
      " 10  Lane_ID       219 non-null    int64  \n",
      "dtypes: float64(6), int64(5)\n",
      "memory usage: 20.5 KB\n"
     ]
    },
    {
     "data": {
      "text/html": [
       "<div>\n",
       "<style scoped>\n",
       "    .dataframe tbody tr th:only-of-type {\n",
       "        vertical-align: middle;\n",
       "    }\n",
       "\n",
       "    .dataframe tbody tr th {\n",
       "        vertical-align: top;\n",
       "    }\n",
       "\n",
       "    .dataframe thead th {\n",
       "        text-align: right;\n",
       "    }\n",
       "</style>\n",
       "<table border=\"1\" class=\"dataframe\">\n",
       "  <thead>\n",
       "    <tr style=\"text-align: right;\">\n",
       "      <th></th>\n",
       "      <th>Vehicle_ID</th>\n",
       "      <th>Frame_ID</th>\n",
       "      <th>Total_Frames</th>\n",
       "      <th>Local_X</th>\n",
       "      <th>Local_Y</th>\n",
       "      <th>v_Length</th>\n",
       "      <th>v_Width</th>\n",
       "      <th>v_Class</th>\n",
       "      <th>v_Vel</th>\n",
       "      <th>v_Acc</th>\n",
       "      <th>Lane_ID</th>\n",
       "    </tr>\n",
       "  </thead>\n",
       "  <tbody>\n",
       "    <tr>\n",
       "      <th>0</th>\n",
       "      <td>2</td>\n",
       "      <td>13</td>\n",
       "      <td>437</td>\n",
       "      <td>16.467196</td>\n",
       "      <td>35.380427</td>\n",
       "      <td>14.5</td>\n",
       "      <td>4.9</td>\n",
       "      <td>2</td>\n",
       "      <td>40.000000</td>\n",
       "      <td>0.000000</td>\n",
       "      <td>2</td>\n",
       "    </tr>\n",
       "    <tr>\n",
       "      <th>1</th>\n",
       "      <td>2</td>\n",
       "      <td>15</td>\n",
       "      <td>437</td>\n",
       "      <td>16.425991</td>\n",
       "      <td>43.381541</td>\n",
       "      <td>14.5</td>\n",
       "      <td>4.9</td>\n",
       "      <td>2</td>\n",
       "      <td>39.999855</td>\n",
       "      <td>-0.124939</td>\n",
       "      <td>2</td>\n",
       "    </tr>\n",
       "    <tr>\n",
       "      <th>2</th>\n",
       "      <td>2</td>\n",
       "      <td>17</td>\n",
       "      <td>437</td>\n",
       "      <td>16.384804</td>\n",
       "      <td>51.379881</td>\n",
       "      <td>14.5</td>\n",
       "      <td>4.9</td>\n",
       "      <td>2</td>\n",
       "      <td>39.991544</td>\n",
       "      <td>-0.013759</td>\n",
       "      <td>2</td>\n",
       "    </tr>\n",
       "    <tr>\n",
       "      <th>3</th>\n",
       "      <td>2</td>\n",
       "      <td>19</td>\n",
       "      <td>437</td>\n",
       "      <td>16.342611</td>\n",
       "      <td>59.385676</td>\n",
       "      <td>14.5</td>\n",
       "      <td>4.9</td>\n",
       "      <td>2</td>\n",
       "      <td>40.063334</td>\n",
       "      <td>0.676072</td>\n",
       "      <td>2</td>\n",
       "    </tr>\n",
       "    <tr>\n",
       "      <th>4</th>\n",
       "      <td>2</td>\n",
       "      <td>21</td>\n",
       "      <td>437</td>\n",
       "      <td>16.304035</td>\n",
       "      <td>67.409629</td>\n",
       "      <td>14.5</td>\n",
       "      <td>4.9</td>\n",
       "      <td>2</td>\n",
       "      <td>40.121870</td>\n",
       "      <td>0.032792</td>\n",
       "      <td>2</td>\n",
       "    </tr>\n",
       "  </tbody>\n",
       "</table>\n",
       "</div>"
      ],
      "text/plain": [
       "   Vehicle_ID  Frame_ID  Total_Frames    Local_X    Local_Y  v_Length  \\\n",
       "0           2        13           437  16.467196  35.380427      14.5   \n",
       "1           2        15           437  16.425991  43.381541      14.5   \n",
       "2           2        17           437  16.384804  51.379881      14.5   \n",
       "3           2        19           437  16.342611  59.385676      14.5   \n",
       "4           2        21           437  16.304035  67.409629      14.5   \n",
       "\n",
       "   v_Width  v_Class      v_Vel     v_Acc  Lane_ID  \n",
       "0      4.9        2  40.000000  0.000000        2  \n",
       "1      4.9        2  39.999855 -0.124939        2  \n",
       "2      4.9        2  39.991544 -0.013759        2  \n",
       "3      4.9        2  40.063334  0.676072        2  \n",
       "4      4.9        2  40.121870  0.032792        2  "
      ]
     },
     "execution_count": 7,
     "metadata": {},
     "output_type": "execute_result"
    }
   ],
   "source": [
    "# Test data frame\n",
    "# data set of the vehicle #2\n",
    "df_test = df[df.Vehicle_ID==vehicle_ids[0]].copy()\n",
    "df_test.info()\n",
    "df_test.head()"
   ]
  },
  {
   "cell_type": "code",
   "execution_count": 8,
   "metadata": {},
   "outputs": [
    {
     "data": {
      "text/plain": [
       "(array([[0, 1, 2],\n",
       "        [1, 2, 3],\n",
       "        [2, 3, 4],\n",
       "        [3, 4, 5]]),\n",
       " array([[3, 5],\n",
       "        [4, 6],\n",
       "        [5, 7],\n",
       "        [6, 8]]))"
      ]
     },
     "execution_count": 8,
     "metadata": {},
     "output_type": "execute_result"
    }
   ],
   "source": [
    "def single_series2seq(series,past=4,future=1,past_step=1, future_step=1):\n",
    "    # length of sequences \n",
    "    length = past + future\n",
    "    seq = series.copy()\n",
    "    # add rolled series\n",
    "    for i in range(length-1):\n",
    "        seq = np.vstack((seq,np.roll(series,i+1)))\n",
    "    seq = np.flip(seq.T,1)\n",
    "    seq = seq[length-1:,:]\n",
    "    # Prepare output\n",
    "    X = seq[:,:past:past_step]\n",
    "    Y = seq[:,past::future_step]\n",
    "    return X,Y\n",
    "data = np.arange(10)\n",
    "single_series2seq(data,past = 3, future = 4,future_step=2)"
   ]
  },
  {
   "cell_type": "code",
   "execution_count": 15,
   "metadata": {},
   "outputs": [
    {
     "data": {
      "text/plain": [
       "((219,), (180, 15), (180, 5))"
      ]
     },
     "execution_count": 15,
     "metadata": {},
     "output_type": "execute_result"
    }
   ],
   "source": [
    "inputs, labels = single_series2seq(df_test.Local_X,past = n_steps, future = n_future,future_step=5)\n",
    "df_test.Local_X.shape, inputs.shape, labels.shape"
   ]
  },
  {
   "cell_type": "code",
   "execution_count": 10,
   "metadata": {},
   "outputs": [
    {
     "data": {
      "text/plain": [
       "(array([[ 0,  2,  4,  1,  3,  5],\n",
       "        [ 2,  4,  6,  3,  5,  7],\n",
       "        [ 4,  6,  8,  5,  7,  9],\n",
       "        [ 6,  8, 10,  7,  9, 11]]),\n",
       " array([[ 6,  8, 10, 12,  7,  9, 11, 13],\n",
       "        [ 8, 10, 12, 14,  9, 11, 13, 15],\n",
       "        [10, 12, 14, 16, 11, 13, 15, 17],\n",
       "        [12, 14, 16, 18, 13, 15, 17, 19]]))"
      ]
     },
     "execution_count": 10,
     "metadata": {},
     "output_type": "execute_result"
    }
   ],
   "source": [
    "def multi_series2seq(mulseries,**kwarg):\n",
    "    # number of series\n",
    "    n_series = mulseries.shape[1]\n",
    "    seq = mulseries.copy()\n",
    "    X,Y = single_series2seq(seq[:,0],past = kwarg['past'],future = kwarg['future'],\n",
    "                           future_step = kwarg['future_step'])\n",
    "    for i in range(1,n_series):\n",
    "        newX,newY = single_series2seq(seq[:,i],past = kwarg['past'],future = kwarg['future'],\n",
    "                           future_step = kwarg['future_step'])\n",
    "        X = np.column_stack((X,newX))\n",
    "        Y = np.column_stack((Y,newY))\n",
    "    return X,Y\n",
    "data = np.arange(20).reshape(-1,2)\n",
    "multi_series2seq(mulseries = data,past = 3, future = 4,future_step=1)"
   ]
  },
  {
   "cell_type": "code",
   "execution_count": 18,
   "metadata": {},
   "outputs": [
    {
     "data": {
      "text/plain": [
       "((219, 2), (180, 30), (180, 10))"
      ]
     },
     "execution_count": 18,
     "metadata": {},
     "output_type": "execute_result"
    }
   ],
   "source": [
    "inputs, labels = multi_series2seq(df_test[['Local_X','v_Vel']].values ,past = n_steps, future = n_future,future_step=5)\n",
    "df_test[['Local_X','v_Vel']].shape, inputs.shape, labels.shape"
   ]
  },
  {
   "cell_type": "markdown",
   "metadata": {
    "colab_type": "text",
    "id": "9Exyazj-4Wxh"
   },
   "source": [
    "### `treatment_cars` Function to prepare the data set for each car"
   ]
  },
  {
   "cell_type": "code",
   "execution_count": 19,
   "metadata": {
    "colab": {
     "base_uri": "https://localhost:8080/",
     "height": 527
    },
    "colab_type": "code",
    "id": "EklcZXfD5u4_",
    "outputId": "4f37a032-5fad-41fc-fd96-69b5a829314d"
   },
   "outputs": [
    {
     "name": "stdout",
     "output_type": "stream",
     "text": [
      "<class 'pandas.core.frame.DataFrame'>\n",
      "Int64Index: 1023 entries, 0 to 1022\n",
      "Data columns (total 11 columns):\n",
      " #   Column        Non-Null Count  Dtype  \n",
      "---  ------        --------------  -----  \n",
      " 0   Vehicle_ID    1023 non-null   int64  \n",
      " 1   Frame_ID      1023 non-null   int64  \n",
      " 2   Total_Frames  1023 non-null   int64  \n",
      " 3   Local_X       1023 non-null   float64\n",
      " 4   Local_Y       1023 non-null   float64\n",
      " 5   v_Length      1023 non-null   float64\n",
      " 6   v_Width       1023 non-null   float64\n",
      " 7   v_Class       1023 non-null   int64  \n",
      " 8   v_Vel         1023 non-null   float64\n",
      " 9   v_Acc         1023 non-null   float64\n",
      " 10  Lane_ID       1023 non-null   int64  \n",
      "dtypes: float64(6), int64(5)\n",
      "memory usage: 95.9 KB\n",
      "[2 4 5 6 8]\n"
     ]
    },
    {
     "data": {
      "text/html": [
       "<div>\n",
       "<style scoped>\n",
       "    .dataframe tbody tr th:only-of-type {\n",
       "        vertical-align: middle;\n",
       "    }\n",
       "\n",
       "    .dataframe tbody tr th {\n",
       "        vertical-align: top;\n",
       "    }\n",
       "\n",
       "    .dataframe thead th {\n",
       "        text-align: right;\n",
       "    }\n",
       "</style>\n",
       "<table border=\"1\" class=\"dataframe\">\n",
       "  <thead>\n",
       "    <tr style=\"text-align: right;\">\n",
       "      <th></th>\n",
       "      <th>Vehicle_ID</th>\n",
       "      <th>Frame_ID</th>\n",
       "      <th>Total_Frames</th>\n",
       "      <th>Local_X</th>\n",
       "      <th>Local_Y</th>\n",
       "      <th>v_Length</th>\n",
       "      <th>v_Width</th>\n",
       "      <th>v_Class</th>\n",
       "      <th>v_Vel</th>\n",
       "      <th>v_Acc</th>\n",
       "      <th>Lane_ID</th>\n",
       "    </tr>\n",
       "  </thead>\n",
       "  <tbody>\n",
       "    <tr>\n",
       "      <th>0</th>\n",
       "      <td>2</td>\n",
       "      <td>13</td>\n",
       "      <td>437</td>\n",
       "      <td>16.467196</td>\n",
       "      <td>35.380427</td>\n",
       "      <td>14.5</td>\n",
       "      <td>4.9</td>\n",
       "      <td>2</td>\n",
       "      <td>40.000000</td>\n",
       "      <td>0.000000</td>\n",
       "      <td>2</td>\n",
       "    </tr>\n",
       "    <tr>\n",
       "      <th>1</th>\n",
       "      <td>2</td>\n",
       "      <td>15</td>\n",
       "      <td>437</td>\n",
       "      <td>16.425991</td>\n",
       "      <td>43.381541</td>\n",
       "      <td>14.5</td>\n",
       "      <td>4.9</td>\n",
       "      <td>2</td>\n",
       "      <td>39.999855</td>\n",
       "      <td>-0.124939</td>\n",
       "      <td>2</td>\n",
       "    </tr>\n",
       "    <tr>\n",
       "      <th>2</th>\n",
       "      <td>2</td>\n",
       "      <td>17</td>\n",
       "      <td>437</td>\n",
       "      <td>16.384804</td>\n",
       "      <td>51.379881</td>\n",
       "      <td>14.5</td>\n",
       "      <td>4.9</td>\n",
       "      <td>2</td>\n",
       "      <td>39.991544</td>\n",
       "      <td>-0.013759</td>\n",
       "      <td>2</td>\n",
       "    </tr>\n",
       "    <tr>\n",
       "      <th>3</th>\n",
       "      <td>2</td>\n",
       "      <td>19</td>\n",
       "      <td>437</td>\n",
       "      <td>16.342611</td>\n",
       "      <td>59.385676</td>\n",
       "      <td>14.5</td>\n",
       "      <td>4.9</td>\n",
       "      <td>2</td>\n",
       "      <td>40.063334</td>\n",
       "      <td>0.676072</td>\n",
       "      <td>2</td>\n",
       "    </tr>\n",
       "    <tr>\n",
       "      <th>4</th>\n",
       "      <td>2</td>\n",
       "      <td>21</td>\n",
       "      <td>437</td>\n",
       "      <td>16.304035</td>\n",
       "      <td>67.409629</td>\n",
       "      <td>14.5</td>\n",
       "      <td>4.9</td>\n",
       "      <td>2</td>\n",
       "      <td>40.121870</td>\n",
       "      <td>0.032792</td>\n",
       "      <td>2</td>\n",
       "    </tr>\n",
       "  </tbody>\n",
       "</table>\n",
       "</div>"
      ],
      "text/plain": [
       "   Vehicle_ID  Frame_ID  Total_Frames    Local_X    Local_Y  v_Length  \\\n",
       "0           2        13           437  16.467196  35.380427      14.5   \n",
       "1           2        15           437  16.425991  43.381541      14.5   \n",
       "2           2        17           437  16.384804  51.379881      14.5   \n",
       "3           2        19           437  16.342611  59.385676      14.5   \n",
       "4           2        21           437  16.304035  67.409629      14.5   \n",
       "\n",
       "   v_Width  v_Class      v_Vel     v_Acc  Lane_ID  \n",
       "0      4.9        2  40.000000  0.000000        2  \n",
       "1      4.9        2  39.999855 -0.124939        2  \n",
       "2      4.9        2  39.991544 -0.013759        2  \n",
       "3      4.9        2  40.063334  0.676072        2  \n",
       "4      4.9        2  40.121870  0.032792        2  "
      ]
     },
     "execution_count": 19,
     "metadata": {},
     "output_type": "execute_result"
    }
   ],
   "source": [
    "# Test data frame\n",
    "# data set of the first 5 vehicles\n",
    "df_test = df[df.Vehicle_ID.isin(vehicle_ids[:5])].copy()\n",
    "df_test.info()\n",
    "print(df_test.Vehicle_ID.unique())\n",
    "df_test.head()"
   ]
  },
  {
   "cell_type": "code",
   "execution_count": 40,
   "metadata": {},
   "outputs": [
    {
     "name": "stdout",
     "output_type": "stream",
     "text": [
      "(828, 30)\n",
      "(828, 10)\n"
     ]
    }
   ],
   "source": [
    "# multiple objects\n",
    "def multi_obj2seq(data, **kwarg):\n",
    "    veh_ids = data.Vehicle_ID.unique()\n",
    "    X,Y = np.array([]), np.array([])\n",
    "    for id in veh_ids:\n",
    "        dat = data[data.Vehicle_ID==id][target_names].copy()\n",
    "        newX,newY = multi_series2seq(dat.values ,past = kwarg['past'],future = kwarg['future'],\n",
    "                           future_step = kwarg['future_step'])\n",
    "        #print(X.shape, newX.shape)\n",
    "        X = np.vstack((X,newX)) if X.size else newX\n",
    "        Y = np.vstack((Y,newY)) if Y.size else newY\n",
    "        #print(X.shape)\n",
    "    if kwarg[\"show_result\"]:\n",
    "        print(X.shape)\n",
    "        print(Y.shape)\n",
    "    return X, Y\n",
    "inputs, labels = multi_obj2seq(df_test,past = n_steps, future = n_future,future_step=5, show_result=True)"
   ]
  },
  {
   "cell_type": "markdown",
   "metadata": {
    "colab_type": "text",
    "id": "O3aqvq768FUe"
   },
   "source": [
    "### Choose the size of the raw data set"
   ]
  },
  {
   "cell_type": "code",
   "execution_count": 41,
   "metadata": {},
   "outputs": [
    {
     "name": "stdout",
     "output_type": "stream",
     "text": [
      "(446561, 30)\n",
      "(446561, 10)\n"
     ]
    }
   ],
   "source": [
    "inputs, labels = multi_obj2seq(df,past = n_steps, future = n_future,future_step=5, show_result=True)"
   ]
  },
  {
   "cell_type": "markdown",
   "metadata": {
    "colab_type": "text",
    "id": "UXbKv-3AVjCs"
   },
   "source": [
    "### Split the data set\n"
   ]
  },
  {
   "cell_type": "code",
   "execution_count": 42,
   "metadata": {
    "colab": {
     "base_uri": "https://localhost:8080/",
     "height": 34
    },
    "colab_type": "code",
    "id": "qtmwVnZgVmhg",
    "outputId": "b75ad653-ce0d-4ed6-c2e0-59ed494cd066"
   },
   "outputs": [
    {
     "name": "stdout",
     "output_type": "stream",
     "text": [
      "(312592, 30) (133969, 30) (312592, 10) (133969, 10)\n"
     ]
    }
   ],
   "source": [
    "X_train, X_test, y_train, y_test = train_test_split(inputs,labels, \n",
    "                                                    test_size=0.3, random_state=42)\n",
    "print(X_train.shape,X_test.shape, y_train.shape, y_test.shape)"
   ]
  },
  {
   "cell_type": "code",
   "execution_count": 44,
   "metadata": {
    "colab": {
     "base_uri": "https://localhost:8080/",
     "height": 419
    },
    "colab_type": "code",
    "id": "bVBQUUntVtJw",
    "outputId": "85b0311e-28d0-4dc4-f6c4-962b082d113f"
   },
   "outputs": [
    {
     "name": "stdout",
     "output_type": "stream",
     "text": [
      "(312592, 30)\n"
     ]
    },
    {
     "data": {
      "text/plain": [
       "(-7.233181331552681e-16, 1.0)"
      ]
     },
     "execution_count": 44,
     "metadata": {},
     "output_type": "execute_result"
    }
   ],
   "source": [
    "### Standardize the data\n",
    "train_mean = X_train.mean()\n",
    "train_std = X_train.std()\n",
    "\n",
    "X_train = (X_train - train_mean) / train_std\n",
    "X_test = (X_test - train_mean) / train_std\n",
    "\n",
    "print(X_train.shape)\n",
    "X_train.mean(), X_train.std()"
   ]
  },
  {
   "cell_type": "code",
   "execution_count": 46,
   "metadata": {},
   "outputs": [],
   "source": [
    "X_train = X_train.reshape((X_train.shape[0], X_train.shape[1],1))\n",
    "X_test = X_test.reshape((X_test.shape[0], X_train.shape[1],1))\n"
   ]
  },
  {
   "cell_type": "code",
   "execution_count": 48,
   "metadata": {},
   "outputs": [
    {
     "data": {
      "text/plain": [
       "((312592, 30, 1), (133969, 30, 1))"
      ]
     },
     "execution_count": 48,
     "metadata": {},
     "output_type": "execute_result"
    }
   ],
   "source": [
    "X_train.shape,X_test.shape"
   ]
  },
  {
   "cell_type": "markdown",
   "metadata": {
    "colab_type": "text",
    "id": "hO9p6VOjweHD"
   },
   "source": [
    "## Prediction model"
   ]
  },
  {
   "cell_type": "code",
   "execution_count": 49,
   "metadata": {
    "colab": {
     "base_uri": "https://localhost:8080/",
     "height": 1000
    },
    "colab_type": "code",
    "id": "wO-XWY6xweHE",
    "outputId": "bf08d054-1ac4-46c3-858d-d6a77cb2ffba"
   },
   "outputs": [
    {
     "name": "stdout",
     "output_type": "stream",
     "text": [
      "Epoch 1/50\n",
      "306/306 [==============================] - 7s 11ms/step - loss: 1109.5422 - mse: 1109.5422 - val_loss: 527.9229 - val_mse: 527.9229\n",
      "Epoch 2/50\n",
      "306/306 [==============================] - 3s 10ms/step - loss: 447.9933 - mse: 447.9933 - val_loss: 298.7959 - val_mse: 298.7959\n",
      "Epoch 3/50\n",
      "306/306 [==============================] - 3s 10ms/step - loss: 276.5678 - mse: 276.5678 - val_loss: 222.1022 - val_mse: 222.1022\n",
      "Epoch 4/50\n",
      "306/306 [==============================] - 3s 10ms/step - loss: 201.0358 - mse: 201.0358 - val_loss: 138.3177 - val_mse: 138.3177\n",
      "Epoch 5/50\n",
      "306/306 [==============================] - 3s 10ms/step - loss: 124.2522 - mse: 124.2522 - val_loss: 92.4925 - val_mse: 92.4925\n",
      "Epoch 6/50\n",
      "306/306 [==============================] - 3s 10ms/step - loss: 83.7055 - mse: 83.7055 - val_loss: 64.4817 - val_mse: 64.4817\n",
      "Epoch 7/50\n",
      "306/306 [==============================] - 3s 10ms/step - loss: 57.2953 - mse: 57.2953 - val_loss: 42.6447 - val_mse: 42.6447\n",
      "Epoch 8/50\n",
      "306/306 [==============================] - 3s 10ms/step - loss: 39.2272 - mse: 39.2272 - val_loss: 32.1200 - val_mse: 32.1200\n",
      "Epoch 9/50\n",
      "306/306 [==============================] - 3s 10ms/step - loss: 29.8076 - mse: 29.8076 - val_loss: 25.2067 - val_mse: 25.2067\n",
      "Epoch 10/50\n",
      "306/306 [==============================] - 3s 10ms/step - loss: 23.8717 - mse: 23.8717 - val_loss: 21.2531 - val_mse: 21.2531\n",
      "Epoch 11/50\n",
      "306/306 [==============================] - 3s 10ms/step - loss: 20.1059 - mse: 20.1059 - val_loss: 18.5409 - val_mse: 18.5409\n",
      "Epoch 12/50\n",
      "306/306 [==============================] - 3s 10ms/step - loss: 17.8746 - mse: 17.8746 - val_loss: 16.9083 - val_mse: 16.9083\n",
      "Epoch 13/50\n",
      "306/306 [==============================] - 3s 10ms/step - loss: 16.4700 - mse: 16.4700 - val_loss: 15.8461 - val_mse: 15.8461\n",
      "Epoch 14/50\n",
      "306/306 [==============================] - 3s 10ms/step - loss: 15.4917 - mse: 15.4917 - val_loss: 15.1367 - val_mse: 15.1367\n",
      "Epoch 15/50\n",
      "306/306 [==============================] - 3s 10ms/step - loss: 14.8301 - mse: 14.8301 - val_loss: 14.5298 - val_mse: 14.5298\n",
      "Epoch 16/50\n",
      "306/306 [==============================] - 3s 10ms/step - loss: 14.2795 - mse: 14.2795 - val_loss: 14.1473 - val_mse: 14.1473\n",
      "Epoch 17/50\n",
      "306/306 [==============================] - 3s 10ms/step - loss: 13.8940 - mse: 13.8940 - val_loss: 13.8226 - val_mse: 13.8226\n",
      "Epoch 18/50\n",
      "306/306 [==============================] - 3s 10ms/step - loss: 13.5739 - mse: 13.5739 - val_loss: 13.3853 - val_mse: 13.3853\n",
      "Epoch 19/50\n",
      "306/306 [==============================] - 3s 10ms/step - loss: 13.1477 - mse: 13.1477 - val_loss: 13.2190 - val_mse: 13.2190\n",
      "Epoch 20/50\n",
      "306/306 [==============================] - 3s 10ms/step - loss: 12.9965 - mse: 12.9965 - val_loss: 13.2123 - val_mse: 13.2123\n",
      "Epoch 21/50\n",
      "306/306 [==============================] - 3s 10ms/step - loss: 12.7998 - mse: 12.7998 - val_loss: 12.8900 - val_mse: 12.8900\n",
      "Epoch 22/50\n",
      "306/306 [==============================] - 3s 10ms/step - loss: 12.6873 - mse: 12.6873 - val_loss: 12.6562 - val_mse: 12.6562\n",
      "Epoch 23/50\n",
      "306/306 [==============================] - 3s 10ms/step - loss: 12.5354 - mse: 12.5354 - val_loss: 12.6004 - val_mse: 12.6004\n",
      "Epoch 24/50\n",
      "306/306 [==============================] - 3s 10ms/step - loss: 12.4111 - mse: 12.4111 - val_loss: 12.5133 - val_mse: 12.5133\n",
      "Epoch 25/50\n",
      "306/306 [==============================] - 3s 10ms/step - loss: 12.3889 - mse: 12.3889 - val_loss: 12.3192 - val_mse: 12.3192\n",
      "Epoch 26/50\n",
      "306/306 [==============================] - 3s 10ms/step - loss: 12.1779 - mse: 12.1779 - val_loss: 12.2315 - val_mse: 12.2315\n",
      "Epoch 27/50\n",
      "306/306 [==============================] - 3s 10ms/step - loss: 12.1486 - mse: 12.1486 - val_loss: 12.1733 - val_mse: 12.1733\n",
      "Epoch 28/50\n",
      "306/306 [==============================] - 3s 10ms/step - loss: 12.0831 - mse: 12.0831 - val_loss: 12.1309 - val_mse: 12.1309\n",
      "Epoch 29/50\n",
      "306/306 [==============================] - 3s 10ms/step - loss: 12.0763 - mse: 12.0763 - val_loss: 12.1120 - val_mse: 12.1120\n",
      "Epoch 30/50\n",
      "306/306 [==============================] - 3s 10ms/step - loss: 12.0119 - mse: 12.0119 - val_loss: 12.1393 - val_mse: 12.1393\n",
      "Epoch 31/50\n",
      "306/306 [==============================] - 3s 10ms/step - loss: 12.0047 - mse: 12.0047 - val_loss: 11.9863 - val_mse: 11.9863\n",
      "Epoch 32/50\n",
      "306/306 [==============================] - 3s 10ms/step - loss: 11.8328 - mse: 11.8328 - val_loss: 11.9595 - val_mse: 11.9595\n",
      "Epoch 33/50\n",
      "306/306 [==============================] - 3s 10ms/step - loss: 11.8831 - mse: 11.8831 - val_loss: 11.9266 - val_mse: 11.9266\n",
      "Epoch 34/50\n",
      "306/306 [==============================] - 3s 10ms/step - loss: 11.7942 - mse: 11.7942 - val_loss: 11.9670 - val_mse: 11.9670\n",
      "Epoch 35/50\n",
      "306/306 [==============================] - 3s 10ms/step - loss: 11.8131 - mse: 11.8131 - val_loss: 11.8959 - val_mse: 11.8959\n",
      "Epoch 36/50\n",
      "306/306 [==============================] - 3s 10ms/step - loss: 11.7273 - mse: 11.7273 - val_loss: 11.8029 - val_mse: 11.8029\n",
      "Epoch 37/50\n",
      "306/306 [==============================] - 3s 10ms/step - loss: 11.6879 - mse: 11.6879 - val_loss: 11.8697 - val_mse: 11.8697\n",
      "Epoch 38/50\n",
      "306/306 [==============================] - 3s 10ms/step - loss: 11.6839 - mse: 11.6839 - val_loss: 11.7524 - val_mse: 11.7524\n",
      "Epoch 39/50\n",
      "306/306 [==============================] - 3s 10ms/step - loss: 11.7007 - mse: 11.7007 - val_loss: 11.8416 - val_mse: 11.8416\n",
      "Epoch 40/50\n",
      "306/306 [==============================] - 3s 10ms/step - loss: 11.6467 - mse: 11.6467 - val_loss: 11.7152 - val_mse: 11.7152\n",
      "Epoch 41/50\n",
      "306/306 [==============================] - 3s 10ms/step - loss: 11.6005 - mse: 11.6005 - val_loss: 11.6572 - val_mse: 11.6572\n",
      "Epoch 42/50\n",
      "306/306 [==============================] - 3s 10ms/step - loss: 11.5930 - mse: 11.5930 - val_loss: 11.6518 - val_mse: 11.6518\n",
      "Epoch 43/50\n",
      "306/306 [==============================] - 3s 10ms/step - loss: 11.5415 - mse: 11.5415 - val_loss: 11.6491 - val_mse: 11.6491\n",
      "Epoch 44/50\n",
      "306/306 [==============================] - 3s 10ms/step - loss: 11.5015 - mse: 11.5015 - val_loss: 11.6435 - val_mse: 11.6435\n",
      "Epoch 45/50\n",
      "306/306 [==============================] - 3s 10ms/step - loss: 11.4442 - mse: 11.4442 - val_loss: 11.5248 - val_mse: 11.5248\n",
      "Epoch 46/50\n",
      "306/306 [==============================] - 3s 10ms/step - loss: 11.4767 - mse: 11.4767 - val_loss: 11.6127 - val_mse: 11.6127\n",
      "Epoch 47/50\n",
      "306/306 [==============================] - 3s 10ms/step - loss: 11.5310 - mse: 11.5310 - val_loss: 11.5355 - val_mse: 11.5355\n",
      "Epoch 48/50\n",
      "306/306 [==============================] - 3s 10ms/step - loss: 11.4614 - mse: 11.4614 - val_loss: 11.4866 - val_mse: 11.4866\n",
      "Epoch 49/50\n",
      "306/306 [==============================] - 3s 10ms/step - loss: 11.4426 - mse: 11.4426 - val_loss: 11.4644 - val_mse: 11.4644\n",
      "Epoch 50/50\n",
      "306/306 [==============================] - 3s 10ms/step - loss: 11.4164 - mse: 11.4164 - val_loss: 11.4783 - val_mse: 11.4783\n",
      "Wall time: 2min 34s\n"
     ]
    }
   ],
   "source": [
    "%%time\n",
    "# define model\n",
    "model = Sequential()\n",
    "model.add(LSTM(50, activation='tanh', input_shape=(X_train.shape[1],1)))\n",
    "model.add(Dense(n_labels*5))\n",
    "model.compile(optimizer='adam', loss='mse', metrics=['mse'])\n",
    "\n",
    "# For saving the best model during the whole training process.\n",
    "#checkpointer = callbacks.ModelCheckpoint(filepath='BestModel.h5', monitor='val_loss', save_best_only=True)\n",
    "\n",
    "#### Interrupt training if `val_loss` stops improving for over 10 epochs #######\n",
    "stop_learn= tf.keras.callbacks.EarlyStopping(patience=10, monitor='val_loss')\n",
    "\n",
    "\n",
    "# fit model\n",
    "Monitor = model.fit(X_train, y_train, epochs=50, batch_size= 1024,\n",
    "                    callbacks=[stop_learn],\n",
    "                    validation_data=(X_test, y_test), verbose=1)"
   ]
  },
  {
   "cell_type": "code",
   "execution_count": 50,
   "metadata": {
    "colab": {},
    "colab_type": "code",
    "id": "Oa1rcutTweHJ"
   },
   "outputs": [
    {
     "data": {
      "image/png": "[encoded data removed]",
      "text/plain": [
       "<Figure size 1500x600 with 2 Axes>"
      ]
     },
     "metadata": {
      "needs_background": "light"
     },
     "output_type": "display_data"
    },
    {
     "data": {
      "text/html": [
       "<div>\n",
       "<style scoped>\n",
       "    .dataframe tbody tr th:only-of-type {\n",
       "        vertical-align: middle;\n",
       "    }\n",
       "\n",
       "    .dataframe tbody tr th {\n",
       "        vertical-align: top;\n",
       "    }\n",
       "\n",
       "    .dataframe thead th {\n",
       "        text-align: right;\n",
       "    }\n",
       "</style>\n",
       "<table border=\"1\" class=\"dataframe\">\n",
       "  <thead>\n",
       "    <tr style=\"text-align: right;\">\n",
       "      <th></th>\n",
       "      <th>loss</th>\n",
       "      <th>mse</th>\n",
       "      <th>val_loss</th>\n",
       "      <th>val_mse</th>\n",
       "      <th>epoch</th>\n",
       "    </tr>\n",
       "  </thead>\n",
       "  <tbody>\n",
       "    <tr>\n",
       "      <th>45</th>\n",
       "      <td>11.476357</td>\n",
       "      <td>11.476357</td>\n",
       "      <td>11.612696</td>\n",
       "      <td>11.612696</td>\n",
       "      <td>45</td>\n",
       "    </tr>\n",
       "    <tr>\n",
       "      <th>46</th>\n",
       "      <td>11.463804</td>\n",
       "      <td>11.463804</td>\n",
       "      <td>11.535484</td>\n",
       "      <td>11.535484</td>\n",
       "      <td>46</td>\n",
       "    </tr>\n",
       "    <tr>\n",
       "      <th>47</th>\n",
       "      <td>11.442630</td>\n",
       "      <td>11.442630</td>\n",
       "      <td>11.486606</td>\n",
       "      <td>11.486606</td>\n",
       "      <td>47</td>\n",
       "    </tr>\n",
       "    <tr>\n",
       "      <th>48</th>\n",
       "      <td>11.425872</td>\n",
       "      <td>11.425872</td>\n",
       "      <td>11.464363</td>\n",
       "      <td>11.464363</td>\n",
       "      <td>48</td>\n",
       "    </tr>\n",
       "    <tr>\n",
       "      <th>49</th>\n",
       "      <td>11.402305</td>\n",
       "      <td>11.402305</td>\n",
       "      <td>11.478286</td>\n",
       "      <td>11.478286</td>\n",
       "      <td>49</td>\n",
       "    </tr>\n",
       "  </tbody>\n",
       "</table>\n",
       "</div>"
      ],
      "text/plain": [
       "         loss        mse   val_loss    val_mse  epoch\n",
       "45  11.476357  11.476357  11.612696  11.612696     45\n",
       "46  11.463804  11.463804  11.535484  11.535484     46\n",
       "47  11.442630  11.442630  11.486606  11.486606     47\n",
       "48  11.425872  11.425872  11.464363  11.464363     48\n",
       "49  11.402305  11.402305  11.478286  11.478286     49"
      ]
     },
     "execution_count": 50,
     "metadata": {},
     "output_type": "execute_result"
    }
   ],
   "source": [
    "hist = pd.DataFrame(Monitor.history)\n",
    "hist['epoch'] = Monitor.epoch\n",
    "fig, axes = plt.subplots(nrows=1, ncols=2,figsize=(10,4),dpi=150)\n",
    "hist[['loss','val_loss']].plot(ax=axes[0])\n",
    "hist[['mse','val_mse']].plot(ax=axes[1])\n",
    "plt.show()"
   ]
  },
  {
   "cell_type": "markdown",
   "metadata": {
    "colab_type": "text",
    "id": "2YWEoDw-jEjK"
   },
   "source": [
    "## Evaluation \n"
   ]
  },
  {
   "cell_type": "code",
   "execution_count": 52,
   "metadata": {},
   "outputs": [
    {
     "name": "stdout",
     "output_type": "stream",
     "text": [
      "4187/4187 [==============================] - 10s 2ms/step - loss: 11.4783 - mse: 11.4783\n"
     ]
    },
    {
     "data": {
      "text/plain": [
       "3.387959922733638"
      ]
     },
     "execution_count": 52,
     "metadata": {},
     "output_type": "execute_result"
    }
   ],
   "source": [
    "loss, mse = model.evaluate(X_test,y_test, verbose=1)\n",
    "sqrt(mse)"
   ]
  },
  {
   "cell_type": "code",
   "execution_count": 53,
   "metadata": {},
   "outputs": [
    {
     "name": "stdout",
     "output_type": "stream",
     "text": [
      "4187/4187 [==============================] - 7s 2ms/step\n"
     ]
    }
   ],
   "source": [
    "y_hat = model.predict(X_test, verbose=1)"
   ]
  },
  {
   "cell_type": "code",
   "execution_count": 59,
   "metadata": {},
   "outputs": [
    {
     "data": {
      "text/plain": [
       "(133969, 10)"
      ]
     },
     "execution_count": 59,
     "metadata": {},
     "output_type": "execute_result"
    }
   ],
   "source": [
    "y_test.shape"
   ]
  },
  {
   "cell_type": "code",
   "execution_count": 67,
   "metadata": {},
   "outputs": [
    {
     "data": {
      "text/html": [
       "<div>\n",
       "<style scoped>\n",
       "    .dataframe tbody tr th:only-of-type {\n",
       "        vertical-align: middle;\n",
       "    }\n",
       "\n",
       "    .dataframe tbody tr th {\n",
       "        vertical-align: top;\n",
       "    }\n",
       "\n",
       "    .dataframe thead th {\n",
       "        text-align: right;\n",
       "    }\n",
       "</style>\n",
       "<table border=\"1\" class=\"dataframe\">\n",
       "  <thead>\n",
       "    <tr style=\"text-align: right;\">\n",
       "      <th></th>\n",
       "      <th>1s</th>\n",
       "      <th>2s</th>\n",
       "      <th>3s</th>\n",
       "      <th>4s</th>\n",
       "      <th>5s</th>\n",
       "    </tr>\n",
       "  </thead>\n",
       "  <tbody>\n",
       "    <tr>\n",
       "      <th>Local_X</th>\n",
       "      <td>0.60</td>\n",
       "      <td>0.895</td>\n",
       "      <td>1.214</td>\n",
       "      <td>1.503</td>\n",
       "      <td>1.773</td>\n",
       "    </tr>\n",
       "    <tr>\n",
       "      <th>v_Vel</th>\n",
       "      <td>0.71</td>\n",
       "      <td>3.426</td>\n",
       "      <td>4.443</td>\n",
       "      <td>5.560</td>\n",
       "      <td>6.621</td>\n",
       "    </tr>\n",
       "  </tbody>\n",
       "</table>\n",
       "</div>"
      ],
      "text/plain": [
       "           1s     2s     3s     4s     5s\n",
       "Local_X  0.60  0.895  1.214  1.503  1.773\n",
       "v_Vel    0.71  3.426  4.443  5.560  6.621"
      ]
     },
     "execution_count": 67,
     "metadata": {},
     "output_type": "execute_result"
    }
   ],
   "source": [
    "colnames = [str(i)+'s' for i in range(1,6)]\n",
    "rmse = np.sqrt(np.square(np.subtract(y_test,y_hat)).mean(0)).reshape(2,-1)\n",
    "rmse = pd.DataFrame(rmse,columns = colnames, index = target_names )\n",
    "rmse.round(3)"
   ]
  },
  {
   "cell_type": "markdown",
   "metadata": {
    "colab_type": "text",
    "id": "5rgsBKw41gpN"
   },
   "source": [
    "# END"
   ]
  }
 ],
 "metadata": {
  "colab": {
   "collapsed_sections": [],
   "include_colab_link": true,
   "name": "VTP_1.10_Models for full dataset.ipynb",
   "provenance": [],
   "toc_visible": true
  },
  "kernelspec": {
   "display_name": "Python 3",
   "language": "python",
   "name": "python3"
  },
  "language_info": {
   "codemirror_mode": {
    "name": "ipython",
    "version": 3
   },
   "file_extension": ".py",
   "mimetype": "text/x-python",
   "name": "python",
   "nbconvert_exporter": "python",
   "pygments_lexer": "ipython3",
   "version": "3.8.5"
  },
  "toc": {
   "base_numbering": 1,
   "nav_menu": {},
   "number_sections": true,
   "sideBar": true,
   "skip_h1_title": false,
   "title_cell": "Table of Contents",
   "title_sidebar": "Contents",
   "toc_cell": false,
   "toc_position": {},
   "toc_section_display": true,
   "toc_window_display": false
  }
 },
 "nbformat": 4,
 "nbformat_minor": 4
}
