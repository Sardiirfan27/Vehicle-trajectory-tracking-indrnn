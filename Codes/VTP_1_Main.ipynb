{
  "nbformat": 4,
  "nbformat_minor": 0,
  "metadata": {
    "colab": {
      "name": "VTP_1_Main.ipynb",
      "provenance": [],
      "collapsed_sections": [],
      "toc_visible": true,
      "include_colab_link": true
    },
    "kernelspec": {
      "display_name": "Python 3",
      "name": "python3"
    }
  },
  "cells": [
    {
      "cell_type": "markdown",
      "metadata": {
        "id": "view-in-github",
        "colab_type": "text"
      },
      "source": [
        "<a href=\"https://colab.research.google.com/github/duonghung86/Vehicle-trajectory-tracking/blob/master/Codes/VTP_1_Main.ipynb\" target=\"_parent\"><img src=\"https://colab.research.google.com/assets/colab-badge.svg\" alt=\"Open In Colab\"/></a>"
      ]
    },
    {
      "cell_type": "markdown",
      "metadata": {
        "colab_type": "text",
        "id": "pa49bUnKyRgF"
      },
      "source": [
        "# Time series forecasting"
      ]
    },
    {
      "cell_type": "markdown",
      "metadata": {
        "colab_type": "text",
        "id": "GU8C5qm_4vZb"
      },
      "source": [
        "We will folow a [tutorial of time series forecasting using TensorFlow](https://www.tensorflow.org/tutorials/structured_data/time_series). It builds a few different styles of models including Convolutional and Recurrent Neural Networks (CNNs and RNNs).\n",
        "\n",
        "This is covered in two main parts, with subsections: \n",
        "\n",
        "* Forecast for a single timestep:\n",
        "  * A single feature.\n",
        "  * All features.\n",
        "* Forecast multiple steps:\n",
        "  * Single-shot: Make the predictions all at once.\n",
        "  * Autoregressive: Make one prediction at a time and feed the output back to the model."
      ]
    },
    {
      "cell_type": "markdown",
      "metadata": {
        "colab_type": "text",
        "id": "XVhK72Pu1cJL"
      },
      "source": [
        "## Setup"
      ]
    },
    {
      "cell_type": "code",
      "metadata": {
        "colab_type": "code",
        "id": "7rZnJaGTWQw0",
        "colab": {
          "base_uri": "https://localhost:8080/",
          "height": 51
        },
        "outputId": "3f22219f-59fb-4c4d-8e17-55adedf1f35e"
      },
      "source": [
        "import os\n",
        "import datetime\n",
        "\n",
        "import IPython\n",
        "import IPython.display\n",
        "import matplotlib as mpl\n",
        "import matplotlib.pyplot as plt\n",
        "import numpy as np\n",
        "import pandas as pd\n",
        "import seaborn as sns\n",
        "import tensorflow as tf\n",
        "\n",
        "mpl.rcParams['figure.figsize'] = (8, 6)\n",
        "mpl.rcParams['axes.grid'] = False"
      ],
      "execution_count": 1,
      "outputs": [
        {
          "output_type": "stream",
          "text": [
            "/usr/local/lib/python3.6/dist-packages/statsmodels/tools/_testing.py:19: FutureWarning: pandas.util.testing is deprecated. Use the functions in the public API at pandas.testing instead.\n",
            "  import pandas.util.testing as tm\n"
          ],
          "name": "stderr"
        }
      ]
    },
    {
      "cell_type": "markdown",
      "metadata": {
        "colab_type": "text",
        "id": "TokBlnUhWFw9"
      },
      "source": [
        "## Load dataset"
      ]
    },
    {
      "cell_type": "code",
      "metadata": {
        "id": "R6vKGxODhB-M",
        "colab_type": "code",
        "colab": {
          "base_uri": "https://localhost:8080/",
          "height": 69
        },
        "outputId": "e3d2e207-b868-47fc-fe3f-0cc79751dd86"
      },
      "source": [
        "url_1 = 'https://github.com/duonghung86/Vehicle-trajectory-tracking/raw/master/Data/NGSIM/0750_0805_us101_smoothed_11_.zip'\n",
        "zip_path = tf.keras.utils.get_file(origin=url_1, fname=url_1.split('/')[-1], extract=True)\n",
        "csv_path = zip_path.replace('zip','csv')\n",
        "csv_path"
      ],
      "execution_count": 3,
      "outputs": [
        {
          "output_type": "stream",
          "text": [
            "Downloading data from https://github.com/duonghung86/Vehicle-trajectory-tracking/raw/master/Data/NGSIM/0750_0805_us101_smoothed_11_.zip\n",
            "59645952/59637793 [==============================] - 1s 0us/step\n"
          ],
          "name": "stdout"
        },
        {
          "output_type": "execute_result",
          "data": {
            "application/vnd.google.colaboratory.intrinsic+json": {
              "type": "string"
            },
            "text/plain": [
              "'/root/.keras/datasets/0750_0805_us101_smoothed_11_.csv'"
            ]
          },
          "metadata": {
            "tags": []
          },
          "execution_count": 3
        }
      ]
    },
    {
      "cell_type": "markdown",
      "metadata": {
        "colab_type": "text",
        "id": "VdbOWXiTWM2T"
      },
      "source": [
        "Let's take a glance at the data. Here are the first few rows:"
      ]
    },
    {
      "cell_type": "code",
      "metadata": {
        "colab_type": "code",
        "id": "TX6uGeeeWIkG",
        "colab": {
          "base_uri": "https://localhost:8080/",
          "height": 649
        },
        "outputId": "b3c51baf-f0a0-475c-c4bb-fff900229bba"
      },
      "source": [
        "df = pd.read_csv(csv_path)\n",
        "df.info()\n",
        "df.head()"
      ],
      "execution_count": 4,
      "outputs": [
        {
          "output_type": "stream",
          "text": [
            "<class 'pandas.core.frame.DataFrame'>\n",
            "RangeIndex: 1048575 entries, 0 to 1048574\n",
            "Data columns (total 18 columns):\n",
            " #   Column        Non-Null Count    Dtype  \n",
            "---  ------        --------------    -----  \n",
            " 0   Vehicle_ID    1048575 non-null  int64  \n",
            " 1   Frame_ID      1048575 non-null  int64  \n",
            " 2   Total_Frames  1048575 non-null  int64  \n",
            " 3   Global_Time   1048575 non-null  int64  \n",
            " 4   Local_X       1048575 non-null  float64\n",
            " 5   Local_Y       1048575 non-null  float64\n",
            " 6   Global_X      1048575 non-null  float64\n",
            " 7   Global_Y      1048575 non-null  float64\n",
            " 8   v_Length      1048575 non-null  float64\n",
            " 9   v_Width       1048575 non-null  float64\n",
            " 10  v_Class       1048575 non-null  int64  \n",
            " 11  v_Vel         1048575 non-null  float64\n",
            " 12  v_Acc         1048575 non-null  float64\n",
            " 13  Lane_ID       1048575 non-null  int64  \n",
            " 14  Preceeding    1048575 non-null  int64  \n",
            " 15  Following     1048575 non-null  int64  \n",
            " 16  Space_Hdwy    1048575 non-null  float64\n",
            " 17  Time_Hdwy     1048575 non-null  float64\n",
            "dtypes: float64(10), int64(8)\n",
            "memory usage: 144.0 MB\n"
          ],
          "name": "stdout"
        },
        {
          "output_type": "execute_result",
          "data": {
            "text/html": [
              "<div>\n",
              "<style scoped>\n",
              "    .dataframe tbody tr th:only-of-type {\n",
              "        vertical-align: middle;\n",
              "    }\n",
              "\n",
              "    .dataframe tbody tr th {\n",
              "        vertical-align: top;\n",
              "    }\n",
              "\n",
              "    .dataframe thead th {\n",
              "        text-align: right;\n",
              "    }\n",
              "</style>\n",
              "<table border=\"1\" class=\"dataframe\">\n",
              "  <thead>\n",
              "    <tr style=\"text-align: right;\">\n",
              "      <th></th>\n",
              "      <th>Vehicle_ID</th>\n",
              "      <th>Frame_ID</th>\n",
              "      <th>Total_Frames</th>\n",
              "      <th>Global_Time</th>\n",
              "      <th>Local_X</th>\n",
              "      <th>Local_Y</th>\n",
              "      <th>Global_X</th>\n",
              "      <th>Global_Y</th>\n",
              "      <th>v_Length</th>\n",
              "      <th>v_Width</th>\n",
              "      <th>v_Class</th>\n",
              "      <th>v_Vel</th>\n",
              "      <th>v_Acc</th>\n",
              "      <th>Lane_ID</th>\n",
              "      <th>Preceeding</th>\n",
              "      <th>Following</th>\n",
              "      <th>Space_Hdwy</th>\n",
              "      <th>Time_Hdwy</th>\n",
              "    </tr>\n",
              "  </thead>\n",
              "  <tbody>\n",
              "    <tr>\n",
              "      <th>0</th>\n",
              "      <td>2</td>\n",
              "      <td>13</td>\n",
              "      <td>437</td>\n",
              "      <td>1118846980200</td>\n",
              "      <td>16.467196</td>\n",
              "      <td>35.380427</td>\n",
              "      <td>6451137.641</td>\n",
              "      <td>1873344.962</td>\n",
              "      <td>14.5</td>\n",
              "      <td>4.9</td>\n",
              "      <td>2</td>\n",
              "      <td>40.000000</td>\n",
              "      <td>0.000000</td>\n",
              "      <td>2</td>\n",
              "      <td>0</td>\n",
              "      <td>0</td>\n",
              "      <td>0.0</td>\n",
              "      <td>0.0</td>\n",
              "    </tr>\n",
              "    <tr>\n",
              "      <th>1</th>\n",
              "      <td>2</td>\n",
              "      <td>14</td>\n",
              "      <td>437</td>\n",
              "      <td>1118846980300</td>\n",
              "      <td>16.446594</td>\n",
              "      <td>39.381608</td>\n",
              "      <td>6451140.329</td>\n",
              "      <td>1873342.000</td>\n",
              "      <td>14.5</td>\n",
              "      <td>4.9</td>\n",
              "      <td>2</td>\n",
              "      <td>40.012349</td>\n",
              "      <td>0.123485</td>\n",
              "      <td>2</td>\n",
              "      <td>0</td>\n",
              "      <td>0</td>\n",
              "      <td>0.0</td>\n",
              "      <td>0.0</td>\n",
              "    </tr>\n",
              "    <tr>\n",
              "      <th>2</th>\n",
              "      <td>2</td>\n",
              "      <td>15</td>\n",
              "      <td>437</td>\n",
              "      <td>1118846980400</td>\n",
              "      <td>16.425991</td>\n",
              "      <td>43.381541</td>\n",
              "      <td>6451143.018</td>\n",
              "      <td>1873339.038</td>\n",
              "      <td>14.5</td>\n",
              "      <td>4.9</td>\n",
              "      <td>2</td>\n",
              "      <td>39.999855</td>\n",
              "      <td>-0.124939</td>\n",
              "      <td>2</td>\n",
              "      <td>0</td>\n",
              "      <td>0</td>\n",
              "      <td>0.0</td>\n",
              "      <td>0.0</td>\n",
              "    </tr>\n",
              "    <tr>\n",
              "      <th>3</th>\n",
              "      <td>2</td>\n",
              "      <td>16</td>\n",
              "      <td>437</td>\n",
              "      <td>1118846980500</td>\n",
              "      <td>16.405392</td>\n",
              "      <td>47.380780</td>\n",
              "      <td>6451145.706</td>\n",
              "      <td>1873336.077</td>\n",
              "      <td>14.5</td>\n",
              "      <td>4.9</td>\n",
              "      <td>2</td>\n",
              "      <td>39.992920</td>\n",
              "      <td>-0.069349</td>\n",
              "      <td>2</td>\n",
              "      <td>0</td>\n",
              "      <td>0</td>\n",
              "      <td>0.0</td>\n",
              "      <td>0.0</td>\n",
              "    </tr>\n",
              "    <tr>\n",
              "      <th>4</th>\n",
              "      <td>2</td>\n",
              "      <td>17</td>\n",
              "      <td>437</td>\n",
              "      <td>1118846980600</td>\n",
              "      <td>16.384804</td>\n",
              "      <td>51.379881</td>\n",
              "      <td>6451148.395</td>\n",
              "      <td>1873333.115</td>\n",
              "      <td>14.5</td>\n",
              "      <td>4.9</td>\n",
              "      <td>2</td>\n",
              "      <td>39.991544</td>\n",
              "      <td>-0.013759</td>\n",
              "      <td>2</td>\n",
              "      <td>0</td>\n",
              "      <td>0</td>\n",
              "      <td>0.0</td>\n",
              "      <td>0.0</td>\n",
              "    </tr>\n",
              "  </tbody>\n",
              "</table>\n",
              "</div>"
            ],
            "text/plain": [
              "   Vehicle_ID  Frame_ID  Total_Frames  ...  Following  Space_Hdwy  Time_Hdwy\n",
              "0           2        13           437  ...          0         0.0        0.0\n",
              "1           2        14           437  ...          0         0.0        0.0\n",
              "2           2        15           437  ...          0         0.0        0.0\n",
              "3           2        16           437  ...          0         0.0        0.0\n",
              "4           2        17           437  ...          0         0.0        0.0\n",
              "\n",
              "[5 rows x 18 columns]"
            ]
          },
          "metadata": {
            "tags": []
          },
          "execution_count": 4
        }
      ]
    },
    {
      "cell_type": "code",
      "metadata": {
        "id": "2lwN6o63hRrC",
        "colab_type": "code",
        "colab": {}
      },
      "source": [
        ""
      ],
      "execution_count": null,
      "outputs": []
    },
    {
      "cell_type": "markdown",
      "metadata": {
        "colab_type": "text",
        "id": "wXWLG0_WBhZS"
      },
      "source": [
        "### Inspect and cleanup"
      ]
    },
    {
      "cell_type": "markdown",
      "metadata": {
        "colab_type": "text",
        "id": "yhmZXJew6GlS"
      },
      "source": [
        "Next look at the statistics of the dataset:"
      ]
    },
    {
      "cell_type": "code",
      "metadata": {
        "colab_type": "code",
        "id": "h510pgKVrrai",
        "colab": {
          "base_uri": "https://localhost:8080/",
          "height": 607
        },
        "outputId": "89a54156-f7af-4171-b1bb-85b9e50f72cd"
      },
      "source": [
        "df.describe().transpose().round(3)"
      ],
      "execution_count": 5,
      "outputs": [
        {
          "output_type": "execute_result",
          "data": {
            "text/html": [
              "<div>\n",
              "<style scoped>\n",
              "    .dataframe tbody tr th:only-of-type {\n",
              "        vertical-align: middle;\n",
              "    }\n",
              "\n",
              "    .dataframe tbody tr th {\n",
              "        vertical-align: top;\n",
              "    }\n",
              "\n",
              "    .dataframe thead th {\n",
              "        text-align: right;\n",
              "    }\n",
              "</style>\n",
              "<table border=\"1\" class=\"dataframe\">\n",
              "  <thead>\n",
              "    <tr style=\"text-align: right;\">\n",
              "      <th></th>\n",
              "      <th>count</th>\n",
              "      <th>mean</th>\n",
              "      <th>std</th>\n",
              "      <th>min</th>\n",
              "      <th>25%</th>\n",
              "      <th>50%</th>\n",
              "      <th>75%</th>\n",
              "      <th>max</th>\n",
              "    </tr>\n",
              "  </thead>\n",
              "  <tbody>\n",
              "    <tr>\n",
              "      <th>Vehicle_ID</th>\n",
              "      <td>1048575.0</td>\n",
              "      <td>1.533080e+03</td>\n",
              "      <td>790.271</td>\n",
              "      <td>2.000000e+00</td>\n",
              "      <td>9.320000e+02</td>\n",
              "      <td>1.574000e+03</td>\n",
              "      <td>2.210000e+03</td>\n",
              "      <td>2.783000e+03</td>\n",
              "    </tr>\n",
              "    <tr>\n",
              "      <th>Frame_ID</th>\n",
              "      <td>1048575.0</td>\n",
              "      <td>4.518249e+03</td>\n",
              "      <td>2412.479</td>\n",
              "      <td>8.000000e+00</td>\n",
              "      <td>2.455000e+03</td>\n",
              "      <td>4.586000e+03</td>\n",
              "      <td>6.598000e+03</td>\n",
              "      <td>8.906000e+03</td>\n",
              "    </tr>\n",
              "    <tr>\n",
              "      <th>Total_Frames</th>\n",
              "      <td>1048575.0</td>\n",
              "      <td>5.608770e+02</td>\n",
              "      <td>146.577</td>\n",
              "      <td>1.770000e+02</td>\n",
              "      <td>4.640000e+02</td>\n",
              "      <td>5.180000e+02</td>\n",
              "      <td>6.400000e+02</td>\n",
              "      <td>1.010000e+03</td>\n",
              "    </tr>\n",
              "    <tr>\n",
              "      <th>Global_Time</th>\n",
              "      <td>1048575.0</td>\n",
              "      <td>1.118847e+12</td>\n",
              "      <td>241247.914</td>\n",
              "      <td>1.118847e+12</td>\n",
              "      <td>1.118847e+12</td>\n",
              "      <td>1.118847e+12</td>\n",
              "      <td>1.118848e+12</td>\n",
              "      <td>1.118848e+12</td>\n",
              "    </tr>\n",
              "    <tr>\n",
              "      <th>Local_X</th>\n",
              "      <td>1048575.0</td>\n",
              "      <td>2.940600e+01</td>\n",
              "      <td>16.666</td>\n",
              "      <td>5.340000e-01</td>\n",
              "      <td>1.728400e+01</td>\n",
              "      <td>2.955700e+01</td>\n",
              "      <td>4.187500e+01</td>\n",
              "      <td>7.347800e+01</td>\n",
              "    </tr>\n",
              "    <tr>\n",
              "      <th>Local_Y</th>\n",
              "      <td>1048575.0</td>\n",
              "      <td>1.002056e+03</td>\n",
              "      <td>596.357</td>\n",
              "      <td>1.796600e+01</td>\n",
              "      <td>4.883960e+02</td>\n",
              "      <td>9.640280e+02</td>\n",
              "      <td>1.491548e+03</td>\n",
              "      <td>2.195470e+03</td>\n",
              "    </tr>\n",
              "    <tr>\n",
              "      <th>Global_X</th>\n",
              "      <td>1048575.0</td>\n",
              "      <td>6.451838e+06</td>\n",
              "      <td>446.275</td>\n",
              "      <td>6.451107e+06</td>\n",
              "      <td>6.451450e+06</td>\n",
              "      <td>6.451808e+06</td>\n",
              "      <td>6.452205e+06</td>\n",
              "      <td>6.452734e+06</td>\n",
              "    </tr>\n",
              "    <tr>\n",
              "      <th>Global_Y</th>\n",
              "      <td>1048575.0</td>\n",
              "      <td>1.872677e+06</td>\n",
              "      <td>397.006</td>\n",
              "      <td>1.871875e+06</td>\n",
              "      <td>1.872352e+06</td>\n",
              "      <td>1.872699e+06</td>\n",
              "      <td>1.873015e+06</td>\n",
              "      <td>1.873365e+06</td>\n",
              "    </tr>\n",
              "    <tr>\n",
              "      <th>v_Length</th>\n",
              "      <td>1048575.0</td>\n",
              "      <td>1.463500e+01</td>\n",
              "      <td>4.870</td>\n",
              "      <td>4.000000e+00</td>\n",
              "      <td>1.200000e+01</td>\n",
              "      <td>1.450000e+01</td>\n",
              "      <td>1.650000e+01</td>\n",
              "      <td>7.610000e+01</td>\n",
              "    </tr>\n",
              "    <tr>\n",
              "      <th>v_Width</th>\n",
              "      <td>1048575.0</td>\n",
              "      <td>6.132000e+00</td>\n",
              "      <td>1.037</td>\n",
              "      <td>2.000000e+00</td>\n",
              "      <td>5.400000e+00</td>\n",
              "      <td>6.000000e+00</td>\n",
              "      <td>6.900000e+00</td>\n",
              "      <td>8.500000e+00</td>\n",
              "    </tr>\n",
              "    <tr>\n",
              "      <th>v_Class</th>\n",
              "      <td>1048575.0</td>\n",
              "      <td>2.009000e+00</td>\n",
              "      <td>0.191</td>\n",
              "      <td>1.000000e+00</td>\n",
              "      <td>2.000000e+00</td>\n",
              "      <td>2.000000e+00</td>\n",
              "      <td>2.000000e+00</td>\n",
              "      <td>3.000000e+00</td>\n",
              "    </tr>\n",
              "    <tr>\n",
              "      <th>v_Vel</th>\n",
              "      <td>1048575.0</td>\n",
              "      <td>3.877400e+01</td>\n",
              "      <td>14.110</td>\n",
              "      <td>0.000000e+00</td>\n",
              "      <td>3.031700e+01</td>\n",
              "      <td>3.989800e+01</td>\n",
              "      <td>4.820200e+01</td>\n",
              "      <td>1.490520e+02</td>\n",
              "    </tr>\n",
              "    <tr>\n",
              "      <th>v_Acc</th>\n",
              "      <td>1048575.0</td>\n",
              "      <td>3.610000e-01</td>\n",
              "      <td>5.852</td>\n",
              "      <td>-3.193080e+02</td>\n",
              "      <td>-1.752000e+00</td>\n",
              "      <td>1.700000e-02</td>\n",
              "      <td>2.754000e+00</td>\n",
              "      <td>2.430030e+02</td>\n",
              "    </tr>\n",
              "    <tr>\n",
              "      <th>Lane_ID</th>\n",
              "      <td>1048575.0</td>\n",
              "      <td>2.956000e+00</td>\n",
              "      <td>1.469</td>\n",
              "      <td>1.000000e+00</td>\n",
              "      <td>2.000000e+00</td>\n",
              "      <td>3.000000e+00</td>\n",
              "      <td>4.000000e+00</td>\n",
              "      <td>8.000000e+00</td>\n",
              "    </tr>\n",
              "    <tr>\n",
              "      <th>Preceeding</th>\n",
              "      <td>1048575.0</td>\n",
              "      <td>1.459864e+03</td>\n",
              "      <td>844.319</td>\n",
              "      <td>0.000000e+00</td>\n",
              "      <td>7.880000e+02</td>\n",
              "      <td>1.519000e+03</td>\n",
              "      <td>2.186000e+03</td>\n",
              "      <td>3.109000e+03</td>\n",
              "    </tr>\n",
              "    <tr>\n",
              "      <th>Following</th>\n",
              "      <td>1048575.0</td>\n",
              "      <td>1.477269e+03</td>\n",
              "      <td>843.679</td>\n",
              "      <td>0.000000e+00</td>\n",
              "      <td>8.120000e+02</td>\n",
              "      <td>1.533000e+03</td>\n",
              "      <td>2.202000e+03</td>\n",
              "      <td>3.109000e+03</td>\n",
              "    </tr>\n",
              "    <tr>\n",
              "      <th>Space_Hdwy</th>\n",
              "      <td>1048575.0</td>\n",
              "      <td>7.815800e+01</td>\n",
              "      <td>48.615</td>\n",
              "      <td>0.000000e+00</td>\n",
              "      <td>4.984000e+01</td>\n",
              "      <td>6.911000e+01</td>\n",
              "      <td>9.725000e+01</td>\n",
              "      <td>7.777300e+02</td>\n",
              "    </tr>\n",
              "    <tr>\n",
              "      <th>Time_Hdwy</th>\n",
              "      <td>1048575.0</td>\n",
              "      <td>1.090800e+02</td>\n",
              "      <td>1027.551</td>\n",
              "      <td>0.000000e+00</td>\n",
              "      <td>1.460000e+00</td>\n",
              "      <td>1.970000e+00</td>\n",
              "      <td>2.730000e+00</td>\n",
              "      <td>9.999990e+03</td>\n",
              "    </tr>\n",
              "  </tbody>\n",
              "</table>\n",
              "</div>"
            ],
            "text/plain": [
              "                  count          mean  ...           75%           max\n",
              "Vehicle_ID    1048575.0  1.533080e+03  ...  2.210000e+03  2.783000e+03\n",
              "Frame_ID      1048575.0  4.518249e+03  ...  6.598000e+03  8.906000e+03\n",
              "Total_Frames  1048575.0  5.608770e+02  ...  6.400000e+02  1.010000e+03\n",
              "Global_Time   1048575.0  1.118847e+12  ...  1.118848e+12  1.118848e+12\n",
              "Local_X       1048575.0  2.940600e+01  ...  4.187500e+01  7.347800e+01\n",
              "Local_Y       1048575.0  1.002056e+03  ...  1.491548e+03  2.195470e+03\n",
              "Global_X      1048575.0  6.451838e+06  ...  6.452205e+06  6.452734e+06\n",
              "Global_Y      1048575.0  1.872677e+06  ...  1.873015e+06  1.873365e+06\n",
              "v_Length      1048575.0  1.463500e+01  ...  1.650000e+01  7.610000e+01\n",
              "v_Width       1048575.0  6.132000e+00  ...  6.900000e+00  8.500000e+00\n",
              "v_Class       1048575.0  2.009000e+00  ...  2.000000e+00  3.000000e+00\n",
              "v_Vel         1048575.0  3.877400e+01  ...  4.820200e+01  1.490520e+02\n",
              "v_Acc         1048575.0  3.610000e-01  ...  2.754000e+00  2.430030e+02\n",
              "Lane_ID       1048575.0  2.956000e+00  ...  4.000000e+00  8.000000e+00\n",
              "Preceeding    1048575.0  1.459864e+03  ...  2.186000e+03  3.109000e+03\n",
              "Following     1048575.0  1.477269e+03  ...  2.202000e+03  3.109000e+03\n",
              "Space_Hdwy    1048575.0  7.815800e+01  ...  9.725000e+01  7.777300e+02\n",
              "Time_Hdwy     1048575.0  1.090800e+02  ...  2.730000e+00  9.999990e+03\n",
              "\n",
              "[18 rows x 8 columns]"
            ]
          },
          "metadata": {
            "tags": []
          },
          "execution_count": 5
        }
      ]
    },
    {
      "cell_type": "markdown",
      "metadata": {
        "colab_type": "text",
        "id": "vtmu2IBPgPG8"
      },
      "source": [
        "### Feature engineering\n",
        "\n",
        "Before diving in to build a model it's important to understand your data, and be sure that you're passing the model appropriately formatted data."
      ]
    },
    {
      "cell_type": "markdown",
      "metadata": {
        "id": "vuLZ9Kp6ngnG",
        "colab_type": "text"
      },
      "source": [
        "In future, We should add more features such as:\n",
        "\n",
        "- Vehicle's direction\n",
        "- Information on surrounding vehicles (here they only care about the preceding and following vehicle)\n",
        "- Does the car drag a cargo?\n",
        "- Traffic signal ahead\n"
      ]
    },
    {
      "cell_type": "markdown",
      "metadata": {
        "colab_type": "text",
        "id": "2rbL8bSGDHy3"
      },
      "source": [
        "### Split the data"
      ]
    },
    {
      "cell_type": "markdown",
      "metadata": {
        "colab_type": "text",
        "id": "qoFJZmXBaxCc"
      },
      "source": [
        "We'll use a `(70%, 20%, 10%)` split for the training, validation, and test sets. Note the data is **not** being randomly shuffled before splitting. This is for two reasons.\n",
        "\n",
        "1. It ensures that chopping the data into windows of consecutive samples is still possible.\n",
        "2. It ensures that the validation/test results are more realistic, being evaluated on data collected after the model was trained."
      ]
    },
    {
      "cell_type": "code",
      "metadata": {
        "colab_type": "code",
        "id": "ia-MPAHxbInX",
        "colab": {
          "base_uri": "https://localhost:8080/",
          "height": 71
        },
        "outputId": "46b59a8d-dbcd-4701-a42b-00c3154ebee4"
      },
      "source": [
        "column_indices = {name: i for i, name in enumerate(df.columns)}\n",
        "print(column_indices)\n",
        "n = len(df)\n",
        "train_df = df[0:int(n*0.7)]\n",
        "val_df = df[int(n*0.7):int(n*0.9)]\n",
        "test_df = df[int(n*0.9):]\n",
        "\n",
        "num_features = df.shape[1]\n",
        "num_features"
      ],
      "execution_count": 6,
      "outputs": [
        {
          "output_type": "stream",
          "text": [
            "{'Vehicle_ID': 0, 'Frame_ID': 1, 'Total_Frames': 2, 'Global_Time': 3, 'Local_X': 4, 'Local_Y': 5, 'Global_X': 6, 'Global_Y': 7, 'v_Length': 8, 'v_Width': 9, 'v_Class': 10, 'v_Vel': 11, 'v_Acc': 12, 'Lane_ID': 13, 'Preceeding': 14, 'Following': 15, 'Space_Hdwy': 16, 'Time_Hdwy': 17}\n"
          ],
          "name": "stdout"
        },
        {
          "output_type": "execute_result",
          "data": {
            "text/plain": [
              "18"
            ]
          },
          "metadata": {
            "tags": []
          },
          "execution_count": 6
        }
      ]
    },
    {
      "cell_type": "markdown",
      "metadata": {
        "colab_type": "text",
        "id": "-eFckdUUHWmT"
      },
      "source": [
        "### Normalize the data\n",
        "\n",
        "It is important to scale features before training a neural network. Normalization is a common way of doing this scaling. Subtract the mean and divide by the standard deviation of each feature."
      ]
    },
    {
      "cell_type": "markdown",
      "metadata": {
        "colab_type": "text",
        "id": "mxbIic5TMlxx"
      },
      "source": [
        "The mean and standard deviation should only be computed using the training data so that the models have no access to the values in the validation and test sets.\n",
        "\n",
        "It's also arguable that the model shouldn't have access to future values in the training set when training, and that this normalization should be done using moving averages. That's not the focus of this tutorial, and the validation and test sets ensure that we get (somewhat) honest metrics. So in the interest of simplicity this tutorial uses a simple average."
      ]
    },
    {
      "cell_type": "code",
      "metadata": {
        "colab_type": "code",
        "id": "Eji6njXvHusN",
        "colab": {}
      },
      "source": [
        "train_mean = train_df.mean()\n",
        "train_std = train_df.std()\n",
        "\n",
        "train_df = (train_df - train_mean) / train_std\n",
        "val_df = (val_df - train_mean) / train_std\n",
        "test_df = (test_df - train_mean) / train_std"
      ],
      "execution_count": 7,
      "outputs": []
    },
    {
      "cell_type": "markdown",
      "metadata": {
        "colab_type": "text",
        "id": "G6ufs8kk9JQw"
      },
      "source": [
        "Now peek at the distribution of the features. Some features do have long tails, but there are no obvious errors."
      ]
    },
    {
      "cell_type": "code",
      "metadata": {
        "colab_type": "code",
        "id": "T0UYEnkwm8Fe",
        "colab": {
          "base_uri": "https://localhost:8080/",
          "height": 442
        },
        "outputId": "9b6c9cb4-b466-475d-8098-8739b8370fa6"
      },
      "source": [
        "df_std = (df - train_mean) / train_std\n",
        "df_std = df_std.melt(var_name='Column', value_name='Normalized')\n",
        "plt.figure(figsize=(12, 6))\n",
        "ax = sns.violinplot(x='Column', y='Normalized', data=df_std)\n",
        "_ = ax.set_xticklabels(df.keys(), rotation=90)"
      ],
      "execution_count": 8,
      "outputs": [
        {
          "output_type": "display_data",
          "data": {
            "image/png": "[encoded data removed]",
            "text/plain": [
              "<Figure size 864x432 with 1 Axes>"
            ]
          },
          "metadata": {
            "tags": [],
            "needs_background": "light"
          }
        }
      ]
    },
    {
      "cell_type": "markdown",
      "metadata": {
        "id": "TaMMsNNzozG4",
        "colab_type": "text"
      },
      "source": [
        "**Violin Plot**\n",
        "\n",
        "Draw a combination of boxplot and kernel density estimate.\n",
        "\n",
        "A violin plot plays a similar role as a box and whisker plot. It shows the distribution of quantitative data across several levels of one (or more) categorical variables such that those distributions can be compared. Unlike a box plot, in which all of the plot components correspond to actual datapoints, the violin plot features a kernel density estimation of the underlying distribution.\n",
        "\n",
        "This can be an effective and attractive way to show multiple distributions of data at once, but keep in mind that the estimation procedure is influenced by the sample size, and violins for relatively small samples might look misleadingly smooth."
      ]
    },
    {
      "cell_type": "markdown",
      "metadata": {
        "colab_type": "text",
        "id": "ZBBmdxZ2HgfJ"
      },
      "source": [
        "## Data windowing\n",
        "\n",
        "The models in this tutorial will make a set of predictions based on a window of consecutive samples from the data. \n",
        "\n",
        "The main features of the input windows are:\n",
        "\n",
        "* The width (number of time steps) of the input and label windows\n",
        "* The time offset between them.\n",
        "* Which features are used as inputs, labels, or both. \n",
        "\n",
        "This tutorial builds a variety of models (including Linear, DNN, CNN and RNN models), and uses them for both:\n",
        "\n",
        "* *Single-output*, and *multi-output* predictions.\n",
        "* *Single-time-step* and *multi-time-step* predictions.\n",
        "\n",
        "This section focuses on implementing the data windowing so that it can be reused for all of those models.\n"
      ]
    },
    {
      "cell_type": "markdown",
      "metadata": {
        "colab_type": "text",
        "id": "YAhGUVx1jtOy"
      },
      "source": [
        "Depending on the task and type of model you may want to generate a variety of data windows. Here are some examples:\n",
        "\n",
        "1. For example, to make a single prediction 24h into the future, given 24h of history you might define a window like this:\n",
        "\n",
        "  ![One prediction 24h into the future.](https://github.com/tensorflow/docs/blob/master/site/en/tutorials/structured_data/images/raw_window_24h.png?raw=1)\n",
        "\n",
        "2. A model that makes a prediction 1h into the future, given 6h of history would need a window like this:\n",
        "\n",
        "  ![One prediction 1h into the future.](https://github.com/tensorflow/docs/blob/master/site/en/tutorials/structured_data/images/raw_window_1h.png?raw=1)"
      ]
    },
    {
      "cell_type": "markdown",
      "metadata": {
        "colab_type": "text",
        "id": "sa2BbfNZt8wy"
      },
      "source": [
        "The rest of this section defines a `WindowGenerator` class. This class can:\n",
        "\n",
        "1. Handle the indexes and offsets as shown in the diagrams above.\n",
        "1. Split windows of features into a `(features, labels)` pairs.\n",
        "2. Plot the content of the resulting windows.\n",
        "3. Efficiently generate batches of these windows from the training, evaluation, and test data, using `tf.data.Dataset`s."
      ]
    },
    {
      "cell_type": "markdown",
      "metadata": {
        "colab_type": "text",
        "id": "rfx3jGjyziUF"
      },
      "source": [
        "### 1. Indexes and offsets\n",
        "\n",
        "Start by creating the `WindowGenerator` class. The `__init__` method includes all the necessary logic for the input and label indices.\n",
        "\n",
        "It also takes the train, eval, and test dataframes as input. These will be converted to `tf.data.Dataset`s of windows later."
      ]
    },
    {
      "cell_type": "code",
      "metadata": {
        "colab_type": "code",
        "id": "Kem30j8QHxyW",
        "colab": {}
      },
      "source": [
        "class WindowGenerator():\n",
        "  def __init__(self, input_width, label_width, shift,\n",
        "               train_df=train_df, val_df=val_df, test_df=test_df,\n",
        "               label_columns=None):\n",
        "    # Store the raw data.\n",
        "    self.train_df = train_df\n",
        "    self.val_df = val_df\n",
        "    self.test_df = test_df\n",
        "\n",
        "    # Work out the label column indices.\n",
        "    self.label_columns = label_columns\n",
        "    if label_columns is not None:\n",
        "      self.label_columns_indices = {name: i for i, name in\n",
        "                                    enumerate(label_columns)}\n",
        "    self.column_indices = {name: i for i, name in\n",
        "                           enumerate(train_df.columns)}\n",
        "\n",
        "    # Work out the window parameters.\n",
        "    self.input_width = input_width\n",
        "    self.label_width = label_width\n",
        "    self.shift = shift\n",
        "\n",
        "    self.total_window_size = input_width + shift\n",
        "\n",
        "    self.input_slice = slice(0, input_width)\n",
        "    self.input_indices = np.arange(self.total_window_size)[self.input_slice]\n",
        "\n",
        "    self.label_start = self.total_window_size - self.label_width\n",
        "    self.labels_slice = slice(self.label_start, None)\n",
        "    self.label_indices = np.arange(self.total_window_size)[self.labels_slice]\n",
        "\n",
        "  def __repr__(self):\n",
        "    return '\\n'.join([\n",
        "        f'Total window size: {self.total_window_size}',\n",
        "        f'Input indices: {self.input_indices}',\n",
        "        f'Label indices: {self.label_indices}',\n",
        "        f'Label column name(s): {self.label_columns}'])"
      ],
      "execution_count": 9,
      "outputs": []
    },
    {
      "cell_type": "markdown",
      "metadata": {
        "colab_type": "text",
        "id": "yVJgblsYzL1g"
      },
      "source": [
        "Here is code to create the 2 windows shown in the diagrams at the start of this section:"
      ]
    },
    {
      "cell_type": "code",
      "metadata": {
        "colab_type": "code",
        "id": "IsM5kRkz0UwK",
        "colab": {
          "base_uri": "https://localhost:8080/",
          "height": 85
        },
        "outputId": "0992a887-0565-45f3-961e-b751de1f41a1"
      },
      "source": [
        "w1 = WindowGenerator(input_width=24, label_width=1, shift=24,\n",
        "                     label_columns=['T (degC)'])\n",
        "w1"
      ],
      "execution_count": 10,
      "outputs": [
        {
          "output_type": "execute_result",
          "data": {
            "text/plain": [
              "Total window size: 48\n",
              "Input indices: [ 0  1  2  3  4  5  6  7  8  9 10 11 12 13 14 15 16 17 18 19 20 21 22 23]\n",
              "Label indices: [47]\n",
              "Label column name(s): ['T (degC)']"
            ]
          },
          "metadata": {
            "tags": []
          },
          "execution_count": 10
        }
      ]
    },
    {
      "cell_type": "code",
      "metadata": {
        "colab_type": "code",
        "id": "viwKsYeAKFUn",
        "colab": {
          "base_uri": "https://localhost:8080/",
          "height": 85
        },
        "outputId": "8f2e177c-e2d2-4380-df99-62fc23560e8f"
      },
      "source": [
        "w2 = WindowGenerator(input_width=6, label_width=1, shift=1,\n",
        "                     label_columns=['T (degC)'])\n",
        "w2"
      ],
      "execution_count": 11,
      "outputs": [
        {
          "output_type": "execute_result",
          "data": {
            "text/plain": [
              "Total window size: 7\n",
              "Input indices: [0 1 2 3 4 5]\n",
              "Label indices: [6]\n",
              "Label column name(s): ['T (degC)']"
            ]
          },
          "metadata": {
            "tags": []
          },
          "execution_count": 11
        }
      ]
    },
    {
      "cell_type": "markdown",
      "metadata": {
        "id": "zS9WVcEPiBj0",
        "colab_type": "text"
      },
      "source": [
        "### Our case window\n",
        "\n",
        "We will create a window for our case:\n",
        "- A model that makes a prediction 100 msec into the future, given 6 msec of history "
      ]
    },
    {
      "cell_type": "code",
      "metadata": {
        "id": "ujFHzA6FlMjo",
        "colab_type": "code",
        "colab": {
          "base_uri": "https://localhost:8080/",
          "height": 205
        },
        "outputId": "2f4c6120-519d-4d65-ab75-f24537e3989f"
      },
      "source": [
        "from graphviz import Digraph\n",
        "\n",
        "s = Digraph('structs', filename='structs_revisited.gv',\n",
        "            node_attr={'shape': 'record'})\n",
        "\n",
        "s.node('struct1', '{Time series data | { t = 0|t = 1|<f0>t = 2|t = 3|t = 4|t = 5| <f1> t = 6}}')\n",
        "s.node('struct2', '{<f0>Input| { t = 0|t = 1|t = 2|t = 3|t = 4|t = 5}}')\n",
        "s.node('struct3', '{<f2> Labels = Local_X and Local_Y|{t = 6}}')\n",
        "\n",
        "s.edges([('struct1:f0', 'struct2:f0'), ('struct1:f1', 'struct3:f2')])\n",
        "s"
      ],
      "execution_count": 53,
      "outputs": [
        {
          "output_type": "execute_result",
          "data": {
            "text/plain": [
              "<graphviz.dot.Digraph at 0x7f7dde2c72e8>"
            ],
            "image/svg+xml": "<?xml version=\"1.0\" encoding=\"UTF-8\" standalone=\"no\"?>\n<!DOCTYPE svg PUBLIC \"-//W3C//DTD SVG 1.1//EN\"\n \"http://www.w3.org/Graphics/SVG/1.1/DTD/svg11.dtd\">\n<!-- Generated by graphviz version 2.40.1 (20161225.0304)\n -->\n<!-- Title: structs Pages: 1 -->\n<svg width=\"490pt\" height=\"138pt\"\n viewBox=\"0.00 0.00 489.50 138.00\" xmlns=\"http://www.w3.org/2000/svg\" xmlns:xlink=\"http://www.w3.org/1999/xlink\">\n<g id=\"graph0\" class=\"graph\" transform=\"scale(1 1) rotate(0) translate(4 134)\">\n<title>structs</title>\n<polygon fill=\"#ffffff\" stroke=\"transparent\" points=\"-4,4 -4,-134 485.5,-134 485.5,4 -4,4\"/>\n<!-- struct1 -->\n<g id=\"node1\" class=\"node\">\n<title>struct1</title>\n<polygon fill=\"none\" stroke=\"#000000\" points=\"59,-83.5 59,-129.5 367,-129.5 367,-83.5 59,-83.5\"/>\n<text text-anchor=\"middle\" x=\"213\" y=\"-114.3\" font-family=\"Times,serif\" font-size=\"14.00\" fill=\"#000000\">Time series data</text>\n<polyline fill=\"none\" stroke=\"#000000\" points=\"59,-106.5 367,-106.5 \"/>\n<text text-anchor=\"middle\" x=\"81\" y=\"-91.3\" font-family=\"Times,serif\" font-size=\"14.00\" fill=\"#000000\">t = 0</text>\n<polyline fill=\"none\" stroke=\"#000000\" points=\"103,-83.5 103,-106.5 \"/>\n<text text-anchor=\"middle\" x=\"125\" y=\"-91.3\" font-family=\"Times,serif\" font-size=\"14.00\" fill=\"#000000\">t = 1</text>\n<polyline fill=\"none\" stroke=\"#000000\" points=\"147,-83.5 147,-106.5 \"/>\n<text text-anchor=\"middle\" x=\"169\" y=\"-91.3\" font-family=\"Times,serif\" font-size=\"14.00\" fill=\"#000000\">t = 2</text>\n<polyline fill=\"none\" stroke=\"#000000\" points=\"191,-83.5 191,-106.5 \"/>\n<text text-anchor=\"middle\" x=\"213\" y=\"-91.3\" font-family=\"Times,serif\" font-size=\"14.00\" fill=\"#000000\">t = 3</text>\n<polyline fill=\"none\" stroke=\"#000000\" points=\"235,-83.5 235,-106.5 \"/>\n<text text-anchor=\"middle\" x=\"257\" y=\"-91.3\" font-family=\"Times,serif\" font-size=\"14.00\" fill=\"#000000\">t = 4</text>\n<polyline fill=\"none\" stroke=\"#000000\" points=\"279,-83.5 279,-106.5 \"/>\n<text text-anchor=\"middle\" x=\"301\" y=\"-91.3\" font-family=\"Times,serif\" font-size=\"14.00\" fill=\"#000000\">t = 5</text>\n<polyline fill=\"none\" stroke=\"#000000\" points=\"323,-83.5 323,-106.5 \"/>\n<text text-anchor=\"middle\" x=\"345\" y=\"-91.3\" font-family=\"Times,serif\" font-size=\"14.00\" fill=\"#000000\">t = 6</text>\n</g>\n<!-- struct2 -->\n<g id=\"node2\" class=\"node\">\n<title>struct2</title>\n<polygon fill=\"none\" stroke=\"#000000\" points=\"0,-.5 0,-46.5 264,-46.5 264,-.5 0,-.5\"/>\n<text text-anchor=\"middle\" x=\"132\" y=\"-31.3\" font-family=\"Times,serif\" font-size=\"14.00\" fill=\"#000000\">Input</text>\n<polyline fill=\"none\" stroke=\"#000000\" points=\"0,-23.5 264,-23.5 \"/>\n<text text-anchor=\"middle\" x=\"22\" y=\"-8.3\" font-family=\"Times,serif\" font-size=\"14.00\" fill=\"#000000\">t = 0</text>\n<polyline fill=\"none\" stroke=\"#000000\" points=\"44,-.5 44,-23.5 \"/>\n<text text-anchor=\"middle\" x=\"66\" y=\"-8.3\" font-family=\"Times,serif\" font-size=\"14.00\" fill=\"#000000\">t = 1</text>\n<polyline fill=\"none\" stroke=\"#000000\" points=\"88,-.5 88,-23.5 \"/>\n<text text-anchor=\"middle\" x=\"110\" y=\"-8.3\" font-family=\"Times,serif\" font-size=\"14.00\" fill=\"#000000\">t = 2</text>\n<polyline fill=\"none\" stroke=\"#000000\" points=\"132,-.5 132,-23.5 \"/>\n<text text-anchor=\"middle\" x=\"154\" y=\"-8.3\" font-family=\"Times,serif\" font-size=\"14.00\" fill=\"#000000\">t = 3</text>\n<polyline fill=\"none\" stroke=\"#000000\" points=\"176,-.5 176,-23.5 \"/>\n<text text-anchor=\"middle\" x=\"198\" y=\"-8.3\" font-family=\"Times,serif\" font-size=\"14.00\" fill=\"#000000\">t = 4</text>\n<polyline fill=\"none\" stroke=\"#000000\" points=\"220,-.5 220,-23.5 \"/>\n<text text-anchor=\"middle\" x=\"242\" y=\"-8.3\" font-family=\"Times,serif\" font-size=\"14.00\" fill=\"#000000\">t = 5</text>\n</g>\n<!-- struct1&#45;&gt;struct2 -->\n<g id=\"edge1\" class=\"edge\">\n<title>struct1:f0&#45;&gt;struct2:f0</title>\n<path fill=\"none\" stroke=\"#000000\" d=\"M169,-83.5C169,-38.2686 238.3863,-84.2802 264,-47 264.2713,-46.6051 264.5367,-46.1831 264.7907,-45.7427\"/>\n<polygon fill=\"#000000\" stroke=\"#000000\" points=\"268.2594,-45.2009 264,-35.5 261.2801,-45.7398 268.2594,-45.2009\"/>\n</g>\n<!-- struct3 -->\n<g id=\"node3\" class=\"node\">\n<title>struct3</title>\n<polygon fill=\"none\" stroke=\"#000000\" points=\"282.5,-.5 282.5,-46.5 481.5,-46.5 481.5,-.5 282.5,-.5\"/>\n<text text-anchor=\"middle\" x=\"382\" y=\"-31.3\" font-family=\"Times,serif\" font-size=\"14.00\" fill=\"#000000\">Labels = Local_X and Local_Y</text>\n<polyline fill=\"none\" stroke=\"#000000\" points=\"282.5,-23.5 481.5,-23.5 \"/>\n<text text-anchor=\"middle\" x=\"382\" y=\"-8.3\" font-family=\"Times,serif\" font-size=\"14.00\" fill=\"#000000\">t = 6</text>\n</g>\n<!-- struct1&#45;&gt;struct3 -->\n<g id=\"edge2\" class=\"edge\">\n<title>struct1:f1&#45;&gt;struct3:f2</title>\n<path fill=\"none\" stroke=\"#000000\" d=\"M345,-83.5C345,-51.1401 298.1588,-75.0367 282,-47 281.7607,-46.5848 281.5214,-46.1465 281.2883,-45.6929\"/>\n<polygon fill=\"#000000\" stroke=\"#000000\" points=\"284.7949,-45.7195 282,-35.5 277.8119,-45.2319 284.7949,-45.7195\"/>\n</g>\n</g>\n</svg>\n"
          },
          "metadata": {
            "tags": []
          },
          "execution_count": 53
        }
      ]
    },
    {
      "cell_type": "code",
      "metadata": {
        "id": "pA21kCGgqF68",
        "colab_type": "code",
        "colab": {
          "base_uri": "https://localhost:8080/",
          "height": 85
        },
        "outputId": "355f683b-93cd-4b6a-eb85-bcd938af2ceb"
      },
      "source": [
        "w3 = WindowGenerator(input_width=6, label_width=1, shift=1,\n",
        "                     label_columns=['Local_X','Local_Y'])\n",
        "w3"
      ],
      "execution_count": 12,
      "outputs": [
        {
          "output_type": "execute_result",
          "data": {
            "text/plain": [
              "Total window size: 7\n",
              "Input indices: [0 1 2 3 4 5]\n",
              "Label indices: [6]\n",
              "Label column name(s): ['Local_X', 'Local_Y']"
            ]
          },
          "metadata": {
            "tags": []
          },
          "execution_count": 12
        }
      ]
    },
    {
      "cell_type": "markdown",
      "metadata": {
        "colab_type": "text",
        "id": "kJaUyTWQJd-L"
      },
      "source": [
        "### 2. Split\n",
        "Given a list consecutive inputs, the `split_window` method will convert them to a window of inputs and a window of labels.\n",
        "\n",
        "The example `w2`, above, will be split like this:\n",
        "\n",
        "![The initial window is all consecuitive samples, this splits it into an (inputs, labels) pairs](https://github.com/tensorflow/docs/blob/master/site/en/tutorials/structured_data/images/split_window.png?raw=1)\n",
        "\n",
        "This diagram doesn't show the `features` axis of the data, but this `split_window` function also handles the `label_columns` so it can be used for both the single output and multi-output examples."
      ]
    },
    {
      "cell_type": "code",
      "metadata": {
        "colab_type": "code",
        "id": "W4KbxfzqkXPW",
        "colab": {}
      },
      "source": [
        "def split_window(self, features):\n",
        "  inputs = features[:, self.input_slice, :]\n",
        "  labels = features[:, self.labels_slice, :]\n",
        "  if self.label_columns is not None:\n",
        "    labels = tf.stack(\n",
        "        [labels[:, :, self.column_indices[name]] for name in self.label_columns],\n",
        "        axis=-1)\n",
        "\n",
        "  # Slicing doesn't preserve static shape information, so set the shapes\n",
        "  # manually. This way the `tf.data.Datasets` are easier to inspect.\n",
        "  inputs.set_shape([None, self.input_width, None])\n",
        "  labels.set_shape([None, self.label_width, None])\n",
        "\n",
        "  return inputs, labels\n",
        "\n",
        "WindowGenerator.split_window = split_window"
      ],
      "execution_count": 13,
      "outputs": []
    },
    {
      "cell_type": "markdown",
      "metadata": {
        "colab_type": "text",
        "id": "G6U6VtVuM15s"
      },
      "source": [
        "Try it out:"
      ]
    },
    {
      "cell_type": "code",
      "metadata": {
        "colab_type": "code",
        "id": "YeCWbq6KLmL7",
        "colab": {
          "base_uri": "https://localhost:8080/",
          "height": 85
        },
        "outputId": "0a962a80-b078-41e5-bf32-0e1d7c3fcc30"
      },
      "source": [
        "# Stack three slices, the length of the total window:\n",
        "example_window = tf.stack([np.array(train_df[:w3.total_window_size]),\n",
        "                           np.array(train_df[100:100+w3.total_window_size]),\n",
        "                           np.array(train_df[200:200+w3.total_window_size])])\n",
        "\n",
        "\n",
        "example_inputs, example_labels = w3.split_window(example_window)\n",
        "\n",
        "print('All shapes are: (batch, time, features)')\n",
        "print(f'Window shape: {example_window.shape}')\n",
        "print(f'Inputs shape: {example_inputs.shape}')\n",
        "print(f'labels shape: {example_labels.shape}')"
      ],
      "execution_count": 15,
      "outputs": [
        {
          "output_type": "stream",
          "text": [
            "All shapes are: (batch, time, features)\n",
            "Window shape: (3, 7, 18)\n",
            "Inputs shape: (3, 6, 18)\n",
            "labels shape: (3, 1, 2)\n"
          ],
          "name": "stdout"
        }
      ]
    },
    {
      "cell_type": "markdown",
      "metadata": {
        "colab_type": "text",
        "id": "xtMk1ffk2Mmd"
      },
      "source": [
        "Typically data in TensorFlow is packed into arrays where the outermost index is across examples (the \"batch\" dimension). The middle indices are the \"time\" or \"space\" (width, height) dimension(s). The innermost indices are the features.\n",
        "\n",
        "The code above took a batch of 2, 7-timestep windows, with 19 features at each time step. It split them into a batch of 6-timestep, 19 feature inputs, and a 1-timestep 1-feature label. The label only has one feature because the `WindowGenerator` was initialized with `label_columns=['T (degC)']`. Initially this tutorial will build models that predict single output labels."
      ]
    },
    {
      "cell_type": "markdown",
      "metadata": {
        "colab_type": "text",
        "id": "tFZukGXrJoGo"
      },
      "source": [
        "### 3. Plot\n",
        "\n",
        "Here is a plot method that allows a simple visualization of the split window:"
      ]
    },
    {
      "cell_type": "code",
      "metadata": {
        "colab_type": "code",
        "id": "fmgd1qkYUWT7",
        "colab": {}
      },
      "source": [
        "w3.example = example_inputs, example_labels"
      ],
      "execution_count": 17,
      "outputs": []
    },
    {
      "cell_type": "code",
      "metadata": {
        "colab_type": "code",
        "id": "jIrYccI-Hm3B",
        "colab": {}
      },
      "source": [
        "def plot(self, model=None, plot_col='Local_X', max_subplots=3):\n",
        "  inputs, labels = self.example\n",
        "  plt.figure(figsize=(12, 8))\n",
        "  plot_col_index = self.column_indices[plot_col]\n",
        "  max_n = min(max_subplots, len(inputs))\n",
        "  for n in range(max_n):\n",
        "    plt.subplot(3, 1, n+1)\n",
        "    plt.ylabel(f'{plot_col} [normed]')\n",
        "    plt.plot(self.input_indices, inputs[n, :, plot_col_index],\n",
        "             label='Inputs', marker='.', zorder=-10)\n",
        "\n",
        "    if self.label_columns:\n",
        "      label_col_index = self.label_columns_indices.get(plot_col, None)\n",
        "    else:\n",
        "      label_col_index = plot_col_index\n",
        "\n",
        "    if label_col_index is None:\n",
        "      continue\n",
        "\n",
        "    plt.scatter(self.label_indices, labels[n, :, label_col_index],\n",
        "                edgecolors='k', label='Labels', c='#2ca02c', s=64)\n",
        "    if model is not None:\n",
        "      predictions = model(inputs)\n",
        "      plt.scatter(self.label_indices, predictions[n, :, label_col_index],\n",
        "                  marker='X', edgecolors='k', label='Predictions',\n",
        "                  c='#ff7f0e', s=64)\n",
        "\n",
        "    if n == 0:\n",
        "      plt.legend()\n",
        "\n",
        "  plt.xlabel('Time [0.1 msec]')\n",
        "\n",
        "WindowGenerator.plot = plot"
      ],
      "execution_count": 18,
      "outputs": []
    },
    {
      "cell_type": "markdown",
      "metadata": {
        "colab_type": "text",
        "id": "HXvctEuK68vX"
      },
      "source": [
        "This plot aligns inputs, labels, and (later) predictions based on the time that the item refers to:"
      ]
    },
    {
      "cell_type": "code",
      "metadata": {
        "colab_type": "code",
        "id": "XjTqUnglOOni",
        "colab": {
          "base_uri": "https://localhost:8080/",
          "height": 497
        },
        "outputId": "8c8b1468-3ada-47ca-fa64-daa8729b442b"
      },
      "source": [
        "w3.plot()"
      ],
      "execution_count": 19,
      "outputs": [
        {
          "output_type": "display_data",
          "data": {
            "image/png": "[encoded data removed]",
            "text/plain": [
              "<Figure size 864x576 with 3 Axes>"
            ]
          },
          "metadata": {
            "tags": [],
            "needs_background": "light"
          }
        }
      ]
    },
    {
      "cell_type": "code",
      "metadata": {
        "colab_type": "code",
        "id": "EBRe4wnlfCH8",
        "colab": {
          "base_uri": "https://localhost:8080/",
          "height": 497
        },
        "outputId": "ea2b8a06-e4c5-4427-9fd2-053c4ffacc69"
      },
      "source": [
        "w3.plot(plot_col='Local_Y')"
      ],
      "execution_count": 20,
      "outputs": [
        {
          "output_type": "display_data",
          "data": {
            "image/png": "[encoded data removed]",
            "text/plain": [
              "<Figure size 864x576 with 3 Axes>"
            ]
          },
          "metadata": {
            "tags": [],
            "needs_background": "light"
          }
        }
      ]
    },
    {
      "cell_type": "markdown",
      "metadata": {
        "colab_type": "text",
        "id": "xCvD-UaUzYMw"
      },
      "source": [
        "### 4. Create `tf.data.Dataset`s"
      ]
    },
    {
      "cell_type": "markdown",
      "metadata": {
        "colab_type": "text",
        "id": "kLO3SFR9Osdf"
      },
      "source": [
        "Finally this `make_dataset` method will take a time series `DataFrame` and convert it to a `tf.data.Dataset` of `(input_window, label_window)` pairs using the `preprocessing.timeseries_dataset_from_array` function."
      ]
    },
    {
      "cell_type": "code",
      "metadata": {
        "colab_type": "code",
        "id": "35qoSQeRVfJg",
        "colab": {}
      },
      "source": [
        "def make_dataset(self, data):\n",
        "  data = np.array(data, dtype=np.float32)\n",
        "  ds = tf.keras.preprocessing.timeseries_dataset_from_array(\n",
        "      data=data,\n",
        "      targets=None,\n",
        "      sequence_length=self.total_window_size,\n",
        "      sequence_stride=1,\n",
        "      shuffle=True,\n",
        "      batch_size=32,)\n",
        "\n",
        "  ds = ds.map(self.split_window)\n",
        "\n",
        "  return ds\n",
        "\n",
        "WindowGenerator.make_dataset = make_dataset"
      ],
      "execution_count": 54,
      "outputs": []
    },
    {
      "cell_type": "markdown",
      "metadata": {
        "colab_type": "text",
        "id": "LvsxQwJaCift"
      },
      "source": [
        "The `WindowGenerator` object holds training, validation and test data. Add properties for accessing them as `tf.data.Datasets` using the above `make_dataset` method. Also add a standard example batch for easy access and plotting:"
      ]
    },
    {
      "cell_type": "code",
      "metadata": {
        "colab_type": "code",
        "id": "2jZ2KkqGCfzu",
        "colab": {}
      },
      "source": [
        "@property\n",
        "def train(self):\n",
        "  return self.make_dataset(self.train_df)\n",
        "\n",
        "@property\n",
        "def val(self):\n",
        "  return self.make_dataset(self.val_df)\n",
        "\n",
        "@property\n",
        "def test(self):\n",
        "  return self.make_dataset(self.test_df)\n",
        "\n",
        "@property\n",
        "def example(self):\n",
        "  \"\"\"Get and cache an example batch of `inputs, labels` for plotting.\"\"\"\n",
        "  result = getattr(self, '_example', None)\n",
        "  if result is None:\n",
        "    # No example batch was found, so get one from the `.train` dataset\n",
        "    result = next(iter(self.train))\n",
        "    # And cache it for next time\n",
        "    self._example = result\n",
        "  return result\n",
        "\n",
        "WindowGenerator.train = train\n",
        "WindowGenerator.val = val\n",
        "WindowGenerator.test = test\n",
        "WindowGenerator.example = example"
      ],
      "execution_count": 55,
      "outputs": []
    },
    {
      "cell_type": "markdown",
      "metadata": {
        "colab_type": "text",
        "id": "fF_Vj6Iw3Y2w"
      },
      "source": [
        "Now the `WindowGenerator` object gives you access to the `tf.data.Dataset` objects, so you can easily iterate over the data.\n",
        "\n",
        "The `Dataset.element_spec` property tells you the structure, `dtypes` and shapes of the dataset elements."
      ]
    },
    {
      "cell_type": "code",
      "metadata": {
        "colab_type": "code",
        "id": "daJ0-U383YVs",
        "colab": {
          "base_uri": "https://localhost:8080/",
          "height": 51
        },
        "outputId": "e2405fba-25eb-49f5-cc4c-2eb777ccd714"
      },
      "source": [
        "# Each element is an (inputs, label) pair\n",
        "w3.train.element_spec"
      ],
      "execution_count": 56,
      "outputs": [
        {
          "output_type": "execute_result",
          "data": {
            "text/plain": [
              "(TensorSpec(shape=(None, 6, 18), dtype=tf.float32, name=None),\n",
              " TensorSpec(shape=(None, 1, 2), dtype=tf.float32, name=None))"
            ]
          },
          "metadata": {
            "tags": []
          },
          "execution_count": 56
        }
      ]
    },
    {
      "cell_type": "markdown",
      "metadata": {
        "colab_type": "text",
        "id": "XKTx3_Z7ua-n"
      },
      "source": [
        "Iterating over a `Dataset` yields concrete batches:"
      ]
    },
    {
      "cell_type": "code",
      "metadata": {
        "colab_type": "code",
        "id": "6gtKXEgf4Iml",
        "colab": {
          "base_uri": "https://localhost:8080/",
          "height": 51
        },
        "outputId": "bd9193ff-8314-4eea-ce6c-44a9bba41532"
      },
      "source": [
        "for example_inputs, example_labels in w3.train.take(1):\n",
        "  print(f'Inputs shape (batch, time, features): {example_inputs.shape}')\n",
        "  print(f'Labels shape (batch, time, features): {example_labels.shape}')"
      ],
      "execution_count": 57,
      "outputs": [
        {
          "output_type": "stream",
          "text": [
            "Inputs shape (batch, time, features): (32, 6, 18)\n",
            "Labels shape (batch, time, features): (32, 1, 2)\n"
          ],
          "name": "stdout"
        }
      ]
    },
    {
      "cell_type": "markdown",
      "metadata": {
        "colab_type": "text",
        "id": "LyuGuJUgjUK3"
      },
      "source": [
        "## Single step models\n",
        "\n",
        "The simplest model you can build on this sort of data is one that predicts a single feature's value, 1 timestep (0.1 msec) in the future based only on the current conditions.\n",
        "\n",
        "So start by building models to predict the *Local_X* and *Local_Y* value 0.1 msec into the future.\n",
        "\n",
        "\n",
        "![Predict the next time step](https://github.com/tensorflow/docs/blob/master/site/en/tutorials/structured_data/images/narrow_window.png?raw=1)\n",
        "\n",
        "Configure a `WindowGenerator` object to produce these single-step `(input, label)` pairs:"
      ]
    },
    {
      "cell_type": "code",
      "metadata": {
        "colab_type": "code",
        "id": "G5QX1G1JTPCr",
        "colab": {
          "base_uri": "https://localhost:8080/",
          "height": 85
        },
        "outputId": "4e72faaa-9cb6-4bb0-cf04-8ad7ac73e476"
      },
      "source": [
        "single_step_window = WindowGenerator(\n",
        "    input_width=1, label_width=1, shift=1,\n",
        "    label_columns=['Local_X', 'Local_Y'])\n",
        "single_step_window"
      ],
      "execution_count": 58,
      "outputs": [
        {
          "output_type": "execute_result",
          "data": {
            "text/plain": [
              "Total window size: 2\n",
              "Input indices: [0]\n",
              "Label indices: [1]\n",
              "Label column name(s): ['Local_X', 'Local_Y']"
            ]
          },
          "metadata": {
            "tags": []
          },
          "execution_count": 58
        }
      ]
    },
    {
      "cell_type": "markdown",
      "metadata": {
        "colab_type": "text",
        "id": "RKTm8ajVGw4N"
      },
      "source": [
        "The `window` object creates `tf.data.Datasets` from the training, validation, and test sets, allowing you to easily iterate over batches of data.\n",
        "\n"
      ]
    },
    {
      "cell_type": "code",
      "metadata": {
        "colab_type": "code",
        "id": "Do4ILUaBF8oc",
        "colab": {
          "base_uri": "https://localhost:8080/",
          "height": 51
        },
        "outputId": "5d479f76-dbfe-4c15-e2c4-a98f1f7f0826"
      },
      "source": [
        "for example_inputs, example_labels in single_step_window.train.take(1):\n",
        "  print(f'Inputs shape (batch, time, features): {example_inputs.shape}')\n",
        "  print(f'Labels shape (batch, time, features): {example_labels.shape}')"
      ],
      "execution_count": 59,
      "outputs": [
        {
          "output_type": "stream",
          "text": [
            "Inputs shape (batch, time, features): (32, 1, 18)\n",
            "Labels shape (batch, time, features): (32, 1, 2)\n"
          ],
          "name": "stdout"
        }
      ]
    },
    {
      "cell_type": "markdown",
      "metadata": {
        "colab_type": "text",
        "id": "D1bbPiR3VAm_"
      },
      "source": [
        "### Baseline\n",
        "\n",
        "Before building a trainable model it would be good to have a performance baseline as a point for comparison with the later more complicated models.\n",
        "\n",
        "This first task is to predict temperature 1h in the future given the current value of all features. The current values include the current temperature. \n",
        "\n",
        "So start with a model that just returns the current temperature as the prediction, predicting \"No change\". This is a reasonable baseline since temperature changes slowly. Of course, this baseline will work less well if you make a prediction further in the future.\n",
        "\n",
        "![Send the input to the output](https://github.com/tensorflow/docs/blob/master/site/en/tutorials/structured_data/images/baseline.png?raw=1)"
      ]
    },
    {
      "cell_type": "code",
      "metadata": {
        "colab_type": "code",
        "id": "9TybQaIsi3yg",
        "colab": {}
      },
      "source": [
        "class Baseline(tf.keras.Model):\n",
        "  def __init__(self, label_index=None):\n",
        "    super().__init__()\n",
        "    self.label_index = label_index\n",
        "\n",
        "  def call(self, inputs):\n",
        "    if self.label_index is None:\n",
        "      return inputs\n",
        "    result = inputs[:, :, self.label_index]\n",
        "    return result[:, :, tf.newaxis]"
      ],
      "execution_count": 60,
      "outputs": []
    },
    {
      "cell_type": "markdown",
      "metadata": {
        "colab_type": "text",
        "id": "0vb3f948i8p8"
      },
      "source": [
        "Instantiate and evaluate this model:"
      ]
    },
    {
      "cell_type": "code",
      "metadata": {
        "colab_type": "code",
        "id": "IS3-QKc4sX0D",
        "colab": {
          "base_uri": "https://localhost:8080/",
          "height": 34
        },
        "outputId": "df5b5339-72e3-48f6-8d0f-acdc0ad7c1c8"
      },
      "source": [
        "baseline = Baseline(label_index=column_indices['Local_X'])\n",
        "\n",
        "baseline.compile(loss=tf.losses.MeanSquaredError(),\n",
        "                 metrics=[tf.metrics.MeanAbsoluteError()])\n",
        "\n",
        "val_performance = {}\n",
        "performance = {}\n",
        "val_performance['Baseline'] = baseline.evaluate(single_step_window.val)\n",
        "performance['Baseline'] = baseline.evaluate(single_step_window.test, verbose=0)"
      ],
      "execution_count": 61,
      "outputs": [
        {
          "output_type": "stream",
          "text": [
            "6554/6554 [==============================] - 20s 3ms/step - loss: 1.0159 - mean_absolute_error: 0.5869\n"
          ],
          "name": "stdout"
        }
      ]
    },
    {
      "cell_type": "markdown",
      "metadata": {
        "colab_type": "text",
        "id": "nhBxQcCSs7Ec"
      },
      "source": [
        "That printed some performance metrics, but those don't give you a feeling for how well the model is doing.\n",
        "\n",
        "The `WindowGenerator` has a plot method, but the plots won't be very interesting with only a single sample. So, create a wider `WindowGenerator` that generates windows 24h of consecutive inputs and labels at a time. \n",
        "\n",
        "The `wide_window` doesn't change the way the model operates. The model still makes predictions 1h into the future based on a single input time step. Here the `time` axis acts like the `batch` axis: Each prediction is made independently with no interaction between time steps."
      ]
    },
    {
      "cell_type": "code",
      "metadata": {
        "colab_type": "code",
        "id": "C8jNR5uuJ5Zp",
        "colab": {}
      },
      "source": [
        "wide_window = WindowGenerator(\n",
        "    input_width=24, label_width=24, shift=1,\n",
        "    label_columns=['Local_X', 'Local_Y'])\n",
        "\n",
        "wide_window"
      ],
      "execution_count": null,
      "outputs": []
    },
    {
      "cell_type": "markdown",
      "metadata": {
        "colab_type": "text",
        "id": "ZAnj7CFZkuYv"
      },
      "source": [
        "This expanded window can be passed directly to the same `baseline` model without any code changes. This is possible because the inputs and labels have the same number of timesteps, and the baseline just forwards the input to the output:\n",
        "\n",
        "  ![One prediction 1h into the future, ever hour.](https://github.com/tensorflow/docs/blob/master/site/en/tutorials/structured_data/images/last_window.png?raw=1)"
      ]
    },
    {
      "cell_type": "code",
      "metadata": {
        "colab_type": "code",
        "id": "sGKdvdg087qs",
        "colab": {}
      },
      "source": [
        "print('Input shape:', single_step_window.example[0].shape)\n",
        "print('Output shape:', baseline(single_step_window.example[0]).shape)"
      ],
      "execution_count": null,
      "outputs": []
    },
    {
      "cell_type": "markdown",
      "metadata": {
        "colab_type": "text",
        "id": "SKqQHX1K0JW-"
      },
      "source": [
        "Plotting the baseline model's predictions you can see that it is simply the labels, shifted right by 1h."
      ]
    },
    {
      "cell_type": "code",
      "metadata": {
        "colab_type": "code",
        "id": "jQyAPVLgWTOZ",
        "colab": {}
      },
      "source": [
        "wide_window.plot(baseline)"
      ],
      "execution_count": null,
      "outputs": []
    },
    {
      "cell_type": "markdown",
      "metadata": {
        "colab_type": "text",
        "id": "e93TLUhfAVg2"
      },
      "source": [
        "In the above plots of three examples the single step model is run over the course of 24h. This deserves some explaination:\n",
        "\n",
        "* The blue \"Inputs\" line shows the input temperature at each time step. The model recieves all features, this plot only shows the temperature.\n",
        "* The green \"Labels\" dots show the target prediction value. These dots are shown at the prediction time, not the input time. That is why the range of labels is shifted 1 step relative to the inputs.\n",
        "* The orange \"Predictions\" crosses are the model's prediction's for each output time step. If the model were predicting perfectly the predictions would land directly on the \"labels\"."
      ]
    },
    {
      "cell_type": "markdown",
      "metadata": {
        "colab_type": "text",
        "id": "E4aOJScj52Yu"
      },
      "source": [
        "### Linear model\n",
        "\n",
        "The simplest **trainable** model you can apply to this task is to insert linear transformation between the input and output. In this case the output from a time step only depends on that step:\n",
        "\n",
        "![A single step prediction](https://github.com/tensorflow/docs/blob/master/site/en/tutorials/structured_data/images/narrow_window.png?raw=1)\n",
        "\n",
        "A `layers.Dense` with no `activation` set is a linear model. The layer only transforms the last axis of the data from `(batch, time, inputs)` to `(batch, time, units)`, it is applied independently to every item across the `batch` and `time` axes."
      ]
    },
    {
      "cell_type": "code",
      "metadata": {
        "colab_type": "code",
        "id": "6341OXuQ5xA9",
        "colab": {}
      },
      "source": [
        "linear = tf.keras.Sequential([\n",
        "    tf.keras.layers.Dense(units=1)\n",
        "])"
      ],
      "execution_count": null,
      "outputs": []
    },
    {
      "cell_type": "code",
      "metadata": {
        "colab_type": "code",
        "id": "KwaOM8RucUSn",
        "colab": {}
      },
      "source": [
        "print('Input shape:', single_step_window.example[0].shape)\n",
        "print('Output shape:', linear(single_step_window.example[0]).shape)"
      ],
      "execution_count": null,
      "outputs": []
    },
    {
      "cell_type": "markdown",
      "metadata": {
        "colab_type": "text",
        "id": "OMZTYIj3bYLg"
      },
      "source": [
        "This tutorial trains many models, so package the training procedure into a function:"
      ]
    },
    {
      "cell_type": "code",
      "metadata": {
        "colab_type": "code",
        "id": "CbCL6VIrk-Gt",
        "colab": {}
      },
      "source": [
        "MAX_EPOCHS = 20\n",
        "\n",
        "def compile_and_fit(model, window, patience=2):\n",
        "  early_stopping = tf.keras.callbacks.EarlyStopping(monitor='val_loss',\n",
        "                                                    patience=patience,\n",
        "                                                    mode='min')\n",
        "\n",
        "  model.compile(loss=tf.losses.MeanSquaredError(),\n",
        "                optimizer=tf.optimizers.Adam(),\n",
        "                metrics=[tf.metrics.MeanAbsoluteError()])\n",
        "\n",
        "  history = model.fit(window.train, epochs=MAX_EPOCHS,\n",
        "                      validation_data=window.val,\n",
        "                      callbacks=[early_stopping])\n",
        "  return history"
      ],
      "execution_count": null,
      "outputs": []
    },
    {
      "cell_type": "markdown",
      "metadata": {
        "colab_type": "text",
        "id": "OobVjM-schwj"
      },
      "source": [
        "Train the model and evaluate its performance:"
      ]
    },
    {
      "cell_type": "code",
      "metadata": {
        "colab_type": "code",
        "id": "9agbz2qB9bLS",
        "colab": {}
      },
      "source": [
        "history = compile_and_fit(linear, single_step_window)\n",
        "\n",
        "val_performance['Linear'] = linear.evaluate(single_step_window.val)\n",
        "performance['Linear'] = linear.evaluate(single_step_window.test, verbose=0)"
      ],
      "execution_count": null,
      "outputs": []
    },
    {
      "cell_type": "markdown",
      "metadata": {
        "colab_type": "text",
        "id": "7U9XukYh8beN"
      },
      "source": [
        "Like the `baseline` model, the linear model can be called on batches of wide windows. Used this way the model makes a set of independent predictions on consecuitive time steps. The `time` axis acts like another `batch` axis. There are no interactions between the precictions at each time step.\n",
        "\n",
        "![A single step prediction](https://github.com/tensorflow/docs/blob/master/site/en/tutorials/structured_data/images/wide_window.png?raw=1)"
      ]
    },
    {
      "cell_type": "code",
      "metadata": {
        "colab_type": "code",
        "id": "K9UVM5Sw9KQN",
        "colab": {}
      },
      "source": [
        "print('Input shape:', wide_window.example[0].shape)\n",
        "print('Output shape:', baseline(wide_window.example[0]).shape)"
      ],
      "execution_count": null,
      "outputs": []
    },
    {
      "cell_type": "markdown",
      "metadata": {
        "colab_type": "text",
        "id": "X-CGj85oKaOG"
      },
      "source": [
        "Here is the plot of its example predictions on the `wide_widow`, note how in many cases the prediction is clearly better than just returning the input temperature, but in a few cases it's worse:"
      ]
    },
    {
      "cell_type": "code",
      "metadata": {
        "colab_type": "code",
        "id": "bCC8VVo-OvwV",
        "colab": {}
      },
      "source": [
        "wide_window.plot(linear)"
      ],
      "execution_count": null,
      "outputs": []
    },
    {
      "cell_type": "markdown",
      "metadata": {
        "colab_type": "text",
        "id": "Is51vU8EMl6c"
      },
      "source": [
        "One advantage to linear models is that they're relatively simple to  interpret.\n",
        "You can pull out the layer's weights, and see the weight assigned to each input:"
      ]
    },
    {
      "cell_type": "code",
      "metadata": {
        "colab_type": "code",
        "id": "d4uCTbsmK8VI",
        "colab": {}
      },
      "source": [
        "plt.bar(x = range(len(train_df.columns)),\n",
        "        height=linear.layers[0].kernel[:,0].numpy())\n",
        "axis = plt.gca()\n",
        "axis.set_xticks(range(len(train_df.columns)))\n",
        "_ = axis.set_xticklabels(train_df.columns, rotation=90)"
      ],
      "execution_count": null,
      "outputs": []
    },
    {
      "cell_type": "markdown",
      "metadata": {
        "colab_type": "text",
        "id": "Ylng7215boIY"
      },
      "source": [
        "Sometimes the model doesn't even place the most weight on the input `T (degC)`. This is one of the risks of random initialization. "
      ]
    },
    {
      "cell_type": "markdown",
      "metadata": {
        "colab_type": "text",
        "id": "W18e6da1cNbw"
      },
      "source": [
        "### Dense\n",
        "\n",
        "Before applying models that actually operate on multiple time-steps, it's worth checking the performance of deeper, more powerful, single input step models.\n",
        "\n",
        "Here's a model similar to the `linear` model, except it stacks several a few `Dense` layers between the input and the output: "
      ]
    },
    {
      "cell_type": "code",
      "metadata": {
        "colab_type": "code",
        "id": "Z86WkYp7cNAD",
        "colab": {}
      },
      "source": [
        "dense = tf.keras.Sequential([\n",
        "    tf.keras.layers.Dense(units=64, activation='relu'),\n",
        "    tf.keras.layers.Dense(units=64, activation='relu'),\n",
        "    tf.keras.layers.Dense(units=1)\n",
        "])\n",
        "\n",
        "history = compile_and_fit(dense, single_step_window)\n",
        "\n",
        "val_performance['Dense'] = dense.evaluate(single_step_window.val)\n",
        "performance['Dense'] = dense.evaluate(single_step_window.test, verbose=0)"
      ],
      "execution_count": null,
      "outputs": []
    },
    {
      "cell_type": "markdown",
      "metadata": {
        "colab_type": "text",
        "id": "j5dv_whJdswH"
      },
      "source": [
        "### Multi-step dense\n",
        "\n",
        "A single-time-step model has no context for the current values of its inputs. It can't see how the input features are changing over time. To address this issue the model needs access to multiple time steps when making predictions:\n",
        "\n",
        "![Three time steps are used for each prediction.](https://github.com/tensorflow/docs/blob/master/site/en/tutorials/structured_data/images/conv_window.png?raw=1)\n"
      ]
    },
    {
      "cell_type": "markdown",
      "metadata": {
        "colab_type": "text",
        "id": "Zac-ti8agbJ7"
      },
      "source": [
        "The `baseline`, `linear` and `dense` models handled each time step independently. Here the model will take multiple time steps as input to produce a single output.\n",
        "\n",
        "Create a `WindowGenerator` that will produce batches of the 3h of inputs and, 1h of labels:"
      ]
    },
    {
      "cell_type": "markdown",
      "metadata": {
        "colab_type": "text",
        "id": "gtN4BwZ37niR"
      },
      "source": [
        "Note that the `Window`'s `shift` parameter is relative to the end of the two windows.\n",
        "\n"
      ]
    },
    {
      "cell_type": "code",
      "metadata": {
        "colab_type": "code",
        "id": "lBh0j5djUKY2",
        "colab": {}
      },
      "source": [
        "CONV_WIDTH = 3\n",
        "conv_window = WindowGenerator(\n",
        "    input_width=CONV_WIDTH,\n",
        "    label_width=1,\n",
        "    shift=1,\n",
        "    label_columns=['T (degC)'])\n",
        "\n",
        "conv_window"
      ],
      "execution_count": null,
      "outputs": []
    },
    {
      "cell_type": "code",
      "metadata": {
        "colab_type": "code",
        "id": "dCQ5gvs68Xkd",
        "colab": {}
      },
      "source": [
        "conv_window.plot()\n",
        "plt.title(\"Given 3h as input, predict 1h into the future.\")"
      ],
      "execution_count": null,
      "outputs": []
    },
    {
      "cell_type": "markdown",
      "metadata": {
        "colab_type": "text",
        "id": "We0HdMxKeqB_"
      },
      "source": [
        "You could train a `dense` model on a multiple-input-step window by adding a `layers.Flatten` as the first layer of the model:"
      ]
    },
    {
      "cell_type": "code",
      "metadata": {
        "colab_type": "code",
        "id": "oNQnUOkOnC1G",
        "colab": {}
      },
      "source": [
        "multi_step_dense = tf.keras.Sequential([\n",
        "    # Shape: (time, features) => (time*features)\n",
        "    tf.keras.layers.Flatten(),\n",
        "    tf.keras.layers.Dense(units=32, activation='relu'),\n",
        "    tf.keras.layers.Dense(units=32, activation='relu'),\n",
        "    tf.keras.layers.Dense(units=1),\n",
        "    # Add back the time dimension.\n",
        "    # Shape: (outputs) => (1, outputs)\n",
        "    tf.keras.layers.Reshape([1, -1]),\n",
        "])"
      ],
      "execution_count": null,
      "outputs": []
    },
    {
      "cell_type": "code",
      "metadata": {
        "colab_type": "code",
        "id": "cayD74luo4Vq",
        "colab": {}
      },
      "source": [
        "print('Input shape:', conv_window.example[0].shape)\n",
        "print('Output shape:', multi_step_dense(conv_window.example[0]).shape)"
      ],
      "execution_count": null,
      "outputs": []
    },
    {
      "cell_type": "code",
      "metadata": {
        "colab_type": "code",
        "id": "fu91yEbRo9-J",
        "colab": {}
      },
      "source": [
        "history = compile_and_fit(multi_step_dense, conv_window)\n",
        "\n",
        "IPython.display.clear_output()\n",
        "val_performance['Multi step dense'] = multi_step_dense.evaluate(conv_window.val)\n",
        "performance['Multi step dense'] = multi_step_dense.evaluate(conv_window.test, verbose=0)"
      ],
      "execution_count": null,
      "outputs": []
    },
    {
      "cell_type": "code",
      "metadata": {
        "colab_type": "code",
        "id": "tnqdXYT6pkEh",
        "colab": {}
      },
      "source": [
        "conv_window.plot(multi_step_dense)"
      ],
      "execution_count": null,
      "outputs": []
    },
    {
      "cell_type": "markdown",
      "metadata": {
        "colab_type": "text",
        "id": "gWfrsP8mq8lV"
      },
      "source": [
        "The main down-side of this approach is that the resulting model can only be executed on input wndows of exactly this shape. "
      ]
    },
    {
      "cell_type": "code",
      "metadata": {
        "colab_type": "code",
        "id": "j-q6tz5Yq8Jk",
        "colab": {}
      },
      "source": [
        "print('Input shape:', wide_window.example[0].shape)\n",
        "try:\n",
        "  print('Output shape:', multi_step_dense(wide_window.example[0]).shape)\n",
        "except Exception as e:\n",
        "  print(f'\\n{type(e).__name__}:{e}')"
      ],
      "execution_count": null,
      "outputs": []
    },
    {
      "cell_type": "markdown",
      "metadata": {
        "colab_type": "text",
        "id": "bvvajm3ip_8V"
      },
      "source": [
        "The convolutional models in the next section fix this problem."
      ]
    },
    {
      "cell_type": "markdown",
      "metadata": {
        "colab_type": "text",
        "id": "CrpU6gwSJome"
      },
      "source": [
        "### Convolution neural network\n",
        " \n",
        "A convolution layer (`layers.Conv1D`) also takes multiple time steps as input to each prediction."
      ]
    },
    {
      "cell_type": "markdown",
      "metadata": {
        "colab_type": "text",
        "id": "cdLBwoaHmsWb"
      },
      "source": [
        "Below is the **same** model as `multi_step_dense`, re-written with a convolution. \n",
        "\n",
        "Note the changes:\n",
        "* The `layers.Flatten` and the first `layers.Dense` are replaced by a `layers.Conv1D`.\n",
        "* The `layers.Reshape` is no longer necessary since the convolution keeps the time axis in its output."
      ]
    },
    {
      "cell_type": "code",
      "metadata": {
        "colab_type": "code",
        "id": "5azaMBj4ac9t",
        "colab": {}
      },
      "source": [
        "conv_model = tf.keras.Sequential([\n",
        "    tf.keras.layers.Conv1D(filters=32,\n",
        "                           kernel_size=(CONV_WIDTH,),\n",
        "                           activation='relu'),\n",
        "    tf.keras.layers.Dense(units=32, activation='relu'),\n",
        "    tf.keras.layers.Dense(units=1),\n",
        "])"
      ],
      "execution_count": null,
      "outputs": []
    },
    {
      "cell_type": "markdown",
      "metadata": {
        "colab_type": "text",
        "id": "ftaH6B5ECRiK"
      },
      "source": [
        "Run it on an example batch to see that the model produces outputs with the expected shape:"
      ]
    },
    {
      "cell_type": "code",
      "metadata": {
        "colab_type": "code",
        "id": "5YNgt1-e98lH",
        "colab": {}
      },
      "source": [
        "print(\"Conv model on `conv_window`\")\n",
        "print('Input shape:', conv_window.example[0].shape)\n",
        "print('Output shape:', conv_model(conv_window.example[0]).shape)"
      ],
      "execution_count": null,
      "outputs": []
    },
    {
      "cell_type": "markdown",
      "metadata": {
        "colab_type": "text",
        "id": "5m4kC-jGCY3x"
      },
      "source": [
        "Train and evaluate it on the ` conv_window` and it should give performance similar to the `multi_step_dense` model."
      ]
    },
    {
      "cell_type": "code",
      "metadata": {
        "colab_type": "code",
        "id": "QDVWdm4paUW7",
        "colab": {}
      },
      "source": [
        "history = compile_and_fit(conv_model, conv_window)\n",
        "\n",
        "IPython.display.clear_output()\n",
        "val_performance['Conv'] = conv_model.evaluate(conv_window.val)\n",
        "performance['Conv'] = conv_model.evaluate(conv_window.test, verbose=0)"
      ],
      "execution_count": null,
      "outputs": []
    },
    {
      "cell_type": "markdown",
      "metadata": {
        "colab_type": "text",
        "id": "sYRipDeXs0Kr"
      },
      "source": [
        "The difference between this `conv_model` and the `multi_step_dense` model is that the `conv_model` can be run on inputs on inputs of any length. The convolutional layer is applied to a sliding window of inputs:\n",
        "\n",
        "![Executing a convolutional model on a sequence](https://github.com/tensorflow/docs/blob/master/site/en/tutorials/structured_data/images/wide_conv_window.png?raw=1)\n",
        "\n",
        "If you run it on wider input, it produces wider output:"
      ]
    },
    {
      "cell_type": "code",
      "metadata": {
        "colab_type": "code",
        "id": "hoqccxx9r5jF",
        "colab": {}
      },
      "source": [
        "print(\"Wide window\")\n",
        "print('Input shape:', wide_window.example[0].shape)\n",
        "print('Labels shape:', wide_window.example[1].shape)\n",
        "print('Output shape:', conv_model(wide_window.example[0]).shape)"
      ],
      "execution_count": null,
      "outputs": []
    },
    {
      "cell_type": "markdown",
      "metadata": {
        "colab_type": "text",
        "id": "h_WGxtLIHhRF"
      },
      "source": [
        "Note that the output is shorter than the input. To make training or plotting work, you need the labels, and prediction to have the same length. So build a `WindowGenerator` to produce wide windows with a few extra input time steps so the label and prediction lengths match: "
      ]
    },
    {
      "cell_type": "code",
      "metadata": {
        "colab_type": "code",
        "id": "_VPvJ_VwTc0f",
        "colab": {}
      },
      "source": [
        "LABEL_WIDTH = 24\n",
        "INPUT_WIDTH = LABEL_WIDTH + (CONV_WIDTH - 1)\n",
        "wide_conv_window = WindowGenerator(\n",
        "    input_width=INPUT_WIDTH,\n",
        "    label_width=LABEL_WIDTH,\n",
        "    shift=1,\n",
        "    label_columns=['T (degC)'])\n",
        "\n",
        "wide_conv_window"
      ],
      "execution_count": null,
      "outputs": []
    },
    {
      "cell_type": "code",
      "metadata": {
        "colab_type": "code",
        "id": "gtqlWYXeKXej",
        "colab": {}
      },
      "source": [
        "print(\"Wide conv window\")\n",
        "print('Input shape:', wide_conv_window.example[0].shape)\n",
        "print('Labels shape:', wide_conv_window.example[1].shape)\n",
        "print('Output shape:', conv_model(wide_conv_window.example[0]).shape)"
      ],
      "execution_count": null,
      "outputs": []
    },
    {
      "cell_type": "markdown",
      "metadata": {
        "colab_type": "text",
        "id": "yzxbbS56cSBV"
      },
      "source": [
        "Now you can plot the model's predictions on a wider window. Note the 3 input time steps before the first prediction. Every prediction here is based on the 3 preceding timesteps:"
      ]
    },
    {
      "cell_type": "code",
      "metadata": {
        "colab_type": "code",
        "id": "gR7VyL45UuEe",
        "colab": {}
      },
      "source": [
        "wide_conv_window.plot(conv_model)"
      ],
      "execution_count": null,
      "outputs": []
    },
    {
      "cell_type": "markdown",
      "metadata": {
        "colab_type": "text",
        "id": "H4crpOcoMlSe"
      },
      "source": [
        "### Recurrent neural network\n",
        "\n",
        "A Recurrent Neural Network (RNN) is a type of neural network well-suited to time series data. RNNs process a time series step-by-step, maintaining an internal state from time-step to time-step.\n",
        "\n",
        "For more details, read the [text generation tutorial](https://www.tensorflow.org/tutorials/text/text_generation) or the [RNN guide](https://www.tensorflow.org/guide/keras/rnn). \n",
        "\n",
        "In this tutorial, you will use an RNN layer called Long Short Term Memory ([LSTM](https://www.tensorflow.org/versions/r2.0/api_docs/python/tf/keras/layers/LSTM))."
      ]
    },
    {
      "cell_type": "markdown",
      "metadata": {
        "colab_type": "text",
        "id": "vfQbHSMb1ATa"
      },
      "source": [
        "An important constructor argument for all keras RNN layers is the `return_sequences` argument. This setting can configure the layer in one of two ways.\n",
        "\n",
        "1. If `False`, the default, the layer only returns the output of the final timestep, giving the model time to warm up its internal state before making a single prediction: \n",
        "\n",
        "![An lstm warming up and making a single prediction](https://github.com/tensorflow/docs/blob/master/site/en/tutorials/structured_data/images/lstm_1_window.png?raw=1)\n",
        "\n",
        "2. If `True` the layer returns an output for each input. This is useful for:\n",
        "  * Stacking RNN layers. \n",
        "  * Training a model on multiple timesteps simultaneously.\n",
        "\n",
        "![An lstm making a prediction after every timestep](https://github.com/tensorflow/docs/blob/master/site/en/tutorials/structured_data/images/lstm_many_window.png?raw=1)"
      ]
    },
    {
      "cell_type": "code",
      "metadata": {
        "colab_type": "code",
        "id": "DXKLCJy8nWNU",
        "colab": {}
      },
      "source": [
        "lstm_model = tf.keras.models.Sequential([\n",
        "    # Shape [batch, time, features] => [batch, time, lstm_units]\n",
        "    tf.keras.layers.LSTM(32, return_sequences=True),\n",
        "    # Shape => [batch, time, features]\n",
        "    tf.keras.layers.Dense(units=1)\n",
        "])"
      ],
      "execution_count": null,
      "outputs": []
    },
    {
      "cell_type": "markdown",
      "metadata": {
        "colab_type": "text",
        "id": "F124B00KZcLC"
      },
      "source": [
        "With `return_sequences=True` the model can be trained on 24h of data at a time.\n",
        "\n",
        "Note: This will give a pessimistic view of the model's performance. On the first timestep the model has no access to previous steps, and so can't do any better than the simple `linear` and `dense` models shown earlier."
      ]
    },
    {
      "cell_type": "code",
      "metadata": {
        "colab_type": "code",
        "id": "eZEROCQVYV6q",
        "colab": {}
      },
      "source": [
        "print('Input shape:', wide_window.example[0].shape)\n",
        "print('Output shape:', lstm_model(wide_window.example[0]).shape)"
      ],
      "execution_count": null,
      "outputs": []
    },
    {
      "cell_type": "code",
      "metadata": {
        "colab_type": "code",
        "id": "uvdWRl1e9WJl",
        "colab": {}
      },
      "source": [
        "history = compile_and_fit(lstm_model, wide_window)\n",
        "\n",
        "IPython.display.clear_output()\n",
        "val_performance['LSTM'] = lstm_model.evaluate(wide_window.val)\n",
        "performance['LSTM'] = lstm_model.evaluate(wide_window.test, verbose=0)"
      ],
      "execution_count": null,
      "outputs": []
    },
    {
      "cell_type": "code",
      "metadata": {
        "colab_type": "code",
        "id": "NwAOWCVgB26e",
        "colab": {}
      },
      "source": [
        "wide_window.plot(lstm_model)"
      ],
      "execution_count": null,
      "outputs": []
    },
    {
      "cell_type": "markdown",
      "metadata": {
        "colab_type": "text",
        "id": "pYglOCKehi8F"
      },
      "source": [
        "### Performance"
      ]
    },
    {
      "cell_type": "markdown",
      "metadata": {
        "colab_type": "text",
        "id": "2pCk0_rwhi8H"
      },
      "source": [
        "With this dataset typically each of the models does slightly better than the one before it."
      ]
    },
    {
      "cell_type": "code",
      "metadata": {
        "colab_type": "code",
        "id": "JjEkt488hi8I",
        "colab": {}
      },
      "source": [
        "x = np.arange(len(performance))\n",
        "width = 0.3\n",
        "metric_name = 'mean_absolute_error'\n",
        "metric_index = lstm_model.metrics_names.index('mean_absolute_error')\n",
        "val_mae = [v[metric_index] for v in val_performance.values()]\n",
        "test_mae = [v[metric_index] for v in performance.values()]\n",
        "\n",
        "plt.ylabel('mean_absolute_error [T (degC), normalized]')\n",
        "plt.bar(x - 0.17, val_mae, width, label='Validation')\n",
        "plt.bar(x + 0.17, test_mae, width, label='Test')\n",
        "plt.xticks(ticks=x, labels=performance.keys(),\n",
        "           rotation=45)\n",
        "_ = plt.legend()"
      ],
      "execution_count": null,
      "outputs": []
    },
    {
      "cell_type": "code",
      "metadata": {
        "colab_type": "code",
        "id": "cBMCpsdphi8L",
        "colab": {}
      },
      "source": [
        "for name, value in performance.items():\n",
        "  print(f'{name:12s}: {value[1]:0.4f}')"
      ],
      "execution_count": null,
      "outputs": []
    },
    {
      "cell_type": "markdown",
      "metadata": {
        "colab_type": "text",
        "id": "b5rUJ_2YMWzG"
      },
      "source": [
        "### Multi-output models\n",
        "\n",
        "The models so far all predicted a single output feature, `T (degC)`, for a single time step.\n",
        "\n",
        "All of these models can be converted to predict multiple features just by changing the number of units in the output layer and adjusting the training windows to include all features in the `labels`.\n",
        "\n"
      ]
    },
    {
      "cell_type": "code",
      "metadata": {
        "colab_type": "code",
        "id": "9Gk0Z91xjOwv",
        "colab": {}
      },
      "source": [
        "single_step_window = WindowGenerator(\n",
        "    # `WindowGenerator` returns all features as labels if you \n",
        "    # don't set the `label_columns` argument.\n",
        "    input_width=1, label_width=1, shift=1)\n",
        "\n",
        "wide_window = WindowGenerator(\n",
        "    input_width=24, label_width=24, shift=1)\n",
        "\n",
        "for example_inputs, example_labels in wide_window.train.take(1):\n",
        "  print(f'Inputs shape (batch, time, features): {example_inputs.shape}')\n",
        "  print(f'Labels shape (batch, time, features): {example_labels.shape}')"
      ],
      "execution_count": null,
      "outputs": []
    },
    {
      "cell_type": "markdown",
      "metadata": {
        "colab_type": "text",
        "id": "XmcjHfDskX1N"
      },
      "source": [
        "Note above that the `features` axis of the labels now has the same depth as the inputs, instead of 1."
      ]
    },
    {
      "cell_type": "markdown",
      "metadata": {
        "colab_type": "text",
        "id": "9k7S5IHNhSNF"
      },
      "source": [
        "#### Baseline\n",
        "\n",
        "The same baseline model can be used here, but this time repeating all features instead of selecting a specific `label_index`."
      ]
    },
    {
      "cell_type": "code",
      "metadata": {
        "colab_type": "code",
        "id": "sqqB9W-pjr5i",
        "colab": {}
      },
      "source": [
        "baseline = Baseline()\n",
        "baseline.compile(loss=tf.losses.MeanSquaredError(),\n",
        "                 metrics=[tf.metrics.MeanAbsoluteError()])"
      ],
      "execution_count": null,
      "outputs": []
    },
    {
      "cell_type": "code",
      "metadata": {
        "colab_type": "code",
        "id": "ltQdgaqQjQWu",
        "colab": {}
      },
      "source": [
        "val_performance = {}\n",
        "performance = {}\n",
        "val_performance['Baseline'] = baseline.evaluate(wide_window.val)\n",
        "performance['Baseline'] = baseline.evaluate(wide_window.test, verbose=0)"
      ],
      "execution_count": null,
      "outputs": []
    },
    {
      "cell_type": "markdown",
      "metadata": {
        "colab_type": "text",
        "id": "dfbCrf5q3P6n"
      },
      "source": [
        "#### Dense"
      ]
    },
    {
      "cell_type": "code",
      "metadata": {
        "colab_type": "code",
        "id": "NdpzH1dYjdIN",
        "colab": {}
      },
      "source": [
        "dense = tf.keras.Sequential([\n",
        "    tf.keras.layers.Dense(units=64, activation='relu'),\n",
        "    tf.keras.layers.Dense(units=64, activation='relu'),\n",
        "    tf.keras.layers.Dense(units=num_features)\n",
        "])"
      ],
      "execution_count": null,
      "outputs": []
    },
    {
      "cell_type": "code",
      "metadata": {
        "colab_type": "code",
        "id": "6uHuU9Cd3PTo",
        "colab": {}
      },
      "source": [
        "history = compile_and_fit(dense, single_step_window)\n",
        "\n",
        "IPython.display.clear_output()\n",
        "val_performance['Dense'] = dense.evaluate(single_step_window.val)\n",
        "performance['Dense'] = dense.evaluate(single_step_window.test, verbose=0)"
      ],
      "execution_count": null,
      "outputs": []
    },
    {
      "cell_type": "markdown",
      "metadata": {
        "colab_type": "text",
        "id": "dsc9pur_mHsx"
      },
      "source": [
        "#### RNN\n",
        "\n"
      ]
    },
    {
      "cell_type": "code",
      "metadata": {
        "colab_type": "code",
        "id": "4QbGLMyomXaz",
        "colab": {}
      },
      "source": [
        "%%time\n",
        "wide_window = WindowGenerator(\n",
        "    input_width=24, label_width=24, shift=1)\n",
        "\n",
        "lstm_model = tf.keras.models.Sequential([\n",
        "    # Shape [batch, time, features] => [batch, time, lstm_units]\n",
        "    tf.keras.layers.LSTM(32, return_sequences=True),\n",
        "    # Shape => [batch, time, features]\n",
        "    tf.keras.layers.Dense(units=num_features)\n",
        "])\n",
        "\n",
        "history = compile_and_fit(lstm_model, wide_window)\n",
        "\n",
        "IPython.display.clear_output()\n",
        "val_performance['LSTM'] = lstm_model.evaluate( wide_window.val)\n",
        "performance['LSTM'] = lstm_model.evaluate( wide_window.test, verbose=0)\n",
        "\n",
        "print()"
      ],
      "execution_count": null,
      "outputs": []
    },
    {
      "cell_type": "markdown",
      "metadata": {
        "colab_type": "text",
        "id": "UwhY2f_Nn0_K"
      },
      "source": [
        "<a id=\"residual\"></a>\n",
        "\n",
        "#### Advanced: Residual connections\n",
        "\n",
        "The `Baseline` model from earlier took advantage of the fact that the sequence doesn't change drastically from time step to time step. Every model trained in this tutorial so far was randomly initialized, and then had to learn that the output is a a small change from the previous time step.\n",
        "\n",
        "While you can get around this issue with careful initialization, it's  simpler to build this into the model structure.\n",
        "\n",
        "It's common in time series analysis to build models that instead of predicting the next value, predict the how the value will change in the next timestep.\n",
        "Similarly, \"Residual networks\" or \"ResNets\" in deep learning refer to architectures where each layer adds to the model's accumulating result.\n",
        "\n",
        "That is how you take advantage of the knowledge that the change should be small.\n",
        "\n",
        "![A model with a residual connection](https://github.com/tensorflow/docs/blob/master/site/en/tutorials/structured_data/images/residual.png?raw=1)\n",
        "\n",
        "Essentially this initializes the model to match the `Baseline`. For this task it helps models converge faster, with slightly better performance."
      ]
    },
    {
      "cell_type": "markdown",
      "metadata": {
        "colab_type": "text",
        "id": "yP58A_ORx0kM"
      },
      "source": [
        "This approach can be used in conjunction with any model discussed in this tutorial. \n",
        "\n",
        "Here it is being applied to the LSTM model, note the use of the `tf.initializers.zeros` to ensure that the initial predicted changes are small, and don't overpower the residual connection. There are no symmetry-breaking concerns for the gradients here, since the `zeros` are only used on the last layer."
      ]
    },
    {
      "cell_type": "code",
      "metadata": {
        "colab_type": "code",
        "id": "7YlfnDQC22TQ",
        "colab": {}
      },
      "source": [
        "class ResidualWrapper(tf.keras.Model):\n",
        "  def __init__(self, model):\n",
        "    super().__init__()\n",
        "    self.model = model\n",
        "\n",
        "  def call(self, inputs, *args, **kwargs):\n",
        "    delta = self.model(inputs, *args, **kwargs)\n",
        "\n",
        "    # The prediction for each timestep is the input\n",
        "    # from the previous time step plus the delta\n",
        "    # calculated by the model.\n",
        "    return inputs + delta"
      ],
      "execution_count": null,
      "outputs": []
    },
    {
      "cell_type": "code",
      "metadata": {
        "colab_type": "code",
        "id": "NNeH02pspc9B",
        "colab": {}
      },
      "source": [
        "%%time\n",
        "residual_lstm = ResidualWrapper(\n",
        "    tf.keras.Sequential([\n",
        "    tf.keras.layers.LSTM(32, return_sequences=True),\n",
        "    tf.keras.layers.Dense(\n",
        "        num_features,\n",
        "        # The predicted deltas should start small\n",
        "        # So initialize the output layer with zeros\n",
        "        kernel_initializer=tf.initializers.zeros)\n",
        "]))\n",
        "\n",
        "history = compile_and_fit(residual_lstm, wide_window)\n",
        "\n",
        "IPython.display.clear_output()\n",
        "val_performance['Residual LSTM'] = residual_lstm.evaluate(wide_window.val)\n",
        "performance['Residual LSTM'] = residual_lstm.evaluate(wide_window.test, verbose=0)\n",
        "print()"
      ],
      "execution_count": null,
      "outputs": []
    },
    {
      "cell_type": "markdown",
      "metadata": {
        "colab_type": "text",
        "id": "I42Er9Du6co1"
      },
      "source": [
        "#### Performance"
      ]
    },
    {
      "cell_type": "markdown",
      "metadata": {
        "colab_type": "text",
        "id": "LZxR38P_6pUi"
      },
      "source": [
        "Here is the overall performance for these multi-output models."
      ]
    },
    {
      "cell_type": "code",
      "metadata": {
        "colab_type": "code",
        "id": "6XgTK9tnr7rc",
        "colab": {}
      },
      "source": [
        "x = np.arange(len(performance))\n",
        "width = 0.3\n",
        "\n",
        "metric_name = 'mean_absolute_error'\n",
        "metric_index = lstm_model.metrics_names.index('mean_absolute_error')\n",
        "val_mae = [v[metric_index] for v in val_performance.values()]\n",
        "test_mae = [v[metric_index] for v in performance.values()]\n",
        "\n",
        "plt.bar(x - 0.17, val_mae, width, label='Validation')\n",
        "plt.bar(x + 0.17, test_mae, width, label='Test')\n",
        "plt.xticks(ticks=x, labels=performance.keys(),\n",
        "           rotation=45)\n",
        "plt.ylabel('MAE (average over all outputs)')\n",
        "_ = plt.legend()"
      ],
      "execution_count": null,
      "outputs": []
    },
    {
      "cell_type": "code",
      "metadata": {
        "colab_type": "code",
        "id": "URz3ajCc6kBj",
        "colab": {}
      },
      "source": [
        "for name, value in performance.items():\n",
        "  print(f'{name:15s}: {value[1]:0.4f}')"
      ],
      "execution_count": null,
      "outputs": []
    },
    {
      "cell_type": "markdown",
      "metadata": {
        "colab_type": "text",
        "id": "_Vt2MJhNxwPU"
      },
      "source": [
        "The above performances are averaged across all model outputs."
      ]
    },
    {
      "cell_type": "markdown",
      "metadata": {
        "colab_type": "text",
        "id": "eYokb7Om2YbK"
      },
      "source": [
        "## Multi-step models\n",
        "\n",
        "Both the single-output and multiple-output models in the previous sections made **single time step predictions**, 1h into the future.\n",
        "\n",
        "This section looks at how to expand these models to make **multiple time step predictions**.\n",
        "\n",
        "In a multi-step prediction, the model needs to learn to predict a range of future values. Thus, unlike a single step model, where only a single future point is predicted, a multi-step model predicts a sequence of the future values.\n",
        "\n",
        "There are two rough approaches to this:\n",
        "\n",
        "1. Single shot predictions where the entire time series is predicted at once.\n",
        "2. Autoregressive predictions where the model only makes single step predictions and its output is fed back as its input.\n",
        "\n",
        "In this section all the models will predict **all the features across all output time steps**.\n",
        "\n"
      ]
    },
    {
      "cell_type": "markdown",
      "metadata": {
        "colab_type": "text",
        "id": "WFsDAwVt4_rq"
      },
      "source": [
        "For the multi-step model, the training data again consists of hourly samples. However, here, the models will learn to predict 24h of the future, given 24h of the past.\n",
        "\n",
        "Here is a `Window` object that generates these slices from the dataset:"
      ]
    },
    {
      "cell_type": "code",
      "metadata": {
        "colab_type": "code",
        "id": "1cFYtsz6XiGw",
        "colab": {}
      },
      "source": [
        "OUT_STEPS = 24\n",
        "multi_window = WindowGenerator(input_width=24,\n",
        "                               label_width=OUT_STEPS,\n",
        "                               shift=OUT_STEPS)\n",
        "\n",
        "multi_window.plot()\n",
        "multi_window"
      ],
      "execution_count": null,
      "outputs": []
    },
    {
      "cell_type": "markdown",
      "metadata": {
        "colab_type": "text",
        "id": "5lg8SInh9Jzd"
      },
      "source": [
        "### Baselines"
      ]
    },
    {
      "cell_type": "markdown",
      "metadata": {
        "colab_type": "text",
        "id": "axwpoWYOApJL"
      },
      "source": [
        "A simple baseline for this task is to repeat the last input time step for the required number of output timesteps:\n",
        "\n",
        "![Repeat the last input, for each output step](https://github.com/tensorflow/docs/blob/master/site/en/tutorials/structured_data/images/multistep_last.png?raw=1)"
      ]
    },
    {
      "cell_type": "code",
      "metadata": {
        "colab_type": "code",
        "id": "_5iaHSaJ9Rxv",
        "colab": {}
      },
      "source": [
        "class MultiStepLastBaseline(tf.keras.Model):\n",
        "  def call(self, inputs):\n",
        "    return tf.tile(inputs[:, -1:, :], [1, OUT_STEPS, 1])\n",
        "\n",
        "last_baseline = MultiStepLastBaseline()\n",
        "last_baseline.compile(loss=tf.losses.MeanSquaredError(),\n",
        "                      metrics=[tf.metrics.MeanAbsoluteError()])\n",
        "\n",
        "multi_val_performance = {}\n",
        "multi_performance = {}\n",
        "\n",
        "multi_val_performance['Last'] = last_baseline.evaluate(multi_window.val)\n",
        "multi_performance['Last'] = last_baseline.evaluate(multi_window.val, verbose=0)\n",
        "multi_window.plot(last_baseline)"
      ],
      "execution_count": null,
      "outputs": []
    },
    {
      "cell_type": "markdown",
      "metadata": {
        "colab_type": "text",
        "id": "AvHZ93ObAfMA"
      },
      "source": [
        "Since this task is to predict 24h given 24h another simple approach is to repeat the previous day, assuming tomorrow will be similar:\n",
        "\n",
        "![Repeat the previous day](https://github.com/tensorflow/docs/blob/master/site/en/tutorials/structured_data/images/multistep_repeat.png?raw=1)"
      ]
    },
    {
      "cell_type": "code",
      "metadata": {
        "colab_type": "code",
        "id": "L8Y1uMhGwIRs",
        "colab": {}
      },
      "source": [
        "class RepeatBaseline(tf.keras.Model):\n",
        "  def call(self, inputs):\n",
        "    return inputs\n",
        "\n",
        "repeat_baseline = RepeatBaseline()\n",
        "repeat_baseline.compile(loss=tf.losses.MeanSquaredError(),\n",
        "                        metrics=[tf.metrics.MeanAbsoluteError()])\n",
        "\n",
        "multi_val_performance['Repeat'] = repeat_baseline.evaluate(multi_window.val)\n",
        "multi_performance['Repeat'] = repeat_baseline.evaluate(multi_window.test, verbose=0)\n",
        "multi_window.plot(repeat_baseline)"
      ],
      "execution_count": null,
      "outputs": []
    },
    {
      "cell_type": "markdown",
      "metadata": {
        "colab_type": "text",
        "id": "tbndS-ct9C2Q"
      },
      "source": [
        "### Single-shot models\n",
        "\n",
        "One high level approach to this problem is use a \"single-shot\" model, where the model makes the entire sequence prediction in a single step.\n",
        "\n",
        "This can be implemented efficiently as a `layers.Dense` with `OUT_STEPS*features` output units. The model just needs to reshape that output to the required `(OUTPUT_STEPS, features)`."
      ]
    },
    {
      "cell_type": "markdown",
      "metadata": {
        "colab_type": "text",
        "id": "NCKS4m1VKrDQ"
      },
      "source": [
        "#### Linear\n",
        "\n",
        "A simple linear model based on the last input time step does better than either baseline, but is underpowered. The model needs to predict `OUTPUT_STEPS` time steps, from a single input time step with a linear projection. It can only capture a low-dimensional slice of the behavior, likely based mainly on the time of day and time of year.\n",
        "\n",
        "![Predct all timesteps from the last time-step](https://github.com/tensorflow/docs/blob/master/site/en/tutorials/structured_data/images/multistep_dense.png?raw=1)"
      ]
    },
    {
      "cell_type": "code",
      "metadata": {
        "colab_type": "code",
        "id": "kfRz_WVhIQcd",
        "colab": {}
      },
      "source": [
        "multi_linear_model = tf.keras.Sequential([\n",
        "    # Take the last time-step.\n",
        "    # Shape [batch, time, features] => [batch, 1, features]\n",
        "    tf.keras.layers.Lambda(lambda x: x[:, -1:, :]),\n",
        "    # Shape => [batch, 1, out_steps*features]\n",
        "    tf.keras.layers.Dense(OUT_STEPS*num_features,\n",
        "                          kernel_initializer=tf.initializers.zeros),\n",
        "    # Shape => [batch, out_steps, features]\n",
        "    tf.keras.layers.Reshape([OUT_STEPS, num_features])\n",
        "])\n",
        "\n",
        "history = compile_and_fit(multi_linear_model, multi_window)\n",
        "\n",
        "IPython.display.clear_output()\n",
        "multi_val_performance['Linear'] = multi_linear_model.evaluate(multi_window.val)\n",
        "multi_performance['Linear'] = multi_linear_model.evaluate(multi_window.test, verbose=0)\n",
        "multi_window.plot(multi_linear_model)"
      ],
      "execution_count": null,
      "outputs": []
    },
    {
      "cell_type": "markdown",
      "metadata": {
        "colab_type": "text",
        "id": "zi2TMHk2IRrh"
      },
      "source": [
        "#### Dense\n",
        "\n",
        "Adding a `layers.Dense` between the input and output gives the linear model more power, but is still only based on a single input timestep."
      ]
    },
    {
      "cell_type": "code",
      "metadata": {
        "colab_type": "code",
        "id": "jezm-BKaGj91",
        "colab": {}
      },
      "source": [
        "multi_dense_model = tf.keras.Sequential([\n",
        "    # Take the last time step.\n",
        "    # Shape [batch, time, features] => [batch, 1, features]\n",
        "    tf.keras.layers.Lambda(lambda x: x[:, -1:, :]),\n",
        "    # Shape => [batch, 1, dense_units]\n",
        "    tf.keras.layers.Dense(512, activation='relu'),\n",
        "    # Shape => [batch, out_steps*features]\n",
        "    tf.keras.layers.Dense(OUT_STEPS*num_features,\n",
        "                          kernel_initializer=tf.initializers.zeros),\n",
        "    # Shape => [batch, out_steps, features]\n",
        "    tf.keras.layers.Reshape([OUT_STEPS, num_features])\n",
        "])\n",
        "\n",
        "history = compile_and_fit(multi_dense_model, multi_window)\n",
        "\n",
        "IPython.display.clear_output()\n",
        "multi_val_performance['Dense'] = multi_dense_model.evaluate(multi_window.val)\n",
        "multi_performance['Dense'] = multi_dense_model.evaluate(multi_window.test, verbose=0)\n",
        "multi_window.plot(multi_dense_model)"
      ],
      "execution_count": null,
      "outputs": []
    },
    {
      "cell_type": "markdown",
      "metadata": {
        "colab_type": "text",
        "id": "icsBAjCzMaMl"
      },
      "source": [
        "#### CNN"
      ]
    },
    {
      "cell_type": "markdown",
      "metadata": {
        "colab_type": "text",
        "id": "34lCZrWYNBwd"
      },
      "source": [
        "A convolutional model makes predictions based on a fixed-width history, which may lead to better performance than the dense model since it can see how things are changing over time:\n",
        "\n",
        "![A convolutional model sees how things change over time](https://github.com/tensorflow/docs/blob/master/site/en/tutorials/structured_data/images/multistep_conv.png?raw=1)"
      ]
    },
    {
      "cell_type": "code",
      "metadata": {
        "colab_type": "code",
        "id": "0xJoIP6PMWMI",
        "colab": {}
      },
      "source": [
        "CONV_WIDTH = 3\n",
        "multi_conv_model = tf.keras.Sequential([\n",
        "    # Shape [batch, time, features] => [batch, CONV_WIDTH, features]\n",
        "    tf.keras.layers.Lambda(lambda x: x[:, -CONV_WIDTH:, :]),\n",
        "    # Shape => [batch, 1, conv_units]\n",
        "    tf.keras.layers.Conv1D(256, activation='relu', kernel_size=(CONV_WIDTH)),\n",
        "    # Shape => [batch, 1,  out_steps*features]\n",
        "    tf.keras.layers.Dense(OUT_STEPS*num_features,\n",
        "                          kernel_initializer=tf.initializers.zeros),\n",
        "    # Shape => [batch, out_steps, features]\n",
        "    tf.keras.layers.Reshape([OUT_STEPS, num_features])\n",
        "])\n",
        "\n",
        "history = compile_and_fit(multi_conv_model, multi_window)\n",
        "\n",
        "IPython.display.clear_output()\n",
        "\n",
        "multi_val_performance['Conv'] = multi_conv_model.evaluate(multi_window.val)\n",
        "multi_performance['Conv'] = multi_conv_model.evaluate(multi_window.test, verbose=0)\n",
        "multi_window.plot(multi_conv_model)"
      ],
      "execution_count": null,
      "outputs": []
    },
    {
      "cell_type": "markdown",
      "metadata": {
        "colab_type": "text",
        "id": "weBjeZAFJOP4"
      },
      "source": [
        "#### RNN"
      ]
    },
    {
      "cell_type": "markdown",
      "metadata": {
        "colab_type": "text",
        "id": "8022xOKxOO92"
      },
      "source": [
        "A recurrent model can learn to use a long history of inputs, if it's relevant to the predictions the model is making. Here the model will accumulate internal state for 24h, before making a single prediction for the next 24h.\n",
        "\n",
        "In this single-shot format, the LSTM only needs to produce an output at the last time step, so set `return_sequences=False`.\n",
        "\n",
        "![The lstm accumulates state over the input window, and makes a single prediction for the next 24h](https://github.com/tensorflow/docs/blob/master/site/en/tutorials/structured_data/images/multistep_lstm.png?raw=1)\n"
      ]
    },
    {
      "cell_type": "code",
      "metadata": {
        "colab_type": "code",
        "id": "Bf1ks6RTzF64",
        "colab": {}
      },
      "source": [
        "multi_lstm_model = tf.keras.Sequential([\n",
        "    # Shape [batch, time, features] => [batch, lstm_units]\n",
        "    # Adding more `lstm_units` just overfits more quickly.\n",
        "    tf.keras.layers.LSTM(32, return_sequences=False),\n",
        "    # Shape => [batch, out_steps*features]\n",
        "    tf.keras.layers.Dense(OUT_STEPS*num_features,\n",
        "                          kernel_initializer=tf.initializers.zeros),\n",
        "    # Shape => [batch, out_steps, features]\n",
        "    tf.keras.layers.Reshape([OUT_STEPS, num_features])\n",
        "])\n",
        "\n",
        "history = compile_and_fit(multi_lstm_model, multi_window)\n",
        "\n",
        "IPython.display.clear_output()\n",
        "\n",
        "multi_val_performance['LSTM'] = multi_lstm_model.evaluate(multi_window.val)\n",
        "multi_performance['LSTM'] = multi_lstm_model.evaluate(multi_window.train, verbose=0)\n",
        "multi_window.plot(multi_lstm_model)"
      ],
      "execution_count": null,
      "outputs": []
    },
    {
      "cell_type": "markdown",
      "metadata": {
        "colab_type": "text",
        "id": "d5n-1cDW12Vo"
      },
      "source": [
        "### Advanced: Autoregressive model\n",
        "\n",
        "The above models all predict the entire output sequence as a in a single step.\n",
        "\n",
        "In some cases it may be helpful for the model to decompose this prediction into individual time steps. Then each model's output can be fed back into itself at each step and predictions can be made conditioned on the previous one, like in the classic [Generating Sequences With Recurrent Neural Networks](https://arxiv.org/abs/1308.0850).\n",
        "\n",
        "One clear advantage to this style of model is that it can be set up to produce output with a varying length.\n",
        "\n",
        "You could take any of single single-step multi-output models trained in the first half of this tutorial and run  in an autoregressive feedback loop, but here we'll focus on building a model that's been explicitly trained to do that.\n",
        "\n",
        "![Feedback a model's output to its input](https://github.com/tensorflow/docs/blob/master/site/en/tutorials/structured_data/images/multistep_autoregressive.png?raw=1)\n",
        "\n",
        "\n"
      ]
    },
    {
      "cell_type": "markdown",
      "metadata": {
        "colab_type": "text",
        "id": "PKRreBbULRXY"
      },
      "source": [
        "#### RNN\n",
        "\n",
        "This tutorial only builds an autoregressive RNN model, but this pattern could be applied to any model that was designed to output a single timestep.\n",
        "\n",
        "The model will have the same basic form as the single-step `LSTM` models: An `LSTM` followed by a `layers.Dense` that converts the `LSTM` outputs to model predictions.\n",
        "\n",
        "A `layers.LSTM` is a `layers.LSTMCell` wrapped in the higher level `layers.RNN` that manages the state and sequence results for you (See [Keras RNNs](https://www.tensorflow.org/guide/keras/rnn) for details).\n",
        "\n",
        "In this case the model has to manually manage the inputs for each step so it uses `layers.LSTMCell` directly for the lower level, single time step interface."
      ]
    },
    {
      "cell_type": "code",
      "metadata": {
        "colab_type": "code",
        "id": "s5tz3Nu0R5JG",
        "colab": {}
      },
      "source": [
        "class FeedBack(tf.keras.Model):\n",
        "  def __init__(self, units, out_steps):\n",
        "    super().__init__()\n",
        "    self.out_steps = out_steps\n",
        "    self.units = units\n",
        "    self.lstm_cell = tf.keras.layers.LSTMCell(units)\n",
        "    # Also wrap the LSTMCell in an RNN to simplify the `warmup` method.\n",
        "    self.lstm_rnn = tf.keras.layers.RNN(self.lstm_cell, return_state=True)\n",
        "    self.dense = tf.keras.layers.Dense(num_features)"
      ],
      "execution_count": null,
      "outputs": []
    },
    {
      "cell_type": "code",
      "metadata": {
        "colab_type": "code",
        "id": "2OXVM9G1U7xR",
        "colab": {}
      },
      "source": [
        "feedback_model = FeedBack(units=32, out_steps=OUT_STEPS)"
      ],
      "execution_count": null,
      "outputs": []
    },
    {
      "cell_type": "markdown",
      "metadata": {
        "colab_type": "text",
        "id": "ph5uFSfTUNho"
      },
      "source": [
        "The first method this model needs is a `warmup` method to initialize is its internal state based on the inputs. Once trained this state will capture the relevant parts of the input history. This is equivalent to the single-step `LSTM` model from earlier:"
      ]
    },
    {
      "cell_type": "code",
      "metadata": {
        "colab_type": "code",
        "id": "vM2K_LLdRjDZ",
        "colab": {}
      },
      "source": [
        "def warmup(self, inputs):\n",
        "  # inputs.shape => (batch, time, features)\n",
        "  # x.shape => (batch, lstm_units)\n",
        "  x, *state = self.lstm_rnn(inputs)\n",
        "\n",
        "  # predictions.shape => (batch, features)\n",
        "  prediction = self.dense(x)\n",
        "  return prediction, state\n",
        "\n",
        "FeedBack.warmup = warmup"
      ],
      "execution_count": null,
      "outputs": []
    },
    {
      "cell_type": "markdown",
      "metadata": {
        "colab_type": "text",
        "id": "6JkaSYaZ9eB7"
      },
      "source": [
        "This method returns a single time-step prediction, and the internal state of the LSTM:"
      ]
    },
    {
      "cell_type": "code",
      "metadata": {
        "colab_type": "code",
        "id": "w9Fz6NTKXXwU",
        "colab": {}
      },
      "source": [
        "prediction, state = feedback_model.warmup(multi_window.example[0])\n",
        "prediction.shape"
      ],
      "execution_count": null,
      "outputs": []
    },
    {
      "cell_type": "markdown",
      "metadata": {
        "colab_type": "text",
        "id": "S_ZdvPjdX3y3"
      },
      "source": [
        "With the `RNN`'s state, and an initial prediction you can now continue iterating the model feeding the predictions at each step back as the input.\n",
        "\n",
        "The simplest approach to collecting the output predictions is to use a python list, and `tf.stack` after the loop."
      ]
    },
    {
      "cell_type": "markdown",
      "metadata": {
        "colab_type": "text",
        "id": "yotTad3nZXQU"
      },
      "source": [
        "Note: Stacking a python list like this only works with eager-execution, using `Model.compile(..., run_eagerly=True)` for training, or with a fixed length output. For a dynamic output length you would need to use a `tf.TensorArray` instead of a python list, and `tf.range` instead of the python `range`."
      ]
    },
    {
      "cell_type": "code",
      "metadata": {
        "colab_type": "code",
        "id": "g1GRDu3mZtr9",
        "colab": {}
      },
      "source": [
        "def call(self, inputs, training=None):\n",
        "  # Use a TensorArray to capture dynamically unrolled outputs.\n",
        "  predictions = []\n",
        "  # Initialize the lstm state\n",
        "  prediction, state = self.warmup(inputs)\n",
        "\n",
        "  # Insert the first prediction\n",
        "  predictions.append(prediction)\n",
        "\n",
        "  # Run the rest of the prediction steps\n",
        "  for n in range(1, self.out_steps):\n",
        "    # Use the last prediction as input.\n",
        "    x = prediction\n",
        "    # Execute one lstm step.\n",
        "    x, state = self.lstm_cell(x, states=state,\n",
        "                              training=training)\n",
        "    # Convert the lstm output to a prediction.\n",
        "    prediction = self.dense(x)\n",
        "    # Add the prediction to the output\n",
        "    predictions.append(prediction)\n",
        "\n",
        "  # predictions.shape => (time, batch, features)\n",
        "  predictions = tf.stack(predictions)\n",
        "  # predictions.shape => (batch, time, features)\n",
        "  predictions = tf.transpose(predictions, [1, 0, 2])\n",
        "  return predictions\n",
        "\n",
        "FeedBack.call = call"
      ],
      "execution_count": null,
      "outputs": []
    },
    {
      "cell_type": "markdown",
      "metadata": {
        "colab_type": "text",
        "id": "Ubop-YWp15XW"
      },
      "source": [
        "Test run this model on the example inputs:"
      ]
    },
    {
      "cell_type": "code",
      "metadata": {
        "colab_type": "code",
        "id": "Xja83zEYaM2D",
        "colab": {}
      },
      "source": [
        "print('Output shape (batch, time, features): ', feedback_model(multi_window.example[0]).shape)"
      ],
      "execution_count": null,
      "outputs": []
    },
    {
      "cell_type": "markdown",
      "metadata": {
        "colab_type": "text",
        "id": "qMs0rYB8be9M"
      },
      "source": [
        "Now train the model:"
      ]
    },
    {
      "cell_type": "code",
      "metadata": {
        "colab_type": "code",
        "id": "VBRVG2hnNyrO",
        "colab": {}
      },
      "source": [
        "history = compile_and_fit(feedback_model, multi_window)\n",
        "\n",
        "IPython.display.clear_output()\n",
        "\n",
        "multi_val_performance['AR LSTM'] = feedback_model.evaluate(multi_window.val)\n",
        "multi_performance['AR LSTM'] = feedback_model.evaluate(multi_window.test, verbose=0)\n",
        "multi_window.plot(feedback_model)"
      ],
      "execution_count": null,
      "outputs": []
    },
    {
      "cell_type": "markdown",
      "metadata": {
        "colab_type": "text",
        "id": "hGjcJsAQJUkI"
      },
      "source": [
        "### Performance"
      ]
    },
    {
      "cell_type": "markdown",
      "metadata": {
        "colab_type": "text",
        "id": "sODAwr2ndtDB"
      },
      "source": [
        "There are clearly diminishing returns as a function of model complexity on this problem."
      ]
    },
    {
      "cell_type": "code",
      "metadata": {
        "colab_type": "code",
        "id": "WZwWBA8S6B3L",
        "colab": {}
      },
      "source": [
        "x = np.arange(len(multi_performance))\n",
        "width = 0.3\n",
        "\n",
        "\n",
        "metric_name = 'mean_absolute_error'\n",
        "metric_index = lstm_model.metrics_names.index('mean_absolute_error')\n",
        "val_mae = [v[metric_index] for v in multi_val_performance.values()]\n",
        "test_mae = [v[metric_index] for v in multi_performance.values()]\n",
        "\n",
        "plt.bar(x - 0.17, val_mae, width, label='Validation')\n",
        "plt.bar(x + 0.17, test_mae, width, label='Test')\n",
        "plt.xticks(ticks=x, labels=multi_performance.keys(),\n",
        "           rotation=45)\n",
        "plt.ylabel(f'MAE (average over all times and outputs)')\n",
        "_ = plt.legend()"
      ],
      "execution_count": null,
      "outputs": []
    },
    {
      "cell_type": "markdown",
      "metadata": {
        "colab_type": "text",
        "id": "Zq3hUsedCEmJ"
      },
      "source": [
        "The metrics for the multi-output models in the first half of this tutorial show the performance averaged across all output features. These performances similar but also averaged across output timesteps. "
      ]
    },
    {
      "cell_type": "code",
      "metadata": {
        "colab_type": "code",
        "id": "jKq3eAIvH4Db",
        "colab": {}
      },
      "source": [
        "for name, value in multi_performance.items():\n",
        "  print(f'{name:8s}: {value[1]:0.4f}')"
      ],
      "execution_count": null,
      "outputs": []
    },
    {
      "cell_type": "markdown",
      "metadata": {
        "colab_type": "text",
        "id": "MpBFwfnaHP23"
      },
      "source": [
        "The gains achieved going from a dense model to convolutional and recurrent models are only a few percent (if any), and the autoregressive model performed clearly worse. So these more complex approaches may not be worth while on **this** problem, but there was no way to know without trying, and these models could be helpful for **your** problem."
      ]
    },
    {
      "cell_type": "markdown",
      "metadata": {
        "colab_type": "text",
        "id": "pOzaIRYBhqwg"
      },
      "source": [
        "## Next steps\n",
        "\n",
        "This tutorial was a quick introduction to time series forecasting using TensorFlow.\n",
        "\n",
        "* For further understanding, see:\n",
        "  * Chapter 15 of [Hands-on Machine Learning with Scikit-Learn, Keras, and TensorFlow](https://www.oreilly.com/library/view/hands-on-machine-learning/9781492032632/), 2nd Edition \n",
        "  * Chapter 6 of [Deep Learning with Python](https://www.manning.com/books/deep-learning-with-python).\n",
        "  * Lesson 8 of [Udacity's intro to TensorFlow for deep learning](https://www.udacity.com/course/intro-to-tensorflow-for-deep-learning--ud187), and the [exercise notebooks](https://github.com/tensorflow/examples/tree/master/courses/udacity_intro_to_tensorflow_for_deep_learning) \n",
        "* Also remember that you can implement any [classical time series model](https://otexts.com/fpp2/index.html) in TensorFlow, this tutorial just focuses on TensdorFlow's built-in functionality."
      ]
    }
  ]
}