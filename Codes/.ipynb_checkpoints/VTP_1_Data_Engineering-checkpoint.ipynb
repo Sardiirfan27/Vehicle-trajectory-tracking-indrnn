{
 "cells": [
  {
   "cell_type": "markdown",
   "metadata": {
    "colab_type": "text",
    "id": "pa49bUnKyRgF"
   },
   "source": [
    "# Data treatment\n",
    "---"
   ]
  },
  {
   "cell_type": "markdown",
   "metadata": {
    "colab_type": "text",
    "id": "GU8C5qm_4vZb"
   },
   "source": [
    "Data treatment for model 1\n",
    "Features:\n",
    "- local lateral position Local_X, to account for different behaviors depending on the driving lane,\n",
    "- local longitudinal position Local_Y, to account for different behaviors when approaching the merging lane,\n",
    "- lateral and longitudinal velocities vx and vy,\n",
    "- type (motorcycle, car or truck)"
   ]
  },
  {
   "cell_type": "markdown",
   "metadata": {
    "colab_type": "text",
    "id": "XVhK72Pu1cJL"
   },
   "source": [
    "## Load data set"
   ]
  },
  {
   "cell_type": "code",
   "execution_count": 1,
   "metadata": {
    "ExecuteTime": {
     "end_time": "2020-08-13T15:14:55.571027Z",
     "start_time": "2020-08-13T15:14:44.743741Z"
    },
    "colab": {
     "base_uri": "https://localhost:8080/",
     "height": 51
    },
    "colab_type": "code",
    "id": "7rZnJaGTWQw0",
    "outputId": "3f22219f-59fb-4c4d-8e17-55adedf1f35e"
   },
   "outputs": [
    {
     "ename": "NameError",
     "evalue": "name 'mpl' is not defined",
     "output_type": "error",
     "traceback": [
      "\u001b[1;31m---------------------------------------------------------------------------\u001b[0m",
      "\u001b[1;31mNameError\u001b[0m                                 Traceback (most recent call last)",
      "\u001b[1;32m<ipython-input-1-4b8359d7a3d4>\u001b[0m in \u001b[0;36m<module>\u001b[1;34m\u001b[0m\n\u001b[0;32m      5\u001b[0m \u001b[1;32mimport\u001b[0m \u001b[0mtensorflow\u001b[0m \u001b[1;32mas\u001b[0m \u001b[0mtf\u001b[0m\u001b[1;33m\u001b[0m\u001b[1;33m\u001b[0m\u001b[0m\n\u001b[0;32m      6\u001b[0m \u001b[1;33m\u001b[0m\u001b[0m\n\u001b[1;32m----> 7\u001b[1;33m \u001b[0mmpl\u001b[0m\u001b[1;33m.\u001b[0m\u001b[0mrcParams\u001b[0m\u001b[1;33m[\u001b[0m\u001b[1;34m'figure.figsize'\u001b[0m\u001b[1;33m]\u001b[0m \u001b[1;33m=\u001b[0m \u001b[1;33m(\u001b[0m\u001b[1;36m8\u001b[0m\u001b[1;33m,\u001b[0m \u001b[1;36m6\u001b[0m\u001b[1;33m)\u001b[0m\u001b[1;33m\u001b[0m\u001b[1;33m\u001b[0m\u001b[0m\n\u001b[0m",
      "\u001b[1;31mNameError\u001b[0m: name 'mpl' is not defined"
     ]
    }
   ],
   "source": [
    "import matplotlib.pyplot as plt\n",
    "import numpy as np\n",
    "import pandas as pd\n",
    "import seaborn as sns\n",
    "import tensorflow as tf\n",
    "\n",
    "mpl.rcParams['figure.figsize'] = (8, 6)"
   ]
  },
  {
   "cell_type": "markdown",
   "metadata": {
    "colab_type": "text",
    "id": "TokBlnUhWFw9"
   },
   "source": [
    "## Load dataset"
   ]
  },
  {
   "cell_type": "code",
   "execution_count": 3,
   "metadata": {
    "ExecuteTime": {
     "end_time": "2020-08-13T15:15:03.193403Z",
     "start_time": "2020-08-13T15:15:01.271151Z"
    },
    "colab": {
     "base_uri": "https://localhost:8080/",
     "height": 69
    },
    "colab_type": "code",
    "id": "R6vKGxODhB-M",
    "outputId": "e3d2e207-b868-47fc-fe3f-0cc79751dd86"
   },
   "outputs": [
    {
     "data": {
      "text/plain": [
       "'C:\\\\Users\\\\DuongHung\\\\.keras\\\\datasets\\\\0750_0805_us101_smoothed_11_.csv'"
      ]
     },
     "execution_count": 3,
     "metadata": {},
     "output_type": "execute_result"
    }
   ],
   "source": [
    "url_1 = 'https://github.com/duonghung86/Vehicle-trajectory-tracking/raw/master/Data/NGSIM/0750_0805_us101_smoothed_11_.zip'\n",
    "zip_path = tf.keras.utils.get_file(origin=url_1, fname=url_1.split('/')[-1], extract=True)\n",
    "csv_path = zip_path.replace('zip','csv')\n",
    "csv_path"
   ]
  },
  {
   "cell_type": "markdown",
   "metadata": {
    "colab_type": "text",
    "id": "VdbOWXiTWM2T"
   },
   "source": [
    "Let's take a glance at the data. Here are the first few rows:"
   ]
  },
  {
   "cell_type": "code",
   "execution_count": 4,
   "metadata": {
    "ExecuteTime": {
     "end_time": "2020-08-13T15:15:06.965429Z",
     "start_time": "2020-08-13T15:15:03.197413Z"
    },
    "colab": {
     "base_uri": "https://localhost:8080/",
     "height": 649
    },
    "colab_type": "code",
    "id": "TX6uGeeeWIkG",
    "outputId": "b3c51baf-f0a0-475c-c4bb-fff900229bba"
   },
   "outputs": [
    {
     "name": "stdout",
     "output_type": "stream",
     "text": [
      "<class 'pandas.core.frame.DataFrame'>\n",
      "RangeIndex: 1048575 entries, 0 to 1048574\n",
      "Data columns (total 18 columns):\n",
      " #   Column        Non-Null Count    Dtype  \n",
      "---  ------        --------------    -----  \n",
      " 0   Vehicle_ID    1048575 non-null  int64  \n",
      " 1   Frame_ID      1048575 non-null  int64  \n",
      " 2   Total_Frames  1048575 non-null  int64  \n",
      " 3   Global_Time   1048575 non-null  int64  \n",
      " 4   Local_X       1048575 non-null  float64\n",
      " 5   Local_Y       1048575 non-null  float64\n",
      " 6   Global_X      1048575 non-null  float64\n",
      " 7   Global_Y      1048575 non-null  float64\n",
      " 8   v_Length      1048575 non-null  float64\n",
      " 9   v_Width       1048575 non-null  float64\n",
      " 10  v_Class       1048575 non-null  int64  \n",
      " 11  v_Vel         1048575 non-null  float64\n",
      " 12  v_Acc         1048575 non-null  float64\n",
      " 13  Lane_ID       1048575 non-null  int64  \n",
      " 14  Preceeding    1048575 non-null  int64  \n",
      " 15  Following     1048575 non-null  int64  \n",
      " 16  Space_Hdwy    1048575 non-null  float64\n",
      " 17  Time_Hdwy     1048575 non-null  float64\n",
      "dtypes: float64(10), int64(8)\n",
      "memory usage: 144.0 MB\n"
     ]
    },
    {
     "data": {
      "text/html": [
       "<div>\n",
       "<style scoped>\n",
       "    .dataframe tbody tr th:only-of-type {\n",
       "        vertical-align: middle;\n",
       "    }\n",
       "\n",
       "    .dataframe tbody tr th {\n",
       "        vertical-align: top;\n",
       "    }\n",
       "\n",
       "    .dataframe thead th {\n",
       "        text-align: right;\n",
       "    }\n",
       "</style>\n",
       "<table border=\"1\" class=\"dataframe\">\n",
       "  <thead>\n",
       "    <tr style=\"text-align: right;\">\n",
       "      <th></th>\n",
       "      <th>Vehicle_ID</th>\n",
       "      <th>Frame_ID</th>\n",
       "      <th>Total_Frames</th>\n",
       "      <th>Global_Time</th>\n",
       "      <th>Local_X</th>\n",
       "      <th>Local_Y</th>\n",
       "      <th>Global_X</th>\n",
       "      <th>Global_Y</th>\n",
       "      <th>v_Length</th>\n",
       "      <th>v_Width</th>\n",
       "      <th>v_Class</th>\n",
       "      <th>v_Vel</th>\n",
       "      <th>v_Acc</th>\n",
       "      <th>Lane_ID</th>\n",
       "      <th>Preceeding</th>\n",
       "      <th>Following</th>\n",
       "      <th>Space_Hdwy</th>\n",
       "      <th>Time_Hdwy</th>\n",
       "    </tr>\n",
       "  </thead>\n",
       "  <tbody>\n",
       "    <tr>\n",
       "      <th>0</th>\n",
       "      <td>2</td>\n",
       "      <td>13</td>\n",
       "      <td>437</td>\n",
       "      <td>1118846980200</td>\n",
       "      <td>16.467196</td>\n",
       "      <td>35.380427</td>\n",
       "      <td>6451137.641</td>\n",
       "      <td>1873344.962</td>\n",
       "      <td>14.5</td>\n",
       "      <td>4.9</td>\n",
       "      <td>2</td>\n",
       "      <td>40.000000</td>\n",
       "      <td>0.000000</td>\n",
       "      <td>2</td>\n",
       "      <td>0</td>\n",
       "      <td>0</td>\n",
       "      <td>0.0</td>\n",
       "      <td>0.0</td>\n",
       "    </tr>\n",
       "    <tr>\n",
       "      <th>1</th>\n",
       "      <td>2</td>\n",
       "      <td>14</td>\n",
       "      <td>437</td>\n",
       "      <td>1118846980300</td>\n",
       "      <td>16.446594</td>\n",
       "      <td>39.381608</td>\n",
       "      <td>6451140.329</td>\n",
       "      <td>1873342.000</td>\n",
       "      <td>14.5</td>\n",
       "      <td>4.9</td>\n",
       "      <td>2</td>\n",
       "      <td>40.012349</td>\n",
       "      <td>0.123485</td>\n",
       "      <td>2</td>\n",
       "      <td>0</td>\n",
       "      <td>0</td>\n",
       "      <td>0.0</td>\n",
       "      <td>0.0</td>\n",
       "    </tr>\n",
       "    <tr>\n",
       "      <th>2</th>\n",
       "      <td>2</td>\n",
       "      <td>15</td>\n",
       "      <td>437</td>\n",
       "      <td>1118846980400</td>\n",
       "      <td>16.425991</td>\n",
       "      <td>43.381541</td>\n",
       "      <td>6451143.018</td>\n",
       "      <td>1873339.038</td>\n",
       "      <td>14.5</td>\n",
       "      <td>4.9</td>\n",
       "      <td>2</td>\n",
       "      <td>39.999855</td>\n",
       "      <td>-0.124939</td>\n",
       "      <td>2</td>\n",
       "      <td>0</td>\n",
       "      <td>0</td>\n",
       "      <td>0.0</td>\n",
       "      <td>0.0</td>\n",
       "    </tr>\n",
       "    <tr>\n",
       "      <th>3</th>\n",
       "      <td>2</td>\n",
       "      <td>16</td>\n",
       "      <td>437</td>\n",
       "      <td>1118846980500</td>\n",
       "      <td>16.405392</td>\n",
       "      <td>47.380780</td>\n",
       "      <td>6451145.706</td>\n",
       "      <td>1873336.077</td>\n",
       "      <td>14.5</td>\n",
       "      <td>4.9</td>\n",
       "      <td>2</td>\n",
       "      <td>39.992920</td>\n",
       "      <td>-0.069349</td>\n",
       "      <td>2</td>\n",
       "      <td>0</td>\n",
       "      <td>0</td>\n",
       "      <td>0.0</td>\n",
       "      <td>0.0</td>\n",
       "    </tr>\n",
       "    <tr>\n",
       "      <th>4</th>\n",
       "      <td>2</td>\n",
       "      <td>17</td>\n",
       "      <td>437</td>\n",
       "      <td>1118846980600</td>\n",
       "      <td>16.384804</td>\n",
       "      <td>51.379881</td>\n",
       "      <td>6451148.395</td>\n",
       "      <td>1873333.115</td>\n",
       "      <td>14.5</td>\n",
       "      <td>4.9</td>\n",
       "      <td>2</td>\n",
       "      <td>39.991544</td>\n",
       "      <td>-0.013759</td>\n",
       "      <td>2</td>\n",
       "      <td>0</td>\n",
       "      <td>0</td>\n",
       "      <td>0.0</td>\n",
       "      <td>0.0</td>\n",
       "    </tr>\n",
       "  </tbody>\n",
       "</table>\n",
       "</div>"
      ],
      "text/plain": [
       "   Vehicle_ID  Frame_ID  Total_Frames    Global_Time    Local_X    Local_Y  \\\n",
       "0           2        13           437  1118846980200  16.467196  35.380427   \n",
       "1           2        14           437  1118846980300  16.446594  39.381608   \n",
       "2           2        15           437  1118846980400  16.425991  43.381541   \n",
       "3           2        16           437  1118846980500  16.405392  47.380780   \n",
       "4           2        17           437  1118846980600  16.384804  51.379881   \n",
       "\n",
       "      Global_X     Global_Y  v_Length  v_Width  v_Class      v_Vel     v_Acc  \\\n",
       "0  6451137.641  1873344.962      14.5      4.9        2  40.000000  0.000000   \n",
       "1  6451140.329  1873342.000      14.5      4.9        2  40.012349  0.123485   \n",
       "2  6451143.018  1873339.038      14.5      4.9        2  39.999855 -0.124939   \n",
       "3  6451145.706  1873336.077      14.5      4.9        2  39.992920 -0.069349   \n",
       "4  6451148.395  1873333.115      14.5      4.9        2  39.991544 -0.013759   \n",
       "\n",
       "   Lane_ID  Preceeding  Following  Space_Hdwy  Time_Hdwy  \n",
       "0        2           0          0         0.0        0.0  \n",
       "1        2           0          0         0.0        0.0  \n",
       "2        2           0          0         0.0        0.0  \n",
       "3        2           0          0         0.0        0.0  \n",
       "4        2           0          0         0.0        0.0  "
      ]
     },
     "execution_count": 4,
     "metadata": {},
     "output_type": "execute_result"
    }
   ],
   "source": [
    "df = pd.read_csv(csv_path)\n",
    "df.info()\n",
    "df.head()"
   ]
  },
  {
   "cell_type": "code",
   "execution_count": 5,
   "metadata": {
    "ExecuteTime": {
     "end_time": "2020-08-13T15:15:24.365720Z",
     "start_time": "2020-08-13T15:15:22.898722Z"
    },
    "colab": {
     "base_uri": "https://localhost:8080/",
     "height": 607
    },
    "colab_type": "code",
    "id": "h510pgKVrrai",
    "outputId": "89a54156-f7af-4171-b1bb-85b9e50f72cd"
   },
   "outputs": [
    {
     "data": {
      "text/html": [
       "<div>\n",
       "<style scoped>\n",
       "    .dataframe tbody tr th:only-of-type {\n",
       "        vertical-align: middle;\n",
       "    }\n",
       "\n",
       "    .dataframe tbody tr th {\n",
       "        vertical-align: top;\n",
       "    }\n",
       "\n",
       "    .dataframe thead th {\n",
       "        text-align: right;\n",
       "    }\n",
       "</style>\n",
       "<table border=\"1\" class=\"dataframe\">\n",
       "  <thead>\n",
       "    <tr style=\"text-align: right;\">\n",
       "      <th></th>\n",
       "      <th>count</th>\n",
       "      <th>mean</th>\n",
       "      <th>std</th>\n",
       "      <th>min</th>\n",
       "      <th>25%</th>\n",
       "      <th>50%</th>\n",
       "      <th>75%</th>\n",
       "      <th>max</th>\n",
       "    </tr>\n",
       "  </thead>\n",
       "  <tbody>\n",
       "    <tr>\n",
       "      <th>Vehicle_ID</th>\n",
       "      <td>1048575.0</td>\n",
       "      <td>1.533080e+03</td>\n",
       "      <td>790.271</td>\n",
       "      <td>2.000000e+00</td>\n",
       "      <td>9.320000e+02</td>\n",
       "      <td>1.574000e+03</td>\n",
       "      <td>2.210000e+03</td>\n",
       "      <td>2.783000e+03</td>\n",
       "    </tr>\n",
       "    <tr>\n",
       "      <th>Frame_ID</th>\n",
       "      <td>1048575.0</td>\n",
       "      <td>4.518249e+03</td>\n",
       "      <td>2412.479</td>\n",
       "      <td>8.000000e+00</td>\n",
       "      <td>2.455000e+03</td>\n",
       "      <td>4.586000e+03</td>\n",
       "      <td>6.598000e+03</td>\n",
       "      <td>8.906000e+03</td>\n",
       "    </tr>\n",
       "    <tr>\n",
       "      <th>Total_Frames</th>\n",
       "      <td>1048575.0</td>\n",
       "      <td>5.608770e+02</td>\n",
       "      <td>146.577</td>\n",
       "      <td>1.770000e+02</td>\n",
       "      <td>4.640000e+02</td>\n",
       "      <td>5.180000e+02</td>\n",
       "      <td>6.400000e+02</td>\n",
       "      <td>1.010000e+03</td>\n",
       "    </tr>\n",
       "    <tr>\n",
       "      <th>Global_Time</th>\n",
       "      <td>1048575.0</td>\n",
       "      <td>1.118847e+12</td>\n",
       "      <td>241247.914</td>\n",
       "      <td>1.118847e+12</td>\n",
       "      <td>1.118847e+12</td>\n",
       "      <td>1.118847e+12</td>\n",
       "      <td>1.118848e+12</td>\n",
       "      <td>1.118848e+12</td>\n",
       "    </tr>\n",
       "    <tr>\n",
       "      <th>Local_X</th>\n",
       "      <td>1048575.0</td>\n",
       "      <td>2.940600e+01</td>\n",
       "      <td>16.666</td>\n",
       "      <td>5.340000e-01</td>\n",
       "      <td>1.728400e+01</td>\n",
       "      <td>2.955700e+01</td>\n",
       "      <td>4.187500e+01</td>\n",
       "      <td>7.347800e+01</td>\n",
       "    </tr>\n",
       "    <tr>\n",
       "      <th>Local_Y</th>\n",
       "      <td>1048575.0</td>\n",
       "      <td>1.002056e+03</td>\n",
       "      <td>596.357</td>\n",
       "      <td>1.796600e+01</td>\n",
       "      <td>4.883960e+02</td>\n",
       "      <td>9.640280e+02</td>\n",
       "      <td>1.491548e+03</td>\n",
       "      <td>2.195470e+03</td>\n",
       "    </tr>\n",
       "    <tr>\n",
       "      <th>Global_X</th>\n",
       "      <td>1048575.0</td>\n",
       "      <td>6.451838e+06</td>\n",
       "      <td>446.275</td>\n",
       "      <td>6.451107e+06</td>\n",
       "      <td>6.451450e+06</td>\n",
       "      <td>6.451808e+06</td>\n",
       "      <td>6.452205e+06</td>\n",
       "      <td>6.452734e+06</td>\n",
       "    </tr>\n",
       "    <tr>\n",
       "      <th>Global_Y</th>\n",
       "      <td>1048575.0</td>\n",
       "      <td>1.872677e+06</td>\n",
       "      <td>397.006</td>\n",
       "      <td>1.871875e+06</td>\n",
       "      <td>1.872352e+06</td>\n",
       "      <td>1.872699e+06</td>\n",
       "      <td>1.873015e+06</td>\n",
       "      <td>1.873365e+06</td>\n",
       "    </tr>\n",
       "    <tr>\n",
       "      <th>v_Length</th>\n",
       "      <td>1048575.0</td>\n",
       "      <td>1.463500e+01</td>\n",
       "      <td>4.870</td>\n",
       "      <td>4.000000e+00</td>\n",
       "      <td>1.200000e+01</td>\n",
       "      <td>1.450000e+01</td>\n",
       "      <td>1.650000e+01</td>\n",
       "      <td>7.610000e+01</td>\n",
       "    </tr>\n",
       "    <tr>\n",
       "      <th>v_Width</th>\n",
       "      <td>1048575.0</td>\n",
       "      <td>6.132000e+00</td>\n",
       "      <td>1.037</td>\n",
       "      <td>2.000000e+00</td>\n",
       "      <td>5.400000e+00</td>\n",
       "      <td>6.000000e+00</td>\n",
       "      <td>6.900000e+00</td>\n",
       "      <td>8.500000e+00</td>\n",
       "    </tr>\n",
       "    <tr>\n",
       "      <th>v_Class</th>\n",
       "      <td>1048575.0</td>\n",
       "      <td>2.009000e+00</td>\n",
       "      <td>0.191</td>\n",
       "      <td>1.000000e+00</td>\n",
       "      <td>2.000000e+00</td>\n",
       "      <td>2.000000e+00</td>\n",
       "      <td>2.000000e+00</td>\n",
       "      <td>3.000000e+00</td>\n",
       "    </tr>\n",
       "    <tr>\n",
       "      <th>v_Vel</th>\n",
       "      <td>1048575.0</td>\n",
       "      <td>3.877400e+01</td>\n",
       "      <td>14.110</td>\n",
       "      <td>0.000000e+00</td>\n",
       "      <td>3.031700e+01</td>\n",
       "      <td>3.989800e+01</td>\n",
       "      <td>4.820200e+01</td>\n",
       "      <td>1.490520e+02</td>\n",
       "    </tr>\n",
       "    <tr>\n",
       "      <th>v_Acc</th>\n",
       "      <td>1048575.0</td>\n",
       "      <td>3.610000e-01</td>\n",
       "      <td>5.852</td>\n",
       "      <td>-3.193080e+02</td>\n",
       "      <td>-1.752000e+00</td>\n",
       "      <td>1.700000e-02</td>\n",
       "      <td>2.754000e+00</td>\n",
       "      <td>2.430030e+02</td>\n",
       "    </tr>\n",
       "    <tr>\n",
       "      <th>Lane_ID</th>\n",
       "      <td>1048575.0</td>\n",
       "      <td>2.956000e+00</td>\n",
       "      <td>1.469</td>\n",
       "      <td>1.000000e+00</td>\n",
       "      <td>2.000000e+00</td>\n",
       "      <td>3.000000e+00</td>\n",
       "      <td>4.000000e+00</td>\n",
       "      <td>8.000000e+00</td>\n",
       "    </tr>\n",
       "    <tr>\n",
       "      <th>Preceeding</th>\n",
       "      <td>1048575.0</td>\n",
       "      <td>1.459864e+03</td>\n",
       "      <td>844.319</td>\n",
       "      <td>0.000000e+00</td>\n",
       "      <td>7.880000e+02</td>\n",
       "      <td>1.519000e+03</td>\n",
       "      <td>2.186000e+03</td>\n",
       "      <td>3.109000e+03</td>\n",
       "    </tr>\n",
       "    <tr>\n",
       "      <th>Following</th>\n",
       "      <td>1048575.0</td>\n",
       "      <td>1.477269e+03</td>\n",
       "      <td>843.679</td>\n",
       "      <td>0.000000e+00</td>\n",
       "      <td>8.120000e+02</td>\n",
       "      <td>1.533000e+03</td>\n",
       "      <td>2.202000e+03</td>\n",
       "      <td>3.109000e+03</td>\n",
       "    </tr>\n",
       "    <tr>\n",
       "      <th>Space_Hdwy</th>\n",
       "      <td>1048575.0</td>\n",
       "      <td>7.815800e+01</td>\n",
       "      <td>48.615</td>\n",
       "      <td>0.000000e+00</td>\n",
       "      <td>4.984000e+01</td>\n",
       "      <td>6.911000e+01</td>\n",
       "      <td>9.725000e+01</td>\n",
       "      <td>7.777300e+02</td>\n",
       "    </tr>\n",
       "    <tr>\n",
       "      <th>Time_Hdwy</th>\n",
       "      <td>1048575.0</td>\n",
       "      <td>1.090800e+02</td>\n",
       "      <td>1027.551</td>\n",
       "      <td>0.000000e+00</td>\n",
       "      <td>1.460000e+00</td>\n",
       "      <td>1.970000e+00</td>\n",
       "      <td>2.730000e+00</td>\n",
       "      <td>9.999990e+03</td>\n",
       "    </tr>\n",
       "  </tbody>\n",
       "</table>\n",
       "</div>"
      ],
      "text/plain": [
       "                  count          mean         std           min           25%  \\\n",
       "Vehicle_ID    1048575.0  1.533080e+03     790.271  2.000000e+00  9.320000e+02   \n",
       "Frame_ID      1048575.0  4.518249e+03    2412.479  8.000000e+00  2.455000e+03   \n",
       "Total_Frames  1048575.0  5.608770e+02     146.577  1.770000e+02  4.640000e+02   \n",
       "Global_Time   1048575.0  1.118847e+12  241247.914  1.118847e+12  1.118847e+12   \n",
       "Local_X       1048575.0  2.940600e+01      16.666  5.340000e-01  1.728400e+01   \n",
       "Local_Y       1048575.0  1.002056e+03     596.357  1.796600e+01  4.883960e+02   \n",
       "Global_X      1048575.0  6.451838e+06     446.275  6.451107e+06  6.451450e+06   \n",
       "Global_Y      1048575.0  1.872677e+06     397.006  1.871875e+06  1.872352e+06   \n",
       "v_Length      1048575.0  1.463500e+01       4.870  4.000000e+00  1.200000e+01   \n",
       "v_Width       1048575.0  6.132000e+00       1.037  2.000000e+00  5.400000e+00   \n",
       "v_Class       1048575.0  2.009000e+00       0.191  1.000000e+00  2.000000e+00   \n",
       "v_Vel         1048575.0  3.877400e+01      14.110  0.000000e+00  3.031700e+01   \n",
       "v_Acc         1048575.0  3.610000e-01       5.852 -3.193080e+02 -1.752000e+00   \n",
       "Lane_ID       1048575.0  2.956000e+00       1.469  1.000000e+00  2.000000e+00   \n",
       "Preceeding    1048575.0  1.459864e+03     844.319  0.000000e+00  7.880000e+02   \n",
       "Following     1048575.0  1.477269e+03     843.679  0.000000e+00  8.120000e+02   \n",
       "Space_Hdwy    1048575.0  7.815800e+01      48.615  0.000000e+00  4.984000e+01   \n",
       "Time_Hdwy     1048575.0  1.090800e+02    1027.551  0.000000e+00  1.460000e+00   \n",
       "\n",
       "                       50%           75%           max  \n",
       "Vehicle_ID    1.574000e+03  2.210000e+03  2.783000e+03  \n",
       "Frame_ID      4.586000e+03  6.598000e+03  8.906000e+03  \n",
       "Total_Frames  5.180000e+02  6.400000e+02  1.010000e+03  \n",
       "Global_Time   1.118847e+12  1.118848e+12  1.118848e+12  \n",
       "Local_X       2.955700e+01  4.187500e+01  7.347800e+01  \n",
       "Local_Y       9.640280e+02  1.491548e+03  2.195470e+03  \n",
       "Global_X      6.451808e+06  6.452205e+06  6.452734e+06  \n",
       "Global_Y      1.872699e+06  1.873015e+06  1.873365e+06  \n",
       "v_Length      1.450000e+01  1.650000e+01  7.610000e+01  \n",
       "v_Width       6.000000e+00  6.900000e+00  8.500000e+00  \n",
       "v_Class       2.000000e+00  2.000000e+00  3.000000e+00  \n",
       "v_Vel         3.989800e+01  4.820200e+01  1.490520e+02  \n",
       "v_Acc         1.700000e-02  2.754000e+00  2.430030e+02  \n",
       "Lane_ID       3.000000e+00  4.000000e+00  8.000000e+00  \n",
       "Preceeding    1.519000e+03  2.186000e+03  3.109000e+03  \n",
       "Following     1.533000e+03  2.202000e+03  3.109000e+03  \n",
       "Space_Hdwy    6.911000e+01  9.725000e+01  7.777300e+02  \n",
       "Time_Hdwy     1.970000e+00  2.730000e+00  9.999990e+03  "
      ]
     },
     "execution_count": 5,
     "metadata": {},
     "output_type": "execute_result"
    }
   ],
   "source": [
    "df.describe().transpose().round(3)"
   ]
  },
  {
   "cell_type": "markdown",
   "metadata": {
    "colab_type": "text",
    "id": "wXWLG0_WBhZS"
   },
   "source": [
    "### Inspect and cleanup"
   ]
  },
  {
   "cell_type": "markdown",
   "metadata": {
    "colab_type": "text",
    "id": "yhmZXJew6GlS"
   },
   "source": [
    "Next look at the statistics of the dataset:"
   ]
  },
  {
   "cell_type": "code",
   "execution_count": null,
   "metadata": {
    "colab": {},
    "colab_type": "code",
    "id": "2lwN6o63hRrC"
   },
   "outputs": [],
   "source": []
  },
  {
   "cell_type": "markdown",
   "metadata": {
    "colab_type": "text",
    "id": "vtmu2IBPgPG8"
   },
   "source": [
    "### Feature engineering\n",
    "\n",
    "Before diving in to build a model it's important to understand your data, and be sure that you're passing the model appropriately formatted data."
   ]
  },
  {
   "cell_type": "markdown",
   "metadata": {
    "colab_type": "text",
    "id": "vuLZ9Kp6ngnG"
   },
   "source": [
    "In future, We should add more features such as:\n",
    "\n",
    "- Vehicle's direction\n",
    "- Information on surrounding vehicles (here they only care about the preceding and following vehicle)\n",
    "- Does the car drag a cargo?\n",
    "- Traffic signal ahead\n"
   ]
  },
  {
   "cell_type": "markdown",
   "metadata": {
    "colab_type": "text",
    "id": "2rbL8bSGDHy3"
   },
   "source": [
    "### Split the data"
   ]
  },
  {
   "cell_type": "markdown",
   "metadata": {
    "colab_type": "text",
    "id": "qoFJZmXBaxCc"
   },
   "source": [
    "We'll use a `(70%, 20%, 10%)` split for the training, validation, and test sets. Note the data is **not** being randomly shuffled before splitting. This is for two reasons.\n",
    "\n",
    "1. It ensures that chopping the data into windows of consecutive samples is still possible.\n",
    "2. It ensures that the validation/test results are more realistic, being evaluated on data collected after the model was trained."
   ]
  },
  {
   "cell_type": "code",
   "execution_count": 5,
   "metadata": {
    "ExecuteTime": {
     "end_time": "2020-08-07T11:36:27.232805Z",
     "start_time": "2020-08-07T11:36:27.205810Z"
    },
    "colab": {
     "base_uri": "https://localhost:8080/",
     "height": 71
    },
    "colab_type": "code",
    "id": "ia-MPAHxbInX",
    "outputId": "46b59a8d-dbcd-4701-a42b-00c3154ebee4"
   },
   "outputs": [
    {
     "name": "stdout",
     "output_type": "stream",
     "text": [
      "{'Vehicle_ID': 0, 'Frame_ID': 1, 'Total_Frames': 2, 'Global_Time': 3, 'Local_X': 4, 'Local_Y': 5, 'Global_X': 6, 'Global_Y': 7, 'v_Length': 8, 'v_Width': 9, 'v_Class': 10, 'v_Vel': 11, 'v_Acc': 12, 'Lane_ID': 13, 'Preceeding': 14, 'Following': 15, 'Space_Hdwy': 16, 'Time_Hdwy': 17}\n"
     ]
    },
    {
     "data": {
      "text/plain": [
       "18"
      ]
     },
     "execution_count": 5,
     "metadata": {},
     "output_type": "execute_result"
    }
   ],
   "source": [
    "column_indices = {name: i for i, name in enumerate(df.columns)}\n",
    "print(column_indices)\n",
    "n = len(df)\n",
    "train_df = df[0:int(n*0.7)]\n",
    "val_df = df[int(n*0.7):int(n*0.9)]\n",
    "test_df = df[int(n*0.9):]\n",
    "\n",
    "num_features = df.shape[1]\n",
    "num_features"
   ]
  },
  {
   "cell_type": "markdown",
   "metadata": {
    "colab_type": "text",
    "id": "-eFckdUUHWmT"
   },
   "source": [
    "### Normalize the data\n",
    "\n",
    "It is important to scale features before training a neural network. Normalization is a common way of doing this scaling. Subtract the mean and divide by the standard deviation of each feature."
   ]
  },
  {
   "cell_type": "markdown",
   "metadata": {
    "colab_type": "text",
    "id": "mxbIic5TMlxx"
   },
   "source": [
    "The mean and standard deviation should only be computed using the training data so that the models have no access to the values in the validation and test sets.\n",
    "\n",
    "It's also arguable that the model shouldn't have access to future values in the training set when training, and that this normalization should be done using moving averages. That's not the focus of this tutorial, and the validation and test sets ensure that we get (somewhat) honest metrics. So in the interest of simplicity this tutorial uses a simple average."
   ]
  },
  {
   "cell_type": "code",
   "execution_count": 6,
   "metadata": {
    "ExecuteTime": {
     "end_time": "2020-08-07T11:36:28.608856Z",
     "start_time": "2020-08-07T11:36:27.235810Z"
    },
    "colab": {},
    "colab_type": "code",
    "id": "Eji6njXvHusN"
   },
   "outputs": [],
   "source": [
    "train_mean = train_df.mean()\n",
    "train_std = train_df.std()\n",
    "\n",
    "train_df = (train_df - train_mean) / train_std\n",
    "val_df = (val_df - train_mean) / train_std\n",
    "test_df = (test_df - train_mean) / train_std"
   ]
  },
  {
   "cell_type": "markdown",
   "metadata": {
    "colab_type": "text",
    "id": "G6ufs8kk9JQw"
   },
   "source": [
    "Now peek at the distribution of the features. Some features do have long tails, but there are no obvious errors."
   ]
  },
  {
   "cell_type": "code",
   "execution_count": 7,
   "metadata": {
    "ExecuteTime": {
     "end_time": "2020-08-07T11:38:35.047814Z",
     "start_time": "2020-08-07T11:36:28.611810Z"
    },
    "colab": {
     "base_uri": "https://localhost:8080/",
     "height": 442
    },
    "colab_type": "code",
    "id": "T0UYEnkwm8Fe",
    "outputId": "9b6c9cb4-b466-475d-8098-8739b8370fa6"
   },
   "outputs": [
    {
     "data": {
      "image/png": "[encoded data removed]",
      "text/plain": [
       "<Figure size 864x432 with 1 Axes>"
      ]
     },
     "metadata": {
      "needs_background": "light"
     },
     "output_type": "display_data"
    }
   ],
   "source": [
    "df_std = (df - train_mean) / train_std\n",
    "df_std = df_std.melt(var_name='Column', value_name='Normalized')\n",
    "plt.figure(figsize=(12, 6))\n",
    "ax = sns.violinplot(x='Column', y='Normalized', data=df_std)\n",
    "_ = ax.set_xticklabels(df.keys(), rotation=90)"
   ]
  },
  {
   "cell_type": "markdown",
   "metadata": {
    "colab_type": "text",
    "id": "TaMMsNNzozG4"
   },
   "source": [
    "**Violin Plot**\n",
    "\n",
    "Draw a combination of boxplot and kernel density estimate.\n",
    "\n",
    "A violin plot plays a similar role as a box and whisker plot. It shows the distribution of quantitative data across several levels of one (or more) categorical variables such that those distributions can be compared. Unlike a box plot, in which all of the plot components correspond to actual datapoints, the violin plot features a kernel density estimation of the underlying distribution.\n",
    "\n",
    "This can be an effective and attractive way to show multiple distributions of data at once, but keep in mind that the estimation procedure is influenced by the sample size, and violins for relatively small samples might look misleadingly smooth."
   ]
  },
  {
   "cell_type": "markdown",
   "metadata": {
    "colab_type": "text",
    "id": "ZBBmdxZ2HgfJ"
   },
   "source": [
    "## Data windowing\n",
    "\n",
    "The models in this tutorial will make a set of predictions based on a window of consecutive samples from the data. \n",
    "\n",
    "The main features of the input windows are:\n",
    "\n",
    "* The width (number of time steps) of the input and label windows\n",
    "* The time offset between them.\n",
    "* Which features are used as inputs, labels, or both. \n",
    "\n",
    "This tutorial builds a variety of models (including Linear, DNN, CNN and RNN models), and uses them for both:\n",
    "\n",
    "* *Single-output*, and *multi-output* predictions.\n",
    "* *Single-time-step* and *multi-time-step* predictions.\n",
    "\n",
    "This section focuses on implementing the data windowing so that it can be reused for all of those models.\n"
   ]
  },
  {
   "cell_type": "markdown",
   "metadata": {
    "colab_type": "text",
    "id": "YAhGUVx1jtOy"
   },
   "source": [
    "Depending on the task and type of model you may want to generate a variety of data windows. Here are some examples:\n",
    "\n",
    "1. For example, to make a single prediction 24h into the future, given 24h of history you might define a window like this:\n",
    "\n",
    "  ![One prediction 24h into the future.](https://github.com/tensorflow/docs/blob/master/site/en/tutorials/structured_data/images/raw_window_24h.png?raw=1)\n",
    "\n",
    "2. A model that makes a prediction 1h into the future, given 6h of history would need a window like this:\n",
    "\n",
    "  ![One prediction 1h into the future.](https://github.com/tensorflow/docs/blob/master/site/en/tutorials/structured_data/images/raw_window_1h.png?raw=1)"
   ]
  },
  {
   "cell_type": "markdown",
   "metadata": {
    "colab_type": "text",
    "id": "sa2BbfNZt8wy"
   },
   "source": [
    "The rest of this section defines a `WindowGenerator` class. This class can:\n",
    "\n",
    "1. Handle the indexes and offsets as shown in the diagrams above.\n",
    "1. Split windows of features into a `(features, labels)` pairs.\n",
    "2. Plot the content of the resulting windows.\n",
    "3. Efficiently generate batches of these windows from the training, evaluation, and test data, using `tf.data.Dataset`s."
   ]
  },
  {
   "cell_type": "markdown",
   "metadata": {
    "colab_type": "text",
    "id": "rfx3jGjyziUF"
   },
   "source": [
    "### 1. Indexes and offsets\n",
    "\n",
    "Start by creating the `WindowGenerator` class. The `__init__` method includes all the necessary logic for the input and label indices.\n",
    "\n",
    "It also takes the train, eval, and test dataframes as input. These will be converted to `tf.data.Dataset`s of windows later."
   ]
  },
  {
   "cell_type": "code",
   "execution_count": 8,
   "metadata": {
    "ExecuteTime": {
     "end_time": "2020-08-07T11:38:35.225808Z",
     "start_time": "2020-08-07T11:38:35.051809Z"
    },
    "colab": {},
    "colab_type": "code",
    "id": "Kem30j8QHxyW"
   },
   "outputs": [],
   "source": [
    "class WindowGenerator():\n",
    "  def __init__(self, input_width, label_width, shift,\n",
    "               train_df=train_df, val_df=val_df, test_df=test_df,\n",
    "               label_columns=None):\n",
    "    # Store the raw data.\n",
    "    self.train_df = train_df\n",
    "    self.val_df = val_df\n",
    "    self.test_df = test_df\n",
    "\n",
    "    # Work out the label column indices.\n",
    "    self.label_columns = label_columns\n",
    "    if label_columns is not None:\n",
    "      self.label_columns_indices = {name: i for i, name in\n",
    "                                    enumerate(label_columns)}\n",
    "    self.column_indices = {name: i for i, name in\n",
    "                           enumerate(train_df.columns)}\n",
    "\n",
    "    # Work out the window parameters.\n",
    "    self.input_width = input_width\n",
    "    self.label_width = label_width\n",
    "    self.shift = shift\n",
    "\n",
    "    self.total_window_size = input_width + shift\n",
    "\n",
    "    self.input_slice = slice(0, input_width)\n",
    "    self.input_indices = np.arange(self.total_window_size)[self.input_slice]\n",
    "\n",
    "    self.label_start = self.total_window_size - self.label_width\n",
    "    self.labels_slice = slice(self.label_start, None)\n",
    "    self.label_indices = np.arange(self.total_window_size)[self.labels_slice]\n",
    "\n",
    "  def __repr__(self):\n",
    "    return '\\n'.join([\n",
    "        f'Total window size: {self.total_window_size}',\n",
    "        f'Input indices: {self.input_indices}',\n",
    "        f'Label indices: {self.label_indices}',\n",
    "        f'Label column name(s): {self.label_columns}'])"
   ]
  },
  {
   "cell_type": "markdown",
   "metadata": {
    "colab_type": "text",
    "id": "yVJgblsYzL1g"
   },
   "source": [
    "Here is code to create the 2 windows shown in the diagrams at the start of this section:"
   ]
  },
  {
   "cell_type": "code",
   "execution_count": 9,
   "metadata": {
    "ExecuteTime": {
     "end_time": "2020-08-07T11:38:35.255805Z",
     "start_time": "2020-08-07T11:38:35.230812Z"
    },
    "colab": {
     "base_uri": "https://localhost:8080/",
     "height": 85
    },
    "colab_type": "code",
    "id": "IsM5kRkz0UwK",
    "outputId": "0992a887-0565-45f3-961e-b751de1f41a1"
   },
   "outputs": [
    {
     "data": {
      "text/plain": [
       "Total window size: 48\n",
       "Input indices: [ 0  1  2  3  4  5  6  7  8  9 10 11 12 13 14 15 16 17 18 19 20 21 22 23]\n",
       "Label indices: [47]\n",
       "Label column name(s): ['T (degC)']"
      ]
     },
     "execution_count": 9,
     "metadata": {},
     "output_type": "execute_result"
    }
   ],
   "source": [
    "w1 = WindowGenerator(input_width=24, label_width=1, shift=24,\n",
    "                     label_columns=['T (degC)'])\n",
    "w1"
   ]
  },
  {
   "cell_type": "code",
   "execution_count": 10,
   "metadata": {
    "ExecuteTime": {
     "end_time": "2020-08-07T11:38:35.271806Z",
     "start_time": "2020-08-07T11:38:35.259815Z"
    },
    "colab": {
     "base_uri": "https://localhost:8080/",
     "height": 85
    },
    "colab_type": "code",
    "id": "viwKsYeAKFUn",
    "outputId": "8f2e177c-e2d2-4380-df99-62fc23560e8f"
   },
   "outputs": [
    {
     "data": {
      "text/plain": [
       "Total window size: 7\n",
       "Input indices: [0 1 2 3 4 5]\n",
       "Label indices: [6]\n",
       "Label column name(s): ['T (degC)']"
      ]
     },
     "execution_count": 10,
     "metadata": {},
     "output_type": "execute_result"
    }
   ],
   "source": [
    "w2 = WindowGenerator(input_width=6, label_width=1, shift=1,\n",
    "                     label_columns=['T (degC)'])\n",
    "w2"
   ]
  },
  {
   "cell_type": "markdown",
   "metadata": {
    "colab_type": "text",
    "id": "zS9WVcEPiBj0"
   },
   "source": [
    "### Our case window\n",
    "\n",
    "We will create a window for our case:\n",
    "- A model that makes a prediction 100 msec into the future, given 6 msec of history "
   ]
  },
  {
   "cell_type": "code",
   "execution_count": 12,
   "metadata": {
    "ExecuteTime": {
     "end_time": "2020-08-07T11:39:25.947196Z",
     "start_time": "2020-08-07T11:39:25.935196Z"
    },
    "colab": {
     "base_uri": "https://localhost:8080/",
     "height": 85
    },
    "colab_type": "code",
    "id": "pA21kCGgqF68",
    "outputId": "355f683b-93cd-4b6a-eb85-bcd938af2ceb"
   },
   "outputs": [
    {
     "data": {
      "text/plain": [
       "Total window size: 7\n",
       "Input indices: [0 1 2 3 4 5]\n",
       "Label indices: [6]\n",
       "Label column name(s): ['Local_X', 'Local_Y']"
      ]
     },
     "execution_count": 12,
     "metadata": {},
     "output_type": "execute_result"
    }
   ],
   "source": [
    "w3 = WindowGenerator(input_width=6, label_width=1, shift=1,\n",
    "                     label_columns=['Local_X','Local_Y'])\n",
    "w3"
   ]
  },
  {
   "cell_type": "markdown",
   "metadata": {
    "colab_type": "text",
    "id": "kJaUyTWQJd-L"
   },
   "source": [
    "### 2. Split\n",
    "Given a list consecutive inputs, the `split_window` method will convert them to a window of inputs and a window of labels.\n",
    "\n",
    "The example `w2`, above, will be split like this:\n",
    "\n",
    "![The initial window is all consecuitive samples, this splits it into an (inputs, labels) pairs](https://github.com/tensorflow/docs/blob/master/site/en/tutorials/structured_data/images/split_window.png?raw=1)\n",
    "\n",
    "This diagram doesn't show the `features` axis of the data, but this `split_window` function also handles the `label_columns` so it can be used for both the single output and multi-output examples."
   ]
  },
  {
   "cell_type": "code",
   "execution_count": 13,
   "metadata": {
    "ExecuteTime": {
     "end_time": "2020-08-07T11:39:25.963198Z",
     "start_time": "2020-08-07T11:39:25.951196Z"
    },
    "colab": {},
    "colab_type": "code",
    "id": "W4KbxfzqkXPW"
   },
   "outputs": [],
   "source": [
    "def split_window(self, features):\n",
    "  inputs = features[:, self.input_slice, :]\n",
    "  labels = features[:, self.labels_slice, :]\n",
    "  if self.label_columns is not None:\n",
    "    labels = tf.stack(\n",
    "        [labels[:, :, self.column_indices[name]] for name in self.label_columns],\n",
    "        axis=-1)\n",
    "\n",
    "  # Slicing doesn't preserve static shape information, so set the shapes\n",
    "  # manually. This way the `tf.data.Datasets` are easier to inspect.\n",
    "  inputs.set_shape([None, self.input_width, None])\n",
    "  labels.set_shape([None, self.label_width, None])\n",
    "\n",
    "  return inputs, labels\n",
    "\n",
    "WindowGenerator.split_window = split_window"
   ]
  },
  {
   "cell_type": "markdown",
   "metadata": {
    "colab_type": "text",
    "id": "G6U6VtVuM15s"
   },
   "source": [
    "Try it out:"
   ]
  },
  {
   "cell_type": "code",
   "execution_count": 14,
   "metadata": {
    "ExecuteTime": {
     "end_time": "2020-08-07T11:39:26.059190Z",
     "start_time": "2020-08-07T11:39:25.967194Z"
    },
    "colab": {
     "base_uri": "https://localhost:8080/",
     "height": 85
    },
    "colab_type": "code",
    "id": "YeCWbq6KLmL7",
    "outputId": "0a962a80-b078-41e5-bf32-0e1d7c3fcc30"
   },
   "outputs": [
    {
     "name": "stdout",
     "output_type": "stream",
     "text": [
      "All shapes are: (batch, time, features)\n",
      "Window shape: (3, 7, 18)\n",
      "Inputs shape: (3, 6, 18)\n",
      "labels shape: (3, 1, 2)\n"
     ]
    }
   ],
   "source": [
    "# Stack three slices, the length of the total window:\n",
    "example_window = tf.stack([np.array(train_df[:w3.total_window_size]),\n",
    "                           np.array(train_df[100:100+w3.total_window_size]),\n",
    "                           np.array(train_df[200:200+w3.total_window_size])])\n",
    "\n",
    "\n",
    "example_inputs, example_labels = w3.split_window(example_window)\n",
    "\n",
    "print('All shapes are: (batch, time, features)')\n",
    "print(f'Window shape: {example_window.shape}')\n",
    "print(f'Inputs shape: {example_inputs.shape}')\n",
    "print(f'labels shape: {example_labels.shape}')"
   ]
  },
  {
   "cell_type": "markdown",
   "metadata": {
    "colab_type": "text",
    "id": "xtMk1ffk2Mmd"
   },
   "source": [
    "Typically data in TensorFlow is packed into arrays where the outermost index is across examples (the \"batch\" dimension). The middle indices are the \"time\" or \"space\" (width, height) dimension(s). The innermost indices are the features.\n",
    "\n",
    "The code above took a batch of 2, 7-timestep windows, with 19 features at each time step. It split them into a batch of 6-timestep, 19 feature inputs, and a 1-timestep 1-feature label. The label only has one feature because the `WindowGenerator` was initialized with `label_columns=['T (degC)']`. Initially this tutorial will build models that predict single output labels."
   ]
  },
  {
   "cell_type": "markdown",
   "metadata": {
    "colab_type": "text",
    "id": "tFZukGXrJoGo"
   },
   "source": [
    "### 3. Plot\n",
    "\n",
    "Here is a plot method that allows a simple visualization of the split window:"
   ]
  },
  {
   "cell_type": "code",
   "execution_count": 15,
   "metadata": {
    "ExecuteTime": {
     "end_time": "2020-08-07T11:39:26.075195Z",
     "start_time": "2020-08-07T11:39:26.064198Z"
    },
    "colab": {},
    "colab_type": "code",
    "id": "fmgd1qkYUWT7"
   },
   "outputs": [],
   "source": [
    "w3.example = example_inputs, example_labels"
   ]
  }
 ],
 "metadata": {
  "colab": {
   "collapsed_sections": [],
   "include_colab_link": true,
   "name": "VTP_1_Main.ipynb",
   "provenance": [],
   "toc_visible": true
  },
  "kernelspec": {
   "display_name": "Python 3",
   "language": "python",
   "name": "python3"
  },
  "language_info": {
   "codemirror_mode": {
    "name": "ipython",
    "version": 3
   },
   "file_extension": ".py",
   "mimetype": "text/x-python",
   "name": "python",
   "nbconvert_exporter": "python",
   "pygments_lexer": "ipython3",
   "version": "3.7.7"
  },
  "toc": {
   "base_numbering": 1,
   "nav_menu": {},
   "number_sections": true,
   "sideBar": true,
   "skip_h1_title": false,
   "title_cell": "Table of Contents",
   "title_sidebar": "Contents",
   "toc_cell": false,
   "toc_position": {},
   "toc_section_display": true,
   "toc_window_display": false
  }
 },
 "nbformat": 4,
 "nbformat_minor": 1
}
