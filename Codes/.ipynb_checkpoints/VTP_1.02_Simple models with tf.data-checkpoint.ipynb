{
 "cells": [
  {
   "cell_type": "markdown",
   "metadata": {
    "colab_type": "text",
    "id": "pa49bUnKyRgF"
   },
   "source": [
    "# Timeseries Multi-Step Multi-Output\n",
    "---"
   ]
  },
  {
   "cell_type": "markdown",
   "metadata": {
    "colab_type": "text",
    "id": "GU8C5qm_4vZb"
   },
   "source": [
    "Data treatment for model 1\n",
    "Features:\n",
    "- local lateral position Local_X, to account for different behaviors depending on the driving lane,\n",
    "- local longitudinal position Local_Y, to account for different behaviors when approaching the merging lane,\n",
    "- lateral and longitudinal velocities vx and vy,\n",
    "- type (motorcycle, car or truck)"
   ]
  },
  {
   "cell_type": "markdown",
   "metadata": {
    "colab_type": "text",
    "id": "XVhK72Pu1cJL"
   },
   "source": [
    "## Import packages"
   ]
  },
  {
   "cell_type": "code",
   "execution_count": 1,
   "metadata": {
    "ExecuteTime": {
     "end_time": "2020-08-21T20:16:12.937889Z",
     "start_time": "2020-08-21T20:16:03.058187Z"
    },
    "colab": {
     "base_uri": "https://localhost:8080/",
     "height": 51
    },
    "colab_type": "code",
    "id": "7rZnJaGTWQw0",
    "outputId": "3f22219f-59fb-4c4d-8e17-55adedf1f35e"
   },
   "outputs": [],
   "source": [
    "import matplotlib.pyplot as plt\n",
    "import numpy as np\n",
    "import pandas as pd\n",
    "import seaborn as sns\n",
    "import tensorflow as tf\n",
    "\n",
    "plt.rcParams['figure.figsize'] = (8, 6)"
   ]
  },
  {
   "cell_type": "markdown",
   "metadata": {
    "colab_type": "text",
    "id": "TokBlnUhWFw9"
   },
   "source": [
    "## Load dataset"
   ]
  },
  {
   "cell_type": "code",
   "execution_count": 2,
   "metadata": {
    "ExecuteTime": {
     "end_time": "2020-08-21T20:16:15.100385Z",
     "start_time": "2020-08-21T20:16:12.941842Z"
    },
    "colab": {
     "base_uri": "https://localhost:8080/",
     "height": 69
    },
    "colab_type": "code",
    "id": "R6vKGxODhB-M",
    "outputId": "e3d2e207-b868-47fc-fe3f-0cc79751dd86"
   },
   "outputs": [
    {
     "data": {
      "text/plain": [
       "'C:\\\\Users\\\\Duong Hung\\\\.keras\\\\datasets\\\\0750_0805_us101_smoothed_11_.csv'"
      ]
     },
     "execution_count": 2,
     "metadata": {},
     "output_type": "execute_result"
    }
   ],
   "source": [
    "url_1 = 'https://github.com/duonghung86/Vehicle-trajectory-tracking/raw/master/Data/NGSIM/0750_0805_us101_smoothed_11_.zip'\n",
    "zip_path = tf.keras.utils.get_file(origin=url_1, fname=url_1.split('/')[-1], extract=True)\n",
    "csv_path = zip_path.replace('zip','csv')\n",
    "csv_path"
   ]
  },
  {
   "cell_type": "markdown",
   "metadata": {
    "colab_type": "text",
    "id": "VdbOWXiTWM2T"
   },
   "source": [
    "Let's take a glance at the data. Here are the first few rows:"
   ]
  },
  {
   "cell_type": "code",
   "execution_count": 3,
   "metadata": {
    "ExecuteTime": {
     "end_time": "2020-08-21T20:16:19.009386Z",
     "start_time": "2020-08-21T20:16:15.105386Z"
    },
    "colab": {
     "base_uri": "https://localhost:8080/",
     "height": 649
    },
    "colab_type": "code",
    "id": "TX6uGeeeWIkG",
    "outputId": "b3c51baf-f0a0-475c-c4bb-fff900229bba"
   },
   "outputs": [
    {
     "data": {
      "text/html": [
       "<div>\n",
       "<style scoped>\n",
       "    .dataframe tbody tr th:only-of-type {\n",
       "        vertical-align: middle;\n",
       "    }\n",
       "\n",
       "    .dataframe tbody tr th {\n",
       "        vertical-align: top;\n",
       "    }\n",
       "\n",
       "    .dataframe thead th {\n",
       "        text-align: right;\n",
       "    }\n",
       "</style>\n",
       "<table border=\"1\" class=\"dataframe\">\n",
       "  <thead>\n",
       "    <tr style=\"text-align: right;\">\n",
       "      <th></th>\n",
       "      <th>Vehicle_ID</th>\n",
       "      <th>Frame_ID</th>\n",
       "      <th>Total_Frames</th>\n",
       "      <th>Global_Time</th>\n",
       "      <th>Local_X</th>\n",
       "      <th>Local_Y</th>\n",
       "      <th>Global_X</th>\n",
       "      <th>Global_Y</th>\n",
       "      <th>v_Length</th>\n",
       "      <th>v_Width</th>\n",
       "      <th>v_Class</th>\n",
       "      <th>v_Vel</th>\n",
       "      <th>v_Acc</th>\n",
       "      <th>Lane_ID</th>\n",
       "      <th>Preceeding</th>\n",
       "      <th>Following</th>\n",
       "      <th>Space_Hdwy</th>\n",
       "      <th>Time_Hdwy</th>\n",
       "    </tr>\n",
       "  </thead>\n",
       "  <tbody>\n",
       "    <tr>\n",
       "      <th>0</th>\n",
       "      <td>2</td>\n",
       "      <td>13</td>\n",
       "      <td>437</td>\n",
       "      <td>1118846980200</td>\n",
       "      <td>16.467196</td>\n",
       "      <td>35.380427</td>\n",
       "      <td>6451137.641</td>\n",
       "      <td>1873344.962</td>\n",
       "      <td>14.5</td>\n",
       "      <td>4.9</td>\n",
       "      <td>2</td>\n",
       "      <td>40.000000</td>\n",
       "      <td>0.000000</td>\n",
       "      <td>2</td>\n",
       "      <td>0</td>\n",
       "      <td>0</td>\n",
       "      <td>0.0</td>\n",
       "      <td>0.0</td>\n",
       "    </tr>\n",
       "    <tr>\n",
       "      <th>1</th>\n",
       "      <td>2</td>\n",
       "      <td>14</td>\n",
       "      <td>437</td>\n",
       "      <td>1118846980300</td>\n",
       "      <td>16.446594</td>\n",
       "      <td>39.381608</td>\n",
       "      <td>6451140.329</td>\n",
       "      <td>1873342.000</td>\n",
       "      <td>14.5</td>\n",
       "      <td>4.9</td>\n",
       "      <td>2</td>\n",
       "      <td>40.012349</td>\n",
       "      <td>0.123485</td>\n",
       "      <td>2</td>\n",
       "      <td>0</td>\n",
       "      <td>0</td>\n",
       "      <td>0.0</td>\n",
       "      <td>0.0</td>\n",
       "    </tr>\n",
       "    <tr>\n",
       "      <th>2</th>\n",
       "      <td>2</td>\n",
       "      <td>15</td>\n",
       "      <td>437</td>\n",
       "      <td>1118846980400</td>\n",
       "      <td>16.425991</td>\n",
       "      <td>43.381541</td>\n",
       "      <td>6451143.018</td>\n",
       "      <td>1873339.038</td>\n",
       "      <td>14.5</td>\n",
       "      <td>4.9</td>\n",
       "      <td>2</td>\n",
       "      <td>39.999855</td>\n",
       "      <td>-0.124939</td>\n",
       "      <td>2</td>\n",
       "      <td>0</td>\n",
       "      <td>0</td>\n",
       "      <td>0.0</td>\n",
       "      <td>0.0</td>\n",
       "    </tr>\n",
       "    <tr>\n",
       "      <th>3</th>\n",
       "      <td>2</td>\n",
       "      <td>16</td>\n",
       "      <td>437</td>\n",
       "      <td>1118846980500</td>\n",
       "      <td>16.405392</td>\n",
       "      <td>47.380780</td>\n",
       "      <td>6451145.706</td>\n",
       "      <td>1873336.077</td>\n",
       "      <td>14.5</td>\n",
       "      <td>4.9</td>\n",
       "      <td>2</td>\n",
       "      <td>39.992920</td>\n",
       "      <td>-0.069349</td>\n",
       "      <td>2</td>\n",
       "      <td>0</td>\n",
       "      <td>0</td>\n",
       "      <td>0.0</td>\n",
       "      <td>0.0</td>\n",
       "    </tr>\n",
       "    <tr>\n",
       "      <th>4</th>\n",
       "      <td>2</td>\n",
       "      <td>17</td>\n",
       "      <td>437</td>\n",
       "      <td>1118846980600</td>\n",
       "      <td>16.384804</td>\n",
       "      <td>51.379881</td>\n",
       "      <td>6451148.395</td>\n",
       "      <td>1873333.115</td>\n",
       "      <td>14.5</td>\n",
       "      <td>4.9</td>\n",
       "      <td>2</td>\n",
       "      <td>39.991544</td>\n",
       "      <td>-0.013759</td>\n",
       "      <td>2</td>\n",
       "      <td>0</td>\n",
       "      <td>0</td>\n",
       "      <td>0.0</td>\n",
       "      <td>0.0</td>\n",
       "    </tr>\n",
       "  </tbody>\n",
       "</table>\n",
       "</div>"
      ],
      "text/plain": [
       "   Vehicle_ID  Frame_ID  Total_Frames    Global_Time    Local_X    Local_Y  \\\n",
       "0           2        13           437  1118846980200  16.467196  35.380427   \n",
       "1           2        14           437  1118846980300  16.446594  39.381608   \n",
       "2           2        15           437  1118846980400  16.425991  43.381541   \n",
       "3           2        16           437  1118846980500  16.405392  47.380780   \n",
       "4           2        17           437  1118846980600  16.384804  51.379881   \n",
       "\n",
       "      Global_X     Global_Y  v_Length  v_Width  v_Class      v_Vel     v_Acc  \\\n",
       "0  6451137.641  1873344.962      14.5      4.9        2  40.000000  0.000000   \n",
       "1  6451140.329  1873342.000      14.5      4.9        2  40.012349  0.123485   \n",
       "2  6451143.018  1873339.038      14.5      4.9        2  39.999855 -0.124939   \n",
       "3  6451145.706  1873336.077      14.5      4.9        2  39.992920 -0.069349   \n",
       "4  6451148.395  1873333.115      14.5      4.9        2  39.991544 -0.013759   \n",
       "\n",
       "   Lane_ID  Preceeding  Following  Space_Hdwy  Time_Hdwy  \n",
       "0        2           0          0         0.0        0.0  \n",
       "1        2           0          0         0.0        0.0  \n",
       "2        2           0          0         0.0        0.0  \n",
       "3        2           0          0         0.0        0.0  \n",
       "4        2           0          0         0.0        0.0  "
      ]
     },
     "execution_count": 3,
     "metadata": {},
     "output_type": "execute_result"
    }
   ],
   "source": [
    "df = pd.read_csv(csv_path)\n",
    "df.head()"
   ]
  },
  {
   "cell_type": "code",
   "execution_count": 4,
   "metadata": {},
   "outputs": [
    {
     "name": "stdout",
     "output_type": "stream",
     "text": [
      "  'Vehicle_ID'        : 2\n",
      "  'Frame_ID'          : 13\n",
      "  'Total_Frames'      : 437\n",
      "  'Global_Time'       : 1118846980200\n",
      "  'Local_X'           : 16.4671958041958\n",
      "  'Local_Y'           : 35.38042657342662\n",
      "  'Global_X'          : 6451137.641\n",
      "  'Global_Y'          : 1873344.962\n",
      "  'v_Length'          : 14.5\n",
      "  'v_Width'           : 4.9\n",
      "  'v_Class'           : 2\n",
      "  'v_Vel'             : 40.0\n",
      "  'v_Acc'             : 0.0\n",
      "  'Lane_ID'           : 2\n",
      "  'Preceeding'        : 0\n",
      "  'Following'         : 0\n",
      "  'Space_Hdwy'        : 0.0\n",
      "  'Time_Hdwy'         : 0.0\n"
     ]
    }
   ],
   "source": [
    "df_slices = tf.data.Dataset.from_tensor_slices(dict(df))\n",
    "\n",
    "for feature_batch in df_slices.take(1):\n",
    "  for key, value in feature_batch.items():\n",
    "    print(\"  {!r:20s}: {}\".format(key, value))"
   ]
  },
  {
   "cell_type": "markdown",
   "metadata": {
    "colab_type": "text",
    "id": "yhmZXJew6GlS"
   },
   "source": [
    "Next look at the statistics of the dataset:"
   ]
  },
  {
   "cell_type": "code",
   "execution_count": 5,
   "metadata": {
    "ExecuteTime": {
     "end_time": "2020-08-21T20:16:20.523382Z",
     "start_time": "2020-08-21T20:16:19.013384Z"
    },
    "colab": {
     "base_uri": "https://localhost:8080/",
     "height": 607
    },
    "colab_type": "code",
    "id": "h510pgKVrrai",
    "outputId": "89a54156-f7af-4171-b1bb-85b9e50f72cd"
   },
   "outputs": [
    {
     "data": {
      "text/html": [
       "<div>\n",
       "<style scoped>\n",
       "    .dataframe tbody tr th:only-of-type {\n",
       "        vertical-align: middle;\n",
       "    }\n",
       "\n",
       "    .dataframe tbody tr th {\n",
       "        vertical-align: top;\n",
       "    }\n",
       "\n",
       "    .dataframe thead th {\n",
       "        text-align: right;\n",
       "    }\n",
       "</style>\n",
       "<table border=\"1\" class=\"dataframe\">\n",
       "  <thead>\n",
       "    <tr style=\"text-align: right;\">\n",
       "      <th></th>\n",
       "      <th>count</th>\n",
       "      <th>mean</th>\n",
       "      <th>std</th>\n",
       "      <th>min</th>\n",
       "      <th>25%</th>\n",
       "      <th>50%</th>\n",
       "      <th>75%</th>\n",
       "      <th>max</th>\n",
       "    </tr>\n",
       "  </thead>\n",
       "  <tbody>\n",
       "    <tr>\n",
       "      <th>Vehicle_ID</th>\n",
       "      <td>1048575.0</td>\n",
       "      <td>1.533080e+03</td>\n",
       "      <td>790.271</td>\n",
       "      <td>2.000000e+00</td>\n",
       "      <td>9.320000e+02</td>\n",
       "      <td>1.574000e+03</td>\n",
       "      <td>2.210000e+03</td>\n",
       "      <td>2.783000e+03</td>\n",
       "    </tr>\n",
       "    <tr>\n",
       "      <th>Frame_ID</th>\n",
       "      <td>1048575.0</td>\n",
       "      <td>4.518249e+03</td>\n",
       "      <td>2412.479</td>\n",
       "      <td>8.000000e+00</td>\n",
       "      <td>2.455000e+03</td>\n",
       "      <td>4.586000e+03</td>\n",
       "      <td>6.598000e+03</td>\n",
       "      <td>8.906000e+03</td>\n",
       "    </tr>\n",
       "    <tr>\n",
       "      <th>Total_Frames</th>\n",
       "      <td>1048575.0</td>\n",
       "      <td>5.608770e+02</td>\n",
       "      <td>146.577</td>\n",
       "      <td>1.770000e+02</td>\n",
       "      <td>4.640000e+02</td>\n",
       "      <td>5.180000e+02</td>\n",
       "      <td>6.400000e+02</td>\n",
       "      <td>1.010000e+03</td>\n",
       "    </tr>\n",
       "    <tr>\n",
       "      <th>Global_Time</th>\n",
       "      <td>1048575.0</td>\n",
       "      <td>1.118847e+12</td>\n",
       "      <td>241247.914</td>\n",
       "      <td>1.118847e+12</td>\n",
       "      <td>1.118847e+12</td>\n",
       "      <td>1.118847e+12</td>\n",
       "      <td>1.118848e+12</td>\n",
       "      <td>1.118848e+12</td>\n",
       "    </tr>\n",
       "    <tr>\n",
       "      <th>Local_X</th>\n",
       "      <td>1048575.0</td>\n",
       "      <td>2.940600e+01</td>\n",
       "      <td>16.666</td>\n",
       "      <td>5.340000e-01</td>\n",
       "      <td>1.728400e+01</td>\n",
       "      <td>2.955700e+01</td>\n",
       "      <td>4.187500e+01</td>\n",
       "      <td>7.347800e+01</td>\n",
       "    </tr>\n",
       "    <tr>\n",
       "      <th>Local_Y</th>\n",
       "      <td>1048575.0</td>\n",
       "      <td>1.002056e+03</td>\n",
       "      <td>596.357</td>\n",
       "      <td>1.796600e+01</td>\n",
       "      <td>4.883960e+02</td>\n",
       "      <td>9.640280e+02</td>\n",
       "      <td>1.491548e+03</td>\n",
       "      <td>2.195470e+03</td>\n",
       "    </tr>\n",
       "    <tr>\n",
       "      <th>Global_X</th>\n",
       "      <td>1048575.0</td>\n",
       "      <td>6.451838e+06</td>\n",
       "      <td>446.275</td>\n",
       "      <td>6.451107e+06</td>\n",
       "      <td>6.451450e+06</td>\n",
       "      <td>6.451808e+06</td>\n",
       "      <td>6.452205e+06</td>\n",
       "      <td>6.452734e+06</td>\n",
       "    </tr>\n",
       "    <tr>\n",
       "      <th>Global_Y</th>\n",
       "      <td>1048575.0</td>\n",
       "      <td>1.872677e+06</td>\n",
       "      <td>397.006</td>\n",
       "      <td>1.871875e+06</td>\n",
       "      <td>1.872352e+06</td>\n",
       "      <td>1.872699e+06</td>\n",
       "      <td>1.873015e+06</td>\n",
       "      <td>1.873365e+06</td>\n",
       "    </tr>\n",
       "    <tr>\n",
       "      <th>v_Length</th>\n",
       "      <td>1048575.0</td>\n",
       "      <td>1.463500e+01</td>\n",
       "      <td>4.870</td>\n",
       "      <td>4.000000e+00</td>\n",
       "      <td>1.200000e+01</td>\n",
       "      <td>1.450000e+01</td>\n",
       "      <td>1.650000e+01</td>\n",
       "      <td>7.610000e+01</td>\n",
       "    </tr>\n",
       "    <tr>\n",
       "      <th>v_Width</th>\n",
       "      <td>1048575.0</td>\n",
       "      <td>6.132000e+00</td>\n",
       "      <td>1.037</td>\n",
       "      <td>2.000000e+00</td>\n",
       "      <td>5.400000e+00</td>\n",
       "      <td>6.000000e+00</td>\n",
       "      <td>6.900000e+00</td>\n",
       "      <td>8.500000e+00</td>\n",
       "    </tr>\n",
       "    <tr>\n",
       "      <th>v_Class</th>\n",
       "      <td>1048575.0</td>\n",
       "      <td>2.009000e+00</td>\n",
       "      <td>0.191</td>\n",
       "      <td>1.000000e+00</td>\n",
       "      <td>2.000000e+00</td>\n",
       "      <td>2.000000e+00</td>\n",
       "      <td>2.000000e+00</td>\n",
       "      <td>3.000000e+00</td>\n",
       "    </tr>\n",
       "    <tr>\n",
       "      <th>v_Vel</th>\n",
       "      <td>1048575.0</td>\n",
       "      <td>3.877400e+01</td>\n",
       "      <td>14.110</td>\n",
       "      <td>0.000000e+00</td>\n",
       "      <td>3.031700e+01</td>\n",
       "      <td>3.989800e+01</td>\n",
       "      <td>4.820200e+01</td>\n",
       "      <td>1.490520e+02</td>\n",
       "    </tr>\n",
       "    <tr>\n",
       "      <th>v_Acc</th>\n",
       "      <td>1048575.0</td>\n",
       "      <td>3.610000e-01</td>\n",
       "      <td>5.852</td>\n",
       "      <td>-3.193080e+02</td>\n",
       "      <td>-1.752000e+00</td>\n",
       "      <td>1.700000e-02</td>\n",
       "      <td>2.754000e+00</td>\n",
       "      <td>2.430030e+02</td>\n",
       "    </tr>\n",
       "    <tr>\n",
       "      <th>Lane_ID</th>\n",
       "      <td>1048575.0</td>\n",
       "      <td>2.956000e+00</td>\n",
       "      <td>1.469</td>\n",
       "      <td>1.000000e+00</td>\n",
       "      <td>2.000000e+00</td>\n",
       "      <td>3.000000e+00</td>\n",
       "      <td>4.000000e+00</td>\n",
       "      <td>8.000000e+00</td>\n",
       "    </tr>\n",
       "    <tr>\n",
       "      <th>Preceeding</th>\n",
       "      <td>1048575.0</td>\n",
       "      <td>1.459864e+03</td>\n",
       "      <td>844.319</td>\n",
       "      <td>0.000000e+00</td>\n",
       "      <td>7.880000e+02</td>\n",
       "      <td>1.519000e+03</td>\n",
       "      <td>2.186000e+03</td>\n",
       "      <td>3.109000e+03</td>\n",
       "    </tr>\n",
       "    <tr>\n",
       "      <th>Following</th>\n",
       "      <td>1048575.0</td>\n",
       "      <td>1.477269e+03</td>\n",
       "      <td>843.679</td>\n",
       "      <td>0.000000e+00</td>\n",
       "      <td>8.120000e+02</td>\n",
       "      <td>1.533000e+03</td>\n",
       "      <td>2.202000e+03</td>\n",
       "      <td>3.109000e+03</td>\n",
       "    </tr>\n",
       "    <tr>\n",
       "      <th>Space_Hdwy</th>\n",
       "      <td>1048575.0</td>\n",
       "      <td>7.815800e+01</td>\n",
       "      <td>48.615</td>\n",
       "      <td>0.000000e+00</td>\n",
       "      <td>4.984000e+01</td>\n",
       "      <td>6.911000e+01</td>\n",
       "      <td>9.725000e+01</td>\n",
       "      <td>7.777300e+02</td>\n",
       "    </tr>\n",
       "    <tr>\n",
       "      <th>Time_Hdwy</th>\n",
       "      <td>1048575.0</td>\n",
       "      <td>1.090800e+02</td>\n",
       "      <td>1027.551</td>\n",
       "      <td>0.000000e+00</td>\n",
       "      <td>1.460000e+00</td>\n",
       "      <td>1.970000e+00</td>\n",
       "      <td>2.730000e+00</td>\n",
       "      <td>9.999990e+03</td>\n",
       "    </tr>\n",
       "  </tbody>\n",
       "</table>\n",
       "</div>"
      ],
      "text/plain": [
       "                  count          mean         std           min           25%  \\\n",
       "Vehicle_ID    1048575.0  1.533080e+03     790.271  2.000000e+00  9.320000e+02   \n",
       "Frame_ID      1048575.0  4.518249e+03    2412.479  8.000000e+00  2.455000e+03   \n",
       "Total_Frames  1048575.0  5.608770e+02     146.577  1.770000e+02  4.640000e+02   \n",
       "Global_Time   1048575.0  1.118847e+12  241247.914  1.118847e+12  1.118847e+12   \n",
       "Local_X       1048575.0  2.940600e+01      16.666  5.340000e-01  1.728400e+01   \n",
       "Local_Y       1048575.0  1.002056e+03     596.357  1.796600e+01  4.883960e+02   \n",
       "Global_X      1048575.0  6.451838e+06     446.275  6.451107e+06  6.451450e+06   \n",
       "Global_Y      1048575.0  1.872677e+06     397.006  1.871875e+06  1.872352e+06   \n",
       "v_Length      1048575.0  1.463500e+01       4.870  4.000000e+00  1.200000e+01   \n",
       "v_Width       1048575.0  6.132000e+00       1.037  2.000000e+00  5.400000e+00   \n",
       "v_Class       1048575.0  2.009000e+00       0.191  1.000000e+00  2.000000e+00   \n",
       "v_Vel         1048575.0  3.877400e+01      14.110  0.000000e+00  3.031700e+01   \n",
       "v_Acc         1048575.0  3.610000e-01       5.852 -3.193080e+02 -1.752000e+00   \n",
       "Lane_ID       1048575.0  2.956000e+00       1.469  1.000000e+00  2.000000e+00   \n",
       "Preceeding    1048575.0  1.459864e+03     844.319  0.000000e+00  7.880000e+02   \n",
       "Following     1048575.0  1.477269e+03     843.679  0.000000e+00  8.120000e+02   \n",
       "Space_Hdwy    1048575.0  7.815800e+01      48.615  0.000000e+00  4.984000e+01   \n",
       "Time_Hdwy     1048575.0  1.090800e+02    1027.551  0.000000e+00  1.460000e+00   \n",
       "\n",
       "                       50%           75%           max  \n",
       "Vehicle_ID    1.574000e+03  2.210000e+03  2.783000e+03  \n",
       "Frame_ID      4.586000e+03  6.598000e+03  8.906000e+03  \n",
       "Total_Frames  5.180000e+02  6.400000e+02  1.010000e+03  \n",
       "Global_Time   1.118847e+12  1.118848e+12  1.118848e+12  \n",
       "Local_X       2.955700e+01  4.187500e+01  7.347800e+01  \n",
       "Local_Y       9.640280e+02  1.491548e+03  2.195470e+03  \n",
       "Global_X      6.451808e+06  6.452205e+06  6.452734e+06  \n",
       "Global_Y      1.872699e+06  1.873015e+06  1.873365e+06  \n",
       "v_Length      1.450000e+01  1.650000e+01  7.610000e+01  \n",
       "v_Width       6.000000e+00  6.900000e+00  8.500000e+00  \n",
       "v_Class       2.000000e+00  2.000000e+00  3.000000e+00  \n",
       "v_Vel         3.989800e+01  4.820200e+01  1.490520e+02  \n",
       "v_Acc         1.700000e-02  2.754000e+00  2.430030e+02  \n",
       "Lane_ID       3.000000e+00  4.000000e+00  8.000000e+00  \n",
       "Preceeding    1.519000e+03  2.186000e+03  3.109000e+03  \n",
       "Following     1.533000e+03  2.202000e+03  3.109000e+03  \n",
       "Space_Hdwy    6.911000e+01  9.725000e+01  7.777300e+02  \n",
       "Time_Hdwy     1.970000e+00  2.730000e+00  9.999990e+03  "
      ]
     },
     "execution_count": 5,
     "metadata": {},
     "output_type": "execute_result"
    }
   ],
   "source": [
    "df.describe().transpose().round(3)"
   ]
  },
  {
   "cell_type": "code",
   "execution_count": 6,
   "metadata": {
    "ExecuteTime": {
     "end_time": "2020-08-21T20:16:20.540384Z",
     "start_time": "2020-08-21T20:16:20.527385Z"
    }
   },
   "outputs": [
    {
     "data": {
      "text/plain": [
       "Index(['Vehicle_ID', 'Frame_ID', 'Total_Frames', 'Global_Time', 'Local_X',\n",
       "       'Local_Y', 'Global_X', 'Global_Y', 'v_Length', 'v_Width', 'v_Class',\n",
       "       'v_Vel', 'v_Acc', 'Lane_ID', 'Preceeding', 'Following', 'Space_Hdwy',\n",
       "       'Time_Hdwy'],\n",
       "      dtype='object')"
      ]
     },
     "execution_count": 6,
     "metadata": {},
     "output_type": "execute_result"
    }
   ],
   "source": [
    "df.columns"
   ]
  },
  {
   "cell_type": "code",
   "execution_count": 7,
   "metadata": {
    "ExecuteTime": {
     "end_time": "2020-08-21T20:16:20.617383Z",
     "start_time": "2020-08-21T20:16:20.548384Z"
    }
   },
   "outputs": [
    {
     "data": {
      "text/html": [
       "<div>\n",
       "<style scoped>\n",
       "    .dataframe tbody tr th:only-of-type {\n",
       "        vertical-align: middle;\n",
       "    }\n",
       "\n",
       "    .dataframe tbody tr th {\n",
       "        vertical-align: top;\n",
       "    }\n",
       "\n",
       "    .dataframe thead th {\n",
       "        text-align: right;\n",
       "    }\n",
       "</style>\n",
       "<table border=\"1\" class=\"dataframe\">\n",
       "  <thead>\n",
       "    <tr style=\"text-align: right;\">\n",
       "      <th></th>\n",
       "      <th>Vehicle_ID</th>\n",
       "      <th>Frame_ID</th>\n",
       "      <th>Total_Frames</th>\n",
       "      <th>Local_X</th>\n",
       "      <th>Local_Y</th>\n",
       "      <th>v_Vel</th>\n",
       "    </tr>\n",
       "  </thead>\n",
       "  <tbody>\n",
       "    <tr>\n",
       "      <th>0</th>\n",
       "      <td>2</td>\n",
       "      <td>13</td>\n",
       "      <td>437</td>\n",
       "      <td>16.467196</td>\n",
       "      <td>35.380427</td>\n",
       "      <td>40.000000</td>\n",
       "    </tr>\n",
       "    <tr>\n",
       "      <th>1</th>\n",
       "      <td>2</td>\n",
       "      <td>14</td>\n",
       "      <td>437</td>\n",
       "      <td>16.446594</td>\n",
       "      <td>39.381608</td>\n",
       "      <td>40.012349</td>\n",
       "    </tr>\n",
       "    <tr>\n",
       "      <th>2</th>\n",
       "      <td>2</td>\n",
       "      <td>15</td>\n",
       "      <td>437</td>\n",
       "      <td>16.425991</td>\n",
       "      <td>43.381541</td>\n",
       "      <td>39.999855</td>\n",
       "    </tr>\n",
       "    <tr>\n",
       "      <th>3</th>\n",
       "      <td>2</td>\n",
       "      <td>16</td>\n",
       "      <td>437</td>\n",
       "      <td>16.405392</td>\n",
       "      <td>47.380780</td>\n",
       "      <td>39.992920</td>\n",
       "    </tr>\n",
       "    <tr>\n",
       "      <th>4</th>\n",
       "      <td>2</td>\n",
       "      <td>17</td>\n",
       "      <td>437</td>\n",
       "      <td>16.384804</td>\n",
       "      <td>51.379881</td>\n",
       "      <td>39.991544</td>\n",
       "    </tr>\n",
       "  </tbody>\n",
       "</table>\n",
       "</div>"
      ],
      "text/plain": [
       "   Vehicle_ID  Frame_ID  Total_Frames    Local_X    Local_Y      v_Vel\n",
       "0           2        13           437  16.467196  35.380427  40.000000\n",
       "1           2        14           437  16.446594  39.381608  40.012349\n",
       "2           2        15           437  16.425991  43.381541  39.999855\n",
       "3           2        16           437  16.405392  47.380780  39.992920\n",
       "4           2        17           437  16.384804  51.379881  39.991544"
      ]
     },
     "execution_count": 7,
     "metadata": {},
     "output_type": "execute_result"
    }
   ],
   "source": [
    "#  keep only columns that are useful for now\n",
    "kept_cols = ['Vehicle_ID', 'Frame_ID', 'Total_Frames', 'Local_X','Local_Y','v_Vel']\n",
    "df = df[kept_cols]\n",
    "df.head()"
   ]
  },
  {
   "cell_type": "code",
   "execution_count": 8,
   "metadata": {
    "ExecuteTime": {
     "end_time": "2020-08-21T20:16:20.665384Z",
     "start_time": "2020-08-21T20:16:20.621385Z"
    }
   },
   "outputs": [
    {
     "data": {
      "text/plain": [
       "'the number of vehicles is 1993'"
      ]
     },
     "execution_count": 8,
     "metadata": {},
     "output_type": "execute_result"
    }
   ],
   "source": [
    "'the number of vehicles is {}'.format(len(df.Vehicle_ID.unique()))"
   ]
  },
  {
   "cell_type": "code",
   "execution_count": 9,
   "metadata": {
    "ExecuteTime": {
     "end_time": "2020-08-21T20:16:20.713387Z",
     "start_time": "2020-08-21T20:16:20.671387Z"
    }
   },
   "outputs": [
    {
     "name": "stdout",
     "output_type": "stream",
     "text": [
      "[2149  901 1903 2061  567 1362 2593 1396  736 1841  570  346  394 2349\n",
      "   10 1727 1339 2571 2741 2444 1176 1744 2587 2270 2328  869 2218 2167\n",
      "  711 2167  389 1518  458 2255  686  190 1175 2589 1675  701  204 2567\n",
      " 1690 2706  641   73 1785 1844 2126 1975 1942 2171  905 2161 1038  854\n",
      "  212 1702  798 1259 2336  585 2691 1183 2202  729 2219  635 1106 2164\n",
      " 1455 2136 1767 1044 2310   75  888 1605 1976 2209  950  790 1001 2249\n",
      " 2255 2150 2172 1552  417 1149  923 1577 1368  825 1717 1953 2336 2211\n",
      "  374 2384]\n"
     ]
    }
   ],
   "source": [
    "# let use only 1000 vehicle to reduce the computation workload\n",
    "vehicle_list = df.Vehicle_ID.unique()\n",
    "n_veh = 100 # number of vehicles\n",
    "np.random.seed(48)\n",
    "new_veh_list = np.random.choice(vehicle_list,n_veh)\n",
    "print(new_veh_list)"
   ]
  },
  {
   "cell_type": "code",
   "execution_count": 10,
   "metadata": {
    "ExecuteTime": {
     "end_time": "2020-08-21T20:16:20.856387Z",
     "start_time": "2020-08-21T20:16:20.720392Z"
    }
   },
   "outputs": [
    {
     "name": "stdout",
     "output_type": "stream",
     "text": [
      "<class 'pandas.core.frame.DataFrame'>\n",
      "Int64Index: 51316 entries, 2454 to 1029946\n",
      "Data columns (total 6 columns):\n",
      " #   Column        Non-Null Count  Dtype  \n",
      "---  ------        --------------  -----  \n",
      " 0   Vehicle_ID    51316 non-null  int64  \n",
      " 1   Frame_ID      51316 non-null  int64  \n",
      " 2   Total_Frames  51316 non-null  int64  \n",
      " 3   Local_X       51316 non-null  float64\n",
      " 4   Local_Y       51316 non-null  float64\n",
      " 5   v_Vel         51316 non-null  float64\n",
      "dtypes: float64(3), int64(3)\n",
      "memory usage: 2.7 MB\n"
     ]
    },
    {
     "data": {
      "text/html": [
       "<div>\n",
       "<style scoped>\n",
       "    .dataframe tbody tr th:only-of-type {\n",
       "        vertical-align: middle;\n",
       "    }\n",
       "\n",
       "    .dataframe tbody tr th {\n",
       "        vertical-align: top;\n",
       "    }\n",
       "\n",
       "    .dataframe thead th {\n",
       "        text-align: right;\n",
       "    }\n",
       "</style>\n",
       "<table border=\"1\" class=\"dataframe\">\n",
       "  <thead>\n",
       "    <tr style=\"text-align: right;\">\n",
       "      <th></th>\n",
       "      <th>Vehicle_ID</th>\n",
       "      <th>Frame_ID</th>\n",
       "      <th>Total_Frames</th>\n",
       "      <th>Local_X</th>\n",
       "      <th>Local_Y</th>\n",
       "      <th>v_Vel</th>\n",
       "    </tr>\n",
       "  </thead>\n",
       "  <tbody>\n",
       "    <tr>\n",
       "      <th>2454</th>\n",
       "      <td>10</td>\n",
       "      <td>39</td>\n",
       "      <td>436</td>\n",
       "      <td>4.311965</td>\n",
       "      <td>35.406783</td>\n",
       "      <td>40.920000</td>\n",
       "    </tr>\n",
       "    <tr>\n",
       "      <th>2455</th>\n",
       "      <td>10</td>\n",
       "      <td>40</td>\n",
       "      <td>436</td>\n",
       "      <td>4.289860</td>\n",
       "      <td>39.935881</td>\n",
       "      <td>45.291518</td>\n",
       "    </tr>\n",
       "    <tr>\n",
       "      <th>2456</th>\n",
       "      <td>10</td>\n",
       "      <td>41</td>\n",
       "      <td>436</td>\n",
       "      <td>4.268287</td>\n",
       "      <td>44.330462</td>\n",
       "      <td>43.946334</td>\n",
       "    </tr>\n",
       "    <tr>\n",
       "      <th>2457</th>\n",
       "      <td>10</td>\n",
       "      <td>42</td>\n",
       "      <td>436</td>\n",
       "      <td>4.247104</td>\n",
       "      <td>48.609480</td>\n",
       "      <td>42.790711</td>\n",
       "    </tr>\n",
       "    <tr>\n",
       "      <th>2458</th>\n",
       "      <td>10</td>\n",
       "      <td>43</td>\n",
       "      <td>436</td>\n",
       "      <td>4.226170</td>\n",
       "      <td>52.791893</td>\n",
       "      <td>41.824650</td>\n",
       "    </tr>\n",
       "  </tbody>\n",
       "</table>\n",
       "</div>"
      ],
      "text/plain": [
       "      Vehicle_ID  Frame_ID  Total_Frames   Local_X    Local_Y      v_Vel\n",
       "2454          10        39           436  4.311965  35.406783  40.920000\n",
       "2455          10        40           436  4.289860  39.935881  45.291518\n",
       "2456          10        41           436  4.268287  44.330462  43.946334\n",
       "2457          10        42           436  4.247104  48.609480  42.790711\n",
       "2458          10        43           436  4.226170  52.791893  41.824650"
      ]
     },
     "execution_count": 10,
     "metadata": {},
     "output_type": "execute_result"
    }
   ],
   "source": [
    "new_df = df[df.Vehicle_ID.isin(new_veh_list)]\n",
    "new_df.info()\n",
    "new_df.head()"
   ]
  },
  {
   "cell_type": "markdown",
   "metadata": {},
   "source": [
    "# Data transformation"
   ]
  },
  {
   "cell_type": "markdown",
   "metadata": {},
   "source": [
    "## 1 object and 1 target variable: Predict at time *t*"
   ]
  },
  {
   "cell_type": "markdown",
   "metadata": {
    "ExecuteTime": {
     "end_time": "2020-08-21T15:30:56.733465Z",
     "start_time": "2020-08-21T15:30:56.714442Z"
    }
   },
   "source": [
    "### Prepare the data set"
   ]
  },
  {
   "cell_type": "code",
   "execution_count": 11,
   "metadata": {
    "ExecuteTime": {
     "end_time": "2020-08-21T20:16:21.282383Z",
     "start_time": "2020-08-21T20:16:20.861385Z"
    }
   },
   "outputs": [
    {
     "data": {
      "text/html": [
       "<div>\n",
       "<style scoped>\n",
       "    .dataframe tbody tr th:only-of-type {\n",
       "        vertical-align: middle;\n",
       "    }\n",
       "\n",
       "    .dataframe tbody tr th {\n",
       "        vertical-align: top;\n",
       "    }\n",
       "\n",
       "    .dataframe thead th {\n",
       "        text-align: right;\n",
       "    }\n",
       "</style>\n",
       "<table border=\"1\" class=\"dataframe\">\n",
       "  <thead>\n",
       "    <tr style=\"text-align: right;\">\n",
       "      <th></th>\n",
       "      <th>Local_X</th>\n",
       "    </tr>\n",
       "  </thead>\n",
       "  <tbody>\n",
       "    <tr>\n",
       "      <th>0</th>\n",
       "      <td>51.214252</td>\n",
       "    </tr>\n",
       "    <tr>\n",
       "      <th>1</th>\n",
       "      <td>51.196441</td>\n",
       "    </tr>\n",
       "    <tr>\n",
       "      <th>2</th>\n",
       "      <td>51.178494</td>\n",
       "    </tr>\n",
       "    <tr>\n",
       "      <th>3</th>\n",
       "      <td>51.160446</td>\n",
       "    </tr>\n",
       "    <tr>\n",
       "      <th>4</th>\n",
       "      <td>51.142331</td>\n",
       "    </tr>\n",
       "  </tbody>\n",
       "</table>\n",
       "</div>"
      ],
      "text/plain": [
       "     Local_X\n",
       "0  51.214252\n",
       "1  51.196441\n",
       "2  51.178494\n",
       "3  51.160446\n",
       "4  51.142331"
      ]
     },
     "execution_count": 11,
     "metadata": {},
     "output_type": "execute_result"
    },
    {
     "data": {
      "image/png": "[encoded data removed]",
      "text/plain": [
       "<Figure size 576x432 with 1 Axes>"
      ]
     },
     "metadata": {
      "needs_background": "light"
     },
     "output_type": "display_data"
    }
   ],
   "source": [
    "simple_df = new_df[new_df.Vehicle_ID == new_veh_list[0]].copy()\n",
    "simple_df = simple_df[['Frame_ID','Local_X']]\n",
    "simple_df.set_index('Frame_ID', inplace = True)\n",
    "simple_df.sort_index(inplace=True)\n",
    "simple_df.reset_index(drop=True, inplace=True)\n",
    "plt.plot(simple_df)\n",
    "simple_df.head()"
   ]
  },
  {
   "cell_type": "markdown",
   "metadata": {},
   "source": [
    "### Function to split dataset into input and output"
   ]
  },
  {
   "cell_type": "code",
   "execution_count": 89,
   "metadata": {},
   "outputs": [
    {
     "name": "stdout",
     "output_type": "stream",
     "text": [
      "[0 1 2 3 4]\n",
      "(2, 3) (2, 1)\n"
     ]
    },
    {
     "data": {
      "text/plain": [
       "(array([[0, 1, 2],\n",
       "        [1, 2, 3]]),\n",
       " array([[3],\n",
       "        [4]]))"
      ]
     },
     "execution_count": 89,
     "metadata": {},
     "output_type": "execute_result"
    }
   ],
   "source": [
    "# split a univariate sequence into samples\n",
    "def split_sequence(sequence, n_steps):\n",
    "    length = len(sequence) # length of data\n",
    "    y = np.array(sequence[n_steps:]) # labels\n",
    "    X = sequence\n",
    "    # stack up the sequences of previous steps\n",
    "    for i in range(n_steps-1):\n",
    "        X = np.column_stack((np.roll(sequence,i+1),X))\n",
    "    # reshape\n",
    "    X = X[n_steps-1:-1]  \n",
    "    y = np.reshape(y,(length-n_steps,1))\n",
    "    return X,y\n",
    "\n",
    "example_seq = np.arange(5)\n",
    "print(example_seq)\n",
    "n_steps = 3\n",
    "X, y = split_sequence(example_seq, n_steps)\n",
    "# summarize the data\n",
    "print(X.shape,y.shape)\n",
    "X,y"
   ]
  },
  {
   "cell_type": "code",
   "execution_count": 131,
   "metadata": {},
   "outputs": [
    {
     "data": {
      "text/plain": [
       "(511, 4)"
      ]
     },
     "execution_count": 131,
     "metadata": {},
     "output_type": "execute_result"
    }
   ],
   "source": [
    "X.shape"
   ]
  },
  {
   "cell_type": "code",
   "execution_count": 94,
   "metadata": {
    "ExecuteTime": {
     "end_time": "2020-08-21T20:22:16.557157Z",
     "start_time": "2020-08-21T20:22:16.535156Z"
    }
   },
   "outputs": [
    {
     "name": "stdout",
     "output_type": "stream",
     "text": [
      "[51.21425175 51.19644056 51.17849417 51.16044639] => [51.142331]\n",
      "[51.19644056 51.17849417 51.16044639 51.142331  ] => [51.12418182]\n",
      "[51.17849417 51.16044639 51.142331   51.12418182] => [51.10601865]\n",
      "[51.16044639 51.142331   51.12418182 51.10601865] => [51.08802098]\n",
      "[51.142331   51.12418182 51.10601865 51.08802098] => [51.06991608]\n"
     ]
    }
   ],
   "source": [
    "X, y = split_sequence(simple_df,4)\n",
    "for i in range(5):\n",
    "    print(X[i], '=>', y[i])"
   ]
  },
  {
   "cell_type": "code",
   "execution_count": 132,
   "metadata": {},
   "outputs": [],
   "source": [
    "X = X.reshape((X.shape[0], X.shape[1], 1))"
   ]
  },
  {
   "cell_type": "code",
   "execution_count": 133,
   "metadata": {},
   "outputs": [
    {
     "name": "stdout",
     "output_type": "stream",
     "text": [
      "[[51.21425175]\n",
      " [51.19644056]\n",
      " [51.17849417]\n",
      " [51.16044639]]  =>  [51.142331]\n",
      "[[51.19644056]\n",
      " [51.17849417]\n",
      " [51.16044639]\n",
      " [51.142331  ]]  =>  [51.12418182]\n",
      "[[51.17849417]\n",
      " [51.16044639]\n",
      " [51.142331  ]\n",
      " [51.12418182]]  =>  [51.10601865]\n"
     ]
    }
   ],
   "source": [
    "predict_3_steps = tf.data.Dataset.zip((tf.data.Dataset.from_tensor_slices(X), tf.data.Dataset.from_tensor_slices(y)))\n",
    "for features, label in predict_3_steps.take(3):\n",
    "  print(features.numpy(), \" => \", label.numpy())"
   ]
  },
  {
   "cell_type": "markdown",
   "metadata": {},
   "source": [
    "### Split to train, validation and test sets"
   ]
  },
  {
   "cell_type": "code",
   "execution_count": 134,
   "metadata": {},
   "outputs": [
    {
     "name": "stdout",
     "output_type": "stream",
     "text": [
      "Total number of cases:  511\n",
      "Total number of cases in train set:  357\n",
      "Total number of cases in validation set:  102\n",
      "Total number of cases in test set:  52\n"
     ]
    }
   ],
   "source": [
    "ds_size = len(list(predict_3_steps))\n",
    "train_size = int(0.7 * ds_size)\n",
    "val_size = int(0.2 * ds_size)\n",
    "# Take:\n",
    "# Creates a Dataset with at most count elements from this dataset.\n",
    "\n",
    "# Skip:\n",
    "# Creates a Dataset that skips count elements from this dataset.\n",
    "full_dataset = predict_3_steps\n",
    "full_dataset = full_dataset.shuffle(ds_size, seed=23)\n",
    "train_dataset = full_dataset.take(train_size)\n",
    "test_dataset = full_dataset.skip(train_size)\n",
    "#print(len(list(test_dataset)))\n",
    "val_dataset = test_dataset.take(val_size)\n",
    "test_dataset = test_dataset.skip(val_size)\n",
    "print('Total number of cases: ', ds_size)\n",
    "print('Total number of cases in train set: ',len(list(train_dataset)))\n",
    "print('Total number of cases in validation set: ',len(list(val_dataset)))\n",
    "print('Total number of cases in test set: ',len(list(test_dataset)))"
   ]
  },
  {
   "cell_type": "code",
   "execution_count": null,
   "metadata": {},
   "outputs": [],
   "source": [
    "### Standardize the data"
   ]
  },
  {
   "cell_type": "code",
   "execution_count": null,
   "metadata": {},
   "outputs": [],
   "source": []
  },
  {
   "cell_type": "code",
   "execution_count": null,
   "metadata": {},
   "outputs": [],
   "source": []
  },
  {
   "cell_type": "code",
   "execution_count": null,
   "metadata": {},
   "outputs": [],
   "source": []
  },
  {
   "cell_type": "markdown",
   "metadata": {},
   "source": [
    "### Apply prediction model"
   ]
  },
  {
   "cell_type": "code",
   "execution_count": 124,
   "metadata": {
    "ExecuteTime": {
     "end_time": "2020-08-21T20:19:16.757069Z",
     "start_time": "2020-08-21T20:19:16.742066Z"
    }
   },
   "outputs": [],
   "source": [
    "from tensorflow.keras.models import Sequential\n",
    "from tensorflow.keras.layers import Dense\n",
    "from tensorflow.keras.layers import LSTM\n",
    "#from sklearn.preprocessing import MinMaxScaler\n",
    "#from sklearn.metrics import mean_squared_error"
   ]
  },
  {
   "cell_type": "markdown",
   "metadata": {},
   "source": [
    "#### Vanilla LSTM\n",
    "\n",
    "A Vanilla LSTM is an LSTM model that has a single hidden layer of LSTM units, and an output layer used to make a prediction."
   ]
  },
  {
   "cell_type": "code",
   "execution_count": 125,
   "metadata": {
    "ExecuteTime": {
     "end_time": "2020-08-21T20:26:23.449302Z",
     "start_time": "2020-08-21T20:26:23.437303Z"
    }
   },
   "outputs": [],
   "source": [
    "n_steps = 4\n",
    "n_features = 1"
   ]
  },
  {
   "cell_type": "code",
   "execution_count": 165,
   "metadata": {
    "ExecuteTime": {
     "end_time": "2020-08-21T20:29:51.194534Z",
     "start_time": "2020-08-21T20:29:33.111013Z"
    }
   },
   "outputs": [
    {
     "name": "stdout",
     "output_type": "stream",
     "text": [
      "Train for 8 steps, validate for 2 steps\n",
      "Epoch 1/100\n",
      "8/8 [==============================] - 2s 224ms/step - loss: 1729.9637 - mse: 1755.7743 - val_loss: 1200.5631 - val_mse: 1565.5861\n",
      "Epoch 2/100\n",
      "8/8 [==============================] - 0s 10ms/step - loss: 1492.3601 - mse: 1483.4485 - val_loss: 1220.6620 - val_mse: 1197.8365\n",
      "Epoch 3/100\n",
      "8/8 [==============================] - 0s 10ms/step - loss: 1104.1769 - mse: 1104.7476 - val_loss: 998.7265 - val_mse: 861.1406\n",
      "Epoch 4/100\n",
      "8/8 [==============================] - 0s 10ms/step - loss: 497.4196 - mse: 525.7513 - val_loss: 117.0517 - val_mse: 117.2107\n",
      "Epoch 5/100\n",
      "8/8 [==============================] - 0s 10ms/step - loss: 69.8471 - mse: 67.3698 - val_loss: 64.3145 - val_mse: 62.1813\n",
      "Epoch 6/100\n",
      "8/8 [==============================] - 0s 10ms/step - loss: 18.7303 - mse: 20.5944 - val_loss: 4.0991 - val_mse: 6.9319\n",
      "Epoch 7/100\n",
      "8/8 [==============================] - 0s 10ms/step - loss: 9.1878 - mse: 9.5233 - val_loss: 9.5559 - val_mse: 6.3353\n",
      "Epoch 8/100\n",
      "8/8 [==============================] - 0s 10ms/step - loss: 2.0384 - mse: 2.1898 - val_loss: 0.5743 - val_mse: 0.7724\n",
      "Epoch 9/100\n",
      "8/8 [==============================] - 0s 10ms/step - loss: 1.5475 - mse: 1.6352 - val_loss: 1.5848 - val_mse: 1.2820\n",
      "Epoch 10/100\n",
      "8/8 [==============================] - 0s 10ms/step - loss: 0.5924 - mse: 0.6290 - val_loss: 0.1451 - val_mse: 0.2096\n",
      "Epoch 11/100\n",
      "8/8 [==============================] - 0s 9ms/step - loss: 0.4019 - mse: 0.4014 - val_loss: 0.4494 - val_mse: 0.4655\n",
      "Epoch 12/100\n",
      "8/8 [==============================] - 0s 10ms/step - loss: 0.2755 - mse: 0.2747 - val_loss: 0.1172 - val_mse: 0.2095\n",
      "Epoch 13/100\n",
      "8/8 [==============================] - 0s 10ms/step - loss: 0.2207 - mse: 0.2172 - val_loss: 0.0944 - val_mse: 0.1727\n",
      "Epoch 14/100\n",
      "8/8 [==============================] - 0s 10ms/step - loss: 0.2025 - mse: 0.2168 - val_loss: 0.2549 - val_mse: 0.2288\n",
      "Epoch 15/100\n",
      "8/8 [==============================] - 0s 9ms/step - loss: 0.1772 - mse: 0.1824 - val_loss: 0.1762 - val_mse: 0.2420\n",
      "Epoch 16/100\n",
      "8/8 [==============================] - 0s 10ms/step - loss: 0.1946 - mse: 0.2002 - val_loss: 0.1336 - val_mse: 0.1885\n",
      "Epoch 17/100\n",
      "8/8 [==============================] - 0s 10ms/step - loss: 0.1973 - mse: 0.2026 - val_loss: 0.2117 - val_mse: 0.1106\n",
      "Epoch 18/100\n",
      "8/8 [==============================] - 0s 14ms/step - loss: 0.2017 - mse: 0.2012 - val_loss: 0.1566 - val_mse: 0.1926\n",
      "Epoch 19/100\n",
      "8/8 [==============================] - 0s 14ms/step - loss: 0.1962 - mse: 0.2016 - val_loss: 0.4609 - val_mse: 0.1781\n",
      "Epoch 20/100\n",
      "8/8 [==============================] - 0s 13ms/step - loss: 0.1890 - mse: 0.1998 - val_loss: 0.1450 - val_mse: 0.1435\n",
      "Epoch 21/100\n",
      "8/8 [==============================] - 0s 12ms/step - loss: 0.1790 - mse: 0.1884 - val_loss: 0.4042 - val_mse: 0.1394\n",
      "Epoch 22/100\n",
      "8/8 [==============================] - 0s 12ms/step - loss: 0.1993 - mse: 0.2093 - val_loss: 0.0858 - val_mse: 0.1454\n",
      "Epoch 23/100\n",
      "8/8 [==============================] - 0s 12ms/step - loss: 0.1910 - mse: 0.1795 - val_loss: 0.3329 - val_mse: 0.1952\n",
      "Epoch 24/100\n",
      "8/8 [==============================] - 0s 11ms/step - loss: 0.1726 - mse: 0.1706 - val_loss: 0.1386 - val_mse: 0.2023\n",
      "Epoch 25/100\n",
      "8/8 [==============================] - 0s 10ms/step - loss: 0.1928 - mse: 0.1861 - val_loss: 0.2286 - val_mse: 0.1603\n",
      "Epoch 26/100\n",
      "8/8 [==============================] - 0s 11ms/step - loss: 0.1713 - mse: 0.1786 - val_loss: 0.0975 - val_mse: 0.1894\n",
      "Epoch 27/100\n",
      "8/8 [==============================] - 0s 10ms/step - loss: 0.1673 - mse: 0.1815 - val_loss: 0.1648 - val_mse: 0.1682\n",
      "Epoch 28/100\n",
      "8/8 [==============================] - 0s 10ms/step - loss: 0.2406 - mse: 0.1996 - val_loss: 0.1442 - val_mse: 0.2479\n",
      "Epoch 29/100\n",
      "8/8 [==============================] - 0s 10ms/step - loss: 0.1958 - mse: 0.1820 - val_loss: 0.1514 - val_mse: 0.2593\n",
      "Epoch 30/100\n",
      "8/8 [==============================] - 0s 11ms/step - loss: 0.1618 - mse: 0.1765 - val_loss: 0.2013 - val_mse: 0.1503\n",
      "Epoch 31/100\n",
      "8/8 [==============================] - 0s 10ms/step - loss: 0.2153 - mse: 0.1990 - val_loss: 0.1280 - val_mse: 0.1496\n",
      "Epoch 32/100\n",
      "8/8 [==============================] - 0s 10ms/step - loss: 0.2009 - mse: 0.2003 - val_loss: 0.1487 - val_mse: 0.1984\n"
     ]
    }
   ],
   "source": [
    "# define model\n",
    "model = Sequential()\n",
    "model.add(LSTM(50, activation='relu', input_shape=(n_steps, n_features)))\n",
    "model.add(Dense(1))\n",
    "model.compile(optimizer='adam', loss='mse', metrics=['mse'])\n",
    "\n",
    "# For saving the best model during the whole training process.\n",
    "#checkpointer = callbacks.ModelCheckpoint(filepath='BestModel.h5', monitor='val_loss', save_best_only=True)\n",
    "\n",
    "#### Interrupt training if `val_loss` stops improving for over 10 epochs #######\n",
    "stop_learn= tf.keras.callbacks.EarlyStopping(patience=10, monitor='val_loss')\n",
    "\n",
    "\n",
    "# fit model\n",
    "Monitor = model.fit(train_dataset.batch(50), epochs=100, \n",
    "                    callbacks=[stop_learn],\n",
    "                    validation_data = val_dataset.batch(100), verbose=1)"
   ]
  },
  {
   "cell_type": "code",
   "execution_count": 166,
   "metadata": {},
   "outputs": [
    {
     "data": {
      "text/html": [
       "<div>\n",
       "<style scoped>\n",
       "    .dataframe tbody tr th:only-of-type {\n",
       "        vertical-align: middle;\n",
       "    }\n",
       "\n",
       "    .dataframe tbody tr th {\n",
       "        vertical-align: top;\n",
       "    }\n",
       "\n",
       "    .dataframe thead th {\n",
       "        text-align: right;\n",
       "    }\n",
       "</style>\n",
       "<table border=\"1\" class=\"dataframe\">\n",
       "  <thead>\n",
       "    <tr style=\"text-align: right;\">\n",
       "      <th></th>\n",
       "      <th>loss</th>\n",
       "      <th>mse</th>\n",
       "      <th>val_loss</th>\n",
       "      <th>val_mse</th>\n",
       "      <th>epoch</th>\n",
       "    </tr>\n",
       "  </thead>\n",
       "  <tbody>\n",
       "    <tr>\n",
       "      <th>27</th>\n",
       "      <td>0.199579</td>\n",
       "      <td>0.199579</td>\n",
       "      <td>0.144198</td>\n",
       "      <td>0.247898</td>\n",
       "      <td>27</td>\n",
       "    </tr>\n",
       "    <tr>\n",
       "      <th>28</th>\n",
       "      <td>0.181971</td>\n",
       "      <td>0.181971</td>\n",
       "      <td>0.151384</td>\n",
       "      <td>0.259321</td>\n",
       "      <td>28</td>\n",
       "    </tr>\n",
       "    <tr>\n",
       "      <th>29</th>\n",
       "      <td>0.176528</td>\n",
       "      <td>0.176528</td>\n",
       "      <td>0.201251</td>\n",
       "      <td>0.150270</td>\n",
       "      <td>29</td>\n",
       "    </tr>\n",
       "    <tr>\n",
       "      <th>30</th>\n",
       "      <td>0.199028</td>\n",
       "      <td>0.199028</td>\n",
       "      <td>0.127957</td>\n",
       "      <td>0.149642</td>\n",
       "      <td>30</td>\n",
       "    </tr>\n",
       "    <tr>\n",
       "      <th>31</th>\n",
       "      <td>0.200321</td>\n",
       "      <td>0.200321</td>\n",
       "      <td>0.148682</td>\n",
       "      <td>0.198408</td>\n",
       "      <td>31</td>\n",
       "    </tr>\n",
       "  </tbody>\n",
       "</table>\n",
       "</div>"
      ],
      "text/plain": [
       "        loss       mse  val_loss   val_mse  epoch\n",
       "27  0.199579  0.199579  0.144198  0.247898     27\n",
       "28  0.181971  0.181971  0.151384  0.259321     28\n",
       "29  0.176528  0.176528  0.201251  0.150270     29\n",
       "30  0.199028  0.199028  0.127957  0.149642     30\n",
       "31  0.200321  0.200321  0.148682  0.198408     31"
      ]
     },
     "execution_count": 166,
     "metadata": {},
     "output_type": "execute_result"
    }
   ],
   "source": [
    "hist = pd.DataFrame(Monitor.history)\n",
    "hist['epoch'] = Monitor.epoch\n",
    "hist.tail()"
   ]
  },
  {
   "cell_type": "code",
   "execution_count": 167,
   "metadata": {},
   "outputs": [
    {
     "data": {
      "image/png": "[encoded data removed]",
      "text/plain": [
       "<Figure size 1500x600 with 2 Axes>"
      ]
     },
     "metadata": {
      "needs_background": "light"
     },
     "output_type": "display_data"
    }
   ],
   "source": [
    "fig, axes = plt.subplots(nrows=1, ncols=2,figsize=(10,4),dpi=150)\n",
    "hist[['loss','val_loss']].plot(ax=axes[0])\n",
    "hist[['mse','val_mse']].plot(ax=axes[1])\n",
    "plt.show()"
   ]
  },
  {
   "cell_type": "code",
   "execution_count": 168,
   "metadata": {
    "ExecuteTime": {
     "end_time": "2020-08-21T20:30:43.733905Z",
     "start_time": "2020-08-21T20:30:43.325932Z"
    }
   },
   "outputs": [
    {
     "name": "stdout",
     "output_type": "stream",
     "text": [
      "\r",
      "1/1 [==============================] - 0s 208ms/step\n"
     ]
    }
   ],
   "source": [
    "yhat = model.predict(test_dataset.batch(100), verbose=1)\n",
    "#print(yhat)"
   ]
  },
  {
   "cell_type": "code",
   "execution_count": 169,
   "metadata": {},
   "outputs": [],
   "source": [
    "y_test = np.concatenate([y for x, y in test_dataset], axis=0)\n"
   ]
  },
  {
   "cell_type": "code",
   "execution_count": 170,
   "metadata": {},
   "outputs": [
    {
     "data": {
      "text/plain": [
       "14.949175648488964"
      ]
     },
     "execution_count": 170,
     "metadata": {},
     "output_type": "execute_result"
    }
   ],
   "source": [
    "from sklearn.metrics import mean_squared_error\n",
    "from math import sqrt\n",
    "\n",
    "rms = sqrt(mean_squared_error(y_test, yhat))\n",
    "rms"
   ]
  },
  {
   "cell_type": "code",
   "execution_count": 157,
   "metadata": {
    "ExecuteTime": {
     "end_time": "2020-08-21T20:47:16.823213Z",
     "start_time": "2020-08-21T20:47:16.558226Z"
    }
   },
   "outputs": [
    {
     "ename": "AttributeError",
     "evalue": "'numpy.ndarray' object has no attribute 'index'",
     "output_type": "error",
     "traceback": [
      "\u001b[1;31m---------------------------------------------------------------------------\u001b[0m",
      "\u001b[1;31mAttributeError\u001b[0m                            Traceback (most recent call last)",
      "\u001b[1;32m<ipython-input-157-166dd3530c84>\u001b[0m in \u001b[0;36m<module>\u001b[1;34m\u001b[0m\n\u001b[1;32m----> 1\u001b[1;33m \u001b[0mplt\u001b[0m\u001b[1;33m.\u001b[0m\u001b[0mscatter\u001b[0m\u001b[1;33m(\u001b[0m\u001b[0my_test\u001b[0m\u001b[1;33m.\u001b[0m\u001b[0mindex\u001b[0m\u001b[1;33m,\u001b[0m\u001b[0my_test\u001b[0m\u001b[1;33m,\u001b[0m \u001b[0mlabel\u001b[0m \u001b[1;33m=\u001b[0m \u001b[1;34m\"true label\"\u001b[0m\u001b[1;33m,\u001b[0m\u001b[0mmarker\u001b[0m \u001b[1;33m=\u001b[0m \u001b[1;34m'X'\u001b[0m\u001b[1;33m,\u001b[0m \u001b[1;33m)\u001b[0m\u001b[1;33m\u001b[0m\u001b[1;33m\u001b[0m\u001b[0m\n\u001b[0m\u001b[0;32m      2\u001b[0m \u001b[0mplt\u001b[0m\u001b[1;33m.\u001b[0m\u001b[0mscatter\u001b[0m\u001b[1;33m(\u001b[0m\u001b[0my_test\u001b[0m\u001b[1;33m.\u001b[0m\u001b[0mindex\u001b[0m\u001b[1;33m,\u001b[0m\u001b[0myhat\u001b[0m\u001b[1;33m,\u001b[0m \u001b[0mlabel\u001b[0m \u001b[1;33m=\u001b[0m \u001b[1;34m\"prediction\"\u001b[0m\u001b[1;33m,\u001b[0m\u001b[0mmarker\u001b[0m \u001b[1;33m=\u001b[0m \u001b[1;34m'.'\u001b[0m\u001b[1;33m)\u001b[0m\u001b[1;33m\u001b[0m\u001b[1;33m\u001b[0m\u001b[0m\n\u001b[0;32m      3\u001b[0m \u001b[0mplt\u001b[0m\u001b[1;33m.\u001b[0m\u001b[0mlegend\u001b[0m\u001b[1;33m(\u001b[0m\u001b[1;33m)\u001b[0m\u001b[1;33m\u001b[0m\u001b[1;33m\u001b[0m\u001b[0m\n\u001b[0;32m      4\u001b[0m \u001b[0mplt\u001b[0m\u001b[1;33m.\u001b[0m\u001b[0mshow\u001b[0m\u001b[1;33m(\u001b[0m\u001b[1;33m)\u001b[0m\u001b[1;33m\u001b[0m\u001b[1;33m\u001b[0m\u001b[0m\n",
      "\u001b[1;31mAttributeError\u001b[0m: 'numpy.ndarray' object has no attribute 'index'"
     ]
    }
   ],
   "source": [
    "plt.scatter(y_test.index,y_test, label = \"true label\",marker = 'X', )\n",
    "plt.scatter(y_test.index,yhat, label = \"prediction\",marker = '.')\n",
    "plt.legend()\n",
    "plt.show()"
   ]
  },
  {
   "cell_type": "code",
   "execution_count": null,
   "metadata": {},
   "outputs": [],
   "source": []
  },
  {
   "cell_type": "code",
   "execution_count": null,
   "metadata": {},
   "outputs": [],
   "source": []
  },
  {
   "cell_type": "code",
   "execution_count": null,
   "metadata": {},
   "outputs": [],
   "source": []
  },
  {
   "cell_type": "code",
   "execution_count": null,
   "metadata": {},
   "outputs": [],
   "source": []
  }
 ],
 "metadata": {
  "colab": {
   "collapsed_sections": [],
   "include_colab_link": true,
   "name": "VTP_1_Main.ipynb",
   "provenance": [],
   "toc_visible": true
  },
  "kernelspec": {
   "display_name": "Python 3",
   "language": "python",
   "name": "python3"
  },
  "language_info": {
   "codemirror_mode": {
    "name": "ipython",
    "version": 3
   },
   "file_extension": ".py",
   "mimetype": "text/x-python",
   "name": "python",
   "nbconvert_exporter": "python",
   "pygments_lexer": "ipython3",
   "version": "3.7.7"
  },
  "toc": {
   "base_numbering": 1,
   "nav_menu": {},
   "number_sections": true,
   "sideBar": true,
   "skip_h1_title": false,
   "title_cell": "Table of Contents",
   "title_sidebar": "Contents",
   "toc_cell": false,
   "toc_position": {},
   "toc_section_display": true,
   "toc_window_display": false
  }
 },
 "nbformat": 4,
 "nbformat_minor": 1
}
